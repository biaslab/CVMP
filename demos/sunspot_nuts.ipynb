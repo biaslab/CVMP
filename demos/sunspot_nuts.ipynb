{
 "cells": [
  {
   "cell_type": "code",
   "execution_count": null,
   "metadata": {},
   "outputs": [],
   "source": [
    "using Turing, AdvancedVI, Distributions, Random, Plots, LinearAlgebra, DelimitedFiles\n",
    "using ReverseDiff, Memoization\n",
    "using StatsFuns\n",
    "\n",
    "Random.seed!(1234);\n",
    "Turing.setadbackend(:reversediff);\n",
    "Turing.setrdcache(true);"
   ]
  },
  {
   "cell_type": "code",
   "execution_count": 1,
   "metadata": {
    "vscode": {
     "languageId": "julia"
    }
   },
   "outputs": [
    {
     "ename": "UndefVarError",
     "evalue": "UndefVarError: readdlm not defined",
     "output_type": "error",
     "traceback": [
      "UndefVarError: readdlm not defined\n",
      "\n",
      "Stacktrace:\n",
      " [1] top-level scope\n",
      "   @ ~/repos/CVMP/demos/sunspot_nuts.ipynb:1"
     ]
    }
   ],
   "source": [
    "sunspot = readdlm(\"data/SN_y_tot_V2.0.csv\", ';')\n",
    "select_1945_2020 = filter((s) -> s[1] > 1945 && s[1] < 2021, collect(eachrow(sunspot)))\n",
    "dataset = map((s) -> round(s[2]), select_1945_2020);\n",
    "not_rounded = map((s) -> s[2], select_1945_2020);\n"
   ]
  },
  {
   "cell_type": "code",
   "execution_count": null,
   "metadata": {
    "vscode": {
     "languageId": "julia"
    }
   },
   "outputs": [],
   "source": [
    "@model model(y) = begin\n",
    "    n = length(y)\n",
    "    b ~ Gamma(1000, 2)\n",
    "    z = Vector{Float64}(undef, N)\n",
    "    z[1] ~ Gamma(1, 1/b) # Shape Scale parameterization in Distributions.jl\n",
    "    y[1] ~ Poisson(z[1])\n",
    "    for i = 2:n\n",
    "        z[i] ~ Gamma(softplus(z[i-1]), 1/b)\n",
    "        y[i] ~ Poisson(z[i])\n",
    "    end\n",
    "end"
   ]
  },
  {
   "cell_type": "code",
   "execution_count": null,
   "metadata": {
    "vscode": {
     "languageId": "julia"
    }
   },
   "outputs": [],
   "source": [
    "# Instantiate model\n",
    "sc_model = model(dataset);"
   ]
  },
  {
   "cell_type": "code",
   "execution_count": null,
   "metadata": {
    "vscode": {
     "languageId": "julia"
    }
   },
   "outputs": [],
   "source": [
    "runtime = @elapsed chain = sample(sc_model, NUTS(200, 0.65), 1000);"
   ]
  },
  {
   "cell_type": "code",
   "execution_count": null,
   "metadata": {
    "vscode": {
     "languageId": "julia"
    }
   },
   "outputs": [],
   "source": [
    "ids = findall(map(name -> occursin(\"z\", string(name)), names(chain)));"
   ]
  },
  {
   "cell_type": "code",
   "execution_count": null,
   "metadata": {
    "vscode": {
     "languageId": "julia"
    }
   },
   "outputs": [],
   "source": [
    "mean_list = []\n",
    "var_list = []\n",
    "for n=2:N+1\n",
    "    push!(mean_list, mean(chain[:,n,:]))\n",
    "    push!(var_list, var(chain[:,n,:]))\n",
    "end"
   ]
  },
  {
   "cell_type": "code",
   "execution_count": null,
   "metadata": {
    "vscode": {
     "languageId": "julia"
    }
   },
   "outputs": [],
   "source": [
    "scatter(collect(1:N),dataset,color=:black,size=(900,200),legend=:topright, \n",
    "        xtick=([1, 12, 23, 34, 45, 56, 67, 76], [1945, 1956, 1967, 1978, 1989, 2000, 2011, 2020]), \n",
    "        xlabel=\"Years\", ylabel=\"Sunspots\", label=\"Observations\", left_margin = 10Plots.mm, bottom_margin = 5Plots.mm)\n",
    "plot!(mean_list,ribbon=var_list,label=\"Estimations\", lw=2, size=(1000,400),color=:green,fillalpha=0.2)"
   ]
  },
  {
   "cell_type": "code",
   "execution_count": null,
   "metadata": {
    "vscode": {
     "languageId": "julia"
    }
   },
   "outputs": [],
   "source": [
    "open(\"results/nuts_sunspot_results.csv\", \"w\") do io\n",
    "    writedlm(io, [mean_list var_list])\n",
    "end"
   ]
  },
  {
   "cell_type": "code",
   "execution_count": null,
   "metadata": {
    "vscode": {
     "languageId": "julia"
    }
   },
   "outputs": [],
   "source": [
    "sqrt(mean((not_rounded - mean_list).^2))"
   ]
  }
 ],
 "metadata": {
  "language_info": {
   "name": "python"
  },
  "orig_nbformat": 4
 },
 "nbformat": 4,
 "nbformat_minor": 2
}
