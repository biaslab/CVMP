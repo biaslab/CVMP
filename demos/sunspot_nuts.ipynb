{
 "cells": [
  {
   "cell_type": "code",
   "execution_count": 12,
   "metadata": {},
   "outputs": [],
   "source": [
    "using Turing, Distributions, Random, Plots, LinearAlgebra, DelimitedFiles\n",
    "using StatsFuns\n",
    "using BenchmarkTools\n",
    "\n",
    "Random.seed!(1234);\n",
    "Turing.setadbackend(:forwarddiff);\n",
    "Turing.setrdcache(false);"
   ]
  },
  {
   "cell_type": "code",
   "execution_count": 13,
   "metadata": {},
   "outputs": [],
   "source": [
    "sunspot = readdlm(\"data/SN_y_tot_V2.0.csv\", ';')\n",
    "select_1945_2020 = filter((s) -> s[1] > 1945 && s[1] < 2021, collect(eachrow(sunspot)))\n",
    "dataset = map((s) -> round(s[2]), select_1945_2020);\n",
    "not_rounded = map((s) -> s[2], select_1945_2020);\n",
    "N = length(dataset);\n"
   ]
  },
  {
   "cell_type": "code",
   "execution_count": 14,
   "metadata": {},
   "outputs": [
    {
     "data": {
      "text/plain": [
       "model (generic function with 2 methods)"
      ]
     },
     "metadata": {},
     "output_type": "display_data"
    }
   ],
   "source": [
    "@model model(y) = begin\n",
    "    n = length(y)\n",
    "    b ~ Gamma(1000, 1/2) # Shape Scale parameterization in Distributions.jl\n",
    "    z = Vector{Float64}(undef, N)\n",
    "    z[1] ~ Gamma(1, 1/b) # Shape Scale parameterization in Distributions.jl\n",
    "    y[1] ~ Poisson(z[1])\n",
    "    for i = 2:n\n",
    "        z[i] ~ Gamma(softplus(z[i-1]), 1/b)\n",
    "        y[i] ~ Poisson(z[i])\n",
    "    end\n",
    "end"
   ]
  },
  {
   "cell_type": "code",
   "execution_count": 15,
   "metadata": {},
   "outputs": [],
   "source": [
    "# Instantiate model\n",
    "sc_model = model(dataset);"
   ]
  },
  {
   "cell_type": "code",
   "execution_count": 16,
   "metadata": {},
   "outputs": [
    {
     "name": "stderr",
     "output_type": "stream",
     "text": [
      "┌ Info: Found initial step size\n",
      "│   ϵ = 0.05\n",
      "└ @ Turing.Inference /Users/mykola/.julia/packages/Turing/Suzsv/src/inference/hmc.jl:190\n"
     ]
    }
   ],
   "source": [
    "runtime = @elapsed chain = sample(sc_model, NUTS(200, 0.65), 1000, progress=false);"
   ]
  },
  {
   "cell_type": "code",
   "execution_count": 17,
   "metadata": {},
   "outputs": [
    {
     "name": "stderr",
     "output_type": "stream",
     "text": [
      "┌ Info: Found initial step size\n",
      "│   ϵ = 0.05\n",
      "└ @ Turing.Inference /Users/mykola/.julia/packages/Turing/Suzsv/src/inference/hmc.jl:190\n",
      "┌ Info: Found initial step size\n",
      "│   ϵ = 0.05\n",
      "└ @ Turing.Inference /Users/mykola/.julia/packages/Turing/Suzsv/src/inference/hmc.jl:190\n"
     ]
    },
    {
     "name": "stderr",
     "output_type": "stream",
     "text": [
      "┌ Info: Found initial step size\n",
      "│   ϵ = 0.05\n",
      "└ @ Turing.Inference /Users/mykola/.julia/packages/Turing/Suzsv/src/inference/hmc.jl:190\n",
      "┌ Info: Found initial step size\n",
      "│   ϵ = 0.05\n",
      "└ @ Turing.Inference /Users/mykola/.julia/packages/Turing/Suzsv/src/inference/hmc.jl:190\n"
     ]
    },
    {
     "data": {
      "text/plain": [
       "BenchmarkTools.Trial: 1 sample with 1 evaluation.\n",
       " Single result which took \u001b[34m17.748 s\u001b[39m (8.25% GC) to evaluate,\n",
       " with a memory estimate of \u001b[33m25.25 GiB\u001b[39m, over \u001b[33m227900207\u001b[39m allocations."
      ]
     },
     "metadata": {},
     "output_type": "display_data"
    }
   ],
   "source": [
    "@benchmark sample(sc_model, NUTS(200, 0.65), 1000, progress=false)"
   ]
  },
  {
   "cell_type": "code",
   "execution_count": 18,
   "metadata": {},
   "outputs": [],
   "source": [
    "ids = findall(map(name -> occursin(\"z\", string(name)), names(chain)));"
   ]
  },
  {
   "cell_type": "code",
   "execution_count": 19,
   "metadata": {},
   "outputs": [],
   "source": [
    "mean_list = []\n",
    "var_list = []\n",
    "for n=2:N+1\n",
    "    push!(mean_list, mean(chain[:,n,:]))\n",
    "    push!(var_list, var(chain[:,n,:]))\n",
    "end"
   ]
  },
  {
   "cell_type": "code",
   "execution_count": 20,
   "metadata": {},
   "outputs": [],
   "source": [
    "open(\"estimations/nuts_sunspot_results.csv\", \"w\") do io\n",
    "    writedlm(io, [mean_list var_list])\n",
    "end"
   ]
  },
  {
   "cell_type": "code",
   "execution_count": 21,
   "metadata": {},
   "outputs": [
    {
     "data": {
      "text/plain": [
       "20.19020121994067"
      ]
     },
     "metadata": {},
     "output_type": "display_data"
    }
   ],
   "source": [
    "sqrt(mean((not_rounded - mean_list).^2))"
   ]
  }
 ],
 "metadata": {
  "kernelspec": {
   "display_name": "Julia 1.9.1",
   "language": "julia",
   "name": "julia-1.9"
  },
  "language_info": {
   "file_extension": ".jl",
   "mimetype": "application/julia",
   "name": "julia",
   "version": "1.9.1"
  },
  "orig_nbformat": 4
 },
 "nbformat": 4,
 "nbformat_minor": 2
}
