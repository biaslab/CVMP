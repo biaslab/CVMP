{
 "cells": [
  {
   "cell_type": "code",
   "execution_count": 37,
   "metadata": {},
   "outputs": [
    {
     "data": {
      "text/plain": [
       "Plots.PGFPlotsXBackend()"
      ]
     },
     "metadata": {},
     "output_type": "display_data"
    }
   ],
   "source": [
    "using DelimitedFiles, Plots\n",
    "pgfplotsx()"
   ]
  },
  {
   "cell_type": "code",
   "execution_count": 38,
   "metadata": {},
   "outputs": [],
   "source": [
    "sunspot = readdlm(\"../../../data/SN_y_tot_V2.0.csv\", ';')\n",
    "select_1945_2020 = filter((s) -> s[1] > 1945 && s[1] < 2021, collect(eachrow(sunspot)))\n",
    "observations = map((s) -> round(s[2]), select_1945_2020);\n"
   ]
  },
  {
   "cell_type": "code",
   "execution_count": 39,
   "metadata": {},
   "outputs": [],
   "source": [
    "# to check that matched with Semih\n",
    "cvi = readdlm(\"../../../estimations/cvi_sunspot_results.csv\")\n",
    "cvmp = readdlm(\"../../../estimations/cvmp_sunspot_results.csv\")\n",
    "aismp = readdlm(\"../../../estimations/ais_mp_sunspot_results.csv\")\n",
    "nuts = readdlm(\"../../../estimations/nuts_sunspot_results.csv\");"
   ]
  },
  {
   "cell_type": "code",
   "execution_count": 40,
   "metadata": {},
   "outputs": [
    {
     "name": "stdout",
     "output_type": "stream",
     "text": []
    }
   ],
   "source": [
    "estimation_plot = plot()\n",
    "scatter!(observations,color=:black,legend=:topright, \n",
    "        xtick=([1, 12, 23, 34, 45, 56, 67, 76], [1945, 1956, 1967, 1978, 1989, 2000, 2011, 2020]), \n",
    "        xlabel=\"Years\", ylabel=\"Sunspots\", label=\"Observations\", left_margin = 10Plots.mm, bottom_margin = 5Plots.mm)\n",
    "plot!(cvi[:,1],ribbon=cvi[:,2],label=\"SVMP\", lw=2, size=(1000,400),color=:orange,fillalpha=0.2)\n",
    "plot!(aismp[:, 1],ribbon=aismp[:, 2],label=\"AIS-MP\", lw=2, size=(1000,400),color=:red,fillalpha=0.2)\n",
    "plot!(nuts[:, 1],ribbon=nuts[:, 2],label=\"NUTS\", lw=2, size=(1000,400),color=:green,fillalpha=0.2)\n",
    "plot!(cvmp[:, 1],ribbon=cvmp[:, 2],label=\"CVMP\", lw=2, size=(1000,400),color=:blue,fillalpha=0.2)\n",
    "plot!(cvi[:,1], lw=2, color=:orange, label=false)\n",
    "plot!(aismp[:, 1], lw=2, color=:red, label=false)\n",
    "plot!(nuts[:, 1], lw=2, color=:green, label=false)\n",
    "plot!(cvmp[:, 1], color=:blue, lw=2, label=false)"
   ]
  },
  {
   "cell_type": "code",
   "execution_count": 41,
   "metadata": {},
   "outputs": [
    {
     "name": "stdout",
     "output_type": "stream",
     "text": []
    }
   ],
   "source": [
    "# to check that matched with Semih\n",
    "cvi_fe = readdlm(\"../../../estimations/cvi_fe_sunspot_results.csv\")\n",
    "cvmp_fe = readdlm(\"../../../estimations/cvmp_fe_sunspot_results.csv\")\n",
    "aismp_fe = readdlm(\"../../../estimations/ais_mp_fe_results.csv\")\n",
    "\n",
    "fe_plot = plot(cvi_fe[1, :], lw=2, xlabel=\"VMP iterations\", ylabel=\"Free Energy (nats)\", color = :orange, label = \"SVMP\", legend=:topright,)\n",
    "plot!(cvmp_fe[1, :], color = :blue, label= \"CVMP\")\n",
    "plot!(aismp_fe[1, :], color = :red, label = \"AIS-MP\")"
   ]
  },
  {
   "cell_type": "code",
   "execution_count": 42,
   "metadata": {},
   "outputs": [
    {
     "data": {
      "text/plain": [
       "\"/Users/sabinamakhmudova/repos/CVMP/demos/generate_plots/graphs/pgfplots/estimation_fe_plot.tex\""
      ]
     },
     "metadata": {},
     "output_type": "display_data"
    }
   ],
   "source": [
    "plot(estimation_plot, fe_plot, layout=grid(1, 2, widths=(2/3,1/3)))\n",
    "savefig(\"estimation_fe_plot.tex\")"
   ]
  },
  {
   "cell_type": "code",
   "execution_count": null,
   "metadata": {},
   "outputs": [],
   "source": []
  }
 ],
 "metadata": {
  "kernelspec": {
   "display_name": "Julia 1.8.5",
   "language": "julia",
   "name": "julia-1.8"
  },
  "language_info": {
   "file_extension": ".jl",
   "mimetype": "application/julia",
   "name": "julia",
   "version": "1.8.5"
  },
  "orig_nbformat": 4
 },
 "nbformat": 4,
 "nbformat_minor": 2
}
