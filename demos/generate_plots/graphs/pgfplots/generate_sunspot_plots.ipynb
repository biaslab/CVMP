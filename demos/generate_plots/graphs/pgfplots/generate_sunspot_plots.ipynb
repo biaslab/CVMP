{
 "cells": [
  {
   "cell_type": "code",
   "execution_count": 8,
   "metadata": {},
   "outputs": [
    {
     "data": {
      "text/plain": [
       "Plots.PGFPlotsXBackend()"
      ]
     },
     "metadata": {},
     "output_type": "display_data"
    }
   ],
   "source": [
    "using DelimitedFiles, Distributions, Plots\n",
    "pgfplotsx()"
   ]
  },
  {
   "cell_type": "code",
   "execution_count": 9,
   "metadata": {},
   "outputs": [],
   "source": [
    "sunspot = readdlm(\"../../../data/SN_y_tot_V2.0.csv\", ';')\n",
    "select_1945_2020 = filter((s) -> s[1] > 1945 && s[1] < 2021, collect(eachrow(sunspot)))\n",
    "observations = map((s) -> round(s[2]), select_1945_2020);\n"
   ]
  },
  {
   "cell_type": "code",
   "execution_count": 10,
   "metadata": {},
   "outputs": [],
   "source": [
    "# to check that matched with Semih\n",
    "cvi = readdlm(\"../../../estimations/cvi_sunspot_results.csv\")\n",
    "cvmp = readdlm(\"../../../estimations/cvmp_sunspot_results.csv\")\n",
    "aismp = readdlm(\"../../../estimations/ais_mp_sunspot_results.csv\")\n",
    "nuts = readdlm(\"../../../estimations/nuts_sunspot_results.csv\");"
   ]
  },
  {
   "cell_type": "code",
   "execution_count": 11,
   "metadata": {},
   "outputs": [
    {
     "name": "stdout",
     "output_type": "stream",
     "text": []
    }
   ],
   "source": [
    "custom_colors = [:green, :red, :blue]\n",
    "algorithms = [\"SVMP\", \"AIS-MP\", \"CVMP\"]\n",
    "data_list = [cvi, aismp, cvmp]\n",
    "linestyles = [:solid, :solid, :dash]\n",
    "\n",
    "estimation_plot = plot(title=\"Sunspot Recovery Comparison\",\n",
    "                       guidefontsize=14,\n",
    "                       tickfontsize=12,\n",
    "                       legendfontsize=12,\n",
    "                       legend=:topright)\n",
    "\n",
    "scatter!(estimation_plot, observations, color=:black,\n",
    "         xtick=([1, 12, 23, 34, 45, 56, 67, 76], [1945, 1956, 1967, 1978, 1989, 2000, 2011, 2020]),\n",
    "         xlabel=\"Years\", ylabel=\"Sunspots\", label=\"Observations\", left_margin=10Plots.mm, bottom_margin=5Plots.mm)\n",
    "\n",
    "for (i, (algorithm, data, color, linestyle)) in enumerate(zip(algorithms, data_list, custom_colors, linestyles))\n",
    "    plot!(estimation_plot, data[:, 1], ribbon=data[:, 2], label=algorithm, lw=2, size=(1000, 400), color=color, linestyle = linestyle, fillalpha=0.15)\n",
    "end\n",
    "\n",
    "for (i, (algorithm, data, color, linestyle)) in enumerate(zip(algorithms, data_list, custom_colors, linestyles))\n",
    "    plot!(data[:, 1], label=false, color=color, linestyle = linestyle)\n",
    "end\n",
    "\n",
    "estimation_plot"
   ]
  },
  {
   "cell_type": "code",
   "execution_count": 12,
   "metadata": {},
   "outputs": [],
   "source": [
    "# to check that matched with Semih\n",
    "cvi_fe = readdlm(\"../../../estimations/cvi_fe_sunspot_results.csv\")\n",
    "cvmp_fe = readdlm(\"../../../estimations/cvmp_fe_sunspot_results.csv\")\n",
    "aismp_fe = readdlm(\"../../../estimations/ais_mp_fe_results.csv\")\n",
    "fe_list = [cvi_fe, aismp_fe, cvmp_fe,]\n",
    "\n",
    "\n",
    "fe_plot = plot(xlabel=\"VMP iterations\", ylabel=\"Free Energy (nats)\")\n",
    "\n",
    "for (i, (algorithm, data, color, linestyle)) in enumerate(zip(algorithms, fe_list, custom_colors, linestyles))\n",
    "    plot!(data[1, :], label=algorithm, color=color, linestyle = linestyle)\n",
    "end"
   ]
  },
  {
   "cell_type": "code",
   "execution_count": 13,
   "metadata": {},
   "outputs": [
    {
     "data": {
      "text/plain": [
       "\"/Users/mykola/repos/CVMP/demos/generate_plots/graphs/pgfplots/estimation_fe_plot.tex\""
      ]
     },
     "metadata": {},
     "output_type": "display_data"
    }
   ],
   "source": [
    "plot(estimation_plot, fe_plot, layout=grid(1, 2, widths=(2/3,1/3)))\n",
    "savefig(\"estimation_fe_plot.tex\")"
   ]
  },
  {
   "cell_type": "code",
   "execution_count": null,
   "metadata": {},
   "outputs": [],
   "source": []
  }
 ],
 "metadata": {
  "kernelspec": {
   "display_name": "Julia 1.8.5",
   "language": "julia",
   "name": "julia-1.8"
  },
  "language_info": {
   "file_extension": ".jl",
   "mimetype": "application/julia",
   "name": "julia",
   "version": "1.8.5"
  },
  "orig_nbformat": 4
 },
 "nbformat": 4,
 "nbformat_minor": 2
}
