{
 "cells": [
  {
   "cell_type": "code",
   "execution_count": 27,
   "metadata": {},
   "outputs": [
    {
     "data": {
      "text/plain": [
       "Plots.PGFPlotsXBackend()"
      ]
     },
     "metadata": {},
     "output_type": "display_data"
    }
   ],
   "source": [
    "using DelimitedFiles, Distributions, Plots\n",
    "pgfplotsx()"
   ]
  },
  {
   "cell_type": "code",
   "execution_count": 28,
   "metadata": {},
   "outputs": [
    {
     "data": {
      "text/plain": [
       "moments (generic function with 1 method)"
      ]
     },
     "metadata": {},
     "output_type": "display_data"
    }
   ],
   "source": [
    "function moments(::Type{Gamma}, mean::Real, var::Real)\n",
    "    shape = mean^2 / var\n",
    "    scale = var / mean\n",
    "    return Gamma(shape, scale)\n",
    "end"
   ]
  },
  {
   "cell_type": "code",
   "execution_count": 29,
   "metadata": {},
   "outputs": [
    {
     "data": {
      "text/plain": [
       "quantile_ribbon (generic function with 1 method)"
      ]
     },
     "metadata": {},
     "output_type": "display_data"
    }
   ],
   "source": [
    "function quantile_ribbon(dist)\n",
    "    quantiles = quantile.(dist, [0.025, 0.975])\n",
    "    return quantiles[1], quantiles[2]\n",
    "end"
   ]
  },
  {
   "cell_type": "code",
   "execution_count": 20,
   "metadata": {},
   "outputs": [],
   "source": [
    "sunspot = readdlm(\"../../../data/SN_y_tot_V2.0.csv\", ';')\n",
    "select_1945_2020 = filter((s) -> s[1] > 1945 && s[1] < 2021, collect(eachrow(sunspot)))\n",
    "not_rounded = map((s) -> s[2], select_1945_2020)\n",
    "observations = map((s) -> round(s[2]), select_1945_2020);\n",
    "\n",
    "# to check that matched with Semih\n",
    "cvi = readdlm(\"../../../estimations/cvi_sunspot_results.csv\")\n",
    "cvmp = readdlm(\"../../../estimations/cvmp_accurate_sunspot_results.csv\")\n",
    "aismp = readdlm(\"../../../estimations/ais_mp_sunspot_results.csv\")\n",
    "nuts = readdlm(\"../../../estimations/nuts_sunspot_results.csv\");\n",
    "\n",
    "inference_results = [\n",
    "    aismp,    \n",
    "    cvmp,\n",
    "    cvi,\n",
    "    nuts\n",
    "];\n",
    "\n",
    "gammas = map(\n",
    "    (result) -> moments.(Gamma, result[:, 1], result[:, 2]), \n",
    "    inference_results\n",
    ");\n",
    "\n",
    "custom_colors = [:red, :blue, :green, :orange];\n",
    "algorithms = [\"AISMP\", \"CVMP\", \"SVMP\", \"NUTS\"];\n",
    "linestyles = [:dash, :solid, :dot, :dashdot];"
   ]
  },
  {
   "cell_type": "code",
   "execution_count": 21,
   "metadata": {},
   "outputs": [],
   "source": [
    "gamma_estimation_plot = plot(title=\"Sunspot Recovery Comparison\",\n",
    "                       guidefontsize=14,\n",
    "                       tickfontsize=12,\n",
    "                       legendfontsize=12,\n",
    "                       legend=:topright,\n",
    "                       xtick=([1, 12, 23, 34, 45, 56, 67, 76], [1945, 1956, 1967, 1978, 1989, 2000, 2011, 2020]),\n",
    "                       xlabel=\"Years\",\n",
    "                       ylabel=\"Sunspots\",\n",
    "                       label=\"Observations\",\n",
    "                       left_margin=10Plots.mm,\n",
    "                       bottom_margin=5Plots.mm)\n",
    "\n",
    "plot!(gamma_estimation_plot, not_rounded, color=:black, label=\"Hidden signal\", linestyle=:dash, lw=2, size=(1000, 400))\n",
    "\n",
    "for (i, (algorithm, gamma, color, linestyle)) in enumerate(zip(algorithms, gammas, custom_colors, linestyles, 1:4))\n",
    "    lower, upper = zip(quantile_ribbon.(gammas[i])...) |> collect;\n",
    "    lower, upper = [lower...], [upper...]\n",
    "    plot!(gamma_estimation_plot, mean.(gammas[i]), ribbon=(lower, upper), label=algorithm, lw=2, size=(1000, 400), color=color, linestyle = linestyle, fillalpha=0.15)\n",
    "end\n",
    "\n",
    "for (i, (algorithm, gamma, color, linestyle)) in enumerate(zip(algorithms, gammas, custom_colors, linestyles))\n",
    "    plot!(mean.(gamma), label=false, color=color, linestyle = linestyle)\n",
    "end"
   ]
  },
  {
   "cell_type": "code",
   "execution_count": 22,
   "metadata": {},
   "outputs": [],
   "source": [
    "# to check that matched with Semih\n",
    "svmp_fe = readdlm(\"../../../estimations/cvi_fe_sunspot_results.csv\")\n",
    "cvmp_fe = readdlm(\"../../../estimations/cvmp_accurate_fe_sunspot_results.csv\")\n",
    "aismp_fe = readdlm(\"../../../estimations/ais_mp_fe_results.csv\");"
   ]
  },
  {
   "cell_type": "code",
   "execution_count": 23,
   "metadata": {},
   "outputs": [],
   "source": [
    "fe_list = [aismp_fe, cvmp_fe, svmp_fe]\n",
    "\n",
    "\n",
    "fe_plot = plot(xlabel=\"VMP iterations\", ylabel=\"Free Energy (nats)\", guidefontsize=14, tickfontsize=12, legendfontsize=12, legend=:topright)\n",
    "\n",
    "for (i, (algorithm, data, color, linestyle)) in enumerate(zip(algorithms, fe_list, custom_colors, linestyles))\n",
    "    plot!(data[1, :], label=algorithm, color=color, linestyle = linestyle)\n",
    "end"
   ]
  },
  {
   "cell_type": "code",
   "execution_count": 24,
   "metadata": {},
   "outputs": [],
   "source": [
    "plot(gamma_estimation_plot, fe_plot, layout=grid(1, 2, widths=(2/3,1/3)))\n",
    "savefig(\"estimation_fe_plot.tex\");"
   ]
  },
  {
   "cell_type": "code",
   "execution_count": null,
   "metadata": {},
   "outputs": [],
   "source": []
  }
 ],
 "metadata": {
  "kernelspec": {
   "display_name": "Julia 1.8.5",
   "language": "julia",
   "name": "julia-1.8"
  },
  "language_info": {
   "file_extension": ".jl",
   "mimetype": "application/julia",
   "name": "julia",
   "version": "1.8.5"
  },
  "orig_nbformat": 4
 },
 "nbformat": 4,
 "nbformat_minor": 2
}
