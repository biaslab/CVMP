{
 "cells": [
  {
   "cell_type": "code",
   "execution_count": 96,
   "metadata": {},
   "outputs": [
    {
     "data": {
      "text/plain": [
       "Plots.PGFPlotsXBackend()"
      ]
     },
     "metadata": {},
     "output_type": "display_data"
    }
   ],
   "source": [
    "using DelimitedFiles, Distributions, Plots\n",
    "pgfplotsx()"
   ]
  },
  {
   "cell_type": "code",
   "execution_count": 97,
   "metadata": {},
   "outputs": [],
   "source": [
    "sunspot = readdlm(\"../../../data/SN_y_tot_V2.0.csv\", ';')\n",
    "select_1945_2020 = filter((s) -> s[1] > 1945 && s[1] < 2021, collect(eachrow(sunspot)))\n",
    "observations = map((s) -> round(s[2]), select_1945_2020);\n"
   ]
  },
  {
   "cell_type": "code",
   "execution_count": 98,
   "metadata": {},
   "outputs": [],
   "source": [
    "# to check that matched with Semih\n",
    "cvi = readdlm(\"../../../estimations/cvi_sunspot_results.csv\")\n",
    "cvmp = readdlm(\"../../../estimations/cvmp_sunspot_results.csv\")\n",
    "aismp = readdlm(\"../../../estimations/ais_mp_sunspot_results.csv\")\n",
    "nuts = readdlm(\"../../../estimations/nuts_sunspot_results.csv\");"
   ]
  },
  {
   "cell_type": "code",
   "execution_count": 99,
   "metadata": {},
   "outputs": [
    {
     "name": "stdout",
     "output_type": "stream",
     "text": []
    }
   ],
   "source": [
    "custom_colors = [:green, :blue, :red]\n",
    "algorithms = [\"AISMP\", \"CVMP\", \"SVMP\"]\n",
    "data_list = [aismp, cvmp, cvi]\n",
    "linestyles = [:dash, :solid, :dash]\n",
    "\n",
    "estimation_plot = plot(title=\"Sunspot Recovery Comparison\",\n",
    "                       guidefontsize=14,\n",
    "                       tickfontsize=12,\n",
    "                       legendfontsize=12,\n",
    "                       legend=:topright)\n",
    "\n",
    "scatter!(estimation_plot, observations, color=:black,\n",
    "         xtick=([1, 12, 23, 34, 45, 56, 67, 76], [1945, 1956, 1967, 1978, 1989, 2000, 2011, 2020]),\n",
    "         xlabel=\"Years\", ylabel=\"Sunspots\", label=\"Observations\", left_margin=10Plots.mm, bottom_margin=5Plots.mm)\n",
    "\n",
    "for (i, (algorithm, data, color, linestyle)) in enumerate(zip(algorithms, data_list, custom_colors, linestyles))\n",
    "    plot!(estimation_plot, data[:, 1], ribbon=data[:, 2], label=algorithm, lw=2, size=(1000, 400), color=color, linestyle = linestyle, fillalpha=0.15)\n",
    "end\n",
    "\n",
    "for (i, (algorithm, data, color, linestyle)) in enumerate(zip(algorithms, data_list, custom_colors, linestyles))\n",
    "    plot!(data[:, 1], label=false, color=color, linestyle = linestyle)\n",
    "end\n",
    "\n",
    "estimation_plot"
   ]
  },
  {
   "cell_type": "code",
   "execution_count": 100,
   "metadata": {},
   "outputs": [
    {
     "data": {
      "text/plain": [
       "1×10 Matrix{Float64}:\n",
       " 17031.2  9035.33  7171.81  6807.99  …  6699.37  6699.12  6697.37  6696.55"
      ]
     },
     "metadata": {},
     "output_type": "display_data"
    }
   ],
   "source": [
    "# to check that matched with Semih\n",
    "cvi_fe = readdlm(\"../../../estimations/cvi_fe_sunspot_results.csv\")\n",
    "cvmp_fe = readdlm(\"../../../estimations/cvmp_fe_sunspot_results.csv\")\n",
    "aismp_fe = readdlm(\"../../../estimations/ais_mp_fe_results.csv\")"
   ]
  },
  {
   "cell_type": "code",
   "execution_count": 101,
   "metadata": {},
   "outputs": [],
   "source": [
    "fe_list = [aismp_fe, cvmp_fe, cvi_fe]\n",
    "\n",
    "\n",
    "fe_plot = plot(xlabel=\"VMP iterations\", ylabel=\"Free Energy (nats)\", guidefontsize=14, tickfontsize=12, legendfontsize=12, legend=:topright)\n",
    "\n",
    "for (i, (algorithm, data, color, linestyle)) in enumerate(zip(algorithms, fe_list, custom_colors, linestyles))\n",
    "    plot!(data[1, :], label=algorithm, color=color, linestyle = linestyle)\n",
    "end"
   ]
  },
  {
   "cell_type": "code",
   "execution_count": 102,
   "metadata": {},
   "outputs": [],
   "source": [
    "plot(estimation_plot, fe_plot, layout=grid(1, 2, widths=(2/3,1/3)))\n",
    "savefig(\"estimation_fe_plot.tex\");"
   ]
  }
 ],
 "metadata": {
  "kernelspec": {
   "display_name": "Julia 1.8.5",
   "language": "julia",
   "name": "julia-1.8"
  },
  "language_info": {
   "file_extension": ".jl",
   "mimetype": "application/julia",
   "name": "julia",
   "version": "1.8.5"
  },
  "orig_nbformat": 4
 },
 "nbformat": 4,
 "nbformat_minor": 2
}
