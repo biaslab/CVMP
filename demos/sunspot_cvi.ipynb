{
 "cells": [
  {
   "cell_type": "code",
   "execution_count": 1,
   "metadata": {},
   "outputs": [
    {
     "name": "stderr",
     "output_type": "stream",
     "text": [
      "\u001b[36m\u001b[1m[ \u001b[22m\u001b[39m\u001b[36m\u001b[1mInfo: \u001b[22m\u001b[39mPrecompiling BenchmarkTools [6e4b80f9-dd63-53aa-95a3-0cdb28fa8baf]\n"
     ]
    }
   ],
   "source": [
    "using Revise\n",
    "using RxInfer, Random, Distributions, Plots, Flux, DelimitedFiles, StableRNGs\n",
    "using ReactiveMP\n",
    "using CCMP\n",
    "using Base\n",
    "using SpecialFunctions\n",
    "using BenchmarkTools"
   ]
  },
  {
   "cell_type": "code",
   "execution_count": 2,
   "metadata": {},
   "outputs": [],
   "source": [
    "# to check that matched with Semih\n",
    "sunspot_semih = readdlm(\"data/SN_Akbayrak.csv\")\n",
    "semih_observations = map(Int, sunspot_semih[:,2]);"
   ]
  },
  {
   "cell_type": "code",
   "execution_count": 3,
   "metadata": {},
   "outputs": [
    {
     "data": {
      "image/svg+xml": [
       "<?xml version=\"1.0\" encoding=\"utf-8\"?>\n",
       "<svg xmlns=\"http://www.w3.org/2000/svg\" xmlns:xlink=\"http://www.w3.org/1999/xlink\" width=\"600\" height=\"400\" viewBox=\"0 0 2400 1600\">\n",
       "<defs>\n",
       "  <clipPath id=\"clip200\">\n",
       "    <rect x=\"0\" y=\"0\" width=\"2400\" height=\"1600\"/>\n",
       "  </clipPath>\n",
       "</defs>\n",
       "<path clip-path=\"url(#clip200)\" d=\"M0 1600 L2400 1600 L2400 0 L0 0  Z\" fill=\"#ffffff\" fill-rule=\"evenodd\" fill-opacity=\"1\"/>\n",
       "<defs>\n",
       "  <clipPath id=\"clip201\">\n",
       "    <rect x=\"480\" y=\"0\" width=\"1681\" height=\"1600\"/>\n",
       "  </clipPath>\n",
       "</defs>\n",
       "<path clip-path=\"url(#clip200)\" d=\"M170.857 1486.45 L2352.76 1486.45 L2352.76 47.2441 L170.857 47.2441  Z\" fill=\"#ffffff\" fill-rule=\"evenodd\" fill-opacity=\"1\"/>\n",
       "<defs>\n",
       "  <clipPath id=\"clip202\">\n",
       "    <rect x=\"170\" y=\"47\" width=\"2183\" height=\"1440\"/>\n",
       "  </clipPath>\n",
       "</defs>\n",
       "<polyline clip-path=\"url(#clip202)\" style=\"stroke:#000000; stroke-linecap:round; stroke-linejoin:round; stroke-width:2; stroke-opacity:0.1; fill:none\" points=\"205.164,1486.45 205.164,47.2441 \"/>\n",
       "<polyline clip-path=\"url(#clip202)\" style=\"stroke:#000000; stroke-linecap:round; stroke-linejoin:round; stroke-width:2; stroke-opacity:0.1; fill:none\" points=\"754.069,1486.45 754.069,47.2441 \"/>\n",
       "<polyline clip-path=\"url(#clip202)\" style=\"stroke:#000000; stroke-linecap:round; stroke-linejoin:round; stroke-width:2; stroke-opacity:0.1; fill:none\" points=\"1302.97,1486.45 1302.97,47.2441 \"/>\n",
       "<polyline clip-path=\"url(#clip202)\" style=\"stroke:#000000; stroke-linecap:round; stroke-linejoin:round; stroke-width:2; stroke-opacity:0.1; fill:none\" points=\"1851.88,1486.45 1851.88,47.2441 \"/>\n",
       "<polyline clip-path=\"url(#clip200)\" style=\"stroke:#000000; stroke-linecap:round; stroke-linejoin:round; stroke-width:4; stroke-opacity:1; fill:none\" points=\"170.857,1486.45 2352.76,1486.45 \"/>\n",
       "<polyline clip-path=\"url(#clip200)\" style=\"stroke:#000000; stroke-linecap:round; stroke-linejoin:round; stroke-width:4; stroke-opacity:1; fill:none\" points=\"205.164,1486.45 205.164,1467.55 \"/>\n",
       "<polyline clip-path=\"url(#clip200)\" style=\"stroke:#000000; stroke-linecap:round; stroke-linejoin:round; stroke-width:4; stroke-opacity:1; fill:none\" points=\"754.069,1486.45 754.069,1467.55 \"/>\n",
       "<polyline clip-path=\"url(#clip200)\" style=\"stroke:#000000; stroke-linecap:round; stroke-linejoin:round; stroke-width:4; stroke-opacity:1; fill:none\" points=\"1302.97,1486.45 1302.97,1467.55 \"/>\n",
       "<polyline clip-path=\"url(#clip200)\" style=\"stroke:#000000; stroke-linecap:round; stroke-linejoin:round; stroke-width:4; stroke-opacity:1; fill:none\" points=\"1851.88,1486.45 1851.88,1467.55 \"/>\n",
       "<path clip-path=\"url(#clip200)\" d=\"M205.164 1517.37 Q201.553 1517.37 199.724 1520.93 Q197.919 1524.47 197.919 1531.6 Q197.919 1538.71 199.724 1542.27 Q201.553 1545.82 205.164 1545.82 Q208.798 1545.82 210.604 1542.27 Q212.432 1538.71 212.432 1531.6 Q212.432 1524.47 210.604 1520.93 Q208.798 1517.37 205.164 1517.37 M205.164 1513.66 Q210.974 1513.66 214.03 1518.27 Q217.108 1522.85 217.108 1531.6 Q217.108 1540.33 214.03 1544.94 Q210.974 1549.52 205.164 1549.52 Q199.354 1549.52 196.275 1544.94 Q193.22 1540.33 193.22 1531.6 Q193.22 1522.85 196.275 1518.27 Q199.354 1513.66 205.164 1513.66 Z\" fill=\"#000000\" fill-rule=\"nonzero\" fill-opacity=\"1\" /><path clip-path=\"url(#clip200)\" d=\"M732.843 1544.91 L749.162 1544.91 L749.162 1548.85 L727.218 1548.85 L727.218 1544.91 Q729.88 1542.16 734.463 1537.53 Q739.069 1532.88 740.25 1531.53 Q742.495 1529.01 743.375 1527.27 Q744.278 1525.51 744.278 1523.82 Q744.278 1521.07 742.333 1519.33 Q740.412 1517.6 737.31 1517.6 Q735.111 1517.6 732.657 1518.36 Q730.227 1519.13 727.449 1520.68 L727.449 1515.95 Q730.273 1514.82 732.727 1514.24 Q735.18 1513.66 737.218 1513.66 Q742.588 1513.66 745.782 1516.35 Q748.977 1519.03 748.977 1523.52 Q748.977 1525.65 748.167 1527.57 Q747.379 1529.47 745.273 1532.07 Q744.694 1532.74 741.592 1535.95 Q738.491 1539.15 732.843 1544.91 Z\" fill=\"#000000\" fill-rule=\"nonzero\" fill-opacity=\"1\" /><path clip-path=\"url(#clip200)\" d=\"M768.977 1517.37 Q765.366 1517.37 763.537 1520.93 Q761.731 1524.47 761.731 1531.6 Q761.731 1538.71 763.537 1542.27 Q765.366 1545.82 768.977 1545.82 Q772.611 1545.82 774.416 1542.27 Q776.245 1538.71 776.245 1531.6 Q776.245 1524.47 774.416 1520.93 Q772.611 1517.37 768.977 1517.37 M768.977 1513.66 Q774.787 1513.66 777.842 1518.27 Q780.921 1522.85 780.921 1531.6 Q780.921 1540.33 777.842 1544.94 Q774.787 1549.52 768.977 1549.52 Q763.166 1549.52 760.088 1544.94 Q757.032 1540.33 757.032 1531.6 Q757.032 1522.85 760.088 1518.27 Q763.166 1513.66 768.977 1513.66 Z\" fill=\"#000000\" fill-rule=\"nonzero\" fill-opacity=\"1\" /><path clip-path=\"url(#clip200)\" d=\"M1291.15 1518.36 L1279.34 1536.81 L1291.15 1536.81 L1291.15 1518.36 M1289.92 1514.29 L1295.8 1514.29 L1295.8 1536.81 L1300.73 1536.81 L1300.73 1540.7 L1295.8 1540.7 L1295.8 1548.85 L1291.15 1548.85 L1291.15 1540.7 L1275.54 1540.7 L1275.54 1536.19 L1289.92 1514.29 Z\" fill=\"#000000\" fill-rule=\"nonzero\" fill-opacity=\"1\" /><path clip-path=\"url(#clip200)\" d=\"M1318.46 1517.37 Q1314.85 1517.37 1313.02 1520.93 Q1311.22 1524.47 1311.22 1531.6 Q1311.22 1538.71 1313.02 1542.27 Q1314.85 1545.82 1318.46 1545.82 Q1322.09 1545.82 1323.9 1542.27 Q1325.73 1538.71 1325.73 1531.6 Q1325.73 1524.47 1323.9 1520.93 Q1322.09 1517.37 1318.46 1517.37 M1318.46 1513.66 Q1324.27 1513.66 1327.33 1518.27 Q1330.4 1522.85 1330.4 1531.6 Q1330.4 1540.33 1327.33 1544.94 Q1324.27 1549.52 1318.46 1549.52 Q1312.65 1549.52 1309.57 1544.94 Q1306.52 1540.33 1306.52 1531.6 Q1306.52 1522.85 1309.57 1518.27 Q1312.65 1513.66 1318.46 1513.66 Z\" fill=\"#000000\" fill-rule=\"nonzero\" fill-opacity=\"1\" /><path clip-path=\"url(#clip200)\" d=\"M1837.29 1529.7 Q1834.14 1529.7 1832.29 1531.86 Q1830.46 1534.01 1830.46 1537.76 Q1830.46 1541.49 1832.29 1543.66 Q1834.14 1545.82 1837.29 1545.82 Q1840.43 1545.82 1842.26 1543.66 Q1844.11 1541.49 1844.11 1537.76 Q1844.11 1534.01 1842.26 1531.86 Q1840.43 1529.7 1837.29 1529.7 M1846.57 1515.05 L1846.57 1519.31 Q1844.81 1518.48 1843 1518.04 Q1841.22 1517.6 1839.46 1517.6 Q1834.83 1517.6 1832.38 1520.72 Q1829.95 1523.85 1829.6 1530.17 Q1830.97 1528.15 1833.03 1527.09 Q1835.09 1526 1837.56 1526 Q1842.77 1526 1845.78 1529.17 Q1848.81 1532.32 1848.81 1537.76 Q1848.81 1543.08 1845.66 1546.3 Q1842.52 1549.52 1837.29 1549.52 Q1831.29 1549.52 1828.12 1544.94 Q1824.95 1540.33 1824.95 1531.6 Q1824.95 1523.41 1828.84 1518.55 Q1832.72 1513.66 1839.28 1513.66 Q1841.03 1513.66 1842.82 1514.01 Q1844.62 1514.36 1846.57 1515.05 Z\" fill=\"#000000\" fill-rule=\"nonzero\" fill-opacity=\"1\" /><path clip-path=\"url(#clip200)\" d=\"M1866.87 1517.37 Q1863.26 1517.37 1861.43 1520.93 Q1859.62 1524.47 1859.62 1531.6 Q1859.62 1538.71 1861.43 1542.27 Q1863.26 1545.82 1866.87 1545.82 Q1870.5 1545.82 1872.31 1542.27 Q1874.14 1538.71 1874.14 1531.6 Q1874.14 1524.47 1872.31 1520.93 Q1870.5 1517.37 1866.87 1517.37 M1866.87 1513.66 Q1872.68 1513.66 1875.73 1518.27 Q1878.81 1522.85 1878.81 1531.6 Q1878.81 1540.33 1875.73 1544.94 Q1872.68 1549.52 1866.87 1549.52 Q1861.06 1549.52 1857.98 1544.94 Q1854.92 1540.33 1854.92 1531.6 Q1854.92 1522.85 1857.98 1518.27 Q1861.06 1513.66 1866.87 1513.66 Z\" fill=\"#000000\" fill-rule=\"nonzero\" fill-opacity=\"1\" /><polyline clip-path=\"url(#clip202)\" style=\"stroke:#000000; stroke-linecap:round; stroke-linejoin:round; stroke-width:2; stroke-opacity:0.1; fill:none\" points=\"170.857,1466.21 2352.76,1466.21 \"/>\n",
       "<polyline clip-path=\"url(#clip202)\" style=\"stroke:#000000; stroke-linecap:round; stroke-linejoin:round; stroke-width:2; stroke-opacity:0.1; fill:none\" points=\"170.857,1210.03 2352.76,1210.03 \"/>\n",
       "<polyline clip-path=\"url(#clip202)\" style=\"stroke:#000000; stroke-linecap:round; stroke-linejoin:round; stroke-width:2; stroke-opacity:0.1; fill:none\" points=\"170.857,953.855 2352.76,953.855 \"/>\n",
       "<polyline clip-path=\"url(#clip202)\" style=\"stroke:#000000; stroke-linecap:round; stroke-linejoin:round; stroke-width:2; stroke-opacity:0.1; fill:none\" points=\"170.857,697.678 2352.76,697.678 \"/>\n",
       "<polyline clip-path=\"url(#clip202)\" style=\"stroke:#000000; stroke-linecap:round; stroke-linejoin:round; stroke-width:2; stroke-opacity:0.1; fill:none\" points=\"170.857,441.501 2352.76,441.501 \"/>\n",
       "<polyline clip-path=\"url(#clip202)\" style=\"stroke:#000000; stroke-linecap:round; stroke-linejoin:round; stroke-width:2; stroke-opacity:0.1; fill:none\" points=\"170.857,185.324 2352.76,185.324 \"/>\n",
       "<polyline clip-path=\"url(#clip200)\" style=\"stroke:#000000; stroke-linecap:round; stroke-linejoin:round; stroke-width:4; stroke-opacity:1; fill:none\" points=\"170.857,1486.45 170.857,47.2441 \"/>\n",
       "<polyline clip-path=\"url(#clip200)\" style=\"stroke:#000000; stroke-linecap:round; stroke-linejoin:round; stroke-width:4; stroke-opacity:1; fill:none\" points=\"170.857,1466.21 189.755,1466.21 \"/>\n",
       "<polyline clip-path=\"url(#clip200)\" style=\"stroke:#000000; stroke-linecap:round; stroke-linejoin:round; stroke-width:4; stroke-opacity:1; fill:none\" points=\"170.857,1210.03 189.755,1210.03 \"/>\n",
       "<polyline clip-path=\"url(#clip200)\" style=\"stroke:#000000; stroke-linecap:round; stroke-linejoin:round; stroke-width:4; stroke-opacity:1; fill:none\" points=\"170.857,953.855 189.755,953.855 \"/>\n",
       "<polyline clip-path=\"url(#clip200)\" style=\"stroke:#000000; stroke-linecap:round; stroke-linejoin:round; stroke-width:4; stroke-opacity:1; fill:none\" points=\"170.857,697.678 189.755,697.678 \"/>\n",
       "<polyline clip-path=\"url(#clip200)\" style=\"stroke:#000000; stroke-linecap:round; stroke-linejoin:round; stroke-width:4; stroke-opacity:1; fill:none\" points=\"170.857,441.501 189.755,441.501 \"/>\n",
       "<polyline clip-path=\"url(#clip200)\" style=\"stroke:#000000; stroke-linecap:round; stroke-linejoin:round; stroke-width:4; stroke-opacity:1; fill:none\" points=\"170.857,185.324 189.755,185.324 \"/>\n",
       "<path clip-path=\"url(#clip200)\" d=\"M122.913 1452.01 Q119.302 1452.01 117.473 1455.57 Q115.668 1459.12 115.668 1466.24 Q115.668 1473.35 117.473 1476.92 Q119.302 1480.46 122.913 1480.46 Q126.547 1480.46 128.353 1476.92 Q130.182 1473.35 130.182 1466.24 Q130.182 1459.12 128.353 1455.57 Q126.547 1452.01 122.913 1452.01 M122.913 1448.3 Q128.723 1448.3 131.779 1452.91 Q134.857 1457.49 134.857 1466.24 Q134.857 1474.97 131.779 1479.58 Q128.723 1484.16 122.913 1484.16 Q117.103 1484.16 114.024 1479.58 Q110.969 1474.97 110.969 1466.24 Q110.969 1457.49 114.024 1452.91 Q117.103 1448.3 122.913 1448.3 Z\" fill=\"#000000\" fill-rule=\"nonzero\" fill-opacity=\"1\" /><path clip-path=\"url(#clip200)\" d=\"M82.7975 1192.75 L101.154 1192.75 L101.154 1196.69 L87.0799 1196.69 L87.0799 1205.16 Q88.0984 1204.81 89.1169 1204.65 Q90.1354 1204.47 91.1539 1204.47 Q96.941 1204.47 100.321 1207.64 Q103.7 1210.81 103.7 1216.22 Q103.7 1221.8 100.228 1224.91 Q96.7558 1227.98 90.4364 1227.98 Q88.2604 1227.98 85.9919 1227.61 Q83.7466 1227.24 81.3392 1226.5 L81.3392 1221.8 Q83.4225 1222.94 85.6447 1223.49 Q87.8669 1224.05 90.3438 1224.05 Q94.3484 1224.05 96.6863 1221.94 Q99.0243 1219.84 99.0243 1216.22 Q99.0243 1212.61 96.6863 1210.51 Q94.3484 1208.4 90.3438 1208.4 Q88.4688 1208.4 86.5938 1208.82 Q84.7419 1209.23 82.7975 1210.11 L82.7975 1192.75 Z\" fill=\"#000000\" fill-rule=\"nonzero\" fill-opacity=\"1\" /><path clip-path=\"url(#clip200)\" d=\"M122.913 1195.83 Q119.302 1195.83 117.473 1199.4 Q115.668 1202.94 115.668 1210.07 Q115.668 1217.17 117.473 1220.74 Q119.302 1224.28 122.913 1224.28 Q126.547 1224.28 128.353 1220.74 Q130.182 1217.17 130.182 1210.07 Q130.182 1202.94 128.353 1199.4 Q126.547 1195.83 122.913 1195.83 M122.913 1192.13 Q128.723 1192.13 131.779 1196.73 Q134.857 1201.32 134.857 1210.07 Q134.857 1218.79 131.779 1223.4 Q128.723 1227.98 122.913 1227.98 Q117.103 1227.98 114.024 1223.4 Q110.969 1218.79 110.969 1210.07 Q110.969 1201.32 114.024 1196.73 Q117.103 1192.13 122.913 1192.13 Z\" fill=\"#000000\" fill-rule=\"nonzero\" fill-opacity=\"1\" /><path clip-path=\"url(#clip200)\" d=\"M53.3995 967.2 L61.0384 967.2 L61.0384 940.835 L52.7282 942.501 L52.7282 938.242 L60.9921 936.575 L65.668 936.575 L65.668 967.2 L73.3068 967.2 L73.3068 971.135 L53.3995 971.135 L53.3995 967.2 Z\" fill=\"#000000\" fill-rule=\"nonzero\" fill-opacity=\"1\" /><path clip-path=\"url(#clip200)\" d=\"M92.7512 939.654 Q89.1401 939.654 87.3114 943.219 Q85.5058 946.761 85.5058 953.89 Q85.5058 960.997 87.3114 964.561 Q89.1401 968.103 92.7512 968.103 Q96.3854 968.103 98.1909 964.561 Q100.02 960.997 100.02 953.89 Q100.02 946.761 98.1909 943.219 Q96.3854 939.654 92.7512 939.654 M92.7512 935.95 Q98.5613 935.95 101.617 940.557 Q104.696 945.14 104.696 953.89 Q104.696 962.617 101.617 967.223 Q98.5613 971.807 92.7512 971.807 Q86.941 971.807 83.8623 967.223 Q80.8068 962.617 80.8068 953.89 Q80.8068 945.14 83.8623 940.557 Q86.941 935.95 92.7512 935.95 Z\" fill=\"#000000\" fill-rule=\"nonzero\" fill-opacity=\"1\" /><path clip-path=\"url(#clip200)\" d=\"M122.913 939.654 Q119.302 939.654 117.473 943.219 Q115.668 946.761 115.668 953.89 Q115.668 960.997 117.473 964.561 Q119.302 968.103 122.913 968.103 Q126.547 968.103 128.353 964.561 Q130.182 960.997 130.182 953.89 Q130.182 946.761 128.353 943.219 Q126.547 939.654 122.913 939.654 M122.913 935.95 Q128.723 935.95 131.779 940.557 Q134.857 945.14 134.857 953.89 Q134.857 962.617 131.779 967.223 Q128.723 971.807 122.913 971.807 Q117.103 971.807 114.024 967.223 Q110.969 962.617 110.969 953.89 Q110.969 945.14 114.024 940.557 Q117.103 935.95 122.913 935.95 Z\" fill=\"#000000\" fill-rule=\"nonzero\" fill-opacity=\"1\" /><path clip-path=\"url(#clip200)\" d=\"M53.3995 711.023 L61.0384 711.023 L61.0384 684.657 L52.7282 686.324 L52.7282 682.065 L60.9921 680.398 L65.668 680.398 L65.668 711.023 L73.3068 711.023 L73.3068 714.958 L53.3995 714.958 L53.3995 711.023 Z\" fill=\"#000000\" fill-rule=\"nonzero\" fill-opacity=\"1\" /><path clip-path=\"url(#clip200)\" d=\"M82.7975 680.398 L101.154 680.398 L101.154 684.333 L87.0799 684.333 L87.0799 692.805 Q88.0984 692.458 89.1169 692.296 Q90.1354 692.111 91.1539 692.111 Q96.941 692.111 100.321 695.282 Q103.7 698.454 103.7 703.87 Q103.7 709.449 100.228 712.551 Q96.7558 715.629 90.4364 715.629 Q88.2604 715.629 85.9919 715.259 Q83.7466 714.889 81.3392 714.148 L81.3392 709.449 Q83.4225 710.583 85.6447 711.139 Q87.8669 711.694 90.3438 711.694 Q94.3484 711.694 96.6863 709.588 Q99.0243 707.481 99.0243 703.87 Q99.0243 700.259 96.6863 698.153 Q94.3484 696.046 90.3438 696.046 Q88.4688 696.046 86.5938 696.463 Q84.7419 696.88 82.7975 697.759 L82.7975 680.398 Z\" fill=\"#000000\" fill-rule=\"nonzero\" fill-opacity=\"1\" /><path clip-path=\"url(#clip200)\" d=\"M122.913 683.477 Q119.302 683.477 117.473 687.042 Q115.668 690.583 115.668 697.713 Q115.668 704.819 117.473 708.384 Q119.302 711.926 122.913 711.926 Q126.547 711.926 128.353 708.384 Q130.182 704.819 130.182 697.713 Q130.182 690.583 128.353 687.042 Q126.547 683.477 122.913 683.477 M122.913 679.773 Q128.723 679.773 131.779 684.38 Q134.857 688.963 134.857 697.713 Q134.857 706.44 131.779 711.046 Q128.723 715.629 122.913 715.629 Q117.103 715.629 114.024 711.046 Q110.969 706.44 110.969 697.713 Q110.969 688.963 114.024 684.38 Q117.103 679.773 122.913 679.773 Z\" fill=\"#000000\" fill-rule=\"nonzero\" fill-opacity=\"1\" /><path clip-path=\"url(#clip200)\" d=\"M56.6171 454.846 L72.9365 454.846 L72.9365 458.781 L50.9921 458.781 L50.9921 454.846 Q53.6541 452.091 58.2375 447.461 Q62.8439 442.809 64.0245 441.466 Q66.2698 438.943 67.1494 437.207 Q68.0522 435.448 68.0522 433.758 Q68.0522 431.003 66.1078 429.267 Q64.1865 427.531 61.0847 427.531 Q58.8856 427.531 56.4319 428.295 Q54.0014 429.059 51.2236 430.61 L51.2236 425.888 Q54.0477 424.753 56.5014 424.175 Q58.955 423.596 60.9921 423.596 Q66.3624 423.596 69.5568 426.281 Q72.7513 428.966 72.7513 433.457 Q72.7513 435.587 71.9411 437.508 Q71.1541 439.406 69.0476 441.999 Q68.4689 442.67 65.367 445.887 Q62.2652 449.082 56.6171 454.846 Z\" fill=\"#000000\" fill-rule=\"nonzero\" fill-opacity=\"1\" /><path clip-path=\"url(#clip200)\" d=\"M92.7512 427.3 Q89.1401 427.3 87.3114 430.864 Q85.5058 434.406 85.5058 441.536 Q85.5058 448.642 87.3114 452.207 Q89.1401 455.748 92.7512 455.748 Q96.3854 455.748 98.1909 452.207 Q100.02 448.642 100.02 441.536 Q100.02 434.406 98.1909 430.864 Q96.3854 427.3 92.7512 427.3 M92.7512 423.596 Q98.5613 423.596 101.617 428.202 Q104.696 432.786 104.696 441.536 Q104.696 450.262 101.617 454.869 Q98.5613 459.452 92.7512 459.452 Q86.941 459.452 83.8623 454.869 Q80.8068 450.262 80.8068 441.536 Q80.8068 432.786 83.8623 428.202 Q86.941 423.596 92.7512 423.596 Z\" fill=\"#000000\" fill-rule=\"nonzero\" fill-opacity=\"1\" /><path clip-path=\"url(#clip200)\" d=\"M122.913 427.3 Q119.302 427.3 117.473 430.864 Q115.668 434.406 115.668 441.536 Q115.668 448.642 117.473 452.207 Q119.302 455.748 122.913 455.748 Q126.547 455.748 128.353 452.207 Q130.182 448.642 130.182 441.536 Q130.182 434.406 128.353 430.864 Q126.547 427.3 122.913 427.3 M122.913 423.596 Q128.723 423.596 131.779 428.202 Q134.857 432.786 134.857 441.536 Q134.857 450.262 131.779 454.869 Q128.723 459.452 122.913 459.452 Q117.103 459.452 114.024 454.869 Q110.969 450.262 110.969 441.536 Q110.969 432.786 114.024 428.202 Q117.103 423.596 122.913 423.596 Z\" fill=\"#000000\" fill-rule=\"nonzero\" fill-opacity=\"1\" /><path clip-path=\"url(#clip200)\" d=\"M56.6171 198.668 L72.9365 198.668 L72.9365 202.604 L50.9921 202.604 L50.9921 198.668 Q53.6541 195.914 58.2375 191.284 Q62.8439 186.631 64.0245 185.289 Q66.2698 182.766 67.1494 181.03 Q68.0522 179.27 68.0522 177.581 Q68.0522 174.826 66.1078 173.09 Q64.1865 171.354 61.0847 171.354 Q58.8856 171.354 56.4319 172.118 Q54.0014 172.882 51.2236 174.432 L51.2236 169.71 Q54.0477 168.576 56.5014 167.997 Q58.955 167.419 60.9921 167.419 Q66.3624 167.419 69.5568 170.104 Q72.7513 172.789 72.7513 177.28 Q72.7513 179.409 71.9411 181.331 Q71.1541 183.229 69.0476 185.821 Q68.4689 186.493 65.367 189.71 Q62.2652 192.905 56.6171 198.668 Z\" fill=\"#000000\" fill-rule=\"nonzero\" fill-opacity=\"1\" /><path clip-path=\"url(#clip200)\" d=\"M82.7975 168.044 L101.154 168.044 L101.154 171.979 L87.0799 171.979 L87.0799 180.451 Q88.0984 180.104 89.1169 179.942 Q90.1354 179.757 91.1539 179.757 Q96.941 179.757 100.321 182.928 Q103.7 186.099 103.7 191.516 Q103.7 197.094 100.228 200.196 Q96.7558 203.275 90.4364 203.275 Q88.2604 203.275 85.9919 202.905 Q83.7466 202.534 81.3392 201.793 L81.3392 197.094 Q83.4225 198.229 85.6447 198.784 Q87.8669 199.34 90.3438 199.34 Q94.3484 199.34 96.6863 197.233 Q99.0243 195.127 99.0243 191.516 Q99.0243 187.905 96.6863 185.798 Q94.3484 183.692 90.3438 183.692 Q88.4688 183.692 86.5938 184.108 Q84.7419 184.525 82.7975 185.405 L82.7975 168.044 Z\" fill=\"#000000\" fill-rule=\"nonzero\" fill-opacity=\"1\" /><path clip-path=\"url(#clip200)\" d=\"M122.913 171.122 Q119.302 171.122 117.473 174.687 Q115.668 178.229 115.668 185.358 Q115.668 192.465 117.473 196.03 Q119.302 199.571 122.913 199.571 Q126.547 199.571 128.353 196.03 Q130.182 192.465 130.182 185.358 Q130.182 178.229 128.353 174.687 Q126.547 171.122 122.913 171.122 M122.913 167.419 Q128.723 167.419 131.779 172.025 Q134.857 176.608 134.857 185.358 Q134.857 194.085 131.779 198.692 Q128.723 203.275 122.913 203.275 Q117.103 203.275 114.024 198.692 Q110.969 194.085 110.969 185.358 Q110.969 176.608 114.024 172.025 Q117.103 167.419 122.913 167.419 Z\" fill=\"#000000\" fill-rule=\"nonzero\" fill-opacity=\"1\" /><polyline clip-path=\"url(#clip202)\" style=\"stroke:#009af9; stroke-linecap:round; stroke-linejoin:round; stroke-width:4; stroke-opacity:1; fill:none\" points=\"232.609,1184.41 260.055,677.184 287.5,364.648 314.945,477.366 342.39,487.613 369.836,856.508 397.281,964.102 424.726,1235.65 452.171,1363.74 479.617,1430.35 507.062,1189.54 534.507,436.377 561.952,87.9763 589.398,123.841 616.843,313.412 644.288,651.566 671.733,1076.82 699.179,1194.66 726.624,1261.27 754.069,1389.36 781.515,1353.49 808.96,1122.93 836.405,784.778 863.85,697.678 891.296,702.802 918.741,707.925 946.186,984.597 973.631,964.102 1001.08,1189.54 1028.52,1215.16 1055.97,1353.49 1083.41,1373.99 1110.86,1266.39 1138.3,795.025 1165.75,339.03 1193.19,344.154 1220.64,446.624 1248.08,636.196 1275.53,999.967 1302.97,1158.8 1330.42,1358.62 1357.87,1389.36 1385.31,1292.01 1412.76,836.014 1440.2,385.142 1467.65,482.489 1495.09,426.13 1522.54,784.778 1549.98,1076.82 1577.43,1235.65 1604.87,1338.12 1632.32,1404.73 1659.76,1317.63 1687.21,1015.34 1714.65,769.408 1742.1,574.713 1769.54,595.207 1796.99,625.948 1824.43,958.979 1851.88,1133.18 1879.33,1230.53 1906.77,1338.12 1934.22,1399.6 1961.66,1445.72 1989.11,1440.59 2016.55,1338.12 2044,1051.2 2071.44,1035.83 2098.89,984.597 2126.33,887.249 2153.78,1107.56 2181.22,1261.27 2208.67,1353.49 2236.11,1430.35 2263.56,1445.72 2291,1420.1 \"/>\n",
       "<path clip-path=\"url(#clip200)\" d=\"M2009.41 198.898 L2280.03 198.898 L2280.03 95.2176 L2009.41 95.2176  Z\" fill=\"#ffffff\" fill-rule=\"evenodd\" fill-opacity=\"1\"/>\n",
       "<polyline clip-path=\"url(#clip200)\" style=\"stroke:#000000; stroke-linecap:round; stroke-linejoin:round; stroke-width:4; stroke-opacity:1; fill:none\" points=\"2009.41,198.898 2280.03,198.898 2280.03,95.2176 2009.41,95.2176 2009.41,198.898 \"/>\n",
       "<polyline clip-path=\"url(#clip200)\" style=\"stroke:#009af9; stroke-linecap:round; stroke-linejoin:round; stroke-width:4; stroke-opacity:1; fill:none\" points=\"2033.65,147.058 2179.11,147.058 \"/>\n",
       "<path clip-path=\"url(#clip200)\" d=\"M2217.19 166.745 Q2215.39 171.375 2213.68 172.787 Q2211.96 174.199 2209.09 174.199 L2205.69 174.199 L2205.69 170.634 L2208.19 170.634 Q2209.95 170.634 2210.92 169.8 Q2211.89 168.967 2213.07 165.865 L2213.84 163.921 L2203.35 138.412 L2207.87 138.412 L2215.97 158.689 L2224.07 138.412 L2228.58 138.412 L2217.19 166.745 Z\" fill=\"#000000\" fill-rule=\"nonzero\" fill-opacity=\"1\" /><path clip-path=\"url(#clip200)\" d=\"M2235.88 160.402 L2243.51 160.402 L2243.51 134.037 L2235.2 135.703 L2235.2 131.444 L2243.47 129.778 L2248.14 129.778 L2248.14 160.402 L2255.78 160.402 L2255.78 164.338 L2235.88 164.338 L2235.88 160.402 Z\" fill=\"#000000\" fill-rule=\"nonzero\" fill-opacity=\"1\" /></svg>\n"
      ]
     },
     "execution_count": 3,
     "metadata": {},
     "output_type": "execute_result"
    }
   ],
   "source": [
    "sunspot = readdlm(\"data/SN_y_tot_V2.0.csv\", ';')\n",
    "select_1945_2020 = filter((s) -> s[1] > 1945 && s[1] < 2021, collect(eachrow(sunspot)))\n",
    "observations = map((s) -> round(s[2]), select_1945_2020)\n",
    "@assert semih_observations == observations\n",
    "plot(observations)\n"
   ]
  },
  {
   "cell_type": "code",
   "execution_count": 25,
   "metadata": {},
   "outputs": [],
   "source": [
    "@meta function sunspot_meta(rng, nr_samples, nr_iterations, optimizer)\n",
    "    identity() -> CVI(rng, nr_samples, nr_iterations, optimizer, ForwardDiffGrad(), 100, Val(true), true)\n",
    "end;\n",
    "\n",
    "@model function sunspot_model(nr_observations)\n",
    "\n",
    "    γ ~ GammaShapeRate(1000.0, 2)\n",
    "    z = randomvar(nr_observations)\n",
    "    y = datavar(Float64, nr_observations)\n",
    "    \n",
    "    # specify estimate of initial location\n",
    "    z[1] ~ GammaShapeRate(1, γ)\n",
    "    y[1] ~ Poisson(z[1])\n",
    "    for t in 2:nr_observations\n",
    "        # specify state transition model\n",
    "        z[t] ~ GammaShapeRate(identity(z[t-1]), γ)\n",
    "        y[t] ~ Poisson(z[t])\n",
    "    end\n",
    "end\n",
    "\n",
    "@meta function sunspot_meta(rng, nr_samples, nr_iterations, optimizer)\n",
    "    identity() -> CVI(rng, nr_samples, nr_iterations, optimizer, ForwardDiffGrad(), 100, Val(true), false)\n",
    "end;\n",
    "\n",
    "@constraints function sunspot_constraints()\n",
    "    q(γ, z) = q(γ)q(z)\n",
    "    q(z) = q(z[begin])..q(z[end])\n",
    "end;\n",
    "\n",
    "@rule GammaShapeRate(:β, Marginalisation) (q_out::Gamma, q_α::SampleList, ) = begin \n",
    "    return GammaShapeRate(mean(q_α)+1, mean(q_out))\n",
    "end"
   ]
  },
  {
   "cell_type": "code",
   "execution_count": 43,
   "metadata": {},
   "outputs": [],
   "source": [
    "@average_energy GammaShapeRate (q_out::Any, q_α::SampleList, q_β::Any) = begin\n",
    "    q_α_mean = mean(q_α)\n",
    "    q_α_var = var(q_α)\n",
    "    q_α_second_monement = q_α_var + q_α_mean^2\n",
    "    q_α_matched = GammaShapeRate(q_α_second_monement/q_α_var, q_α_mean/q_α_var)\n",
    "    mean(loggamma, q_α_matched) - mean(q_α) * mean(log, q_β) - (mean(q_α_matched) - 1.0) * mean(log, q_out) + mean(q_β) * mean(q_out)\n",
    "end"
   ]
  },
  {
   "cell_type": "code",
   "execution_count": 44,
   "metadata": {},
   "outputs": [
    {
     "name": "stdout",
     "output_type": "stream",
     "text": [
      "  0.369833 seconds (5.92 M allocations: 222.237 MiB, 22.29% gc time, 14.15% compilation time: 92% of which was recompilation)\n"
     ]
    },
    {
     "data": {
      "text/plain": [
       "Inference results:\n",
       "  Posteriors       | available for (γ, z)\n",
       "  Free Energy:     | Real[15262.9, 7768.82, 6351.27, 6267.96, 6263.73, 6264.68, 6263.94, 6262.75, 6263.56, 6263.23]\n"
      ]
     },
     "execution_count": 44,
     "metadata": {},
     "output_type": "execute_result"
    }
   ],
   "source": [
    "# z_init = map(r -> NormalMeanPrecision(r, 10), 1:50)\n",
    "nr_observations = length(observations)\n",
    "@time results = inference(\n",
    "    model = sunspot_model(nr_observations),\n",
    "    data = (y = observations,),\n",
    "    iterations = 10,\n",
    "    free_energy = true,\n",
    "    constraints = sunspot_constraints(),\n",
    "    meta = sunspot_meta(StableRNG(42), 1000, 10, Flux.Descent(0.001)),\n",
    "    initmarginals = (γ=Gamma(10.0, 1), z=Gamma(10.0, 1))\n",
    ")"
   ]
  },
  {
   "cell_type": "code",
   "execution_count": 13,
   "metadata": {},
   "outputs": [
    {
     "data": {
      "text/plain": [
       "(1.1588762239125256, 0.00018591400579576157)"
      ]
     },
     "execution_count": 13,
     "metadata": {},
     "output_type": "execute_result"
    }
   ],
   "source": [
    "mean_var(results.posteriors[:γ][end])"
   ]
  },
  {
   "cell_type": "code",
   "execution_count": 33,
   "metadata": {},
   "outputs": [
    {
     "data": {
      "text/plain": [
       "BenchmarkTools.Trial: 22 samples with 1 evaluation.\n",
       " Range \u001b[90m(\u001b[39m\u001b[36m\u001b[1mmin\u001b[22m\u001b[39m … \u001b[35mmax\u001b[39m\u001b[90m):  \u001b[39m\u001b[36m\u001b[1m221.787 ms\u001b[22m\u001b[39m … \u001b[35m245.663 ms\u001b[39m  \u001b[90m┊\u001b[39m GC \u001b[90m(\u001b[39mmin … max\u001b[90m): \u001b[39m5.48% … 10.65%\n",
       " Time  \u001b[90m(\u001b[39m\u001b[34m\u001b[1mmedian\u001b[22m\u001b[39m\u001b[90m):     \u001b[39m\u001b[34m\u001b[1m225.717 ms               \u001b[22m\u001b[39m\u001b[90m┊\u001b[39m GC \u001b[90m(\u001b[39mmedian\u001b[90m):    \u001b[39m5.71%\n",
       " Time  \u001b[90m(\u001b[39m\u001b[32m\u001b[1mmean\u001b[22m\u001b[39m ± \u001b[32mσ\u001b[39m\u001b[90m):   \u001b[39m\u001b[32m\u001b[1m228.352 ms\u001b[22m\u001b[39m ± \u001b[32m  5.891 ms\u001b[39m  \u001b[90m┊\u001b[39m GC \u001b[90m(\u001b[39mmean ± σ\u001b[90m):  \u001b[39m6.37% ±  1.71%\n",
       "\n",
       "  \u001b[39m \u001b[39m \u001b[39m \u001b[39m \u001b[39m▁\u001b[39m \u001b[39m▄\u001b[39m \u001b[39m█\u001b[39m \u001b[34m \u001b[39m\u001b[39m \u001b[39m \u001b[39m \u001b[39m▁\u001b[39m \u001b[39m \u001b[32m \u001b[39m\u001b[39m \u001b[39m \u001b[39m \u001b[39m \u001b[39m \u001b[39m \u001b[39m \u001b[39m \u001b[39m \u001b[39m \u001b[39m \u001b[39m \u001b[39m \u001b[39m \u001b[39m \u001b[39m \u001b[39m \u001b[39m \u001b[39m \u001b[39m \u001b[39m \u001b[39m▁\u001b[39m \u001b[39m \u001b[39m \u001b[39m \u001b[39m \u001b[39m \u001b[39m \u001b[39m \u001b[39m \u001b[39m \u001b[39m \u001b[39m \u001b[39m \u001b[39m \u001b[39m \u001b[39m \u001b[39m \u001b[39m \u001b[39m \u001b[39m \u001b[39m \u001b[39m \u001b[39m \n",
       "  \u001b[39m▆\u001b[39m▁\u001b[39m▁\u001b[39m▁\u001b[39m█\u001b[39m▁\u001b[39m█\u001b[39m▁\u001b[39m█\u001b[39m▆\u001b[34m▆\u001b[39m\u001b[39m▁\u001b[39m▁\u001b[39m▁\u001b[39m█\u001b[39m▁\u001b[39m▆\u001b[32m▆\u001b[39m\u001b[39m▁\u001b[39m▁\u001b[39m▁\u001b[39m▆\u001b[39m▁\u001b[39m▆\u001b[39m▁\u001b[39m▁\u001b[39m▁\u001b[39m▁\u001b[39m▁\u001b[39m▁\u001b[39m▁\u001b[39m▁\u001b[39m▁\u001b[39m▁\u001b[39m▁\u001b[39m▁\u001b[39m▁\u001b[39m▆\u001b[39m▁\u001b[39m█\u001b[39m▁\u001b[39m▁\u001b[39m▁\u001b[39m▁\u001b[39m▁\u001b[39m▁\u001b[39m▁\u001b[39m▁\u001b[39m▁\u001b[39m▁\u001b[39m▁\u001b[39m▁\u001b[39m▁\u001b[39m▁\u001b[39m▁\u001b[39m▁\u001b[39m▁\u001b[39m▁\u001b[39m▁\u001b[39m▁\u001b[39m▆\u001b[39m \u001b[39m▁\n",
       "  222 ms\u001b[90m           Histogram: frequency by time\u001b[39m          246 ms \u001b[0m\u001b[1m<\u001b[22m\n",
       "\n",
       " Memory estimate\u001b[90m: \u001b[39m\u001b[33m212.82 MiB\u001b[39m, allocs estimate\u001b[90m: \u001b[39m\u001b[33m5736444\u001b[39m."
      ]
     },
     "execution_count": 33,
     "metadata": {},
     "output_type": "execute_result"
    }
   ],
   "source": [
    "@benchmark inference(\n",
    "    model = sunspot_model(nr_observations),\n",
    "    data = (y = observations,),\n",
    "    iterations = 10,\n",
    "    free_energy = true,\n",
    "    constraints = sunspot_constraints(),\n",
    "    meta = sunspot_meta(StableRNG(42), 1000, 10, Flux.Descent(0.001)),\n",
    "    initmarginals = (γ=Gamma(10.0, 1), z=Gamma(10.0, 1))\n",
    ")"
   ]
  },
  {
   "cell_type": "code",
   "execution_count": 40,
   "metadata": {},
   "outputs": [
    {
     "data": {
      "image/svg+xml": [
       "<?xml version=\"1.0\" encoding=\"utf-8\"?>\n",
       "<svg xmlns=\"http://www.w3.org/2000/svg\" xmlns:xlink=\"http://www.w3.org/1999/xlink\" width=\"600\" height=\"400\" viewBox=\"0 0 2400 1600\">\n",
       "<defs>\n",
       "  <clipPath id=\"clip640\">\n",
       "    <rect x=\"0\" y=\"0\" width=\"2400\" height=\"1600\"/>\n",
       "  </clipPath>\n",
       "</defs>\n",
       "<path clip-path=\"url(#clip640)\" d=\"M0 1600 L2400 1600 L2400 0 L0 0  Z\" fill=\"#ffffff\" fill-rule=\"evenodd\" fill-opacity=\"1\"/>\n",
       "<defs>\n",
       "  <clipPath id=\"clip641\">\n",
       "    <rect x=\"480\" y=\"0\" width=\"1681\" height=\"1600\"/>\n",
       "  </clipPath>\n",
       "</defs>\n",
       "<path clip-path=\"url(#clip640)\" d=\"M170.857 1486.45 L2352.76 1486.45 L2352.76 47.2441 L170.857 47.2441  Z\" fill=\"#ffffff\" fill-rule=\"evenodd\" fill-opacity=\"1\"/>\n",
       "<defs>\n",
       "  <clipPath id=\"clip642\">\n",
       "    <rect x=\"170\" y=\"47\" width=\"2183\" height=\"1440\"/>\n",
       "  </clipPath>\n",
       "</defs>\n",
       "<polyline clip-path=\"url(#clip642)\" style=\"stroke:#000000; stroke-linecap:round; stroke-linejoin:round; stroke-width:2; stroke-opacity:0.1; fill:none\" points=\"205.164,1486.45 205.164,47.2441 \"/>\n",
       "<polyline clip-path=\"url(#clip642)\" style=\"stroke:#000000; stroke-linecap:round; stroke-linejoin:round; stroke-width:2; stroke-opacity:0.1; fill:none\" points=\"754.069,1486.45 754.069,47.2441 \"/>\n",
       "<polyline clip-path=\"url(#clip642)\" style=\"stroke:#000000; stroke-linecap:round; stroke-linejoin:round; stroke-width:2; stroke-opacity:0.1; fill:none\" points=\"1302.97,1486.45 1302.97,47.2441 \"/>\n",
       "<polyline clip-path=\"url(#clip642)\" style=\"stroke:#000000; stroke-linecap:round; stroke-linejoin:round; stroke-width:2; stroke-opacity:0.1; fill:none\" points=\"1851.88,1486.45 1851.88,47.2441 \"/>\n",
       "<polyline clip-path=\"url(#clip640)\" style=\"stroke:#000000; stroke-linecap:round; stroke-linejoin:round; stroke-width:4; stroke-opacity:1; fill:none\" points=\"170.857,1486.45 2352.76,1486.45 \"/>\n",
       "<polyline clip-path=\"url(#clip640)\" style=\"stroke:#000000; stroke-linecap:round; stroke-linejoin:round; stroke-width:4; stroke-opacity:1; fill:none\" points=\"205.164,1486.45 205.164,1467.55 \"/>\n",
       "<polyline clip-path=\"url(#clip640)\" style=\"stroke:#000000; stroke-linecap:round; stroke-linejoin:round; stroke-width:4; stroke-opacity:1; fill:none\" points=\"754.069,1486.45 754.069,1467.55 \"/>\n",
       "<polyline clip-path=\"url(#clip640)\" style=\"stroke:#000000; stroke-linecap:round; stroke-linejoin:round; stroke-width:4; stroke-opacity:1; fill:none\" points=\"1302.97,1486.45 1302.97,1467.55 \"/>\n",
       "<polyline clip-path=\"url(#clip640)\" style=\"stroke:#000000; stroke-linecap:round; stroke-linejoin:round; stroke-width:4; stroke-opacity:1; fill:none\" points=\"1851.88,1486.45 1851.88,1467.55 \"/>\n",
       "<path clip-path=\"url(#clip640)\" d=\"M205.164 1517.37 Q201.553 1517.37 199.724 1520.93 Q197.919 1524.47 197.919 1531.6 Q197.919 1538.71 199.724 1542.27 Q201.553 1545.82 205.164 1545.82 Q208.798 1545.82 210.604 1542.27 Q212.432 1538.71 212.432 1531.6 Q212.432 1524.47 210.604 1520.93 Q208.798 1517.37 205.164 1517.37 M205.164 1513.66 Q210.974 1513.66 214.03 1518.27 Q217.108 1522.85 217.108 1531.6 Q217.108 1540.33 214.03 1544.94 Q210.974 1549.52 205.164 1549.52 Q199.354 1549.52 196.275 1544.94 Q193.22 1540.33 193.22 1531.6 Q193.22 1522.85 196.275 1518.27 Q199.354 1513.66 205.164 1513.66 Z\" fill=\"#000000\" fill-rule=\"nonzero\" fill-opacity=\"1\" /><path clip-path=\"url(#clip640)\" d=\"M732.843 1544.91 L749.162 1544.91 L749.162 1548.85 L727.218 1548.85 L727.218 1544.91 Q729.88 1542.16 734.463 1537.53 Q739.069 1532.88 740.25 1531.53 Q742.495 1529.01 743.375 1527.27 Q744.278 1525.51 744.278 1523.82 Q744.278 1521.07 742.333 1519.33 Q740.412 1517.6 737.31 1517.6 Q735.111 1517.6 732.657 1518.36 Q730.227 1519.13 727.449 1520.68 L727.449 1515.95 Q730.273 1514.82 732.727 1514.24 Q735.18 1513.66 737.218 1513.66 Q742.588 1513.66 745.782 1516.35 Q748.977 1519.03 748.977 1523.52 Q748.977 1525.65 748.167 1527.57 Q747.379 1529.47 745.273 1532.07 Q744.694 1532.74 741.592 1535.95 Q738.491 1539.15 732.843 1544.91 Z\" fill=\"#000000\" fill-rule=\"nonzero\" fill-opacity=\"1\" /><path clip-path=\"url(#clip640)\" d=\"M768.977 1517.37 Q765.366 1517.37 763.537 1520.93 Q761.731 1524.47 761.731 1531.6 Q761.731 1538.71 763.537 1542.27 Q765.366 1545.82 768.977 1545.82 Q772.611 1545.82 774.416 1542.27 Q776.245 1538.71 776.245 1531.6 Q776.245 1524.47 774.416 1520.93 Q772.611 1517.37 768.977 1517.37 M768.977 1513.66 Q774.787 1513.66 777.842 1518.27 Q780.921 1522.85 780.921 1531.6 Q780.921 1540.33 777.842 1544.94 Q774.787 1549.52 768.977 1549.52 Q763.166 1549.52 760.088 1544.94 Q757.032 1540.33 757.032 1531.6 Q757.032 1522.85 760.088 1518.27 Q763.166 1513.66 768.977 1513.66 Z\" fill=\"#000000\" fill-rule=\"nonzero\" fill-opacity=\"1\" /><path clip-path=\"url(#clip640)\" d=\"M1291.15 1518.36 L1279.34 1536.81 L1291.15 1536.81 L1291.15 1518.36 M1289.92 1514.29 L1295.8 1514.29 L1295.8 1536.81 L1300.73 1536.81 L1300.73 1540.7 L1295.8 1540.7 L1295.8 1548.85 L1291.15 1548.85 L1291.15 1540.7 L1275.54 1540.7 L1275.54 1536.19 L1289.92 1514.29 Z\" fill=\"#000000\" fill-rule=\"nonzero\" fill-opacity=\"1\" /><path clip-path=\"url(#clip640)\" d=\"M1318.46 1517.37 Q1314.85 1517.37 1313.02 1520.93 Q1311.22 1524.47 1311.22 1531.6 Q1311.22 1538.71 1313.02 1542.27 Q1314.85 1545.82 1318.46 1545.82 Q1322.09 1545.82 1323.9 1542.27 Q1325.73 1538.71 1325.73 1531.6 Q1325.73 1524.47 1323.9 1520.93 Q1322.09 1517.37 1318.46 1517.37 M1318.46 1513.66 Q1324.27 1513.66 1327.33 1518.27 Q1330.4 1522.85 1330.4 1531.6 Q1330.4 1540.33 1327.33 1544.94 Q1324.27 1549.52 1318.46 1549.52 Q1312.65 1549.52 1309.57 1544.94 Q1306.52 1540.33 1306.52 1531.6 Q1306.52 1522.85 1309.57 1518.27 Q1312.65 1513.66 1318.46 1513.66 Z\" fill=\"#000000\" fill-rule=\"nonzero\" fill-opacity=\"1\" /><path clip-path=\"url(#clip640)\" d=\"M1837.29 1529.7 Q1834.14 1529.7 1832.29 1531.86 Q1830.46 1534.01 1830.46 1537.76 Q1830.46 1541.49 1832.29 1543.66 Q1834.14 1545.82 1837.29 1545.82 Q1840.43 1545.82 1842.26 1543.66 Q1844.11 1541.49 1844.11 1537.76 Q1844.11 1534.01 1842.26 1531.86 Q1840.43 1529.7 1837.29 1529.7 M1846.57 1515.05 L1846.57 1519.31 Q1844.81 1518.48 1843 1518.04 Q1841.22 1517.6 1839.46 1517.6 Q1834.83 1517.6 1832.38 1520.72 Q1829.95 1523.85 1829.6 1530.17 Q1830.97 1528.15 1833.03 1527.09 Q1835.09 1526 1837.56 1526 Q1842.77 1526 1845.78 1529.17 Q1848.81 1532.32 1848.81 1537.76 Q1848.81 1543.08 1845.66 1546.3 Q1842.52 1549.52 1837.29 1549.52 Q1831.29 1549.52 1828.12 1544.94 Q1824.95 1540.33 1824.95 1531.6 Q1824.95 1523.41 1828.84 1518.55 Q1832.72 1513.66 1839.28 1513.66 Q1841.03 1513.66 1842.82 1514.01 Q1844.62 1514.36 1846.57 1515.05 Z\" fill=\"#000000\" fill-rule=\"nonzero\" fill-opacity=\"1\" /><path clip-path=\"url(#clip640)\" d=\"M1866.87 1517.37 Q1863.26 1517.37 1861.43 1520.93 Q1859.62 1524.47 1859.62 1531.6 Q1859.62 1538.71 1861.43 1542.27 Q1863.26 1545.82 1866.87 1545.82 Q1870.5 1545.82 1872.31 1542.27 Q1874.14 1538.71 1874.14 1531.6 Q1874.14 1524.47 1872.31 1520.93 Q1870.5 1517.37 1866.87 1517.37 M1866.87 1513.66 Q1872.68 1513.66 1875.73 1518.27 Q1878.81 1522.85 1878.81 1531.6 Q1878.81 1540.33 1875.73 1544.94 Q1872.68 1549.52 1866.87 1549.52 Q1861.06 1549.52 1857.98 1544.94 Q1854.92 1540.33 1854.92 1531.6 Q1854.92 1522.85 1857.98 1518.27 Q1861.06 1513.66 1866.87 1513.66 Z\" fill=\"#000000\" fill-rule=\"nonzero\" fill-opacity=\"1\" /><polyline clip-path=\"url(#clip642)\" style=\"stroke:#000000; stroke-linecap:round; stroke-linejoin:round; stroke-width:2; stroke-opacity:0.1; fill:none\" points=\"170.857,1464.53 2352.76,1464.53 \"/>\n",
       "<polyline clip-path=\"url(#clip642)\" style=\"stroke:#000000; stroke-linecap:round; stroke-linejoin:round; stroke-width:2; stroke-opacity:0.1; fill:none\" points=\"170.857,994.106 2352.76,994.106 \"/>\n",
       "<polyline clip-path=\"url(#clip642)\" style=\"stroke:#000000; stroke-linecap:round; stroke-linejoin:round; stroke-width:2; stroke-opacity:0.1; fill:none\" points=\"170.857,523.679 2352.76,523.679 \"/>\n",
       "<polyline clip-path=\"url(#clip642)\" style=\"stroke:#000000; stroke-linecap:round; stroke-linejoin:round; stroke-width:2; stroke-opacity:0.1; fill:none\" points=\"170.857,53.2517 2352.76,53.2517 \"/>\n",
       "<polyline clip-path=\"url(#clip640)\" style=\"stroke:#000000; stroke-linecap:round; stroke-linejoin:round; stroke-width:4; stroke-opacity:1; fill:none\" points=\"170.857,1486.45 170.857,47.2441 \"/>\n",
       "<polyline clip-path=\"url(#clip640)\" style=\"stroke:#000000; stroke-linecap:round; stroke-linejoin:round; stroke-width:4; stroke-opacity:1; fill:none\" points=\"170.857,1464.53 189.755,1464.53 \"/>\n",
       "<polyline clip-path=\"url(#clip640)\" style=\"stroke:#000000; stroke-linecap:round; stroke-linejoin:round; stroke-width:4; stroke-opacity:1; fill:none\" points=\"170.857,994.106 189.755,994.106 \"/>\n",
       "<polyline clip-path=\"url(#clip640)\" style=\"stroke:#000000; stroke-linecap:round; stroke-linejoin:round; stroke-width:4; stroke-opacity:1; fill:none\" points=\"170.857,523.679 189.755,523.679 \"/>\n",
       "<polyline clip-path=\"url(#clip640)\" style=\"stroke:#000000; stroke-linecap:round; stroke-linejoin:round; stroke-width:4; stroke-opacity:1; fill:none\" points=\"170.857,53.2517 189.755,53.2517 \"/>\n",
       "<path clip-path=\"url(#clip640)\" d=\"M122.913 1450.33 Q119.302 1450.33 117.473 1453.9 Q115.668 1457.44 115.668 1464.57 Q115.668 1471.67 117.473 1475.24 Q119.302 1478.78 122.913 1478.78 Q126.547 1478.78 128.353 1475.24 Q130.182 1471.67 130.182 1464.57 Q130.182 1457.44 128.353 1453.9 Q126.547 1450.33 122.913 1450.33 M122.913 1446.63 Q128.723 1446.63 131.779 1451.23 Q134.857 1455.82 134.857 1464.57 Q134.857 1473.29 131.779 1477.9 Q128.723 1482.48 122.913 1482.48 Q117.103 1482.48 114.024 1477.9 Q110.969 1473.29 110.969 1464.57 Q110.969 1455.82 114.024 1451.23 Q117.103 1446.63 122.913 1446.63 Z\" fill=\"#000000\" fill-rule=\"nonzero\" fill-opacity=\"1\" /><path clip-path=\"url(#clip640)\" d=\"M53.3995 1007.45 L61.0384 1007.45 L61.0384 981.085 L52.7282 982.752 L52.7282 978.492 L60.9921 976.826 L65.668 976.826 L65.668 1007.45 L73.3068 1007.45 L73.3068 1011.39 L53.3995 1011.39 L53.3995 1007.45 Z\" fill=\"#000000\" fill-rule=\"nonzero\" fill-opacity=\"1\" /><path clip-path=\"url(#clip640)\" d=\"M92.7512 979.904 Q89.1401 979.904 87.3114 983.469 Q85.5058 987.011 85.5058 994.14 Q85.5058 1001.25 87.3114 1004.81 Q89.1401 1008.35 92.7512 1008.35 Q96.3854 1008.35 98.1909 1004.81 Q100.02 1001.25 100.02 994.14 Q100.02 987.011 98.1909 983.469 Q96.3854 979.904 92.7512 979.904 M92.7512 976.201 Q98.5613 976.201 101.617 980.807 Q104.696 985.391 104.696 994.14 Q104.696 1002.87 101.617 1007.47 Q98.5613 1012.06 92.7512 1012.06 Q86.941 1012.06 83.8623 1007.47 Q80.8068 1002.87 80.8068 994.14 Q80.8068 985.391 83.8623 980.807 Q86.941 976.201 92.7512 976.201 Z\" fill=\"#000000\" fill-rule=\"nonzero\" fill-opacity=\"1\" /><path clip-path=\"url(#clip640)\" d=\"M122.913 979.904 Q119.302 979.904 117.473 983.469 Q115.668 987.011 115.668 994.14 Q115.668 1001.25 117.473 1004.81 Q119.302 1008.35 122.913 1008.35 Q126.547 1008.35 128.353 1004.81 Q130.182 1001.25 130.182 994.14 Q130.182 987.011 128.353 983.469 Q126.547 979.904 122.913 979.904 M122.913 976.201 Q128.723 976.201 131.779 980.807 Q134.857 985.391 134.857 994.14 Q134.857 1002.87 131.779 1007.47 Q128.723 1012.06 122.913 1012.06 Q117.103 1012.06 114.024 1007.47 Q110.969 1002.87 110.969 994.14 Q110.969 985.391 114.024 980.807 Q117.103 976.201 122.913 976.201 Z\" fill=\"#000000\" fill-rule=\"nonzero\" fill-opacity=\"1\" /><path clip-path=\"url(#clip640)\" d=\"M56.6171 537.024 L72.9365 537.024 L72.9365 540.959 L50.9921 540.959 L50.9921 537.024 Q53.6541 534.269 58.2375 529.639 Q62.8439 524.987 64.0245 523.644 Q66.2698 521.121 67.1494 519.385 Q68.0522 517.626 68.0522 515.936 Q68.0522 513.181 66.1078 511.445 Q64.1865 509.709 61.0847 509.709 Q58.8856 509.709 56.4319 510.473 Q54.0014 511.237 51.2236 512.788 L51.2236 508.065 Q54.0477 506.931 56.5014 506.352 Q58.955 505.774 60.9921 505.774 Q66.3624 505.774 69.5568 508.459 Q72.7513 511.144 72.7513 515.635 Q72.7513 517.764 71.9411 519.686 Q71.1541 521.584 69.0476 524.176 Q68.4689 524.848 65.367 528.065 Q62.2652 531.26 56.6171 537.024 Z\" fill=\"#000000\" fill-rule=\"nonzero\" fill-opacity=\"1\" /><path clip-path=\"url(#clip640)\" d=\"M92.7512 509.477 Q89.1401 509.477 87.3114 513.042 Q85.5058 516.584 85.5058 523.713 Q85.5058 530.82 87.3114 534.385 Q89.1401 537.926 92.7512 537.926 Q96.3854 537.926 98.1909 534.385 Q100.02 530.82 100.02 523.713 Q100.02 516.584 98.1909 513.042 Q96.3854 509.477 92.7512 509.477 M92.7512 505.774 Q98.5613 505.774 101.617 510.38 Q104.696 514.964 104.696 523.713 Q104.696 532.44 101.617 537.047 Q98.5613 541.63 92.7512 541.63 Q86.941 541.63 83.8623 537.047 Q80.8068 532.44 80.8068 523.713 Q80.8068 514.964 83.8623 510.38 Q86.941 505.774 92.7512 505.774 Z\" fill=\"#000000\" fill-rule=\"nonzero\" fill-opacity=\"1\" /><path clip-path=\"url(#clip640)\" d=\"M122.913 509.477 Q119.302 509.477 117.473 513.042 Q115.668 516.584 115.668 523.713 Q115.668 530.82 117.473 534.385 Q119.302 537.926 122.913 537.926 Q126.547 537.926 128.353 534.385 Q130.182 530.82 130.182 523.713 Q130.182 516.584 128.353 513.042 Q126.547 509.477 122.913 509.477 M122.913 505.774 Q128.723 505.774 131.779 510.38 Q134.857 514.964 134.857 523.713 Q134.857 532.44 131.779 537.047 Q128.723 541.63 122.913 541.63 Q117.103 541.63 114.024 537.047 Q110.969 532.44 110.969 523.713 Q110.969 514.964 114.024 510.38 Q117.103 505.774 122.913 505.774 Z\" fill=\"#000000\" fill-rule=\"nonzero\" fill-opacity=\"1\" /><path clip-path=\"url(#clip640)\" d=\"M66.7559 51.8976 Q70.1124 52.6151 71.9874 54.8837 Q73.8855 57.1522 73.8855 60.4855 Q73.8855 65.6012 70.367 68.4021 Q66.8485 71.203 60.3671 71.203 Q58.1912 71.203 55.8764 70.7632 Q53.5847 70.3465 51.131 69.4901 L51.131 64.9762 Q53.0754 66.1104 55.3903 66.6891 Q57.7051 67.2678 60.2282 67.2678 Q64.6263 67.2678 66.918 65.5317 Q69.2328 63.7956 69.2328 60.4855 Q69.2328 57.4299 67.08 55.717 Q64.9504 53.9809 61.131 53.9809 L57.1032 53.9809 L57.1032 50.1383 L61.3161 50.1383 Q64.7652 50.1383 66.5939 48.7726 Q68.4226 47.3837 68.4226 44.7911 Q68.4226 42.1291 66.5245 40.7171 Q64.6495 39.2819 61.131 39.2819 Q59.2097 39.2819 57.0106 39.6985 Q54.8115 40.1152 52.1727 40.9948 L52.1727 36.8282 Q54.8347 36.0875 57.1495 35.7171 Q59.4875 35.3467 61.5476 35.3467 Q66.8717 35.3467 69.9735 37.7773 Q73.0753 40.1847 73.0753 44.305 Q73.0753 47.1754 71.4318 49.1661 Q69.7883 51.1337 66.7559 51.8976 Z\" fill=\"#000000\" fill-rule=\"nonzero\" fill-opacity=\"1\" /><path clip-path=\"url(#clip640)\" d=\"M92.7512 39.0504 Q89.1401 39.0504 87.3114 42.6152 Q85.5058 46.1568 85.5058 53.2864 Q85.5058 60.3929 87.3114 63.9577 Q89.1401 67.4993 92.7512 67.4993 Q96.3854 67.4993 98.1909 63.9577 Q100.02 60.3929 100.02 53.2864 Q100.02 46.1568 98.1909 42.6152 Q96.3854 39.0504 92.7512 39.0504 M92.7512 35.3467 Q98.5613 35.3467 101.617 39.9532 Q104.696 44.5365 104.696 53.2864 Q104.696 62.0132 101.617 66.6197 Q98.5613 71.203 92.7512 71.203 Q86.941 71.203 83.8623 66.6197 Q80.8068 62.0132 80.8068 53.2864 Q80.8068 44.5365 83.8623 39.9532 Q86.941 35.3467 92.7512 35.3467 Z\" fill=\"#000000\" fill-rule=\"nonzero\" fill-opacity=\"1\" /><path clip-path=\"url(#clip640)\" d=\"M122.913 39.0504 Q119.302 39.0504 117.473 42.6152 Q115.668 46.1568 115.668 53.2864 Q115.668 60.3929 117.473 63.9577 Q119.302 67.4993 122.913 67.4993 Q126.547 67.4993 128.353 63.9577 Q130.182 60.3929 130.182 53.2864 Q130.182 46.1568 128.353 42.6152 Q126.547 39.0504 122.913 39.0504 M122.913 35.3467 Q128.723 35.3467 131.779 39.9532 Q134.857 44.5365 134.857 53.2864 Q134.857 62.0132 131.779 66.6197 Q128.723 71.203 122.913 71.203 Q117.103 71.203 114.024 66.6197 Q110.969 62.0132 110.969 53.2864 Q110.969 44.5365 114.024 39.9532 Q117.103 35.3467 122.913 35.3467 Z\" fill=\"#000000\" fill-rule=\"nonzero\" fill-opacity=\"1\" /><circle clip-path=\"url(#clip642)\" cx=\"232.609\" cy=\"1205.8\" r=\"14.4\" fill=\"#000000\" fill-rule=\"evenodd\" fill-opacity=\"1\" stroke=\"none\"/>\n",
       "<circle clip-path=\"url(#clip642)\" cx=\"260.055\" cy=\"740.075\" r=\"14.4\" fill=\"#000000\" fill-rule=\"evenodd\" fill-opacity=\"1\" stroke=\"none\"/>\n",
       "<circle clip-path=\"url(#clip642)\" cx=\"287.5\" cy=\"453.115\" r=\"14.4\" fill=\"#000000\" fill-rule=\"evenodd\" fill-opacity=\"1\" stroke=\"none\"/>\n",
       "<circle clip-path=\"url(#clip642)\" cx=\"314.945\" cy=\"556.609\" r=\"14.4\" fill=\"#000000\" fill-rule=\"evenodd\" fill-opacity=\"1\" stroke=\"none\"/>\n",
       "<circle clip-path=\"url(#clip642)\" cx=\"342.39\" cy=\"566.017\" r=\"14.4\" fill=\"#000000\" fill-rule=\"evenodd\" fill-opacity=\"1\" stroke=\"none\"/>\n",
       "<circle clip-path=\"url(#clip642)\" cx=\"369.836\" cy=\"904.725\" r=\"14.4\" fill=\"#000000\" fill-rule=\"evenodd\" fill-opacity=\"1\" stroke=\"none\"/>\n",
       "<circle clip-path=\"url(#clip642)\" cx=\"397.281\" cy=\"1003.51\" r=\"14.4\" fill=\"#000000\" fill-rule=\"evenodd\" fill-opacity=\"1\" stroke=\"none\"/>\n",
       "<circle clip-path=\"url(#clip642)\" cx=\"424.726\" cy=\"1252.84\" r=\"14.4\" fill=\"#000000\" fill-rule=\"evenodd\" fill-opacity=\"1\" stroke=\"none\"/>\n",
       "<circle clip-path=\"url(#clip642)\" cx=\"452.171\" cy=\"1370.45\" r=\"14.4\" fill=\"#000000\" fill-rule=\"evenodd\" fill-opacity=\"1\" stroke=\"none\"/>\n",
       "<circle clip-path=\"url(#clip642)\" cx=\"479.617\" cy=\"1431.6\" r=\"14.4\" fill=\"#000000\" fill-rule=\"evenodd\" fill-opacity=\"1\" stroke=\"none\"/>\n",
       "<circle clip-path=\"url(#clip642)\" cx=\"507.062\" cy=\"1210.5\" r=\"14.4\" fill=\"#000000\" fill-rule=\"evenodd\" fill-opacity=\"1\" stroke=\"none\"/>\n",
       "<circle clip-path=\"url(#clip642)\" cx=\"534.507\" cy=\"518.974\" r=\"14.4\" fill=\"#000000\" fill-rule=\"evenodd\" fill-opacity=\"1\" stroke=\"none\"/>\n",
       "<circle clip-path=\"url(#clip642)\" cx=\"561.952\" cy=\"199.084\" r=\"14.4\" fill=\"#000000\" fill-rule=\"evenodd\" fill-opacity=\"1\" stroke=\"none\"/>\n",
       "<circle clip-path=\"url(#clip642)\" cx=\"589.398\" cy=\"232.014\" r=\"14.4\" fill=\"#000000\" fill-rule=\"evenodd\" fill-opacity=\"1\" stroke=\"none\"/>\n",
       "<circle clip-path=\"url(#clip642)\" cx=\"616.843\" cy=\"406.072\" r=\"14.4\" fill=\"#000000\" fill-rule=\"evenodd\" fill-opacity=\"1\" stroke=\"none\"/>\n",
       "<circle clip-path=\"url(#clip642)\" cx=\"644.288\" cy=\"716.554\" r=\"14.4\" fill=\"#000000\" fill-rule=\"evenodd\" fill-opacity=\"1\" stroke=\"none\"/>\n",
       "<circle clip-path=\"url(#clip642)\" cx=\"671.733\" cy=\"1107.01\" r=\"14.4\" fill=\"#000000\" fill-rule=\"evenodd\" fill-opacity=\"1\" stroke=\"none\"/>\n",
       "<circle clip-path=\"url(#clip642)\" cx=\"699.179\" cy=\"1215.21\" r=\"14.4\" fill=\"#000000\" fill-rule=\"evenodd\" fill-opacity=\"1\" stroke=\"none\"/>\n",
       "<circle clip-path=\"url(#clip642)\" cx=\"726.624\" cy=\"1276.36\" r=\"14.4\" fill=\"#000000\" fill-rule=\"evenodd\" fill-opacity=\"1\" stroke=\"none\"/>\n",
       "<circle clip-path=\"url(#clip642)\" cx=\"754.069\" cy=\"1393.97\" r=\"14.4\" fill=\"#000000\" fill-rule=\"evenodd\" fill-opacity=\"1\" stroke=\"none\"/>\n",
       "<circle clip-path=\"url(#clip642)\" cx=\"781.515\" cy=\"1361.04\" r=\"14.4\" fill=\"#000000\" fill-rule=\"evenodd\" fill-opacity=\"1\" stroke=\"none\"/>\n",
       "<circle clip-path=\"url(#clip642)\" cx=\"808.96\" cy=\"1149.35\" r=\"14.4\" fill=\"#000000\" fill-rule=\"evenodd\" fill-opacity=\"1\" stroke=\"none\"/>\n",
       "<circle clip-path=\"url(#clip642)\" cx=\"836.405\" cy=\"838.865\" r=\"14.4\" fill=\"#000000\" fill-rule=\"evenodd\" fill-opacity=\"1\" stroke=\"none\"/>\n",
       "<circle clip-path=\"url(#clip642)\" cx=\"863.85\" cy=\"758.892\" r=\"14.4\" fill=\"#000000\" fill-rule=\"evenodd\" fill-opacity=\"1\" stroke=\"none\"/>\n",
       "<circle clip-path=\"url(#clip642)\" cx=\"891.296\" cy=\"763.597\" r=\"14.4\" fill=\"#000000\" fill-rule=\"evenodd\" fill-opacity=\"1\" stroke=\"none\"/>\n",
       "<circle clip-path=\"url(#clip642)\" cx=\"918.741\" cy=\"768.301\" r=\"14.4\" fill=\"#000000\" fill-rule=\"evenodd\" fill-opacity=\"1\" stroke=\"none\"/>\n",
       "<circle clip-path=\"url(#clip642)\" cx=\"946.186\" cy=\"1022.33\" r=\"14.4\" fill=\"#000000\" fill-rule=\"evenodd\" fill-opacity=\"1\" stroke=\"none\"/>\n",
       "<circle clip-path=\"url(#clip642)\" cx=\"973.631\" cy=\"1003.51\" r=\"14.4\" fill=\"#000000\" fill-rule=\"evenodd\" fill-opacity=\"1\" stroke=\"none\"/>\n",
       "<circle clip-path=\"url(#clip642)\" cx=\"1001.08\" cy=\"1210.5\" r=\"14.4\" fill=\"#000000\" fill-rule=\"evenodd\" fill-opacity=\"1\" stroke=\"none\"/>\n",
       "<circle clip-path=\"url(#clip642)\" cx=\"1028.52\" cy=\"1234.02\" r=\"14.4\" fill=\"#000000\" fill-rule=\"evenodd\" fill-opacity=\"1\" stroke=\"none\"/>\n",
       "<circle clip-path=\"url(#clip642)\" cx=\"1055.97\" cy=\"1361.04\" r=\"14.4\" fill=\"#000000\" fill-rule=\"evenodd\" fill-opacity=\"1\" stroke=\"none\"/>\n",
       "<circle clip-path=\"url(#clip642)\" cx=\"1083.41\" cy=\"1379.86\" r=\"14.4\" fill=\"#000000\" fill-rule=\"evenodd\" fill-opacity=\"1\" stroke=\"none\"/>\n",
       "<circle clip-path=\"url(#clip642)\" cx=\"1110.86\" cy=\"1281.07\" r=\"14.4\" fill=\"#000000\" fill-rule=\"evenodd\" fill-opacity=\"1\" stroke=\"none\"/>\n",
       "<circle clip-path=\"url(#clip642)\" cx=\"1138.3\" cy=\"848.273\" r=\"14.4\" fill=\"#000000\" fill-rule=\"evenodd\" fill-opacity=\"1\" stroke=\"none\"/>\n",
       "<circle clip-path=\"url(#clip642)\" cx=\"1165.75\" cy=\"429.593\" r=\"14.4\" fill=\"#000000\" fill-rule=\"evenodd\" fill-opacity=\"1\" stroke=\"none\"/>\n",
       "<circle clip-path=\"url(#clip642)\" cx=\"1193.19\" cy=\"434.298\" r=\"14.4\" fill=\"#000000\" fill-rule=\"evenodd\" fill-opacity=\"1\" stroke=\"none\"/>\n",
       "<circle clip-path=\"url(#clip642)\" cx=\"1220.64\" cy=\"528.383\" r=\"14.4\" fill=\"#000000\" fill-rule=\"evenodd\" fill-opacity=\"1\" stroke=\"none\"/>\n",
       "<circle clip-path=\"url(#clip642)\" cx=\"1248.08\" cy=\"702.441\" r=\"14.4\" fill=\"#000000\" fill-rule=\"evenodd\" fill-opacity=\"1\" stroke=\"none\"/>\n",
       "<circle clip-path=\"url(#clip642)\" cx=\"1275.53\" cy=\"1036.44\" r=\"14.4\" fill=\"#000000\" fill-rule=\"evenodd\" fill-opacity=\"1\" stroke=\"none\"/>\n",
       "<circle clip-path=\"url(#clip642)\" cx=\"1302.97\" cy=\"1182.28\" r=\"14.4\" fill=\"#000000\" fill-rule=\"evenodd\" fill-opacity=\"1\" stroke=\"none\"/>\n",
       "<circle clip-path=\"url(#clip642)\" cx=\"1330.42\" cy=\"1365.74\" r=\"14.4\" fill=\"#000000\" fill-rule=\"evenodd\" fill-opacity=\"1\" stroke=\"none\"/>\n",
       "<circle clip-path=\"url(#clip642)\" cx=\"1357.87\" cy=\"1393.97\" r=\"14.4\" fill=\"#000000\" fill-rule=\"evenodd\" fill-opacity=\"1\" stroke=\"none\"/>\n",
       "<circle clip-path=\"url(#clip642)\" cx=\"1385.31\" cy=\"1304.59\" r=\"14.4\" fill=\"#000000\" fill-rule=\"evenodd\" fill-opacity=\"1\" stroke=\"none\"/>\n",
       "<circle clip-path=\"url(#clip642)\" cx=\"1412.76\" cy=\"885.908\" r=\"14.4\" fill=\"#000000\" fill-rule=\"evenodd\" fill-opacity=\"1\" stroke=\"none\"/>\n",
       "<circle clip-path=\"url(#clip642)\" cx=\"1440.2\" cy=\"471.932\" r=\"14.4\" fill=\"#000000\" fill-rule=\"evenodd\" fill-opacity=\"1\" stroke=\"none\"/>\n",
       "<circle clip-path=\"url(#clip642)\" cx=\"1467.65\" cy=\"561.313\" r=\"14.4\" fill=\"#000000\" fill-rule=\"evenodd\" fill-opacity=\"1\" stroke=\"none\"/>\n",
       "<circle clip-path=\"url(#clip642)\" cx=\"1495.09\" cy=\"509.566\" r=\"14.4\" fill=\"#000000\" fill-rule=\"evenodd\" fill-opacity=\"1\" stroke=\"none\"/>\n",
       "<circle clip-path=\"url(#clip642)\" cx=\"1522.54\" cy=\"838.865\" r=\"14.4\" fill=\"#000000\" fill-rule=\"evenodd\" fill-opacity=\"1\" stroke=\"none\"/>\n",
       "<circle clip-path=\"url(#clip642)\" cx=\"1549.98\" cy=\"1107.01\" r=\"14.4\" fill=\"#000000\" fill-rule=\"evenodd\" fill-opacity=\"1\" stroke=\"none\"/>\n",
       "<circle clip-path=\"url(#clip642)\" cx=\"1577.43\" cy=\"1252.84\" r=\"14.4\" fill=\"#000000\" fill-rule=\"evenodd\" fill-opacity=\"1\" stroke=\"none\"/>\n",
       "<circle clip-path=\"url(#clip642)\" cx=\"1604.87\" cy=\"1346.93\" r=\"14.4\" fill=\"#000000\" fill-rule=\"evenodd\" fill-opacity=\"1\" stroke=\"none\"/>\n",
       "<circle clip-path=\"url(#clip642)\" cx=\"1632.32\" cy=\"1408.08\" r=\"14.4\" fill=\"#000000\" fill-rule=\"evenodd\" fill-opacity=\"1\" stroke=\"none\"/>\n",
       "<circle clip-path=\"url(#clip642)\" cx=\"1659.76\" cy=\"1328.11\" r=\"14.4\" fill=\"#000000\" fill-rule=\"evenodd\" fill-opacity=\"1\" stroke=\"none\"/>\n",
       "<circle clip-path=\"url(#clip642)\" cx=\"1687.21\" cy=\"1050.56\" r=\"14.4\" fill=\"#000000\" fill-rule=\"evenodd\" fill-opacity=\"1\" stroke=\"none\"/>\n",
       "<circle clip-path=\"url(#clip642)\" cx=\"1714.65\" cy=\"824.752\" r=\"14.4\" fill=\"#000000\" fill-rule=\"evenodd\" fill-opacity=\"1\" stroke=\"none\"/>\n",
       "<circle clip-path=\"url(#clip642)\" cx=\"1742.1\" cy=\"645.99\" r=\"14.4\" fill=\"#000000\" fill-rule=\"evenodd\" fill-opacity=\"1\" stroke=\"none\"/>\n",
       "<circle clip-path=\"url(#clip642)\" cx=\"1769.54\" cy=\"664.807\" r=\"14.4\" fill=\"#000000\" fill-rule=\"evenodd\" fill-opacity=\"1\" stroke=\"none\"/>\n",
       "<circle clip-path=\"url(#clip642)\" cx=\"1796.99\" cy=\"693.032\" r=\"14.4\" fill=\"#000000\" fill-rule=\"evenodd\" fill-opacity=\"1\" stroke=\"none\"/>\n",
       "<circle clip-path=\"url(#clip642)\" cx=\"1824.43\" cy=\"998.81\" r=\"14.4\" fill=\"#000000\" fill-rule=\"evenodd\" fill-opacity=\"1\" stroke=\"none\"/>\n",
       "<circle clip-path=\"url(#clip642)\" cx=\"1851.88\" cy=\"1158.76\" r=\"14.4\" fill=\"#000000\" fill-rule=\"evenodd\" fill-opacity=\"1\" stroke=\"none\"/>\n",
       "<circle clip-path=\"url(#clip642)\" cx=\"1879.33\" cy=\"1248.14\" r=\"14.4\" fill=\"#000000\" fill-rule=\"evenodd\" fill-opacity=\"1\" stroke=\"none\"/>\n",
       "<circle clip-path=\"url(#clip642)\" cx=\"1906.77\" cy=\"1346.93\" r=\"14.4\" fill=\"#000000\" fill-rule=\"evenodd\" fill-opacity=\"1\" stroke=\"none\"/>\n",
       "<circle clip-path=\"url(#clip642)\" cx=\"1934.22\" cy=\"1403.38\" r=\"14.4\" fill=\"#000000\" fill-rule=\"evenodd\" fill-opacity=\"1\" stroke=\"none\"/>\n",
       "<circle clip-path=\"url(#clip642)\" cx=\"1961.66\" cy=\"1445.72\" r=\"14.4\" fill=\"#000000\" fill-rule=\"evenodd\" fill-opacity=\"1\" stroke=\"none\"/>\n",
       "<circle clip-path=\"url(#clip642)\" cx=\"1989.11\" cy=\"1441.01\" r=\"14.4\" fill=\"#000000\" fill-rule=\"evenodd\" fill-opacity=\"1\" stroke=\"none\"/>\n",
       "<circle clip-path=\"url(#clip642)\" cx=\"2016.55\" cy=\"1346.93\" r=\"14.4\" fill=\"#000000\" fill-rule=\"evenodd\" fill-opacity=\"1\" stroke=\"none\"/>\n",
       "<circle clip-path=\"url(#clip642)\" cx=\"2044\" cy=\"1083.49\" r=\"14.4\" fill=\"#000000\" fill-rule=\"evenodd\" fill-opacity=\"1\" stroke=\"none\"/>\n",
       "<circle clip-path=\"url(#clip642)\" cx=\"2071.44\" cy=\"1069.37\" r=\"14.4\" fill=\"#000000\" fill-rule=\"evenodd\" fill-opacity=\"1\" stroke=\"none\"/>\n",
       "<circle clip-path=\"url(#clip642)\" cx=\"2098.89\" cy=\"1022.33\" r=\"14.4\" fill=\"#000000\" fill-rule=\"evenodd\" fill-opacity=\"1\" stroke=\"none\"/>\n",
       "<circle clip-path=\"url(#clip642)\" cx=\"2126.33\" cy=\"932.95\" r=\"14.4\" fill=\"#000000\" fill-rule=\"evenodd\" fill-opacity=\"1\" stroke=\"none\"/>\n",
       "<circle clip-path=\"url(#clip642)\" cx=\"2153.78\" cy=\"1135.23\" r=\"14.4\" fill=\"#000000\" fill-rule=\"evenodd\" fill-opacity=\"1\" stroke=\"none\"/>\n",
       "<circle clip-path=\"url(#clip642)\" cx=\"2181.22\" cy=\"1276.36\" r=\"14.4\" fill=\"#000000\" fill-rule=\"evenodd\" fill-opacity=\"1\" stroke=\"none\"/>\n",
       "<circle clip-path=\"url(#clip642)\" cx=\"2208.67\" cy=\"1361.04\" r=\"14.4\" fill=\"#000000\" fill-rule=\"evenodd\" fill-opacity=\"1\" stroke=\"none\"/>\n",
       "<circle clip-path=\"url(#clip642)\" cx=\"2236.11\" cy=\"1431.6\" r=\"14.4\" fill=\"#000000\" fill-rule=\"evenodd\" fill-opacity=\"1\" stroke=\"none\"/>\n",
       "<circle clip-path=\"url(#clip642)\" cx=\"2263.56\" cy=\"1445.72\" r=\"14.4\" fill=\"#000000\" fill-rule=\"evenodd\" fill-opacity=\"1\" stroke=\"none\"/>\n",
       "<circle clip-path=\"url(#clip642)\" cx=\"2291\" cy=\"1422.19\" r=\"14.4\" fill=\"#000000\" fill-rule=\"evenodd\" fill-opacity=\"1\" stroke=\"none\"/>\n",
       "<path clip-path=\"url(#clip642)\" d=\"M232.609 1398.52 L260.055 1252.48 L287.5 1094.26 L314.945 1060.36 L342.39 1047.66 L369.836 1137.24 L397.281 1193.71 L424.726 1284.88 L452.171 1359.47 L479.617 1407.12 L507.062 1372.13 L534.507 1184.03 L561.952 950.721 L589.398 937.956 L616.843 930.561 L644.288 1047.58 L671.733 1181.7 L699.179 1266.59 L726.624 1328.19 L754.069 1384.15 L781.515 1401.54 L808.96 1355.2 L836.405 1255.38 L863.85 1180.85 L891.296 1123.09 L918.741 1143.41 L946.186 1187.75 L973.631 1224.28 L1001.08 1291.03 L1028.52 1326.89 L1055.97 1374.37 L1083.41 1402.06 L1110.86 1388.43 L1138.3 1275.24 L1165.75 1108.19 L1193.19 1042.16 L1220.64 1021.87 L1248.08 1073.72 L1275.53 1165.03 L1302.97 1255.31 L1330.42 1346.34 L1357.87 1391.7 L1385.31 1389.87 L1412.76 1279.4 L1440.2 1133.64 L1467.65 1080.51 L1495.09 1033.86 L1522.54 1109.82 L1549.98 1203.4 L1577.43 1294.29 L1604.87 1356.14 L1632.32 1400.13 L1659.76 1400.08 L1687.21 1329.18 L1714.65 1241.92 L1742.1 1151.68 L1769.54 1110.4 L1796.99 1097.23 L1824.43 1178.52 L1851.88 1255.85 L1879.33 1312.9 L1906.77 1366.11 L1934.22 1403.55 L1961.66 1431.82 L1989.11 1443.5 L2016.55 1424.45 L2044 1350.34 L2071.44 1306.42 L2098.89 1275.53 L2126.33 1246.53 L2153.78 1273.89 L2181.22 1330.96 L2208.67 1377.98 L2236.11 1416.59 L2263.56 1437.46 L2291 1441.62 L2291 1402.07 L2263.56 1391.19 L2236.11 1334.02 L2208.67 1230.58 L2181.22 1112.55 L2153.78 979.57 L2126.33 879.945 L2098.89 983.748 L2071.44 1060.35 L2044 1157.68 L2016.55 1358.49 L1989.11 1407.27 L1961.66 1375.48 L1934.22 1299.83 L1906.77 1197.7 L1879.33 1063.68 L1851.88 912.089 L1824.43 714.247 L1796.99 529.989 L1769.54 548.664 L1742.1 642.977 L1714.65 862.173 L1687.21 1105.01 L1659.76 1292.58 L1632.32 1291.05 L1604.87 1173.9 L1577.43 1008.4 L1549.98 794.021 L1522.54 529.124 L1495.09 360.562 L1467.65 443.203 L1440.2 568.824 L1412.76 985.698 L1385.31 1265.33 L1357.87 1268.49 L1330.42 1143.91 L1302.97 921.706 L1275.53 702.483 L1248.08 418.498 L1220.64 323.589 L1193.19 338.101 L1165.75 539.841 L1138.3 952.314 L1110.86 1262.14 L1083.41 1294.92 L1055.97 1224.27 L1028.52 1095.44 L1001.08 1001.9 L973.631 839.17 L946.186 793.789 L918.741 625.558 L891.296 691.513 L863.85 740.405 L836.405 908.056 L808.96 1171.92 L781.515 1292.89 L754.069 1246.48 L726.624 1095.05 L699.179 945.902 L671.733 695.597 L644.288 327.846 L616.843 136.357 L589.398 87.9763 L561.952 326.75 L534.507 710.007 L507.062 1222.62 L479.617 1310.73 L452.171 1181.84 L424.726 990.768 L397.281 746.739 L369.836 579.695 L342.39 381.055 L314.945 425.47 L287.5 530.712 L260.055 890.022 L232.609 1285.38  Z\" fill=\"#008000\" fill-rule=\"evenodd\" fill-opacity=\"0.15\"/>\n",
       "<polyline clip-path=\"url(#clip642)\" style=\"stroke:#008000; stroke-linecap:round; stroke-linejoin:round; stroke-width:12; stroke-opacity:1; fill:none\" points=\"232.609,1341.95 260.055,1071.25 287.5,812.487 314.945,742.917 342.39,714.358 369.836,858.466 397.281,970.226 424.726,1137.82 452.171,1270.65 479.617,1358.93 507.062,1297.38 534.507,947.018 561.952,638.735 589.398,512.966 616.843,533.459 644.288,687.714 671.733,938.648 699.179,1106.25 726.624,1211.62 754.069,1315.32 781.515,1347.22 808.96,1263.56 836.405,1081.72 863.85,960.63 891.296,907.303 918.741,884.486 946.186,990.771 973.631,1031.72 1001.08,1146.47 1028.52,1211.17 1055.97,1299.32 1083.41,1348.49 1110.86,1325.29 1138.3,1113.78 1165.75,824.016 1193.19,690.132 1220.64,672.729 1248.08,746.107 1275.53,933.754 1302.97,1088.51 1330.42,1245.13 1357.87,1330.09 1385.31,1327.6 1412.76,1132.55 1440.2,851.232 1467.65,761.858 1495.09,697.209 1522.54,819.474 1549.98,998.709 1577.43,1151.35 1604.87,1265.02 1632.32,1345.59 1659.76,1346.33 1687.21,1217.1 1714.65,1052.04 1742.1,897.327 1769.54,829.534 1796.99,813.607 1824.43,946.385 1851.88,1083.97 1879.33,1188.29 1906.77,1281.9 1934.22,1351.69 1961.66,1403.65 1989.11,1425.39 2016.55,1391.47 2044,1254.01 2071.44,1183.38 2098.89,1129.64 2126.33,1063.24 2153.78,1126.73 2181.22,1221.75 2208.67,1304.28 2236.11,1375.3 2263.56,1414.33 2291,1421.85 \"/>\n",
       "<path clip-path=\"url(#clip640)\" d=\"M2009.41 250.738 L2280.03 250.738 L2280.03 95.2176 L2009.41 95.2176  Z\" fill=\"#ffffff\" fill-rule=\"evenodd\" fill-opacity=\"1\"/>\n",
       "<polyline clip-path=\"url(#clip640)\" style=\"stroke:#000000; stroke-linecap:round; stroke-linejoin:round; stroke-width:4; stroke-opacity:1; fill:none\" points=\"2009.41,250.738 2280.03,250.738 2280.03,95.2176 2009.41,95.2176 2009.41,250.738 \"/>\n",
       "<circle clip-path=\"url(#clip640)\" cx=\"2106.38\" cy=\"147.058\" r=\"20.48\" fill=\"#000000\" fill-rule=\"evenodd\" fill-opacity=\"1\" stroke=\"none\"/>\n",
       "<path clip-path=\"url(#clip640)\" d=\"M2217.19 166.745 Q2215.39 171.375 2213.68 172.787 Q2211.96 174.199 2209.09 174.199 L2205.69 174.199 L2205.69 170.634 L2208.19 170.634 Q2209.95 170.634 2210.92 169.8 Q2211.89 168.967 2213.07 165.865 L2213.84 163.921 L2203.35 138.412 L2207.87 138.412 L2215.97 158.689 L2224.07 138.412 L2228.58 138.412 L2217.19 166.745 Z\" fill=\"#000000\" fill-rule=\"nonzero\" fill-opacity=\"1\" /><path clip-path=\"url(#clip640)\" d=\"M2235.88 160.402 L2243.51 160.402 L2243.51 134.037 L2235.2 135.703 L2235.2 131.444 L2243.47 129.778 L2248.14 129.778 L2248.14 160.402 L2255.78 160.402 L2255.78 164.338 L2235.88 164.338 L2235.88 160.402 Z\" fill=\"#000000\" fill-rule=\"nonzero\" fill-opacity=\"1\" /><polyline clip-path=\"url(#clip640)\" style=\"stroke:#008000; stroke-linecap:round; stroke-linejoin:round; stroke-width:12; stroke-opacity:1; fill:none\" points=\"2033.65,198.898 2179.11,198.898 \"/>\n",
       "<path clip-path=\"url(#clip640)\" d=\"M2217.19 218.585 Q2215.39 223.215 2213.68 224.627 Q2211.96 226.039 2209.09 226.039 L2205.69 226.039 L2205.69 222.474 L2208.19 222.474 Q2209.95 222.474 2210.92 221.64 Q2211.89 220.807 2213.07 217.705 L2213.84 215.761 L2203.35 190.252 L2207.87 190.252 L2215.97 210.529 L2224.07 190.252 L2228.58 190.252 L2217.19 218.585 Z\" fill=\"#000000\" fill-rule=\"nonzero\" fill-opacity=\"1\" /><path clip-path=\"url(#clip640)\" d=\"M2239.09 212.242 L2255.41 212.242 L2255.41 216.178 L2233.47 216.178 L2233.47 212.242 Q2236.13 209.488 2240.71 204.858 Q2245.32 200.205 2246.5 198.863 Q2248.75 196.34 2249.63 194.604 Q2250.53 192.844 2250.53 191.155 Q2250.53 188.4 2248.58 186.664 Q2246.66 184.928 2243.56 184.928 Q2241.36 184.928 2238.91 185.692 Q2236.48 186.455 2233.7 188.006 L2233.7 183.284 Q2236.52 182.15 2238.98 181.571 Q2241.43 180.993 2243.47 180.993 Q2248.84 180.993 2252.03 183.678 Q2255.23 186.363 2255.23 190.854 Q2255.23 192.983 2254.42 194.905 Q2253.63 196.803 2251.52 199.395 Q2250.94 200.067 2247.84 203.284 Q2244.74 206.479 2239.09 212.242 Z\" fill=\"#000000\" fill-rule=\"nonzero\" fill-opacity=\"1\" /></svg>\n"
      ]
     },
     "execution_count": 40,
     "metadata": {},
     "output_type": "execute_result"
    }
   ],
   "source": [
    "# plot estimates for location\n",
    "posteriours = results.posteriors[:z][end]\n",
    "means = map(mean, posteriours) \n",
    "ribbon = map(x -> var(x), posteriours)\n",
    "\n",
    "p1 = scatter(observations,color=:black)\n",
    "\n",
    "plot!(means, ribbon=ribbon, fillalpha=0.15, linewidth=3, color = :green)\n"
   ]
  },
  {
   "cell_type": "code",
   "execution_count": 37,
   "metadata": {},
   "outputs": [
    {
     "data": {
      "image/svg+xml": [
       "<?xml version=\"1.0\" encoding=\"utf-8\"?>\n",
       "<svg xmlns=\"http://www.w3.org/2000/svg\" xmlns:xlink=\"http://www.w3.org/1999/xlink\" width=\"600\" height=\"400\" viewBox=\"0 0 2400 1600\">\n",
       "<defs>\n",
       "  <clipPath id=\"clip520\">\n",
       "    <rect x=\"0\" y=\"0\" width=\"2400\" height=\"1600\"/>\n",
       "  </clipPath>\n",
       "</defs>\n",
       "<path clip-path=\"url(#clip520)\" d=\"M0 1600 L2400 1600 L2400 0 L0 0  Z\" fill=\"#ffffff\" fill-rule=\"evenodd\" fill-opacity=\"1\"/>\n",
       "<defs>\n",
       "  <clipPath id=\"clip521\">\n",
       "    <rect x=\"480\" y=\"0\" width=\"1681\" height=\"1600\"/>\n",
       "  </clipPath>\n",
       "</defs>\n",
       "<path clip-path=\"url(#clip520)\" d=\"M229.445 1486.45 L2352.76 1486.45 L2352.76 47.2441 L229.445 47.2441  Z\" fill=\"#ffffff\" fill-rule=\"evenodd\" fill-opacity=\"1\"/>\n",
       "<defs>\n",
       "  <clipPath id=\"clip522\">\n",
       "    <rect x=\"229\" y=\"47\" width=\"2124\" height=\"1440\"/>\n",
       "  </clipPath>\n",
       "</defs>\n",
       "<polyline clip-path=\"url(#clip522)\" style=\"stroke:#000000; stroke-linecap:round; stroke-linejoin:round; stroke-width:2; stroke-opacity:0.1; fill:none\" points=\"512.108,1486.45 512.108,47.2441 \"/>\n",
       "<polyline clip-path=\"url(#clip522)\" style=\"stroke:#000000; stroke-linecap:round; stroke-linejoin:round; stroke-width:2; stroke-opacity:0.1; fill:none\" points=\"957.247,1486.45 957.247,47.2441 \"/>\n",
       "<polyline clip-path=\"url(#clip522)\" style=\"stroke:#000000; stroke-linecap:round; stroke-linejoin:round; stroke-width:2; stroke-opacity:0.1; fill:none\" points=\"1402.39,1486.45 1402.39,47.2441 \"/>\n",
       "<polyline clip-path=\"url(#clip522)\" style=\"stroke:#000000; stroke-linecap:round; stroke-linejoin:round; stroke-width:2; stroke-opacity:0.1; fill:none\" points=\"1847.52,1486.45 1847.52,47.2441 \"/>\n",
       "<polyline clip-path=\"url(#clip522)\" style=\"stroke:#000000; stroke-linecap:round; stroke-linejoin:round; stroke-width:2; stroke-opacity:0.1; fill:none\" points=\"2292.66,1486.45 2292.66,47.2441 \"/>\n",
       "<polyline clip-path=\"url(#clip520)\" style=\"stroke:#000000; stroke-linecap:round; stroke-linejoin:round; stroke-width:4; stroke-opacity:1; fill:none\" points=\"229.445,1486.45 2352.76,1486.45 \"/>\n",
       "<polyline clip-path=\"url(#clip520)\" style=\"stroke:#000000; stroke-linecap:round; stroke-linejoin:round; stroke-width:4; stroke-opacity:1; fill:none\" points=\"512.108,1486.45 512.108,1467.55 \"/>\n",
       "<polyline clip-path=\"url(#clip520)\" style=\"stroke:#000000; stroke-linecap:round; stroke-linejoin:round; stroke-width:4; stroke-opacity:1; fill:none\" points=\"957.247,1486.45 957.247,1467.55 \"/>\n",
       "<polyline clip-path=\"url(#clip520)\" style=\"stroke:#000000; stroke-linecap:round; stroke-linejoin:round; stroke-width:4; stroke-opacity:1; fill:none\" points=\"1402.39,1486.45 1402.39,1467.55 \"/>\n",
       "<polyline clip-path=\"url(#clip520)\" style=\"stroke:#000000; stroke-linecap:round; stroke-linejoin:round; stroke-width:4; stroke-opacity:1; fill:none\" points=\"1847.52,1486.45 1847.52,1467.55 \"/>\n",
       "<polyline clip-path=\"url(#clip520)\" style=\"stroke:#000000; stroke-linecap:round; stroke-linejoin:round; stroke-width:4; stroke-opacity:1; fill:none\" points=\"2292.66,1486.45 2292.66,1467.55 \"/>\n",
       "<path clip-path=\"url(#clip520)\" d=\"M506.761 1544.91 L523.08 1544.91 L523.08 1548.85 L501.136 1548.85 L501.136 1544.91 Q503.798 1542.16 508.381 1537.53 Q512.988 1532.88 514.168 1531.53 Q516.414 1529.01 517.293 1527.27 Q518.196 1525.51 518.196 1523.82 Q518.196 1521.07 516.252 1519.33 Q514.33 1517.6 511.228 1517.6 Q509.029 1517.6 506.576 1518.36 Q504.145 1519.13 501.367 1520.68 L501.367 1515.95 Q504.191 1514.82 506.645 1514.24 Q509.099 1513.66 511.136 1513.66 Q516.506 1513.66 519.701 1516.35 Q522.895 1519.03 522.895 1523.52 Q522.895 1525.65 522.085 1527.57 Q521.298 1529.47 519.191 1532.07 Q518.613 1532.74 515.511 1535.95 Q512.409 1539.15 506.761 1544.91 Z\" fill=\"#000000\" fill-rule=\"nonzero\" fill-opacity=\"1\" /><path clip-path=\"url(#clip520)\" d=\"M960.256 1518.36 L948.45 1536.81 L960.256 1536.81 L960.256 1518.36 M959.029 1514.29 L964.909 1514.29 L964.909 1536.81 L969.839 1536.81 L969.839 1540.7 L964.909 1540.7 L964.909 1548.85 L960.256 1548.85 L960.256 1540.7 L944.654 1540.7 L944.654 1536.19 L959.029 1514.29 Z\" fill=\"#000000\" fill-rule=\"nonzero\" fill-opacity=\"1\" /><path clip-path=\"url(#clip520)\" d=\"M1402.79 1529.7 Q1399.64 1529.7 1397.79 1531.86 Q1395.96 1534.01 1395.96 1537.76 Q1395.96 1541.49 1397.79 1543.66 Q1399.64 1545.82 1402.79 1545.82 Q1405.94 1545.82 1407.77 1543.66 Q1409.62 1541.49 1409.62 1537.76 Q1409.62 1534.01 1407.77 1531.86 Q1405.94 1529.7 1402.79 1529.7 M1412.07 1515.05 L1412.07 1519.31 Q1410.31 1518.48 1408.51 1518.04 Q1406.73 1517.6 1404.97 1517.6 Q1400.34 1517.6 1397.88 1520.72 Q1395.45 1523.85 1395.11 1530.17 Q1396.47 1528.15 1398.53 1527.09 Q1400.59 1526 1403.07 1526 Q1408.28 1526 1411.29 1529.17 Q1414.32 1532.32 1414.32 1537.76 Q1414.32 1543.08 1411.17 1546.3 Q1408.02 1549.52 1402.79 1549.52 Q1396.79 1549.52 1393.62 1544.94 Q1390.45 1540.33 1390.45 1531.6 Q1390.45 1523.41 1394.34 1518.55 Q1398.23 1513.66 1404.78 1513.66 Q1406.54 1513.66 1408.32 1514.01 Q1410.13 1514.36 1412.07 1515.05 Z\" fill=\"#000000\" fill-rule=\"nonzero\" fill-opacity=\"1\" /><path clip-path=\"url(#clip520)\" d=\"M1847.52 1532.44 Q1844.19 1532.44 1842.27 1534.22 Q1840.37 1536 1840.37 1539.13 Q1840.37 1542.25 1842.27 1544.03 Q1844.19 1545.82 1847.52 1545.82 Q1850.86 1545.82 1852.78 1544.03 Q1854.7 1542.23 1854.7 1539.13 Q1854.7 1536 1852.78 1534.22 Q1850.88 1532.44 1847.52 1532.44 M1842.85 1530.45 Q1839.84 1529.7 1838.15 1527.64 Q1836.48 1525.58 1836.48 1522.62 Q1836.48 1518.48 1839.42 1516.07 Q1842.38 1513.66 1847.52 1513.66 Q1852.69 1513.66 1855.63 1516.07 Q1858.57 1518.48 1858.57 1522.62 Q1858.57 1525.58 1856.88 1527.64 Q1855.21 1529.7 1852.22 1530.45 Q1855.6 1531.23 1857.48 1533.52 Q1859.38 1535.82 1859.38 1539.13 Q1859.38 1544.15 1856.3 1546.83 Q1853.24 1549.52 1847.52 1549.52 Q1841.81 1549.52 1838.73 1546.83 Q1835.67 1544.15 1835.67 1539.13 Q1835.67 1535.82 1837.57 1533.52 Q1839.47 1531.23 1842.85 1530.45 M1841.13 1523.06 Q1841.13 1525.75 1842.8 1527.25 Q1844.49 1528.76 1847.52 1528.76 Q1850.53 1528.76 1852.22 1527.25 Q1853.94 1525.75 1853.94 1523.06 Q1853.94 1520.38 1852.22 1518.87 Q1850.53 1517.37 1847.52 1517.37 Q1844.49 1517.37 1842.8 1518.87 Q1841.13 1520.38 1841.13 1523.06 Z\" fill=\"#000000\" fill-rule=\"nonzero\" fill-opacity=\"1\" /><path clip-path=\"url(#clip520)\" d=\"M2267.35 1544.91 L2274.99 1544.91 L2274.99 1518.55 L2266.68 1520.21 L2266.68 1515.95 L2274.94 1514.29 L2279.62 1514.29 L2279.62 1544.91 L2287.26 1544.91 L2287.26 1548.85 L2267.35 1548.85 L2267.35 1544.91 Z\" fill=\"#000000\" fill-rule=\"nonzero\" fill-opacity=\"1\" /><path clip-path=\"url(#clip520)\" d=\"M2306.7 1517.37 Q2303.09 1517.37 2301.26 1520.93 Q2299.46 1524.47 2299.46 1531.6 Q2299.46 1538.71 2301.26 1542.27 Q2303.09 1545.82 2306.7 1545.82 Q2310.34 1545.82 2312.14 1542.27 Q2313.97 1538.71 2313.97 1531.6 Q2313.97 1524.47 2312.14 1520.93 Q2310.34 1517.37 2306.7 1517.37 M2306.7 1513.66 Q2312.51 1513.66 2315.57 1518.27 Q2318.65 1522.85 2318.65 1531.6 Q2318.65 1540.33 2315.57 1544.94 Q2312.51 1549.52 2306.7 1549.52 Q2300.89 1549.52 2297.81 1544.94 Q2294.76 1540.33 2294.76 1531.6 Q2294.76 1522.85 2297.81 1518.27 Q2300.89 1513.66 2306.7 1513.66 Z\" fill=\"#000000\" fill-rule=\"nonzero\" fill-opacity=\"1\" /><polyline clip-path=\"url(#clip522)\" style=\"stroke:#000000; stroke-linecap:round; stroke-linejoin:round; stroke-width:2; stroke-opacity:0.1; fill:none\" points=\"229.445,1485.35 2352.76,1485.35 \"/>\n",
       "<polyline clip-path=\"url(#clip522)\" style=\"stroke:#000000; stroke-linecap:round; stroke-linejoin:round; stroke-width:2; stroke-opacity:0.1; fill:none\" points=\"229.445,1183.64 2352.76,1183.64 \"/>\n",
       "<polyline clip-path=\"url(#clip522)\" style=\"stroke:#000000; stroke-linecap:round; stroke-linejoin:round; stroke-width:2; stroke-opacity:0.1; fill:none\" points=\"229.445,881.925 2352.76,881.925 \"/>\n",
       "<polyline clip-path=\"url(#clip522)\" style=\"stroke:#000000; stroke-linecap:round; stroke-linejoin:round; stroke-width:2; stroke-opacity:0.1; fill:none\" points=\"229.445,580.211 2352.76,580.211 \"/>\n",
       "<polyline clip-path=\"url(#clip522)\" style=\"stroke:#000000; stroke-linecap:round; stroke-linejoin:round; stroke-width:2; stroke-opacity:0.1; fill:none\" points=\"229.445,278.497 2352.76,278.497 \"/>\n",
       "<polyline clip-path=\"url(#clip520)\" style=\"stroke:#000000; stroke-linecap:round; stroke-linejoin:round; stroke-width:4; stroke-opacity:1; fill:none\" points=\"229.445,1486.45 229.445,47.2441 \"/>\n",
       "<polyline clip-path=\"url(#clip520)\" style=\"stroke:#000000; stroke-linecap:round; stroke-linejoin:round; stroke-width:4; stroke-opacity:1; fill:none\" points=\"229.445,1485.35 248.343,1485.35 \"/>\n",
       "<polyline clip-path=\"url(#clip520)\" style=\"stroke:#000000; stroke-linecap:round; stroke-linejoin:round; stroke-width:4; stroke-opacity:1; fill:none\" points=\"229.445,1183.64 248.343,1183.64 \"/>\n",
       "<polyline clip-path=\"url(#clip520)\" style=\"stroke:#000000; stroke-linecap:round; stroke-linejoin:round; stroke-width:4; stroke-opacity:1; fill:none\" points=\"229.445,881.925 248.343,881.925 \"/>\n",
       "<polyline clip-path=\"url(#clip520)\" style=\"stroke:#000000; stroke-linecap:round; stroke-linejoin:round; stroke-width:4; stroke-opacity:1; fill:none\" points=\"229.445,580.211 248.343,580.211 \"/>\n",
       "<polyline clip-path=\"url(#clip520)\" style=\"stroke:#000000; stroke-linecap:round; stroke-linejoin:round; stroke-width:4; stroke-opacity:1; fill:none\" points=\"229.445,278.497 248.343,278.497 \"/>\n",
       "<path clip-path=\"url(#clip520)\" d=\"M91.5938 1483.49 Q88.4456 1483.49 86.5938 1485.64 Q84.7651 1487.79 84.7651 1491.54 Q84.7651 1495.27 86.5938 1497.45 Q88.4456 1499.6 91.5938 1499.6 Q94.7419 1499.6 96.5706 1497.45 Q98.4224 1495.27 98.4224 1491.54 Q98.4224 1487.79 96.5706 1485.64 Q94.7419 1483.49 91.5938 1483.49 M100.876 1468.84 L100.876 1473.1 Q99.1169 1472.26 97.3113 1471.82 Q95.5289 1471.38 93.7697 1471.38 Q89.1401 1471.38 86.6864 1474.51 Q84.2558 1477.63 83.9086 1483.95 Q85.2743 1481.94 87.3345 1480.87 Q89.3947 1479.79 91.8715 1479.79 Q97.0798 1479.79 100.089 1482.96 Q103.121 1486.1 103.121 1491.54 Q103.121 1496.87 99.9733 1500.09 Q96.8252 1503.3 91.5938 1503.3 Q85.5984 1503.3 82.4271 1498.72 Q79.2559 1494.11 79.2559 1485.39 Q79.2559 1477.19 83.1447 1472.33 Q87.0336 1467.45 93.5845 1467.45 Q95.3437 1467.45 97.1261 1467.79 Q98.9317 1468.14 100.876 1468.84 Z\" fill=\"#000000\" fill-rule=\"nonzero\" fill-opacity=\"1\" /><path clip-path=\"url(#clip520)\" d=\"M121.177 1471.15 Q117.566 1471.15 115.737 1474.72 Q113.932 1478.26 113.932 1485.39 Q113.932 1492.49 115.737 1496.06 Q117.566 1499.6 121.177 1499.6 Q124.811 1499.6 126.617 1496.06 Q128.445 1492.49 128.445 1485.39 Q128.445 1478.26 126.617 1474.72 Q124.811 1471.15 121.177 1471.15 M121.177 1467.45 Q126.987 1467.45 130.043 1472.05 Q133.121 1476.64 133.121 1485.39 Q133.121 1494.11 130.043 1498.72 Q126.987 1503.3 121.177 1503.3 Q115.367 1503.3 112.288 1498.72 Q109.233 1494.11 109.233 1485.39 Q109.233 1476.64 112.288 1472.05 Q115.367 1467.45 121.177 1467.45 Z\" fill=\"#000000\" fill-rule=\"nonzero\" fill-opacity=\"1\" /><path clip-path=\"url(#clip520)\" d=\"M151.339 1471.15 Q147.728 1471.15 145.899 1474.72 Q144.093 1478.26 144.093 1485.39 Q144.093 1492.49 145.899 1496.06 Q147.728 1499.6 151.339 1499.6 Q154.973 1499.6 156.779 1496.06 Q158.607 1492.49 158.607 1485.39 Q158.607 1478.26 156.779 1474.72 Q154.973 1471.15 151.339 1471.15 M151.339 1467.45 Q157.149 1467.45 160.205 1472.05 Q163.283 1476.64 163.283 1485.39 Q163.283 1494.11 160.205 1498.72 Q157.149 1503.3 151.339 1503.3 Q145.529 1503.3 142.45 1498.72 Q139.394 1494.11 139.394 1485.39 Q139.394 1476.64 142.45 1472.05 Q145.529 1467.45 151.339 1467.45 Z\" fill=\"#000000\" fill-rule=\"nonzero\" fill-opacity=\"1\" /><path clip-path=\"url(#clip520)\" d=\"M181.501 1471.15 Q177.89 1471.15 176.061 1474.72 Q174.255 1478.26 174.255 1485.39 Q174.255 1492.49 176.061 1496.06 Q177.89 1499.6 181.501 1499.6 Q185.135 1499.6 186.94 1496.06 Q188.769 1492.49 188.769 1485.39 Q188.769 1478.26 186.94 1474.72 Q185.135 1471.15 181.501 1471.15 M181.501 1467.45 Q187.311 1467.45 190.366 1472.05 Q193.445 1476.64 193.445 1485.39 Q193.445 1494.11 190.366 1498.72 Q187.311 1503.3 181.501 1503.3 Q175.691 1503.3 172.612 1498.72 Q169.556 1494.11 169.556 1485.39 Q169.556 1476.64 172.612 1472.05 Q175.691 1467.45 181.501 1467.45 Z\" fill=\"#000000\" fill-rule=\"nonzero\" fill-opacity=\"1\" /><path clip-path=\"url(#clip520)\" d=\"M91.0151 1184.51 Q87.6817 1184.51 85.7605 1186.29 Q83.8623 1188.07 83.8623 1191.2 Q83.8623 1194.32 85.7605 1196.1 Q87.6817 1197.89 91.0151 1197.89 Q94.3484 1197.89 96.2697 1196.1 Q98.1909 1194.3 98.1909 1191.2 Q98.1909 1188.07 96.2697 1186.29 Q94.3715 1184.51 91.0151 1184.51 M86.3392 1182.52 Q83.3299 1181.78 81.6401 1179.72 Q79.9735 1177.65 79.9735 1174.69 Q79.9735 1170.55 82.9133 1168.14 Q85.8762 1165.73 91.0151 1165.73 Q96.1771 1165.73 99.1169 1168.14 Q102.057 1170.55 102.057 1174.69 Q102.057 1177.65 100.367 1179.72 Q98.7002 1181.78 95.7141 1182.52 Q99.0937 1183.3 100.969 1185.59 Q102.867 1187.89 102.867 1191.2 Q102.867 1196.22 99.7882 1198.9 Q96.7326 1201.59 91.0151 1201.59 Q85.2975 1201.59 82.2188 1198.9 Q79.1633 1196.22 79.1633 1191.2 Q79.1633 1187.89 81.0614 1185.59 Q82.9595 1183.3 86.3392 1182.52 M84.6262 1175.13 Q84.6262 1177.82 86.2929 1179.32 Q87.9827 1180.83 91.0151 1180.83 Q94.0243 1180.83 95.7141 1179.32 Q97.4271 1177.82 97.4271 1175.13 Q97.4271 1172.45 95.7141 1170.94 Q94.0243 1169.44 91.0151 1169.44 Q87.9827 1169.44 86.2929 1170.94 Q84.6262 1172.45 84.6262 1175.13 Z\" fill=\"#000000\" fill-rule=\"nonzero\" fill-opacity=\"1\" /><path clip-path=\"url(#clip520)\" d=\"M121.177 1169.44 Q117.566 1169.44 115.737 1173 Q113.932 1176.54 113.932 1183.67 Q113.932 1190.78 115.737 1194.34 Q117.566 1197.89 121.177 1197.89 Q124.811 1197.89 126.617 1194.34 Q128.445 1190.78 128.445 1183.67 Q128.445 1176.54 126.617 1173 Q124.811 1169.44 121.177 1169.44 M121.177 1165.73 Q126.987 1165.73 130.043 1170.34 Q133.121 1174.92 133.121 1183.67 Q133.121 1192.4 130.043 1197.01 Q126.987 1201.59 121.177 1201.59 Q115.367 1201.59 112.288 1197.01 Q109.233 1192.4 109.233 1183.67 Q109.233 1174.92 112.288 1170.34 Q115.367 1165.73 121.177 1165.73 Z\" fill=\"#000000\" fill-rule=\"nonzero\" fill-opacity=\"1\" /><path clip-path=\"url(#clip520)\" d=\"M151.339 1169.44 Q147.728 1169.44 145.899 1173 Q144.093 1176.54 144.093 1183.67 Q144.093 1190.78 145.899 1194.34 Q147.728 1197.89 151.339 1197.89 Q154.973 1197.89 156.779 1194.34 Q158.607 1190.78 158.607 1183.67 Q158.607 1176.54 156.779 1173 Q154.973 1169.44 151.339 1169.44 M151.339 1165.73 Q157.149 1165.73 160.205 1170.34 Q163.283 1174.92 163.283 1183.67 Q163.283 1192.4 160.205 1197.01 Q157.149 1201.59 151.339 1201.59 Q145.529 1201.59 142.45 1197.01 Q139.394 1192.4 139.394 1183.67 Q139.394 1174.92 142.45 1170.34 Q145.529 1165.73 151.339 1165.73 Z\" fill=\"#000000\" fill-rule=\"nonzero\" fill-opacity=\"1\" /><path clip-path=\"url(#clip520)\" d=\"M181.501 1169.44 Q177.89 1169.44 176.061 1173 Q174.255 1176.54 174.255 1183.67 Q174.255 1190.78 176.061 1194.34 Q177.89 1197.89 181.501 1197.89 Q185.135 1197.89 186.94 1194.34 Q188.769 1190.78 188.769 1183.67 Q188.769 1176.54 186.94 1173 Q185.135 1169.44 181.501 1169.44 M181.501 1165.73 Q187.311 1165.73 190.366 1170.34 Q193.445 1174.92 193.445 1183.67 Q193.445 1192.4 190.366 1197.01 Q187.311 1201.59 181.501 1201.59 Q175.691 1201.59 172.612 1197.01 Q169.556 1192.4 169.556 1183.67 Q169.556 1174.92 172.612 1170.34 Q175.691 1165.73 181.501 1165.73 Z\" fill=\"#000000\" fill-rule=\"nonzero\" fill-opacity=\"1\" /><path clip-path=\"url(#clip520)\" d=\"M51.6634 895.27 L59.3023 895.27 L59.3023 868.904 L50.9921 870.571 L50.9921 866.311 L59.256 864.645 L63.9319 864.645 L63.9319 895.27 L71.5707 895.27 L71.5707 899.205 L51.6634 899.205 L51.6634 895.27 Z\" fill=\"#000000\" fill-rule=\"nonzero\" fill-opacity=\"1\" /><path clip-path=\"url(#clip520)\" d=\"M91.0151 867.723 Q87.404 867.723 85.5753 871.288 Q83.7697 874.83 83.7697 881.96 Q83.7697 889.066 85.5753 892.631 Q87.404 896.172 91.0151 896.172 Q94.6493 896.172 96.4548 892.631 Q98.2835 889.066 98.2835 881.96 Q98.2835 874.83 96.4548 871.288 Q94.6493 867.723 91.0151 867.723 M91.0151 864.02 Q96.8252 864.02 99.8808 868.626 Q102.959 873.21 102.959 881.96 Q102.959 890.686 99.8808 895.293 Q96.8252 899.876 91.0151 899.876 Q85.2049 899.876 82.1262 895.293 Q79.0707 890.686 79.0707 881.96 Q79.0707 873.21 82.1262 868.626 Q85.2049 864.02 91.0151 864.02 Z\" fill=\"#000000\" fill-rule=\"nonzero\" fill-opacity=\"1\" /><path clip-path=\"url(#clip520)\" d=\"M121.177 867.723 Q117.566 867.723 115.737 871.288 Q113.932 874.83 113.932 881.96 Q113.932 889.066 115.737 892.631 Q117.566 896.172 121.177 896.172 Q124.811 896.172 126.617 892.631 Q128.445 889.066 128.445 881.96 Q128.445 874.83 126.617 871.288 Q124.811 867.723 121.177 867.723 M121.177 864.02 Q126.987 864.02 130.043 868.626 Q133.121 873.21 133.121 881.96 Q133.121 890.686 130.043 895.293 Q126.987 899.876 121.177 899.876 Q115.367 899.876 112.288 895.293 Q109.233 890.686 109.233 881.96 Q109.233 873.21 112.288 868.626 Q115.367 864.02 121.177 864.02 Z\" fill=\"#000000\" fill-rule=\"nonzero\" fill-opacity=\"1\" /><path clip-path=\"url(#clip520)\" d=\"M151.339 867.723 Q147.728 867.723 145.899 871.288 Q144.093 874.83 144.093 881.96 Q144.093 889.066 145.899 892.631 Q147.728 896.172 151.339 896.172 Q154.973 896.172 156.779 892.631 Q158.607 889.066 158.607 881.96 Q158.607 874.83 156.779 871.288 Q154.973 867.723 151.339 867.723 M151.339 864.02 Q157.149 864.02 160.205 868.626 Q163.283 873.21 163.283 881.96 Q163.283 890.686 160.205 895.293 Q157.149 899.876 151.339 899.876 Q145.529 899.876 142.45 895.293 Q139.394 890.686 139.394 881.96 Q139.394 873.21 142.45 868.626 Q145.529 864.02 151.339 864.02 Z\" fill=\"#000000\" fill-rule=\"nonzero\" fill-opacity=\"1\" /><path clip-path=\"url(#clip520)\" d=\"M181.501 867.723 Q177.89 867.723 176.061 871.288 Q174.255 874.83 174.255 881.96 Q174.255 889.066 176.061 892.631 Q177.89 896.172 181.501 896.172 Q185.135 896.172 186.94 892.631 Q188.769 889.066 188.769 881.96 Q188.769 874.83 186.94 871.288 Q185.135 867.723 181.501 867.723 M181.501 864.02 Q187.311 864.02 190.366 868.626 Q193.445 873.21 193.445 881.96 Q193.445 890.686 190.366 895.293 Q187.311 899.876 181.501 899.876 Q175.691 899.876 172.612 895.293 Q169.556 890.686 169.556 881.96 Q169.556 873.21 172.612 868.626 Q175.691 864.02 181.501 864.02 Z\" fill=\"#000000\" fill-rule=\"nonzero\" fill-opacity=\"1\" /><path clip-path=\"url(#clip520)\" d=\"M51.6634 593.556 L59.3023 593.556 L59.3023 567.19 L50.9921 568.857 L50.9921 564.598 L59.256 562.931 L63.9319 562.931 L63.9319 593.556 L71.5707 593.556 L71.5707 597.491 L51.6634 597.491 L51.6634 593.556 Z\" fill=\"#000000\" fill-rule=\"nonzero\" fill-opacity=\"1\" /><path clip-path=\"url(#clip520)\" d=\"M85.0429 593.556 L101.362 593.556 L101.362 597.491 L79.4179 597.491 L79.4179 593.556 Q82.0799 590.801 86.6632 586.171 Q91.2697 581.519 92.4502 580.176 Q94.6956 577.653 95.5752 575.917 Q96.478 574.158 96.478 572.468 Q96.478 569.713 94.5336 567.977 Q92.6123 566.241 89.5104 566.241 Q87.3114 566.241 84.8577 567.005 Q82.4271 567.769 79.6494 569.32 L79.6494 564.598 Q82.4734 563.463 84.9271 562.885 Q87.3808 562.306 89.4178 562.306 Q94.7882 562.306 97.9826 564.991 Q101.177 567.676 101.177 572.167 Q101.177 574.297 100.367 576.218 Q99.5798 578.116 97.4734 580.709 Q96.8947 581.38 93.7928 584.597 Q90.691 587.792 85.0429 593.556 Z\" fill=\"#000000\" fill-rule=\"nonzero\" fill-opacity=\"1\" /><path clip-path=\"url(#clip520)\" d=\"M121.177 566.01 Q117.566 566.01 115.737 569.574 Q113.932 573.116 113.932 580.246 Q113.932 587.352 115.737 590.917 Q117.566 594.458 121.177 594.458 Q124.811 594.458 126.617 590.917 Q128.445 587.352 128.445 580.246 Q128.445 573.116 126.617 569.574 Q124.811 566.01 121.177 566.01 M121.177 562.306 Q126.987 562.306 130.043 566.912 Q133.121 571.496 133.121 580.246 Q133.121 588.972 130.043 593.579 Q126.987 598.162 121.177 598.162 Q115.367 598.162 112.288 593.579 Q109.233 588.972 109.233 580.246 Q109.233 571.496 112.288 566.912 Q115.367 562.306 121.177 562.306 Z\" fill=\"#000000\" fill-rule=\"nonzero\" fill-opacity=\"1\" /><path clip-path=\"url(#clip520)\" d=\"M151.339 566.01 Q147.728 566.01 145.899 569.574 Q144.093 573.116 144.093 580.246 Q144.093 587.352 145.899 590.917 Q147.728 594.458 151.339 594.458 Q154.973 594.458 156.779 590.917 Q158.607 587.352 158.607 580.246 Q158.607 573.116 156.779 569.574 Q154.973 566.01 151.339 566.01 M151.339 562.306 Q157.149 562.306 160.205 566.912 Q163.283 571.496 163.283 580.246 Q163.283 588.972 160.205 593.579 Q157.149 598.162 151.339 598.162 Q145.529 598.162 142.45 593.579 Q139.394 588.972 139.394 580.246 Q139.394 571.496 142.45 566.912 Q145.529 562.306 151.339 562.306 Z\" fill=\"#000000\" fill-rule=\"nonzero\" fill-opacity=\"1\" /><path clip-path=\"url(#clip520)\" d=\"M181.501 566.01 Q177.89 566.01 176.061 569.574 Q174.255 573.116 174.255 580.246 Q174.255 587.352 176.061 590.917 Q177.89 594.458 181.501 594.458 Q185.135 594.458 186.94 590.917 Q188.769 587.352 188.769 580.246 Q188.769 573.116 186.94 569.574 Q185.135 566.01 181.501 566.01 M181.501 562.306 Q187.311 562.306 190.366 566.912 Q193.445 571.496 193.445 580.246 Q193.445 588.972 190.366 593.579 Q187.311 598.162 181.501 598.162 Q175.691 598.162 172.612 593.579 Q169.556 588.972 169.556 580.246 Q169.556 571.496 172.612 566.912 Q175.691 562.306 181.501 562.306 Z\" fill=\"#000000\" fill-rule=\"nonzero\" fill-opacity=\"1\" /><path clip-path=\"url(#clip520)\" d=\"M51.6634 291.842 L59.3023 291.842 L59.3023 265.476 L50.9921 267.143 L50.9921 262.884 L59.256 261.217 L63.9319 261.217 L63.9319 291.842 L71.5707 291.842 L71.5707 295.777 L51.6634 295.777 L51.6634 291.842 Z\" fill=\"#000000\" fill-rule=\"nonzero\" fill-opacity=\"1\" /><path clip-path=\"url(#clip520)\" d=\"M93.8623 265.291 L82.0568 283.74 L93.8623 283.74 L93.8623 265.291 M92.6354 261.217 L98.515 261.217 L98.515 283.74 L103.446 283.74 L103.446 287.629 L98.515 287.629 L98.515 295.777 L93.8623 295.777 L93.8623 287.629 L78.2605 287.629 L78.2605 283.115 L92.6354 261.217 Z\" fill=\"#000000\" fill-rule=\"nonzero\" fill-opacity=\"1\" /><path clip-path=\"url(#clip520)\" d=\"M121.177 264.296 Q117.566 264.296 115.737 267.86 Q113.932 271.402 113.932 278.532 Q113.932 285.638 115.737 289.203 Q117.566 292.745 121.177 292.745 Q124.811 292.745 126.617 289.203 Q128.445 285.638 128.445 278.532 Q128.445 271.402 126.617 267.86 Q124.811 264.296 121.177 264.296 M121.177 260.592 Q126.987 260.592 130.043 265.198 Q133.121 269.782 133.121 278.532 Q133.121 287.258 130.043 291.865 Q126.987 296.448 121.177 296.448 Q115.367 296.448 112.288 291.865 Q109.233 287.258 109.233 278.532 Q109.233 269.782 112.288 265.198 Q115.367 260.592 121.177 260.592 Z\" fill=\"#000000\" fill-rule=\"nonzero\" fill-opacity=\"1\" /><path clip-path=\"url(#clip520)\" d=\"M151.339 264.296 Q147.728 264.296 145.899 267.86 Q144.093 271.402 144.093 278.532 Q144.093 285.638 145.899 289.203 Q147.728 292.745 151.339 292.745 Q154.973 292.745 156.779 289.203 Q158.607 285.638 158.607 278.532 Q158.607 271.402 156.779 267.86 Q154.973 264.296 151.339 264.296 M151.339 260.592 Q157.149 260.592 160.205 265.198 Q163.283 269.782 163.283 278.532 Q163.283 287.258 160.205 291.865 Q157.149 296.448 151.339 296.448 Q145.529 296.448 142.45 291.865 Q139.394 287.258 139.394 278.532 Q139.394 269.782 142.45 265.198 Q145.529 260.592 151.339 260.592 Z\" fill=\"#000000\" fill-rule=\"nonzero\" fill-opacity=\"1\" /><path clip-path=\"url(#clip520)\" d=\"M181.501 264.296 Q177.89 264.296 176.061 267.86 Q174.255 271.402 174.255 278.532 Q174.255 285.638 176.061 289.203 Q177.89 292.745 181.501 292.745 Q185.135 292.745 186.94 289.203 Q188.769 285.638 188.769 278.532 Q188.769 271.402 186.94 267.86 Q185.135 264.296 181.501 264.296 M181.501 260.592 Q187.311 260.592 190.366 265.198 Q193.445 269.782 193.445 278.532 Q193.445 287.258 190.366 291.865 Q187.311 296.448 181.501 296.448 Q175.691 296.448 172.612 291.865 Q169.556 287.258 169.556 278.532 Q169.556 269.782 172.612 265.198 Q175.691 260.592 181.501 260.592 Z\" fill=\"#000000\" fill-rule=\"nonzero\" fill-opacity=\"1\" /><polyline clip-path=\"url(#clip522)\" style=\"stroke:#009af9; stroke-linecap:round; stroke-linejoin:round; stroke-width:4; stroke-opacity:1; fill:none\" points=\"289.539,87.9763 512.108,1218.51 734.677,1432.36 957.247,1444.93 1179.82,1445.57 1402.39,1445.42 1624.95,1445.53 1847.52,1445.72 2070.09,1445.59 2292.66,1445.64 \"/>\n",
       "<path clip-path=\"url(#clip520)\" d=\"M2017.22 198.898 L2281.98 198.898 L2281.98 95.2176 L2017.22 95.2176  Z\" fill=\"#ffffff\" fill-rule=\"evenodd\" fill-opacity=\"1\"/>\n",
       "<polyline clip-path=\"url(#clip520)\" style=\"stroke:#000000; stroke-linecap:round; stroke-linejoin:round; stroke-width:4; stroke-opacity:1; fill:none\" points=\"2017.22,198.898 2281.98,198.898 2281.98,95.2176 2017.22,95.2176 2017.22,198.898 \"/>\n",
       "<polyline clip-path=\"url(#clip520)\" style=\"stroke:#009af9; stroke-linecap:round; stroke-linejoin:round; stroke-width:4; stroke-opacity:1; fill:none\" points=\"2040.81,147.058 2182.36,147.058 \"/>\n",
       "<path clip-path=\"url(#clip520)\" d=\"M2219.8 166.745 Q2217.99 171.375 2216.28 172.787 Q2214.57 174.199 2211.7 174.199 L2208.29 174.199 L2208.29 170.634 L2210.79 170.634 Q2212.55 170.634 2213.53 169.8 Q2214.5 168.967 2215.68 165.865 L2216.44 163.921 L2205.96 138.412 L2210.47 138.412 L2218.57 158.689 L2226.67 138.412 L2231.19 138.412 L2219.8 166.745 Z\" fill=\"#000000\" fill-rule=\"nonzero\" fill-opacity=\"1\" /><path clip-path=\"url(#clip520)\" d=\"M2238.48 160.402 L2246.12 160.402 L2246.12 134.037 L2237.81 135.703 L2237.81 131.444 L2246.07 129.778 L2250.75 129.778 L2250.75 160.402 L2258.39 160.402 L2258.39 164.338 L2238.48 164.338 L2238.48 160.402 Z\" fill=\"#000000\" fill-rule=\"nonzero\" fill-opacity=\"1\" /></svg>\n"
      ]
     },
     "execution_count": 37,
     "metadata": {},
     "output_type": "execute_result"
    }
   ],
   "source": [
    "plot(results.free_energy[1:end])"
   ]
  },
  {
   "cell_type": "code",
   "execution_count": 10,
   "metadata": {},
   "outputs": [],
   "source": [
    "open(\"estimations/cvi_sunspot_results.csv\", \"w\") do io\n",
    "    writedlm(io, [means ribbon])\n",
    "end"
   ]
  },
  {
   "cell_type": "code",
   "execution_count": null,
   "metadata": {},
   "outputs": [],
   "source": []
  }
 ],
 "metadata": {
  "kernelspec": {
   "display_name": "Julia 1.8.5",
   "language": "julia",
   "name": "julia-1.8"
  },
  "language_info": {
   "file_extension": ".jl",
   "mimetype": "application/julia",
   "name": "julia",
   "version": "1.8.5"
  }
 },
 "nbformat": 4,
 "nbformat_minor": 2
}
