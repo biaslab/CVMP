{
 "cells": [
  {
   "cell_type": "code",
   "execution_count": 1,
   "metadata": {},
   "outputs": [],
   "source": [
    "using Revise\n",
    "using RxInfer, Random, LinearAlgebra, Distributions, Plots, StatsPlots, Flux, DelimitedFiles, StableRNGs\n",
    "using ReactiveMP\n",
    "using CCMP\n",
    "using Base\n",
    "using BenchmarkTools"
   ]
  },
  {
   "cell_type": "code",
   "execution_count": 2,
   "metadata": {},
   "outputs": [],
   "source": [
    "function Base.prod(::ProdAnalytical, left::GammaShapeRate{Float64}, right::ContinuousUnivariateLogPdf)\n",
    "#     rng, nr_samples, nr_iterations, optimizer = StableRNG(42), 1, 10, Flux.Adam(0.01)\n",
    "#     cvi = CVI(rng, nr_samples, nr_iterations, optimizer, ForwardDiffGrad(), 20, Val(true), true)\n",
    "#     return ReactiveMP.prod(cvi, left, right)\n",
    "    _, sample_friendly = ReactiveMP.logpdf_sample_friendly(left)\n",
    "    # @show sample_friendly\n",
    "    samples = rand(StableRNG(42), sample_friendly, 100)\n",
    "    weights = pdf.(Ref(right), samples)\n",
    "    # weights = weights ./ sum(weights)\n",
    "    return convert(GammaShapeRate, Distributions.fit(Gamma, samples, weights))\n",
    "end"
   ]
  },
  {
   "cell_type": "code",
   "execution_count": 3,
   "metadata": {},
   "outputs": [],
   "source": [
    "# define CVMP forward rule\n",
    "@rule DeltaFn(:out, Marginalisation) (q_ins::ReactiveMP.FactorizedJoint{P}, meta::ReactiveMP.DeltaMeta{M}) where {P <: NTuple{1}, M <: CVI} = begin\n",
    "    method = ReactiveMP.getmethod(meta)\n",
    "    node = getnode()\n",
    "    m_out = Rocket.getrecent(ReactiveMP.messagein(node.out))\n",
    "    m_ins = Rocket.getrecent.(ReactiveMP.messagein.(node.ins))\n",
    "\n",
    "    projected_m_out = CCMP.proj(method, GammaShapeRate, getdata(m_out)) \n",
    "    \n",
    "    # @show m_ins\n",
    "    q_y_params = naturalparams(prod(method, getdata(m_ins[1]), projected_m_out, q_ins[1], getnodefn(Val(:out))))\n",
    "    # @show q_y_params\n",
    "    # @show naturalparams(projected_m_out)\n",
    "    return convert(Distribution, q_y_params - naturalparams(projected_m_out))\n",
    "end"
   ]
  },
  {
   "cell_type": "markdown",
   "metadata": {},
   "source": [
    "<!-- ┌ Info: HERE!\n",
    "└ @ Main /Users/sabinamakhmudova/repos/CVMP/demos/sunspot_gamma.ipynb:7\n",
    "┌ Info: ReactiveMP.FactorizedJoint{Tuple{GammaShapeRate{Float64}}}((GammaShapeRate{Float64}(a=13605.986147431206, b=13.435354995502149),))\n",
    "└ @ Main /Users/sabinamakhmudova/repos/CVMP/demos/sunspot_gamma.ipynb:8\n",
    "┌ Info: (Message(Gamma{Float64}(α=1000.0, θ=1.0)),)\n",
    "└ @ Main /Users/sabinamakhmudova/repos/CVMP/demos/sunspot_gamma.ipynb:9\n",
    "┌ Info: Message(GammaShapeRate{Float64}(a=1.0, b=1.0))\n",
    "└ @ Main /Users/sabinamakhmudova/repos/CVMP/demos/sunspot_gamma.ipynb:10\n",
    "Output exceeds the size limit. Open the full output data in a text editorMethodError: no method matching prod(::ProdCVI{StableRNGs.LehmerRNG, Descent, ForwardDiffGrad, false}, ::Gamma{Float64}, ::GammaShapeRate{Float64}, ::GammaShapeRate{Float64}, ::typeof(identity))\n",
    "Closest candidates are:\n",
    "  prod(!Matched::ProdGeneric, ::Any, ::Any, ::Any, ::Any, !Matched::DistProduct, !Matched::DistProduct) at ~/.julia/packages/ReactiveMP/Dm45i/src/constraints/prod/prod_generic.jl:123\n",
    "  prod(::ProdCVI, ::Any, ::Any) at ~/.julia/packages/ReactiveMP/Dm45i/src/approximations/cvi.jl:93\n",
    "  prod(!Matched::ReactiveMP.EqualityChain, ::Any, ::Any) at ~/.julia/packages/ReactiveMP/Dm45i/src/nodes/equality.jl:78\n",
    "  ... -->\n"
   ]
  },
  {
   "cell_type": "code",
   "execution_count": 4,
   "metadata": {},
   "outputs": [],
   "source": [
    "# to check that matched with Semih\n",
    "sunspot_semih = readdlm(\"data/SN_Akbayrak.csv\")\n",
    "semih_observations = map(Int, sunspot_semih[:,2]);"
   ]
  },
  {
   "cell_type": "markdown",
   "metadata": {},
   "source": [
    "5 colums dataset\n",
    "https://www.sidc.be/silso/infosnytot\n",
    "Contents:\n",
    "\n",
    "Column 1: Gregorian calendar year (mid-year date)\n",
    "\n",
    "Column 2: Yearly mean total sunspot number.\n",
    "\n",
    "Column 3: Yearly mean standard deviation of the input sunspot numbers from individual stations.\n",
    "\n",
    "Column 4: Number of observations used to compute the yearly mean total sunspot number.\n",
    "\n",
    "Column 5: Definitive/provisional marker. A blank indicates that the value is definitive. A '*' symbol indicates that the"
   ]
  },
  {
   "cell_type": "code",
   "execution_count": 5,
   "metadata": {},
   "outputs": [
    {
     "data": {
      "image/svg+xml": [
       "<?xml version=\"1.0\" encoding=\"utf-8\"?>\n",
       "<svg xmlns=\"http://www.w3.org/2000/svg\" xmlns:xlink=\"http://www.w3.org/1999/xlink\" width=\"600\" height=\"400\" viewBox=\"0 0 2400 1600\">\n",
       "<defs>\n",
       "  <clipPath id=\"clip370\">\n",
       "    <rect x=\"0\" y=\"0\" width=\"2400\" height=\"1600\"/>\n",
       "  </clipPath>\n",
       "</defs>\n",
       "<path clip-path=\"url(#clip370)\" d=\"M0 1600 L2400 1600 L2400 0 L0 0  Z\" fill=\"#ffffff\" fill-rule=\"evenodd\" fill-opacity=\"1\"/>\n",
       "<defs>\n",
       "  <clipPath id=\"clip371\">\n",
       "    <rect x=\"480\" y=\"0\" width=\"1681\" height=\"1600\"/>\n",
       "  </clipPath>\n",
       "</defs>\n",
       "<path clip-path=\"url(#clip370)\" d=\"M170.857 1486.45 L2352.76 1486.45 L2352.76 47.2441 L170.857 47.2441  Z\" fill=\"#ffffff\" fill-rule=\"evenodd\" fill-opacity=\"1\"/>\n",
       "<defs>\n",
       "  <clipPath id=\"clip372\">\n",
       "    <rect x=\"170\" y=\"47\" width=\"2183\" height=\"1440\"/>\n",
       "  </clipPath>\n",
       "</defs>\n",
       "<polyline clip-path=\"url(#clip372)\" style=\"stroke:#000000; stroke-linecap:round; stroke-linejoin:round; stroke-width:2; stroke-opacity:0.1; fill:none\" points=\"205.164,1486.45 205.164,47.2441 \"/>\n",
       "<polyline clip-path=\"url(#clip372)\" style=\"stroke:#000000; stroke-linecap:round; stroke-linejoin:round; stroke-width:2; stroke-opacity:0.1; fill:none\" points=\"754.069,1486.45 754.069,47.2441 \"/>\n",
       "<polyline clip-path=\"url(#clip372)\" style=\"stroke:#000000; stroke-linecap:round; stroke-linejoin:round; stroke-width:2; stroke-opacity:0.1; fill:none\" points=\"1302.97,1486.45 1302.97,47.2441 \"/>\n",
       "<polyline clip-path=\"url(#clip372)\" style=\"stroke:#000000; stroke-linecap:round; stroke-linejoin:round; stroke-width:2; stroke-opacity:0.1; fill:none\" points=\"1851.88,1486.45 1851.88,47.2441 \"/>\n",
       "<polyline clip-path=\"url(#clip370)\" style=\"stroke:#000000; stroke-linecap:round; stroke-linejoin:round; stroke-width:4; stroke-opacity:1; fill:none\" points=\"170.857,1486.45 2352.76,1486.45 \"/>\n",
       "<polyline clip-path=\"url(#clip370)\" style=\"stroke:#000000; stroke-linecap:round; stroke-linejoin:round; stroke-width:4; stroke-opacity:1; fill:none\" points=\"205.164,1486.45 205.164,1467.55 \"/>\n",
       "<polyline clip-path=\"url(#clip370)\" style=\"stroke:#000000; stroke-linecap:round; stroke-linejoin:round; stroke-width:4; stroke-opacity:1; fill:none\" points=\"754.069,1486.45 754.069,1467.55 \"/>\n",
       "<polyline clip-path=\"url(#clip370)\" style=\"stroke:#000000; stroke-linecap:round; stroke-linejoin:round; stroke-width:4; stroke-opacity:1; fill:none\" points=\"1302.97,1486.45 1302.97,1467.55 \"/>\n",
       "<polyline clip-path=\"url(#clip370)\" style=\"stroke:#000000; stroke-linecap:round; stroke-linejoin:round; stroke-width:4; stroke-opacity:1; fill:none\" points=\"1851.88,1486.45 1851.88,1467.55 \"/>\n",
       "<path clip-path=\"url(#clip370)\" d=\"M205.164 1517.37 Q201.553 1517.37 199.724 1520.93 Q197.919 1524.47 197.919 1531.6 Q197.919 1538.71 199.724 1542.27 Q201.553 1545.82 205.164 1545.82 Q208.798 1545.82 210.604 1542.27 Q212.432 1538.71 212.432 1531.6 Q212.432 1524.47 210.604 1520.93 Q208.798 1517.37 205.164 1517.37 M205.164 1513.66 Q210.974 1513.66 214.03 1518.27 Q217.108 1522.85 217.108 1531.6 Q217.108 1540.33 214.03 1544.94 Q210.974 1549.52 205.164 1549.52 Q199.354 1549.52 196.275 1544.94 Q193.22 1540.33 193.22 1531.6 Q193.22 1522.85 196.275 1518.27 Q199.354 1513.66 205.164 1513.66 Z\" fill=\"#000000\" fill-rule=\"nonzero\" fill-opacity=\"1\" /><path clip-path=\"url(#clip370)\" d=\"M732.843 1544.91 L749.162 1544.91 L749.162 1548.85 L727.218 1548.85 L727.218 1544.91 Q729.88 1542.16 734.463 1537.53 Q739.069 1532.88 740.25 1531.53 Q742.495 1529.01 743.375 1527.27 Q744.278 1525.51 744.278 1523.82 Q744.278 1521.07 742.333 1519.33 Q740.412 1517.6 737.31 1517.6 Q735.111 1517.6 732.657 1518.36 Q730.227 1519.13 727.449 1520.68 L727.449 1515.95 Q730.273 1514.82 732.727 1514.24 Q735.18 1513.66 737.218 1513.66 Q742.588 1513.66 745.782 1516.35 Q748.977 1519.03 748.977 1523.52 Q748.977 1525.65 748.167 1527.57 Q747.379 1529.47 745.273 1532.07 Q744.694 1532.74 741.592 1535.95 Q738.491 1539.15 732.843 1544.91 Z\" fill=\"#000000\" fill-rule=\"nonzero\" fill-opacity=\"1\" /><path clip-path=\"url(#clip370)\" d=\"M768.977 1517.37 Q765.366 1517.37 763.537 1520.93 Q761.731 1524.47 761.731 1531.6 Q761.731 1538.71 763.537 1542.27 Q765.366 1545.82 768.977 1545.82 Q772.611 1545.82 774.416 1542.27 Q776.245 1538.71 776.245 1531.6 Q776.245 1524.47 774.416 1520.93 Q772.611 1517.37 768.977 1517.37 M768.977 1513.66 Q774.787 1513.66 777.842 1518.27 Q780.921 1522.85 780.921 1531.6 Q780.921 1540.33 777.842 1544.94 Q774.787 1549.52 768.977 1549.52 Q763.166 1549.52 760.088 1544.94 Q757.032 1540.33 757.032 1531.6 Q757.032 1522.85 760.088 1518.27 Q763.166 1513.66 768.977 1513.66 Z\" fill=\"#000000\" fill-rule=\"nonzero\" fill-opacity=\"1\" /><path clip-path=\"url(#clip370)\" d=\"M1291.15 1518.36 L1279.34 1536.81 L1291.15 1536.81 L1291.15 1518.36 M1289.92 1514.29 L1295.8 1514.29 L1295.8 1536.81 L1300.73 1536.81 L1300.73 1540.7 L1295.8 1540.7 L1295.8 1548.85 L1291.15 1548.85 L1291.15 1540.7 L1275.54 1540.7 L1275.54 1536.19 L1289.92 1514.29 Z\" fill=\"#000000\" fill-rule=\"nonzero\" fill-opacity=\"1\" /><path clip-path=\"url(#clip370)\" d=\"M1318.46 1517.37 Q1314.85 1517.37 1313.02 1520.93 Q1311.22 1524.47 1311.22 1531.6 Q1311.22 1538.71 1313.02 1542.27 Q1314.85 1545.82 1318.46 1545.82 Q1322.09 1545.82 1323.9 1542.27 Q1325.73 1538.71 1325.73 1531.6 Q1325.73 1524.47 1323.9 1520.93 Q1322.09 1517.37 1318.46 1517.37 M1318.46 1513.66 Q1324.27 1513.66 1327.33 1518.27 Q1330.4 1522.85 1330.4 1531.6 Q1330.4 1540.33 1327.33 1544.94 Q1324.27 1549.52 1318.46 1549.52 Q1312.65 1549.52 1309.57 1544.94 Q1306.52 1540.33 1306.52 1531.6 Q1306.52 1522.85 1309.57 1518.27 Q1312.65 1513.66 1318.46 1513.66 Z\" fill=\"#000000\" fill-rule=\"nonzero\" fill-opacity=\"1\" /><path clip-path=\"url(#clip370)\" d=\"M1837.29 1529.7 Q1834.14 1529.7 1832.29 1531.86 Q1830.46 1534.01 1830.46 1537.76 Q1830.46 1541.49 1832.29 1543.66 Q1834.14 1545.82 1837.29 1545.82 Q1840.43 1545.82 1842.26 1543.66 Q1844.11 1541.49 1844.11 1537.76 Q1844.11 1534.01 1842.26 1531.86 Q1840.43 1529.7 1837.29 1529.7 M1846.57 1515.05 L1846.57 1519.31 Q1844.81 1518.48 1843 1518.04 Q1841.22 1517.6 1839.46 1517.6 Q1834.83 1517.6 1832.38 1520.72 Q1829.95 1523.85 1829.6 1530.17 Q1830.97 1528.15 1833.03 1527.09 Q1835.09 1526 1837.56 1526 Q1842.77 1526 1845.78 1529.17 Q1848.81 1532.32 1848.81 1537.76 Q1848.81 1543.08 1845.66 1546.3 Q1842.52 1549.52 1837.29 1549.52 Q1831.29 1549.52 1828.12 1544.94 Q1824.95 1540.33 1824.95 1531.6 Q1824.95 1523.41 1828.84 1518.55 Q1832.72 1513.66 1839.28 1513.66 Q1841.03 1513.66 1842.82 1514.01 Q1844.62 1514.36 1846.57 1515.05 Z\" fill=\"#000000\" fill-rule=\"nonzero\" fill-opacity=\"1\" /><path clip-path=\"url(#clip370)\" d=\"M1866.87 1517.37 Q1863.26 1517.37 1861.43 1520.93 Q1859.62 1524.47 1859.62 1531.6 Q1859.62 1538.71 1861.43 1542.27 Q1863.26 1545.82 1866.87 1545.82 Q1870.5 1545.82 1872.31 1542.27 Q1874.14 1538.71 1874.14 1531.6 Q1874.14 1524.47 1872.31 1520.93 Q1870.5 1517.37 1866.87 1517.37 M1866.87 1513.66 Q1872.68 1513.66 1875.73 1518.27 Q1878.81 1522.85 1878.81 1531.6 Q1878.81 1540.33 1875.73 1544.94 Q1872.68 1549.52 1866.87 1549.52 Q1861.06 1549.52 1857.98 1544.94 Q1854.92 1540.33 1854.92 1531.6 Q1854.92 1522.85 1857.98 1518.27 Q1861.06 1513.66 1866.87 1513.66 Z\" fill=\"#000000\" fill-rule=\"nonzero\" fill-opacity=\"1\" /><polyline clip-path=\"url(#clip372)\" style=\"stroke:#000000; stroke-linecap:round; stroke-linejoin:round; stroke-width:2; stroke-opacity:0.1; fill:none\" points=\"170.857,1466.21 2352.76,1466.21 \"/>\n",
       "<polyline clip-path=\"url(#clip372)\" style=\"stroke:#000000; stroke-linecap:round; stroke-linejoin:round; stroke-width:2; stroke-opacity:0.1; fill:none\" points=\"170.857,1210.03 2352.76,1210.03 \"/>\n",
       "<polyline clip-path=\"url(#clip372)\" style=\"stroke:#000000; stroke-linecap:round; stroke-linejoin:round; stroke-width:2; stroke-opacity:0.1; fill:none\" points=\"170.857,953.855 2352.76,953.855 \"/>\n",
       "<polyline clip-path=\"url(#clip372)\" style=\"stroke:#000000; stroke-linecap:round; stroke-linejoin:round; stroke-width:2; stroke-opacity:0.1; fill:none\" points=\"170.857,697.678 2352.76,697.678 \"/>\n",
       "<polyline clip-path=\"url(#clip372)\" style=\"stroke:#000000; stroke-linecap:round; stroke-linejoin:round; stroke-width:2; stroke-opacity:0.1; fill:none\" points=\"170.857,441.501 2352.76,441.501 \"/>\n",
       "<polyline clip-path=\"url(#clip372)\" style=\"stroke:#000000; stroke-linecap:round; stroke-linejoin:round; stroke-width:2; stroke-opacity:0.1; fill:none\" points=\"170.857,185.324 2352.76,185.324 \"/>\n",
       "<polyline clip-path=\"url(#clip370)\" style=\"stroke:#000000; stroke-linecap:round; stroke-linejoin:round; stroke-width:4; stroke-opacity:1; fill:none\" points=\"170.857,1486.45 170.857,47.2441 \"/>\n",
       "<polyline clip-path=\"url(#clip370)\" style=\"stroke:#000000; stroke-linecap:round; stroke-linejoin:round; stroke-width:4; stroke-opacity:1; fill:none\" points=\"170.857,1466.21 189.755,1466.21 \"/>\n",
       "<polyline clip-path=\"url(#clip370)\" style=\"stroke:#000000; stroke-linecap:round; stroke-linejoin:round; stroke-width:4; stroke-opacity:1; fill:none\" points=\"170.857,1210.03 189.755,1210.03 \"/>\n",
       "<polyline clip-path=\"url(#clip370)\" style=\"stroke:#000000; stroke-linecap:round; stroke-linejoin:round; stroke-width:4; stroke-opacity:1; fill:none\" points=\"170.857,953.855 189.755,953.855 \"/>\n",
       "<polyline clip-path=\"url(#clip370)\" style=\"stroke:#000000; stroke-linecap:round; stroke-linejoin:round; stroke-width:4; stroke-opacity:1; fill:none\" points=\"170.857,697.678 189.755,697.678 \"/>\n",
       "<polyline clip-path=\"url(#clip370)\" style=\"stroke:#000000; stroke-linecap:round; stroke-linejoin:round; stroke-width:4; stroke-opacity:1; fill:none\" points=\"170.857,441.501 189.755,441.501 \"/>\n",
       "<polyline clip-path=\"url(#clip370)\" style=\"stroke:#000000; stroke-linecap:round; stroke-linejoin:round; stroke-width:4; stroke-opacity:1; fill:none\" points=\"170.857,185.324 189.755,185.324 \"/>\n",
       "<path clip-path=\"url(#clip370)\" d=\"M122.913 1452.01 Q119.302 1452.01 117.473 1455.57 Q115.668 1459.12 115.668 1466.24 Q115.668 1473.35 117.473 1476.92 Q119.302 1480.46 122.913 1480.46 Q126.547 1480.46 128.353 1476.92 Q130.182 1473.35 130.182 1466.24 Q130.182 1459.12 128.353 1455.57 Q126.547 1452.01 122.913 1452.01 M122.913 1448.3 Q128.723 1448.3 131.779 1452.91 Q134.857 1457.49 134.857 1466.24 Q134.857 1474.97 131.779 1479.58 Q128.723 1484.16 122.913 1484.16 Q117.103 1484.16 114.024 1479.58 Q110.969 1474.97 110.969 1466.24 Q110.969 1457.49 114.024 1452.91 Q117.103 1448.3 122.913 1448.3 Z\" fill=\"#000000\" fill-rule=\"nonzero\" fill-opacity=\"1\" /><path clip-path=\"url(#clip370)\" d=\"M82.7975 1192.75 L101.154 1192.75 L101.154 1196.69 L87.0799 1196.69 L87.0799 1205.16 Q88.0984 1204.81 89.1169 1204.65 Q90.1354 1204.47 91.1539 1204.47 Q96.941 1204.47 100.321 1207.64 Q103.7 1210.81 103.7 1216.22 Q103.7 1221.8 100.228 1224.91 Q96.7558 1227.98 90.4364 1227.98 Q88.2604 1227.98 85.9919 1227.61 Q83.7466 1227.24 81.3392 1226.5 L81.3392 1221.8 Q83.4225 1222.94 85.6447 1223.49 Q87.8669 1224.05 90.3438 1224.05 Q94.3484 1224.05 96.6863 1221.94 Q99.0243 1219.84 99.0243 1216.22 Q99.0243 1212.61 96.6863 1210.51 Q94.3484 1208.4 90.3438 1208.4 Q88.4688 1208.4 86.5938 1208.82 Q84.7419 1209.23 82.7975 1210.11 L82.7975 1192.75 Z\" fill=\"#000000\" fill-rule=\"nonzero\" fill-opacity=\"1\" /><path clip-path=\"url(#clip370)\" d=\"M122.913 1195.83 Q119.302 1195.83 117.473 1199.4 Q115.668 1202.94 115.668 1210.07 Q115.668 1217.17 117.473 1220.74 Q119.302 1224.28 122.913 1224.28 Q126.547 1224.28 128.353 1220.74 Q130.182 1217.17 130.182 1210.07 Q130.182 1202.94 128.353 1199.4 Q126.547 1195.83 122.913 1195.83 M122.913 1192.13 Q128.723 1192.13 131.779 1196.73 Q134.857 1201.32 134.857 1210.07 Q134.857 1218.79 131.779 1223.4 Q128.723 1227.98 122.913 1227.98 Q117.103 1227.98 114.024 1223.4 Q110.969 1218.79 110.969 1210.07 Q110.969 1201.32 114.024 1196.73 Q117.103 1192.13 122.913 1192.13 Z\" fill=\"#000000\" fill-rule=\"nonzero\" fill-opacity=\"1\" /><path clip-path=\"url(#clip370)\" d=\"M53.3995 967.2 L61.0384 967.2 L61.0384 940.835 L52.7282 942.501 L52.7282 938.242 L60.9921 936.575 L65.668 936.575 L65.668 967.2 L73.3068 967.2 L73.3068 971.135 L53.3995 971.135 L53.3995 967.2 Z\" fill=\"#000000\" fill-rule=\"nonzero\" fill-opacity=\"1\" /><path clip-path=\"url(#clip370)\" d=\"M92.7512 939.654 Q89.1401 939.654 87.3114 943.219 Q85.5058 946.761 85.5058 953.89 Q85.5058 960.997 87.3114 964.561 Q89.1401 968.103 92.7512 968.103 Q96.3854 968.103 98.1909 964.561 Q100.02 960.997 100.02 953.89 Q100.02 946.761 98.1909 943.219 Q96.3854 939.654 92.7512 939.654 M92.7512 935.95 Q98.5613 935.95 101.617 940.557 Q104.696 945.14 104.696 953.89 Q104.696 962.617 101.617 967.223 Q98.5613 971.807 92.7512 971.807 Q86.941 971.807 83.8623 967.223 Q80.8068 962.617 80.8068 953.89 Q80.8068 945.14 83.8623 940.557 Q86.941 935.95 92.7512 935.95 Z\" fill=\"#000000\" fill-rule=\"nonzero\" fill-opacity=\"1\" /><path clip-path=\"url(#clip370)\" d=\"M122.913 939.654 Q119.302 939.654 117.473 943.219 Q115.668 946.761 115.668 953.89 Q115.668 960.997 117.473 964.561 Q119.302 968.103 122.913 968.103 Q126.547 968.103 128.353 964.561 Q130.182 960.997 130.182 953.89 Q130.182 946.761 128.353 943.219 Q126.547 939.654 122.913 939.654 M122.913 935.95 Q128.723 935.95 131.779 940.557 Q134.857 945.14 134.857 953.89 Q134.857 962.617 131.779 967.223 Q128.723 971.807 122.913 971.807 Q117.103 971.807 114.024 967.223 Q110.969 962.617 110.969 953.89 Q110.969 945.14 114.024 940.557 Q117.103 935.95 122.913 935.95 Z\" fill=\"#000000\" fill-rule=\"nonzero\" fill-opacity=\"1\" /><path clip-path=\"url(#clip370)\" d=\"M53.3995 711.023 L61.0384 711.023 L61.0384 684.657 L52.7282 686.324 L52.7282 682.065 L60.9921 680.398 L65.668 680.398 L65.668 711.023 L73.3068 711.023 L73.3068 714.958 L53.3995 714.958 L53.3995 711.023 Z\" fill=\"#000000\" fill-rule=\"nonzero\" fill-opacity=\"1\" /><path clip-path=\"url(#clip370)\" d=\"M82.7975 680.398 L101.154 680.398 L101.154 684.333 L87.0799 684.333 L87.0799 692.805 Q88.0984 692.458 89.1169 692.296 Q90.1354 692.111 91.1539 692.111 Q96.941 692.111 100.321 695.282 Q103.7 698.454 103.7 703.87 Q103.7 709.449 100.228 712.551 Q96.7558 715.629 90.4364 715.629 Q88.2604 715.629 85.9919 715.259 Q83.7466 714.889 81.3392 714.148 L81.3392 709.449 Q83.4225 710.583 85.6447 711.139 Q87.8669 711.694 90.3438 711.694 Q94.3484 711.694 96.6863 709.588 Q99.0243 707.481 99.0243 703.87 Q99.0243 700.259 96.6863 698.153 Q94.3484 696.046 90.3438 696.046 Q88.4688 696.046 86.5938 696.463 Q84.7419 696.88 82.7975 697.759 L82.7975 680.398 Z\" fill=\"#000000\" fill-rule=\"nonzero\" fill-opacity=\"1\" /><path clip-path=\"url(#clip370)\" d=\"M122.913 683.477 Q119.302 683.477 117.473 687.042 Q115.668 690.583 115.668 697.713 Q115.668 704.819 117.473 708.384 Q119.302 711.926 122.913 711.926 Q126.547 711.926 128.353 708.384 Q130.182 704.819 130.182 697.713 Q130.182 690.583 128.353 687.042 Q126.547 683.477 122.913 683.477 M122.913 679.773 Q128.723 679.773 131.779 684.38 Q134.857 688.963 134.857 697.713 Q134.857 706.44 131.779 711.046 Q128.723 715.629 122.913 715.629 Q117.103 715.629 114.024 711.046 Q110.969 706.44 110.969 697.713 Q110.969 688.963 114.024 684.38 Q117.103 679.773 122.913 679.773 Z\" fill=\"#000000\" fill-rule=\"nonzero\" fill-opacity=\"1\" /><path clip-path=\"url(#clip370)\" d=\"M56.6171 454.846 L72.9365 454.846 L72.9365 458.781 L50.9921 458.781 L50.9921 454.846 Q53.6541 452.091 58.2375 447.461 Q62.8439 442.809 64.0245 441.466 Q66.2698 438.943 67.1494 437.207 Q68.0522 435.448 68.0522 433.758 Q68.0522 431.003 66.1078 429.267 Q64.1865 427.531 61.0847 427.531 Q58.8856 427.531 56.4319 428.295 Q54.0014 429.059 51.2236 430.61 L51.2236 425.888 Q54.0477 424.753 56.5014 424.175 Q58.955 423.596 60.9921 423.596 Q66.3624 423.596 69.5568 426.281 Q72.7513 428.966 72.7513 433.457 Q72.7513 435.587 71.9411 437.508 Q71.1541 439.406 69.0476 441.999 Q68.4689 442.67 65.367 445.887 Q62.2652 449.082 56.6171 454.846 Z\" fill=\"#000000\" fill-rule=\"nonzero\" fill-opacity=\"1\" /><path clip-path=\"url(#clip370)\" d=\"M92.7512 427.3 Q89.1401 427.3 87.3114 430.864 Q85.5058 434.406 85.5058 441.536 Q85.5058 448.642 87.3114 452.207 Q89.1401 455.748 92.7512 455.748 Q96.3854 455.748 98.1909 452.207 Q100.02 448.642 100.02 441.536 Q100.02 434.406 98.1909 430.864 Q96.3854 427.3 92.7512 427.3 M92.7512 423.596 Q98.5613 423.596 101.617 428.202 Q104.696 432.786 104.696 441.536 Q104.696 450.262 101.617 454.869 Q98.5613 459.452 92.7512 459.452 Q86.941 459.452 83.8623 454.869 Q80.8068 450.262 80.8068 441.536 Q80.8068 432.786 83.8623 428.202 Q86.941 423.596 92.7512 423.596 Z\" fill=\"#000000\" fill-rule=\"nonzero\" fill-opacity=\"1\" /><path clip-path=\"url(#clip370)\" d=\"M122.913 427.3 Q119.302 427.3 117.473 430.864 Q115.668 434.406 115.668 441.536 Q115.668 448.642 117.473 452.207 Q119.302 455.748 122.913 455.748 Q126.547 455.748 128.353 452.207 Q130.182 448.642 130.182 441.536 Q130.182 434.406 128.353 430.864 Q126.547 427.3 122.913 427.3 M122.913 423.596 Q128.723 423.596 131.779 428.202 Q134.857 432.786 134.857 441.536 Q134.857 450.262 131.779 454.869 Q128.723 459.452 122.913 459.452 Q117.103 459.452 114.024 454.869 Q110.969 450.262 110.969 441.536 Q110.969 432.786 114.024 428.202 Q117.103 423.596 122.913 423.596 Z\" fill=\"#000000\" fill-rule=\"nonzero\" fill-opacity=\"1\" /><path clip-path=\"url(#clip370)\" d=\"M56.6171 198.668 L72.9365 198.668 L72.9365 202.604 L50.9921 202.604 L50.9921 198.668 Q53.6541 195.914 58.2375 191.284 Q62.8439 186.631 64.0245 185.289 Q66.2698 182.766 67.1494 181.03 Q68.0522 179.27 68.0522 177.581 Q68.0522 174.826 66.1078 173.09 Q64.1865 171.354 61.0847 171.354 Q58.8856 171.354 56.4319 172.118 Q54.0014 172.882 51.2236 174.432 L51.2236 169.71 Q54.0477 168.576 56.5014 167.997 Q58.955 167.419 60.9921 167.419 Q66.3624 167.419 69.5568 170.104 Q72.7513 172.789 72.7513 177.28 Q72.7513 179.409 71.9411 181.331 Q71.1541 183.229 69.0476 185.821 Q68.4689 186.493 65.367 189.71 Q62.2652 192.905 56.6171 198.668 Z\" fill=\"#000000\" fill-rule=\"nonzero\" fill-opacity=\"1\" /><path clip-path=\"url(#clip370)\" d=\"M82.7975 168.044 L101.154 168.044 L101.154 171.979 L87.0799 171.979 L87.0799 180.451 Q88.0984 180.104 89.1169 179.942 Q90.1354 179.757 91.1539 179.757 Q96.941 179.757 100.321 182.928 Q103.7 186.099 103.7 191.516 Q103.7 197.094 100.228 200.196 Q96.7558 203.275 90.4364 203.275 Q88.2604 203.275 85.9919 202.905 Q83.7466 202.534 81.3392 201.793 L81.3392 197.094 Q83.4225 198.229 85.6447 198.784 Q87.8669 199.34 90.3438 199.34 Q94.3484 199.34 96.6863 197.233 Q99.0243 195.127 99.0243 191.516 Q99.0243 187.905 96.6863 185.798 Q94.3484 183.692 90.3438 183.692 Q88.4688 183.692 86.5938 184.108 Q84.7419 184.525 82.7975 185.405 L82.7975 168.044 Z\" fill=\"#000000\" fill-rule=\"nonzero\" fill-opacity=\"1\" /><path clip-path=\"url(#clip370)\" d=\"M122.913 171.122 Q119.302 171.122 117.473 174.687 Q115.668 178.229 115.668 185.358 Q115.668 192.465 117.473 196.03 Q119.302 199.571 122.913 199.571 Q126.547 199.571 128.353 196.03 Q130.182 192.465 130.182 185.358 Q130.182 178.229 128.353 174.687 Q126.547 171.122 122.913 171.122 M122.913 167.419 Q128.723 167.419 131.779 172.025 Q134.857 176.608 134.857 185.358 Q134.857 194.085 131.779 198.692 Q128.723 203.275 122.913 203.275 Q117.103 203.275 114.024 198.692 Q110.969 194.085 110.969 185.358 Q110.969 176.608 114.024 172.025 Q117.103 167.419 122.913 167.419 Z\" fill=\"#000000\" fill-rule=\"nonzero\" fill-opacity=\"1\" /><polyline clip-path=\"url(#clip372)\" style=\"stroke:#009af9; stroke-linecap:round; stroke-linejoin:round; stroke-width:4; stroke-opacity:1; fill:none\" points=\"232.609,1184.41 260.055,677.184 287.5,364.648 314.945,477.366 342.39,487.613 369.836,856.508 397.281,964.102 424.726,1235.65 452.171,1363.74 479.617,1430.35 507.062,1189.54 534.507,436.377 561.952,87.9763 589.398,123.841 616.843,313.412 644.288,651.566 671.733,1076.82 699.179,1194.66 726.624,1261.27 754.069,1389.36 781.515,1353.49 808.96,1122.93 836.405,784.778 863.85,697.678 891.296,702.802 918.741,707.925 946.186,984.597 973.631,964.102 1001.08,1189.54 1028.52,1215.16 1055.97,1353.49 1083.41,1373.99 1110.86,1266.39 1138.3,795.025 1165.75,339.03 1193.19,344.154 1220.64,446.624 1248.08,636.196 1275.53,999.967 1302.97,1158.8 1330.42,1358.62 1357.87,1389.36 1385.31,1292.01 1412.76,836.014 1440.2,385.142 1467.65,482.489 1495.09,426.13 1522.54,784.778 1549.98,1076.82 1577.43,1235.65 1604.87,1338.12 1632.32,1404.73 1659.76,1317.63 1687.21,1015.34 1714.65,769.408 1742.1,574.713 1769.54,595.207 1796.99,625.948 1824.43,958.979 1851.88,1133.18 1879.33,1230.53 1906.77,1338.12 1934.22,1399.6 1961.66,1445.72 1989.11,1440.59 2016.55,1338.12 2044,1051.2 2071.44,1035.83 2098.89,984.597 2126.33,887.249 2153.78,1107.56 2181.22,1261.27 2208.67,1353.49 2236.11,1430.35 2263.56,1445.72 2291,1420.1 \"/>\n",
       "<path clip-path=\"url(#clip370)\" d=\"M2009.41 198.898 L2280.03 198.898 L2280.03 95.2176 L2009.41 95.2176  Z\" fill=\"#ffffff\" fill-rule=\"evenodd\" fill-opacity=\"1\"/>\n",
       "<polyline clip-path=\"url(#clip370)\" style=\"stroke:#000000; stroke-linecap:round; stroke-linejoin:round; stroke-width:4; stroke-opacity:1; fill:none\" points=\"2009.41,198.898 2280.03,198.898 2280.03,95.2176 2009.41,95.2176 2009.41,198.898 \"/>\n",
       "<polyline clip-path=\"url(#clip370)\" style=\"stroke:#009af9; stroke-linecap:round; stroke-linejoin:round; stroke-width:4; stroke-opacity:1; fill:none\" points=\"2033.65,147.058 2179.11,147.058 \"/>\n",
       "<path clip-path=\"url(#clip370)\" d=\"M2217.19 166.745 Q2215.39 171.375 2213.68 172.787 Q2211.96 174.199 2209.09 174.199 L2205.69 174.199 L2205.69 170.634 L2208.19 170.634 Q2209.95 170.634 2210.92 169.8 Q2211.89 168.967 2213.07 165.865 L2213.84 163.921 L2203.35 138.412 L2207.87 138.412 L2215.97 158.689 L2224.07 138.412 L2228.58 138.412 L2217.19 166.745 Z\" fill=\"#000000\" fill-rule=\"nonzero\" fill-opacity=\"1\" /><path clip-path=\"url(#clip370)\" d=\"M2235.88 160.402 L2243.51 160.402 L2243.51 134.037 L2235.2 135.703 L2235.2 131.444 L2243.47 129.778 L2248.14 129.778 L2248.14 160.402 L2255.78 160.402 L2255.78 164.338 L2235.88 164.338 L2235.88 160.402 Z\" fill=\"#000000\" fill-rule=\"nonzero\" fill-opacity=\"1\" /></svg>\n"
      ]
     },
     "execution_count": 5,
     "metadata": {},
     "output_type": "execute_result"
    }
   ],
   "source": [
    "sunspot = readdlm(\"data/SN_y_tot_V2.0.csv\", ';')\n",
    "select_1945_2020 = filter((s) -> s[1] > 1945 && s[1] < 2021, collect(eachrow(sunspot)))\n",
    "observations = map((s) -> round(s[2]), select_1945_2020)\n",
    "@assert semih_observations == observations\n",
    "plot(observations)\n"
   ]
  },
  {
   "cell_type": "code",
   "execution_count": 6,
   "metadata": {},
   "outputs": [
    {
     "data": {
      "text/plain": [
       "hello (generic function with 1 method)"
      ]
     },
     "execution_count": 6,
     "metadata": {},
     "output_type": "execute_result"
    }
   ],
   "source": [
    "hello(x) = identity(x)"
   ]
  },
  {
   "cell_type": "code",
   "execution_count": 7,
   "metadata": {},
   "outputs": [],
   "source": [
    "# @meta function sunspot_meta(rng, nr_samples, nr_iterations, optimizer)\n",
    "#     identity() -> CVI(rng, nr_samples, nr_iterations, optimizer, ForwardDiffGrad(), 100, Val(true), true)\n",
    "# end;\n",
    "\n",
    "# @constraints function sunspot_constraints()\n",
    "#     q(γ, z) = q(γ)q(z)\n",
    "#     q(z) = q(z[begin])..q(z[end])\n",
    "# end;\n",
    "\n",
    "@model function sunspot_model(nr_observations)\n",
    "\n",
    "    γ ~ GammaShapeRate(1000.0, 2)\n",
    "    z = randomvar(nr_observations)\n",
    "    y = datavar(Float64, nr_observations)\n",
    "    \n",
    "    # specify estimate of initial location\n",
    "    z[1] ~ GammaShapeRate(1, γ)\n",
    "    y[1] ~ Poisson(z[1])\n",
    "    for t in 2:nr_observations\n",
    "        # specify state transition model\n",
    "        z[t] ~ GammaShapeRate(hello(z[t-1]), γ)\n",
    "        y[t] ~ Poisson(z[t])\n",
    "    end\n",
    "end\n",
    "\n",
    "@meta function sunspot_meta(rng, nr_samples, nr_iterations, optimizer)\n",
    "    hello() -> CVI(rng, nr_samples, nr_iterations, optimizer, ForwardDiffGrad(), 100, Val(true), false)\n",
    "end;\n",
    "\n",
    "@constraints function sunspot_constraints()\n",
    "    q(γ, z) = q(γ)q(z)\n",
    "    q(z) = q(z[begin])..q(z[end])\n",
    "end;\n",
    "\n"
   ]
  },
  {
   "cell_type": "code",
   "execution_count": 14,
   "metadata": {},
   "outputs": [
    {
     "name": "stdout",
     "output_type": "stream",
     "text": [
      "  0.605618 seconds (11.31 M allocations: 381.509 MiB, 10.94% gc time)\n",
      "string(CCMP.benchmark_timings[] / 1.0e9, \" sec\") = \"0.301481585 sec\"\n"
     ]
    },
    {
     "data": {
      "text/plain": [
       "10-element Vector{Real}:\n",
       " 15097.450735652803\n",
       "  8033.664800943825\n",
       "  6218.0935205503165\n",
       "  6013.855106623651\n",
       "  5990.937021863607\n",
       "  5995.229344143626\n",
       "  6000.392276286335\n",
       "  6002.762378764725\n",
       "  6002.647375334281\n",
       "  6002.378298066609"
      ]
     },
     "execution_count": 14,
     "metadata": {},
     "output_type": "execute_result"
    }
   ],
   "source": [
    "# z_init = map(r -> NormalMeanPrecision(r, 10), 1:50)\n",
    "nr_observations = length(observations)\n",
    "CCMP.benchmark_timings[] = 0.0\n",
    "@time results = inference(\n",
    "    model = sunspot_model(nr_observations),\n",
    "    data = (y = observations,),\n",
    "    iterations = 10,\n",
    "    free_energy = true,\n",
    "    constraints = sunspot_constraints(),\n",
    "    meta = sunspot_meta(StableRNG(42), 1, 10, Flux.Descent(0.001)),\n",
    "    initmarginals = (γ=Gamma(10, 1), z=Gamma(10, 1), )\n",
    ")\n",
    "@show string(CCMP.benchmark_timings[] / 1e9, \" sec\")\n",
    "results.free_energy"
   ]
  },
  {
   "cell_type": "code",
   "execution_count": 15,
   "metadata": {},
   "outputs": [
    {
     "data": {
      "image/svg+xml": [
       "<?xml version=\"1.0\" encoding=\"utf-8\"?>\n",
       "<svg xmlns=\"http://www.w3.org/2000/svg\" xmlns:xlink=\"http://www.w3.org/1999/xlink\" width=\"600\" height=\"400\" viewBox=\"0 0 2400 1600\">\n",
       "<defs>\n",
       "  <clipPath id=\"clip410\">\n",
       "    <rect x=\"0\" y=\"0\" width=\"2400\" height=\"1600\"/>\n",
       "  </clipPath>\n",
       "</defs>\n",
       "<path clip-path=\"url(#clip410)\" d=\"M0 1600 L2400 1600 L2400 0 L0 0  Z\" fill=\"#ffffff\" fill-rule=\"evenodd\" fill-opacity=\"1\"/>\n",
       "<defs>\n",
       "  <clipPath id=\"clip411\">\n",
       "    <rect x=\"480\" y=\"0\" width=\"1681\" height=\"1600\"/>\n",
       "  </clipPath>\n",
       "</defs>\n",
       "<path clip-path=\"url(#clip410)\" d=\"M170.857 1486.45 L2352.76 1486.45 L2352.76 47.2441 L170.857 47.2441  Z\" fill=\"#ffffff\" fill-rule=\"evenodd\" fill-opacity=\"1\"/>\n",
       "<defs>\n",
       "  <clipPath id=\"clip412\">\n",
       "    <rect x=\"170\" y=\"47\" width=\"2183\" height=\"1440\"/>\n",
       "  </clipPath>\n",
       "</defs>\n",
       "<polyline clip-path=\"url(#clip412)\" style=\"stroke:#000000; stroke-linecap:round; stroke-linejoin:round; stroke-width:2; stroke-opacity:0.1; fill:none\" points=\"205.164,1486.45 205.164,47.2441 \"/>\n",
       "<polyline clip-path=\"url(#clip412)\" style=\"stroke:#000000; stroke-linecap:round; stroke-linejoin:round; stroke-width:2; stroke-opacity:0.1; fill:none\" points=\"754.069,1486.45 754.069,47.2441 \"/>\n",
       "<polyline clip-path=\"url(#clip412)\" style=\"stroke:#000000; stroke-linecap:round; stroke-linejoin:round; stroke-width:2; stroke-opacity:0.1; fill:none\" points=\"1302.97,1486.45 1302.97,47.2441 \"/>\n",
       "<polyline clip-path=\"url(#clip412)\" style=\"stroke:#000000; stroke-linecap:round; stroke-linejoin:round; stroke-width:2; stroke-opacity:0.1; fill:none\" points=\"1851.88,1486.45 1851.88,47.2441 \"/>\n",
       "<polyline clip-path=\"url(#clip410)\" style=\"stroke:#000000; stroke-linecap:round; stroke-linejoin:round; stroke-width:4; stroke-opacity:1; fill:none\" points=\"170.857,1486.45 2352.76,1486.45 \"/>\n",
       "<polyline clip-path=\"url(#clip410)\" style=\"stroke:#000000; stroke-linecap:round; stroke-linejoin:round; stroke-width:4; stroke-opacity:1; fill:none\" points=\"205.164,1486.45 205.164,1467.55 \"/>\n",
       "<polyline clip-path=\"url(#clip410)\" style=\"stroke:#000000; stroke-linecap:round; stroke-linejoin:round; stroke-width:4; stroke-opacity:1; fill:none\" points=\"754.069,1486.45 754.069,1467.55 \"/>\n",
       "<polyline clip-path=\"url(#clip410)\" style=\"stroke:#000000; stroke-linecap:round; stroke-linejoin:round; stroke-width:4; stroke-opacity:1; fill:none\" points=\"1302.97,1486.45 1302.97,1467.55 \"/>\n",
       "<polyline clip-path=\"url(#clip410)\" style=\"stroke:#000000; stroke-linecap:round; stroke-linejoin:round; stroke-width:4; stroke-opacity:1; fill:none\" points=\"1851.88,1486.45 1851.88,1467.55 \"/>\n",
       "<path clip-path=\"url(#clip410)\" d=\"M205.164 1517.37 Q201.553 1517.37 199.724 1520.93 Q197.919 1524.47 197.919 1531.6 Q197.919 1538.71 199.724 1542.27 Q201.553 1545.82 205.164 1545.82 Q208.798 1545.82 210.604 1542.27 Q212.432 1538.71 212.432 1531.6 Q212.432 1524.47 210.604 1520.93 Q208.798 1517.37 205.164 1517.37 M205.164 1513.66 Q210.974 1513.66 214.03 1518.27 Q217.108 1522.85 217.108 1531.6 Q217.108 1540.33 214.03 1544.94 Q210.974 1549.52 205.164 1549.52 Q199.354 1549.52 196.275 1544.94 Q193.22 1540.33 193.22 1531.6 Q193.22 1522.85 196.275 1518.27 Q199.354 1513.66 205.164 1513.66 Z\" fill=\"#000000\" fill-rule=\"nonzero\" fill-opacity=\"1\" /><path clip-path=\"url(#clip410)\" d=\"M732.843 1544.91 L749.162 1544.91 L749.162 1548.85 L727.218 1548.85 L727.218 1544.91 Q729.88 1542.16 734.463 1537.53 Q739.069 1532.88 740.25 1531.53 Q742.495 1529.01 743.375 1527.27 Q744.278 1525.51 744.278 1523.82 Q744.278 1521.07 742.333 1519.33 Q740.412 1517.6 737.31 1517.6 Q735.111 1517.6 732.657 1518.36 Q730.227 1519.13 727.449 1520.68 L727.449 1515.95 Q730.273 1514.82 732.727 1514.24 Q735.18 1513.66 737.218 1513.66 Q742.588 1513.66 745.782 1516.35 Q748.977 1519.03 748.977 1523.52 Q748.977 1525.65 748.167 1527.57 Q747.379 1529.47 745.273 1532.07 Q744.694 1532.74 741.592 1535.95 Q738.491 1539.15 732.843 1544.91 Z\" fill=\"#000000\" fill-rule=\"nonzero\" fill-opacity=\"1\" /><path clip-path=\"url(#clip410)\" d=\"M768.977 1517.37 Q765.366 1517.37 763.537 1520.93 Q761.731 1524.47 761.731 1531.6 Q761.731 1538.71 763.537 1542.27 Q765.366 1545.82 768.977 1545.82 Q772.611 1545.82 774.416 1542.27 Q776.245 1538.71 776.245 1531.6 Q776.245 1524.47 774.416 1520.93 Q772.611 1517.37 768.977 1517.37 M768.977 1513.66 Q774.787 1513.66 777.842 1518.27 Q780.921 1522.85 780.921 1531.6 Q780.921 1540.33 777.842 1544.94 Q774.787 1549.52 768.977 1549.52 Q763.166 1549.52 760.088 1544.94 Q757.032 1540.33 757.032 1531.6 Q757.032 1522.85 760.088 1518.27 Q763.166 1513.66 768.977 1513.66 Z\" fill=\"#000000\" fill-rule=\"nonzero\" fill-opacity=\"1\" /><path clip-path=\"url(#clip410)\" d=\"M1291.15 1518.36 L1279.34 1536.81 L1291.15 1536.81 L1291.15 1518.36 M1289.92 1514.29 L1295.8 1514.29 L1295.8 1536.81 L1300.73 1536.81 L1300.73 1540.7 L1295.8 1540.7 L1295.8 1548.85 L1291.15 1548.85 L1291.15 1540.7 L1275.54 1540.7 L1275.54 1536.19 L1289.92 1514.29 Z\" fill=\"#000000\" fill-rule=\"nonzero\" fill-opacity=\"1\" /><path clip-path=\"url(#clip410)\" d=\"M1318.46 1517.37 Q1314.85 1517.37 1313.02 1520.93 Q1311.22 1524.47 1311.22 1531.6 Q1311.22 1538.71 1313.02 1542.27 Q1314.85 1545.82 1318.46 1545.82 Q1322.09 1545.82 1323.9 1542.27 Q1325.73 1538.71 1325.73 1531.6 Q1325.73 1524.47 1323.9 1520.93 Q1322.09 1517.37 1318.46 1517.37 M1318.46 1513.66 Q1324.27 1513.66 1327.33 1518.27 Q1330.4 1522.85 1330.4 1531.6 Q1330.4 1540.33 1327.33 1544.94 Q1324.27 1549.52 1318.46 1549.52 Q1312.65 1549.52 1309.57 1544.94 Q1306.52 1540.33 1306.52 1531.6 Q1306.52 1522.85 1309.57 1518.27 Q1312.65 1513.66 1318.46 1513.66 Z\" fill=\"#000000\" fill-rule=\"nonzero\" fill-opacity=\"1\" /><path clip-path=\"url(#clip410)\" d=\"M1837.29 1529.7 Q1834.14 1529.7 1832.29 1531.86 Q1830.46 1534.01 1830.46 1537.76 Q1830.46 1541.49 1832.29 1543.66 Q1834.14 1545.82 1837.29 1545.82 Q1840.43 1545.82 1842.26 1543.66 Q1844.11 1541.49 1844.11 1537.76 Q1844.11 1534.01 1842.26 1531.86 Q1840.43 1529.7 1837.29 1529.7 M1846.57 1515.05 L1846.57 1519.31 Q1844.81 1518.48 1843 1518.04 Q1841.22 1517.6 1839.46 1517.6 Q1834.83 1517.6 1832.38 1520.72 Q1829.95 1523.85 1829.6 1530.17 Q1830.97 1528.15 1833.03 1527.09 Q1835.09 1526 1837.56 1526 Q1842.77 1526 1845.78 1529.17 Q1848.81 1532.32 1848.81 1537.76 Q1848.81 1543.08 1845.66 1546.3 Q1842.52 1549.52 1837.29 1549.52 Q1831.29 1549.52 1828.12 1544.94 Q1824.95 1540.33 1824.95 1531.6 Q1824.95 1523.41 1828.84 1518.55 Q1832.72 1513.66 1839.28 1513.66 Q1841.03 1513.66 1842.82 1514.01 Q1844.62 1514.36 1846.57 1515.05 Z\" fill=\"#000000\" fill-rule=\"nonzero\" fill-opacity=\"1\" /><path clip-path=\"url(#clip410)\" d=\"M1866.87 1517.37 Q1863.26 1517.37 1861.43 1520.93 Q1859.62 1524.47 1859.62 1531.6 Q1859.62 1538.71 1861.43 1542.27 Q1863.26 1545.82 1866.87 1545.82 Q1870.5 1545.82 1872.31 1542.27 Q1874.14 1538.71 1874.14 1531.6 Q1874.14 1524.47 1872.31 1520.93 Q1870.5 1517.37 1866.87 1517.37 M1866.87 1513.66 Q1872.68 1513.66 1875.73 1518.27 Q1878.81 1522.85 1878.81 1531.6 Q1878.81 1540.33 1875.73 1544.94 Q1872.68 1549.52 1866.87 1549.52 Q1861.06 1549.52 1857.98 1544.94 Q1854.92 1540.33 1854.92 1531.6 Q1854.92 1522.85 1857.98 1518.27 Q1861.06 1513.66 1866.87 1513.66 Z\" fill=\"#000000\" fill-rule=\"nonzero\" fill-opacity=\"1\" /><polyline clip-path=\"url(#clip412)\" style=\"stroke:#000000; stroke-linecap:round; stroke-linejoin:round; stroke-width:2; stroke-opacity:0.1; fill:none\" points=\"170.857,1460.95 2352.76,1460.95 \"/>\n",
       "<polyline clip-path=\"url(#clip412)\" style=\"stroke:#000000; stroke-linecap:round; stroke-linejoin:round; stroke-width:2; stroke-opacity:0.1; fill:none\" points=\"170.857,1000.93 2352.76,1000.93 \"/>\n",
       "<polyline clip-path=\"url(#clip412)\" style=\"stroke:#000000; stroke-linecap:round; stroke-linejoin:round; stroke-width:2; stroke-opacity:0.1; fill:none\" points=\"170.857,540.904 2352.76,540.904 \"/>\n",
       "<polyline clip-path=\"url(#clip412)\" style=\"stroke:#000000; stroke-linecap:round; stroke-linejoin:round; stroke-width:2; stroke-opacity:0.1; fill:none\" points=\"170.857,80.8783 2352.76,80.8783 \"/>\n",
       "<polyline clip-path=\"url(#clip410)\" style=\"stroke:#000000; stroke-linecap:round; stroke-linejoin:round; stroke-width:4; stroke-opacity:1; fill:none\" points=\"170.857,1486.45 170.857,47.2441 \"/>\n",
       "<polyline clip-path=\"url(#clip410)\" style=\"stroke:#000000; stroke-linecap:round; stroke-linejoin:round; stroke-width:4; stroke-opacity:1; fill:none\" points=\"170.857,1460.95 189.755,1460.95 \"/>\n",
       "<polyline clip-path=\"url(#clip410)\" style=\"stroke:#000000; stroke-linecap:round; stroke-linejoin:round; stroke-width:4; stroke-opacity:1; fill:none\" points=\"170.857,1000.93 189.755,1000.93 \"/>\n",
       "<polyline clip-path=\"url(#clip410)\" style=\"stroke:#000000; stroke-linecap:round; stroke-linejoin:round; stroke-width:4; stroke-opacity:1; fill:none\" points=\"170.857,540.904 189.755,540.904 \"/>\n",
       "<polyline clip-path=\"url(#clip410)\" style=\"stroke:#000000; stroke-linecap:round; stroke-linejoin:round; stroke-width:4; stroke-opacity:1; fill:none\" points=\"170.857,80.8783 189.755,80.8783 \"/>\n",
       "<path clip-path=\"url(#clip410)\" d=\"M122.913 1446.75 Q119.302 1446.75 117.473 1450.32 Q115.668 1453.86 115.668 1460.99 Q115.668 1468.1 117.473 1471.66 Q119.302 1475.2 122.913 1475.2 Q126.547 1475.2 128.353 1471.66 Q130.182 1468.1 130.182 1460.99 Q130.182 1453.86 128.353 1450.32 Q126.547 1446.75 122.913 1446.75 M122.913 1443.05 Q128.723 1443.05 131.779 1447.66 Q134.857 1452.24 134.857 1460.99 Q134.857 1469.72 131.779 1474.32 Q128.723 1478.91 122.913 1478.91 Q117.103 1478.91 114.024 1474.32 Q110.969 1469.72 110.969 1460.99 Q110.969 1452.24 114.024 1447.66 Q117.103 1443.05 122.913 1443.05 Z\" fill=\"#000000\" fill-rule=\"nonzero\" fill-opacity=\"1\" /><path clip-path=\"url(#clip410)\" d=\"M53.3995 1014.27 L61.0384 1014.27 L61.0384 987.908 L52.7282 989.575 L52.7282 985.316 L60.9921 983.649 L65.668 983.649 L65.668 1014.27 L73.3068 1014.27 L73.3068 1018.21 L53.3995 1018.21 L53.3995 1014.27 Z\" fill=\"#000000\" fill-rule=\"nonzero\" fill-opacity=\"1\" /><path clip-path=\"url(#clip410)\" d=\"M92.7512 986.728 Q89.1401 986.728 87.3114 990.293 Q85.5058 993.834 85.5058 1000.96 Q85.5058 1008.07 87.3114 1011.64 Q89.1401 1015.18 92.7512 1015.18 Q96.3854 1015.18 98.1909 1011.64 Q100.02 1008.07 100.02 1000.96 Q100.02 993.834 98.1909 990.293 Q96.3854 986.728 92.7512 986.728 M92.7512 983.024 Q98.5613 983.024 101.617 987.631 Q104.696 992.214 104.696 1000.96 Q104.696 1009.69 101.617 1014.3 Q98.5613 1018.88 92.7512 1018.88 Q86.941 1018.88 83.8623 1014.3 Q80.8068 1009.69 80.8068 1000.96 Q80.8068 992.214 83.8623 987.631 Q86.941 983.024 92.7512 983.024 Z\" fill=\"#000000\" fill-rule=\"nonzero\" fill-opacity=\"1\" /><path clip-path=\"url(#clip410)\" d=\"M122.913 986.728 Q119.302 986.728 117.473 990.293 Q115.668 993.834 115.668 1000.96 Q115.668 1008.07 117.473 1011.64 Q119.302 1015.18 122.913 1015.18 Q126.547 1015.18 128.353 1011.64 Q130.182 1008.07 130.182 1000.96 Q130.182 993.834 128.353 990.293 Q126.547 986.728 122.913 986.728 M122.913 983.024 Q128.723 983.024 131.779 987.631 Q134.857 992.214 134.857 1000.96 Q134.857 1009.69 131.779 1014.3 Q128.723 1018.88 122.913 1018.88 Q117.103 1018.88 114.024 1014.3 Q110.969 1009.69 110.969 1000.96 Q110.969 992.214 114.024 987.631 Q117.103 983.024 122.913 983.024 Z\" fill=\"#000000\" fill-rule=\"nonzero\" fill-opacity=\"1\" /><path clip-path=\"url(#clip410)\" d=\"M56.6171 554.249 L72.9365 554.249 L72.9365 558.184 L50.9921 558.184 L50.9921 554.249 Q53.6541 551.494 58.2375 546.864 Q62.8439 542.212 64.0245 540.869 Q66.2698 538.346 67.1494 536.61 Q68.0522 534.85 68.0522 533.161 Q68.0522 530.406 66.1078 528.67 Q64.1865 526.934 61.0847 526.934 Q58.8856 526.934 56.4319 527.698 Q54.0014 528.462 51.2236 530.013 L51.2236 525.29 Q54.0477 524.156 56.5014 523.577 Q58.955 522.999 60.9921 522.999 Q66.3624 522.999 69.5568 525.684 Q72.7513 528.369 72.7513 532.86 Q72.7513 534.989 71.9411 536.911 Q71.1541 538.809 69.0476 541.401 Q68.4689 542.073 65.367 545.29 Q62.2652 548.485 56.6171 554.249 Z\" fill=\"#000000\" fill-rule=\"nonzero\" fill-opacity=\"1\" /><path clip-path=\"url(#clip410)\" d=\"M92.7512 526.702 Q89.1401 526.702 87.3114 530.267 Q85.5058 533.809 85.5058 540.938 Q85.5058 548.045 87.3114 551.61 Q89.1401 555.151 92.7512 555.151 Q96.3854 555.151 98.1909 551.61 Q100.02 548.045 100.02 540.938 Q100.02 533.809 98.1909 530.267 Q96.3854 526.702 92.7512 526.702 M92.7512 522.999 Q98.5613 522.999 101.617 527.605 Q104.696 532.188 104.696 540.938 Q104.696 549.665 101.617 554.272 Q98.5613 558.855 92.7512 558.855 Q86.941 558.855 83.8623 554.272 Q80.8068 549.665 80.8068 540.938 Q80.8068 532.188 83.8623 527.605 Q86.941 522.999 92.7512 522.999 Z\" fill=\"#000000\" fill-rule=\"nonzero\" fill-opacity=\"1\" /><path clip-path=\"url(#clip410)\" d=\"M122.913 526.702 Q119.302 526.702 117.473 530.267 Q115.668 533.809 115.668 540.938 Q115.668 548.045 117.473 551.61 Q119.302 555.151 122.913 555.151 Q126.547 555.151 128.353 551.61 Q130.182 548.045 130.182 540.938 Q130.182 533.809 128.353 530.267 Q126.547 526.702 122.913 526.702 M122.913 522.999 Q128.723 522.999 131.779 527.605 Q134.857 532.188 134.857 540.938 Q134.857 549.665 131.779 554.272 Q128.723 558.855 122.913 558.855 Q117.103 558.855 114.024 554.272 Q110.969 549.665 110.969 540.938 Q110.969 532.188 114.024 527.605 Q117.103 522.999 122.913 522.999 Z\" fill=\"#000000\" fill-rule=\"nonzero\" fill-opacity=\"1\" /><path clip-path=\"url(#clip410)\" d=\"M66.7559 79.5241 Q70.1124 80.2417 71.9874 82.5102 Q73.8855 84.7787 73.8855 88.112 Q73.8855 93.2278 70.367 96.0287 Q66.8485 98.8296 60.3671 98.8296 Q58.1912 98.8296 55.8764 98.3898 Q53.5847 97.9731 51.131 97.1166 L51.131 92.6028 Q53.0754 93.737 55.3903 94.3157 Q57.7051 94.8944 60.2282 94.8944 Q64.6263 94.8944 66.918 93.1583 Q69.2328 91.4222 69.2328 88.112 Q69.2328 85.0565 67.08 83.3436 Q64.9504 81.6075 61.131 81.6075 L57.1032 81.6075 L57.1032 77.7649 L61.3161 77.7649 Q64.7652 77.7649 66.5939 76.3991 Q68.4226 75.0103 68.4226 72.4177 Q68.4226 69.7557 66.5245 68.3436 Q64.6495 66.9085 61.131 66.9085 Q59.2097 66.9085 57.0106 67.3251 Q54.8115 67.7418 52.1727 68.6214 L52.1727 64.4548 Q54.8347 63.714 57.1495 63.3437 Q59.4875 62.9733 61.5476 62.9733 Q66.8717 62.9733 69.9735 65.4038 Q73.0753 67.8112 73.0753 71.9316 Q73.0753 74.8019 71.4318 76.7927 Q69.7883 78.7602 66.7559 79.5241 Z\" fill=\"#000000\" fill-rule=\"nonzero\" fill-opacity=\"1\" /><path clip-path=\"url(#clip410)\" d=\"M92.7512 66.677 Q89.1401 66.677 87.3114 70.2418 Q85.5058 73.7834 85.5058 80.913 Q85.5058 88.0195 87.3114 91.5843 Q89.1401 95.1259 92.7512 95.1259 Q96.3854 95.1259 98.1909 91.5843 Q100.02 88.0195 100.02 80.913 Q100.02 73.7834 98.1909 70.2418 Q96.3854 66.677 92.7512 66.677 M92.7512 62.9733 Q98.5613 62.9733 101.617 67.5798 Q104.696 72.1631 104.696 80.913 Q104.696 89.6398 101.617 94.2463 Q98.5613 98.8296 92.7512 98.8296 Q86.941 98.8296 83.8623 94.2463 Q80.8068 89.6398 80.8068 80.913 Q80.8068 72.1631 83.8623 67.5798 Q86.941 62.9733 92.7512 62.9733 Z\" fill=\"#000000\" fill-rule=\"nonzero\" fill-opacity=\"1\" /><path clip-path=\"url(#clip410)\" d=\"M122.913 66.677 Q119.302 66.677 117.473 70.2418 Q115.668 73.7834 115.668 80.913 Q115.668 88.0195 117.473 91.5843 Q119.302 95.1259 122.913 95.1259 Q126.547 95.1259 128.353 91.5843 Q130.182 88.0195 130.182 80.913 Q130.182 73.7834 128.353 70.2418 Q126.547 66.677 122.913 66.677 M122.913 62.9733 Q128.723 62.9733 131.779 67.5798 Q134.857 72.1631 134.857 80.913 Q134.857 89.6398 131.779 94.2463 Q128.723 98.8296 122.913 98.8296 Q117.103 98.8296 114.024 94.2463 Q110.969 89.6398 110.969 80.913 Q110.969 72.1631 114.024 67.5798 Q117.103 62.9733 122.913 62.9733 Z\" fill=\"#000000\" fill-rule=\"nonzero\" fill-opacity=\"1\" /><circle clip-path=\"url(#clip412)\" cx=\"232.609\" cy=\"1207.94\" r=\"14.4\" fill=\"#000000\" fill-rule=\"evenodd\" fill-opacity=\"1\" stroke=\"none\"/>\n",
       "<circle clip-path=\"url(#clip412)\" cx=\"260.055\" cy=\"752.515\" r=\"14.4\" fill=\"#000000\" fill-rule=\"evenodd\" fill-opacity=\"1\" stroke=\"none\"/>\n",
       "<circle clip-path=\"url(#clip412)\" cx=\"287.5\" cy=\"471.9\" r=\"14.4\" fill=\"#000000\" fill-rule=\"evenodd\" fill-opacity=\"1\" stroke=\"none\"/>\n",
       "<circle clip-path=\"url(#clip412)\" cx=\"314.945\" cy=\"573.105\" r=\"14.4\" fill=\"#000000\" fill-rule=\"evenodd\" fill-opacity=\"1\" stroke=\"none\"/>\n",
       "<circle clip-path=\"url(#clip412)\" cx=\"342.39\" cy=\"582.306\" r=\"14.4\" fill=\"#000000\" fill-rule=\"evenodd\" fill-opacity=\"1\" stroke=\"none\"/>\n",
       "<circle clip-path=\"url(#clip412)\" cx=\"369.836\" cy=\"913.524\" r=\"14.4\" fill=\"#000000\" fill-rule=\"evenodd\" fill-opacity=\"1\" stroke=\"none\"/>\n",
       "<circle clip-path=\"url(#clip412)\" cx=\"397.281\" cy=\"1010.13\" r=\"14.4\" fill=\"#000000\" fill-rule=\"evenodd\" fill-opacity=\"1\" stroke=\"none\"/>\n",
       "<circle clip-path=\"url(#clip412)\" cx=\"424.726\" cy=\"1253.94\" r=\"14.4\" fill=\"#000000\" fill-rule=\"evenodd\" fill-opacity=\"1\" stroke=\"none\"/>\n",
       "<circle clip-path=\"url(#clip412)\" cx=\"452.171\" cy=\"1368.95\" r=\"14.4\" fill=\"#000000\" fill-rule=\"evenodd\" fill-opacity=\"1\" stroke=\"none\"/>\n",
       "<circle clip-path=\"url(#clip412)\" cx=\"479.617\" cy=\"1428.75\" r=\"14.4\" fill=\"#000000\" fill-rule=\"evenodd\" fill-opacity=\"1\" stroke=\"none\"/>\n",
       "<circle clip-path=\"url(#clip412)\" cx=\"507.062\" cy=\"1212.54\" r=\"14.4\" fill=\"#000000\" fill-rule=\"evenodd\" fill-opacity=\"1\" stroke=\"none\"/>\n",
       "<circle clip-path=\"url(#clip412)\" cx=\"534.507\" cy=\"536.303\" r=\"14.4\" fill=\"#000000\" fill-rule=\"evenodd\" fill-opacity=\"1\" stroke=\"none\"/>\n",
       "<circle clip-path=\"url(#clip412)\" cx=\"561.952\" cy=\"223.486\" r=\"14.4\" fill=\"#000000\" fill-rule=\"evenodd\" fill-opacity=\"1\" stroke=\"none\"/>\n",
       "<circle clip-path=\"url(#clip412)\" cx=\"589.398\" cy=\"255.688\" r=\"14.4\" fill=\"#000000\" fill-rule=\"evenodd\" fill-opacity=\"1\" stroke=\"none\"/>\n",
       "<circle clip-path=\"url(#clip412)\" cx=\"616.843\" cy=\"425.897\" r=\"14.4\" fill=\"#000000\" fill-rule=\"evenodd\" fill-opacity=\"1\" stroke=\"none\"/>\n",
       "<circle clip-path=\"url(#clip412)\" cx=\"644.288\" cy=\"729.514\" r=\"14.4\" fill=\"#000000\" fill-rule=\"evenodd\" fill-opacity=\"1\" stroke=\"none\"/>\n",
       "<circle clip-path=\"url(#clip412)\" cx=\"671.733\" cy=\"1111.34\" r=\"14.4\" fill=\"#000000\" fill-rule=\"evenodd\" fill-opacity=\"1\" stroke=\"none\"/>\n",
       "<circle clip-path=\"url(#clip412)\" cx=\"699.179\" cy=\"1217.14\" r=\"14.4\" fill=\"#000000\" fill-rule=\"evenodd\" fill-opacity=\"1\" stroke=\"none\"/>\n",
       "<circle clip-path=\"url(#clip412)\" cx=\"726.624\" cy=\"1276.94\" r=\"14.4\" fill=\"#000000\" fill-rule=\"evenodd\" fill-opacity=\"1\" stroke=\"none\"/>\n",
       "<circle clip-path=\"url(#clip412)\" cx=\"754.069\" cy=\"1391.95\" r=\"14.4\" fill=\"#000000\" fill-rule=\"evenodd\" fill-opacity=\"1\" stroke=\"none\"/>\n",
       "<circle clip-path=\"url(#clip412)\" cx=\"781.515\" cy=\"1359.75\" r=\"14.4\" fill=\"#000000\" fill-rule=\"evenodd\" fill-opacity=\"1\" stroke=\"none\"/>\n",
       "<circle clip-path=\"url(#clip412)\" cx=\"808.96\" cy=\"1152.74\" r=\"14.4\" fill=\"#000000\" fill-rule=\"evenodd\" fill-opacity=\"1\" stroke=\"none\"/>\n",
       "<circle clip-path=\"url(#clip412)\" cx=\"836.405\" cy=\"849.121\" r=\"14.4\" fill=\"#000000\" fill-rule=\"evenodd\" fill-opacity=\"1\" stroke=\"none\"/>\n",
       "<circle clip-path=\"url(#clip412)\" cx=\"863.85\" cy=\"770.916\" r=\"14.4\" fill=\"#000000\" fill-rule=\"evenodd\" fill-opacity=\"1\" stroke=\"none\"/>\n",
       "<circle clip-path=\"url(#clip412)\" cx=\"891.296\" cy=\"775.517\" r=\"14.4\" fill=\"#000000\" fill-rule=\"evenodd\" fill-opacity=\"1\" stroke=\"none\"/>\n",
       "<circle clip-path=\"url(#clip412)\" cx=\"918.741\" cy=\"780.117\" r=\"14.4\" fill=\"#000000\" fill-rule=\"evenodd\" fill-opacity=\"1\" stroke=\"none\"/>\n",
       "<circle clip-path=\"url(#clip412)\" cx=\"946.186\" cy=\"1028.53\" r=\"14.4\" fill=\"#000000\" fill-rule=\"evenodd\" fill-opacity=\"1\" stroke=\"none\"/>\n",
       "<circle clip-path=\"url(#clip412)\" cx=\"973.631\" cy=\"1010.13\" r=\"14.4\" fill=\"#000000\" fill-rule=\"evenodd\" fill-opacity=\"1\" stroke=\"none\"/>\n",
       "<circle clip-path=\"url(#clip412)\" cx=\"1001.08\" cy=\"1212.54\" r=\"14.4\" fill=\"#000000\" fill-rule=\"evenodd\" fill-opacity=\"1\" stroke=\"none\"/>\n",
       "<circle clip-path=\"url(#clip412)\" cx=\"1028.52\" cy=\"1235.54\" r=\"14.4\" fill=\"#000000\" fill-rule=\"evenodd\" fill-opacity=\"1\" stroke=\"none\"/>\n",
       "<circle clip-path=\"url(#clip412)\" cx=\"1055.97\" cy=\"1359.75\" r=\"14.4\" fill=\"#000000\" fill-rule=\"evenodd\" fill-opacity=\"1\" stroke=\"none\"/>\n",
       "<circle clip-path=\"url(#clip412)\" cx=\"1083.41\" cy=\"1378.15\" r=\"14.4\" fill=\"#000000\" fill-rule=\"evenodd\" fill-opacity=\"1\" stroke=\"none\"/>\n",
       "<circle clip-path=\"url(#clip412)\" cx=\"1110.86\" cy=\"1281.54\" r=\"14.4\" fill=\"#000000\" fill-rule=\"evenodd\" fill-opacity=\"1\" stroke=\"none\"/>\n",
       "<circle clip-path=\"url(#clip412)\" cx=\"1138.3\" cy=\"858.321\" r=\"14.4\" fill=\"#000000\" fill-rule=\"evenodd\" fill-opacity=\"1\" stroke=\"none\"/>\n",
       "<circle clip-path=\"url(#clip412)\" cx=\"1165.75\" cy=\"448.899\" r=\"14.4\" fill=\"#000000\" fill-rule=\"evenodd\" fill-opacity=\"1\" stroke=\"none\"/>\n",
       "<circle clip-path=\"url(#clip412)\" cx=\"1193.19\" cy=\"453.499\" r=\"14.4\" fill=\"#000000\" fill-rule=\"evenodd\" fill-opacity=\"1\" stroke=\"none\"/>\n",
       "<circle clip-path=\"url(#clip412)\" cx=\"1220.64\" cy=\"545.504\" r=\"14.4\" fill=\"#000000\" fill-rule=\"evenodd\" fill-opacity=\"1\" stroke=\"none\"/>\n",
       "<circle clip-path=\"url(#clip412)\" cx=\"1248.08\" cy=\"715.713\" r=\"14.4\" fill=\"#000000\" fill-rule=\"evenodd\" fill-opacity=\"1\" stroke=\"none\"/>\n",
       "<circle clip-path=\"url(#clip412)\" cx=\"1275.53\" cy=\"1042.33\" r=\"14.4\" fill=\"#000000\" fill-rule=\"evenodd\" fill-opacity=\"1\" stroke=\"none\"/>\n",
       "<circle clip-path=\"url(#clip412)\" cx=\"1302.97\" cy=\"1184.94\" r=\"14.4\" fill=\"#000000\" fill-rule=\"evenodd\" fill-opacity=\"1\" stroke=\"none\"/>\n",
       "<circle clip-path=\"url(#clip412)\" cx=\"1330.42\" cy=\"1364.35\" r=\"14.4\" fill=\"#000000\" fill-rule=\"evenodd\" fill-opacity=\"1\" stroke=\"none\"/>\n",
       "<circle clip-path=\"url(#clip412)\" cx=\"1357.87\" cy=\"1391.95\" r=\"14.4\" fill=\"#000000\" fill-rule=\"evenodd\" fill-opacity=\"1\" stroke=\"none\"/>\n",
       "<circle clip-path=\"url(#clip412)\" cx=\"1385.31\" cy=\"1304.55\" r=\"14.4\" fill=\"#000000\" fill-rule=\"evenodd\" fill-opacity=\"1\" stroke=\"none\"/>\n",
       "<circle clip-path=\"url(#clip412)\" cx=\"1412.76\" cy=\"895.123\" r=\"14.4\" fill=\"#000000\" fill-rule=\"evenodd\" fill-opacity=\"1\" stroke=\"none\"/>\n",
       "<circle clip-path=\"url(#clip412)\" cx=\"1440.2\" cy=\"490.301\" r=\"14.4\" fill=\"#000000\" fill-rule=\"evenodd\" fill-opacity=\"1\" stroke=\"none\"/>\n",
       "<circle clip-path=\"url(#clip412)\" cx=\"1467.65\" cy=\"577.706\" r=\"14.4\" fill=\"#000000\" fill-rule=\"evenodd\" fill-opacity=\"1\" stroke=\"none\"/>\n",
       "<circle clip-path=\"url(#clip412)\" cx=\"1495.09\" cy=\"527.103\" r=\"14.4\" fill=\"#000000\" fill-rule=\"evenodd\" fill-opacity=\"1\" stroke=\"none\"/>\n",
       "<circle clip-path=\"url(#clip412)\" cx=\"1522.54\" cy=\"849.121\" r=\"14.4\" fill=\"#000000\" fill-rule=\"evenodd\" fill-opacity=\"1\" stroke=\"none\"/>\n",
       "<circle clip-path=\"url(#clip412)\" cx=\"1549.98\" cy=\"1111.34\" r=\"14.4\" fill=\"#000000\" fill-rule=\"evenodd\" fill-opacity=\"1\" stroke=\"none\"/>\n",
       "<circle clip-path=\"url(#clip412)\" cx=\"1577.43\" cy=\"1253.94\" r=\"14.4\" fill=\"#000000\" fill-rule=\"evenodd\" fill-opacity=\"1\" stroke=\"none\"/>\n",
       "<circle clip-path=\"url(#clip412)\" cx=\"1604.87\" cy=\"1345.95\" r=\"14.4\" fill=\"#000000\" fill-rule=\"evenodd\" fill-opacity=\"1\" stroke=\"none\"/>\n",
       "<circle clip-path=\"url(#clip412)\" cx=\"1632.32\" cy=\"1405.75\" r=\"14.4\" fill=\"#000000\" fill-rule=\"evenodd\" fill-opacity=\"1\" stroke=\"none\"/>\n",
       "<circle clip-path=\"url(#clip412)\" cx=\"1659.76\" cy=\"1327.55\" r=\"14.4\" fill=\"#000000\" fill-rule=\"evenodd\" fill-opacity=\"1\" stroke=\"none\"/>\n",
       "<circle clip-path=\"url(#clip412)\" cx=\"1687.21\" cy=\"1056.13\" r=\"14.4\" fill=\"#000000\" fill-rule=\"evenodd\" fill-opacity=\"1\" stroke=\"none\"/>\n",
       "<circle clip-path=\"url(#clip412)\" cx=\"1714.65\" cy=\"835.32\" r=\"14.4\" fill=\"#000000\" fill-rule=\"evenodd\" fill-opacity=\"1\" stroke=\"none\"/>\n",
       "<circle clip-path=\"url(#clip412)\" cx=\"1742.1\" cy=\"660.51\" r=\"14.4\" fill=\"#000000\" fill-rule=\"evenodd\" fill-opacity=\"1\" stroke=\"none\"/>\n",
       "<circle clip-path=\"url(#clip412)\" cx=\"1769.54\" cy=\"678.911\" r=\"14.4\" fill=\"#000000\" fill-rule=\"evenodd\" fill-opacity=\"1\" stroke=\"none\"/>\n",
       "<circle clip-path=\"url(#clip412)\" cx=\"1796.99\" cy=\"706.513\" r=\"14.4\" fill=\"#000000\" fill-rule=\"evenodd\" fill-opacity=\"1\" stroke=\"none\"/>\n",
       "<circle clip-path=\"url(#clip412)\" cx=\"1824.43\" cy=\"1005.53\" r=\"14.4\" fill=\"#000000\" fill-rule=\"evenodd\" fill-opacity=\"1\" stroke=\"none\"/>\n",
       "<circle clip-path=\"url(#clip412)\" cx=\"1851.88\" cy=\"1161.94\" r=\"14.4\" fill=\"#000000\" fill-rule=\"evenodd\" fill-opacity=\"1\" stroke=\"none\"/>\n",
       "<circle clip-path=\"url(#clip412)\" cx=\"1879.33\" cy=\"1249.34\" r=\"14.4\" fill=\"#000000\" fill-rule=\"evenodd\" fill-opacity=\"1\" stroke=\"none\"/>\n",
       "<circle clip-path=\"url(#clip412)\" cx=\"1906.77\" cy=\"1345.95\" r=\"14.4\" fill=\"#000000\" fill-rule=\"evenodd\" fill-opacity=\"1\" stroke=\"none\"/>\n",
       "<circle clip-path=\"url(#clip412)\" cx=\"1934.22\" cy=\"1401.15\" r=\"14.4\" fill=\"#000000\" fill-rule=\"evenodd\" fill-opacity=\"1\" stroke=\"none\"/>\n",
       "<circle clip-path=\"url(#clip412)\" cx=\"1961.66\" cy=\"1442.55\" r=\"14.4\" fill=\"#000000\" fill-rule=\"evenodd\" fill-opacity=\"1\" stroke=\"none\"/>\n",
       "<circle clip-path=\"url(#clip412)\" cx=\"1989.11\" cy=\"1437.95\" r=\"14.4\" fill=\"#000000\" fill-rule=\"evenodd\" fill-opacity=\"1\" stroke=\"none\"/>\n",
       "<circle clip-path=\"url(#clip412)\" cx=\"2016.55\" cy=\"1345.95\" r=\"14.4\" fill=\"#000000\" fill-rule=\"evenodd\" fill-opacity=\"1\" stroke=\"none\"/>\n",
       "<circle clip-path=\"url(#clip412)\" cx=\"2044\" cy=\"1088.33\" r=\"14.4\" fill=\"#000000\" fill-rule=\"evenodd\" fill-opacity=\"1\" stroke=\"none\"/>\n",
       "<circle clip-path=\"url(#clip412)\" cx=\"2071.44\" cy=\"1074.53\" r=\"14.4\" fill=\"#000000\" fill-rule=\"evenodd\" fill-opacity=\"1\" stroke=\"none\"/>\n",
       "<circle clip-path=\"url(#clip412)\" cx=\"2098.89\" cy=\"1028.53\" r=\"14.4\" fill=\"#000000\" fill-rule=\"evenodd\" fill-opacity=\"1\" stroke=\"none\"/>\n",
       "<circle clip-path=\"url(#clip412)\" cx=\"2126.33\" cy=\"941.126\" r=\"14.4\" fill=\"#000000\" fill-rule=\"evenodd\" fill-opacity=\"1\" stroke=\"none\"/>\n",
       "<circle clip-path=\"url(#clip412)\" cx=\"2153.78\" cy=\"1138.94\" r=\"14.4\" fill=\"#000000\" fill-rule=\"evenodd\" fill-opacity=\"1\" stroke=\"none\"/>\n",
       "<circle clip-path=\"url(#clip412)\" cx=\"2181.22\" cy=\"1276.94\" r=\"14.4\" fill=\"#000000\" fill-rule=\"evenodd\" fill-opacity=\"1\" stroke=\"none\"/>\n",
       "<circle clip-path=\"url(#clip412)\" cx=\"2208.67\" cy=\"1359.75\" r=\"14.4\" fill=\"#000000\" fill-rule=\"evenodd\" fill-opacity=\"1\" stroke=\"none\"/>\n",
       "<circle clip-path=\"url(#clip412)\" cx=\"2236.11\" cy=\"1428.75\" r=\"14.4\" fill=\"#000000\" fill-rule=\"evenodd\" fill-opacity=\"1\" stroke=\"none\"/>\n",
       "<circle clip-path=\"url(#clip412)\" cx=\"2263.56\" cy=\"1442.55\" r=\"14.4\" fill=\"#000000\" fill-rule=\"evenodd\" fill-opacity=\"1\" stroke=\"none\"/>\n",
       "<circle clip-path=\"url(#clip412)\" cx=\"2291\" cy=\"1419.55\" r=\"14.4\" fill=\"#000000\" fill-rule=\"evenodd\" fill-opacity=\"1\" stroke=\"none\"/>\n",
       "<path clip-path=\"url(#clip412)\" d=\"M232.609 1396.39 L260.055 1238.24 L287.5 1086.09 L314.945 1045.56 L342.39 1044.46 L369.836 1136.56 L397.281 1203.97 L424.726 1300.9 L452.171 1373.62 L479.617 1418.9 L507.062 1371.95 L534.507 1168.5 L561.952 938.776 L589.398 888.505 L616.843 917.188 L644.288 1049.71 L671.733 1188.7 L699.179 1289.3 L726.624 1341.32 L754.069 1396.02 L781.515 1406.48 L808.96 1347.77 L836.405 1234.01 L863.85 1165.44 L891.296 1140.52 L918.741 1135.15 L946.186 1206.91 L973.631 1227.42 L1001.08 1298.99 L1028.52 1331.98 L1055.97 1383.24 L1083.41 1407.91 L1110.86 1385.65 L1138.3 1257.09 L1165.75 1105.78 L1193.19 982.978 L1220.64 1009.32 L1248.08 1060.63 L1275.53 1186.32 L1302.97 1273.08 L1330.42 1360.6 L1357.87 1403.53 L1385.31 1390.18 L1412.76 1278.81 L1440.2 1113.9 L1467.65 1066.69 L1495.09 1023.88 L1522.54 1117.42 L1549.98 1227.33 L1577.43 1311.69 L1604.87 1370.08 L1632.32 1410.97 L1659.76 1401.18 L1687.21 1322.16 L1714.65 1219.05 L1742.1 1123.65 L1769.54 1106.21 L1796.99 1078.63 L1824.43 1184.69 L1851.88 1269.08 L1879.33 1327.2 L1906.77 1377.19 L1934.22 1412.22 L1961.66 1437.86 L1989.11 1445.72 L2016.55 1421.32 L2044 1339.12 L2071.44 1302.11 L2098.89 1269.63 L2126.33 1232.21 L2153.78 1275.41 L2181.22 1338.9 L2208.67 1385.6 L2236.11 1423.58 L2263.56 1442.05 L2291 1441.53 L2291 1408.71 L2263.56 1410.51 L2236.11 1360.9 L2208.67 1259.03 L2181.22 1134.1 L2153.78 982.533 L2126.33 855.27 L2098.89 954.055 L2071.44 1034.14 L2044 1148.65 L2016.55 1356.51 L1989.11 1420.31 L1961.66 1399.22 L1934.22 1331.09 L1906.77 1235.91 L1879.33 1102.28 L1851.88 951.525 L1824.43 738.88 L1796.99 517.076 L1769.54 508.017 L1742.1 623.858 L1714.65 855.232 L1687.21 1097.65 L1659.76 1302.76 L1632.32 1327.81 L1604.87 1220.41 L1577.43 1060.83 L1549.98 837.957 L1522.54 540.409 L1495.09 327.04 L1467.65 422.161 L1440.2 557.191 L1412.76 976.497 L1385.31 1277.96 L1357.87 1307.91 L1330.42 1197.81 L1302.97 973.349 L1275.53 738.789 L1248.08 432.498 L1220.64 294.617 L1193.19 346.142 L1165.75 506.609 L1138.3 951.772 L1110.86 1263.36 L1083.41 1318.73 L1055.97 1254.49 L1028.52 1123.53 L1001.08 1036 L973.631 852.836 L946.186 794.862 L918.741 599.173 L891.296 631.95 L863.85 709.854 L836.405 900.969 L808.96 1172.23 L781.515 1315.06 L754.069 1287.11 L726.624 1145.34 L699.179 1003.45 L671.733 772.985 L644.288 361.915 L616.843 128.794 L589.398 87.9763 L561.952 301.059 L534.507 717.795 L507.062 1227.56 L479.617 1347.92 L452.171 1228.66 L424.726 1041.17 L397.281 783.301 L369.836 612.493 L342.39 343.58 L314.945 392.668 L287.5 506.353 L260.055 890.55 L232.609 1289.04  Z\" fill=\"#008000\" fill-rule=\"evenodd\" fill-opacity=\"0.15\"/>\n",
       "<polyline clip-path=\"url(#clip412)\" style=\"stroke:#008000; stroke-linecap:round; stroke-linejoin:round; stroke-width:12; stroke-opacity:1; fill:none\" points=\"232.609,1342.72 260.055,1064.39 287.5,796.222 314.945,719.114 342.39,694.022 369.836,874.524 397.281,993.635 424.726,1171.04 452.171,1301.14 479.617,1383.41 507.062,1299.76 534.507,943.15 561.952,619.918 589.398,488.241 616.843,522.991 644.288,705.812 671.733,980.842 699.179,1146.37 726.624,1243.33 754.069,1341.57 781.515,1360.77 808.96,1260 836.405,1067.49 863.85,937.648 891.296,886.236 918.741,867.163 946.186,1000.88 973.631,1040.13 1001.08,1167.5 1028.52,1227.76 1055.97,1318.86 1083.41,1363.32 1110.86,1324.51 1138.3,1104.43 1165.75,806.195 1193.19,664.56 1220.64,651.971 1248.08,746.563 1275.53,962.552 1302.97,1123.21 1330.42,1279.2 1357.87,1355.72 1385.31,1334.07 1412.76,1127.65 1440.2,835.545 1467.65,744.427 1495.09,675.461 1522.54,828.914 1549.98,1032.64 1577.43,1186.26 1604.87,1295.24 1632.32,1369.39 1659.76,1351.97 1687.21,1209.9 1714.65,1037.14 1742.1,873.754 1769.54,807.116 1796.99,797.853 1824.43,961.784 1851.88,1110.3 1879.33,1214.74 1906.77,1306.55 1934.22,1371.65 1961.66,1418.54 1989.11,1433.01 2016.55,1388.92 2044,1243.88 2071.44,1168.12 2098.89,1111.84 2126.33,1043.74 2153.78,1128.97 2181.22,1236.5 2208.67,1322.32 2236.11,1392.24 2263.56,1426.28 2291,1425.12 \"/>\n",
       "<path clip-path=\"url(#clip410)\" d=\"M2009.41 250.738 L2280.03 250.738 L2280.03 95.2176 L2009.41 95.2176  Z\" fill=\"#ffffff\" fill-rule=\"evenodd\" fill-opacity=\"1\"/>\n",
       "<polyline clip-path=\"url(#clip410)\" style=\"stroke:#000000; stroke-linecap:round; stroke-linejoin:round; stroke-width:4; stroke-opacity:1; fill:none\" points=\"2009.41,250.738 2280.03,250.738 2280.03,95.2176 2009.41,95.2176 2009.41,250.738 \"/>\n",
       "<circle clip-path=\"url(#clip410)\" cx=\"2106.38\" cy=\"147.058\" r=\"20.48\" fill=\"#000000\" fill-rule=\"evenodd\" fill-opacity=\"1\" stroke=\"none\"/>\n",
       "<path clip-path=\"url(#clip410)\" d=\"M2217.19 166.745 Q2215.39 171.375 2213.68 172.787 Q2211.96 174.199 2209.09 174.199 L2205.69 174.199 L2205.69 170.634 L2208.19 170.634 Q2209.95 170.634 2210.92 169.8 Q2211.89 168.967 2213.07 165.865 L2213.84 163.921 L2203.35 138.412 L2207.87 138.412 L2215.97 158.689 L2224.07 138.412 L2228.58 138.412 L2217.19 166.745 Z\" fill=\"#000000\" fill-rule=\"nonzero\" fill-opacity=\"1\" /><path clip-path=\"url(#clip410)\" d=\"M2235.88 160.402 L2243.51 160.402 L2243.51 134.037 L2235.2 135.703 L2235.2 131.444 L2243.47 129.778 L2248.14 129.778 L2248.14 160.402 L2255.78 160.402 L2255.78 164.338 L2235.88 164.338 L2235.88 160.402 Z\" fill=\"#000000\" fill-rule=\"nonzero\" fill-opacity=\"1\" /><polyline clip-path=\"url(#clip410)\" style=\"stroke:#008000; stroke-linecap:round; stroke-linejoin:round; stroke-width:12; stroke-opacity:1; fill:none\" points=\"2033.65,198.898 2179.11,198.898 \"/>\n",
       "<path clip-path=\"url(#clip410)\" d=\"M2217.19 218.585 Q2215.39 223.215 2213.68 224.627 Q2211.96 226.039 2209.09 226.039 L2205.69 226.039 L2205.69 222.474 L2208.19 222.474 Q2209.95 222.474 2210.92 221.64 Q2211.89 220.807 2213.07 217.705 L2213.84 215.761 L2203.35 190.252 L2207.87 190.252 L2215.97 210.529 L2224.07 190.252 L2228.58 190.252 L2217.19 218.585 Z\" fill=\"#000000\" fill-rule=\"nonzero\" fill-opacity=\"1\" /><path clip-path=\"url(#clip410)\" d=\"M2239.09 212.242 L2255.41 212.242 L2255.41 216.178 L2233.47 216.178 L2233.47 212.242 Q2236.13 209.488 2240.71 204.858 Q2245.32 200.205 2246.5 198.863 Q2248.75 196.34 2249.63 194.604 Q2250.53 192.844 2250.53 191.155 Q2250.53 188.4 2248.58 186.664 Q2246.66 184.928 2243.56 184.928 Q2241.36 184.928 2238.91 185.692 Q2236.48 186.455 2233.7 188.006 L2233.7 183.284 Q2236.52 182.15 2238.98 181.571 Q2241.43 180.993 2243.47 180.993 Q2248.84 180.993 2252.03 183.678 Q2255.23 186.363 2255.23 190.854 Q2255.23 192.983 2254.42 194.905 Q2253.63 196.803 2251.52 199.395 Q2250.94 200.067 2247.84 203.284 Q2244.74 206.479 2239.09 212.242 Z\" fill=\"#000000\" fill-rule=\"nonzero\" fill-opacity=\"1\" /></svg>\n"
      ]
     },
     "execution_count": 15,
     "metadata": {},
     "output_type": "execute_result"
    }
   ],
   "source": [
    "# plot estimates for location\n",
    "posteriours = results.posteriors[:z][end]\n",
    "means = map(mean, posteriours) \n",
    "ribbon = map(x -> var(x), posteriours)\n",
    "\n",
    "p1 = scatter(observations,color=:black)\n",
    "\n",
    "plot!(means, ribbon=ribbon, fillalpha=0.15, linewidth=3, color = :green)"
   ]
  },
  {
   "cell_type": "code",
   "execution_count": 16,
   "metadata": {},
   "outputs": [
    {
     "data": {
      "image/svg+xml": [
       "<?xml version=\"1.0\" encoding=\"utf-8\"?>\n",
       "<svg xmlns=\"http://www.w3.org/2000/svg\" xmlns:xlink=\"http://www.w3.org/1999/xlink\" width=\"600\" height=\"400\" viewBox=\"0 0 2400 1600\">\n",
       "<defs>\n",
       "  <clipPath id=\"clip450\">\n",
       "    <rect x=\"0\" y=\"0\" width=\"2400\" height=\"1600\"/>\n",
       "  </clipPath>\n",
       "</defs>\n",
       "<path clip-path=\"url(#clip450)\" d=\"M0 1600 L2400 1600 L2400 0 L0 0  Z\" fill=\"#ffffff\" fill-rule=\"evenodd\" fill-opacity=\"1\"/>\n",
       "<defs>\n",
       "  <clipPath id=\"clip451\">\n",
       "    <rect x=\"480\" y=\"0\" width=\"1681\" height=\"1600\"/>\n",
       "  </clipPath>\n",
       "</defs>\n",
       "<path clip-path=\"url(#clip450)\" d=\"M229.445 1486.45 L2352.76 1486.45 L2352.76 47.2441 L229.445 47.2441  Z\" fill=\"#ffffff\" fill-rule=\"evenodd\" fill-opacity=\"1\"/>\n",
       "<defs>\n",
       "  <clipPath id=\"clip452\">\n",
       "    <rect x=\"229\" y=\"47\" width=\"2124\" height=\"1440\"/>\n",
       "  </clipPath>\n",
       "</defs>\n",
       "<polyline clip-path=\"url(#clip452)\" style=\"stroke:#000000; stroke-linecap:round; stroke-linejoin:round; stroke-width:2; stroke-opacity:0.1; fill:none\" points=\"512.108,1486.45 512.108,47.2441 \"/>\n",
       "<polyline clip-path=\"url(#clip452)\" style=\"stroke:#000000; stroke-linecap:round; stroke-linejoin:round; stroke-width:2; stroke-opacity:0.1; fill:none\" points=\"957.247,1486.45 957.247,47.2441 \"/>\n",
       "<polyline clip-path=\"url(#clip452)\" style=\"stroke:#000000; stroke-linecap:round; stroke-linejoin:round; stroke-width:2; stroke-opacity:0.1; fill:none\" points=\"1402.39,1486.45 1402.39,47.2441 \"/>\n",
       "<polyline clip-path=\"url(#clip452)\" style=\"stroke:#000000; stroke-linecap:round; stroke-linejoin:round; stroke-width:2; stroke-opacity:0.1; fill:none\" points=\"1847.52,1486.45 1847.52,47.2441 \"/>\n",
       "<polyline clip-path=\"url(#clip452)\" style=\"stroke:#000000; stroke-linecap:round; stroke-linejoin:round; stroke-width:2; stroke-opacity:0.1; fill:none\" points=\"2292.66,1486.45 2292.66,47.2441 \"/>\n",
       "<polyline clip-path=\"url(#clip450)\" style=\"stroke:#000000; stroke-linecap:round; stroke-linejoin:round; stroke-width:4; stroke-opacity:1; fill:none\" points=\"229.445,1486.45 2352.76,1486.45 \"/>\n",
       "<polyline clip-path=\"url(#clip450)\" style=\"stroke:#000000; stroke-linecap:round; stroke-linejoin:round; stroke-width:4; stroke-opacity:1; fill:none\" points=\"512.108,1486.45 512.108,1467.55 \"/>\n",
       "<polyline clip-path=\"url(#clip450)\" style=\"stroke:#000000; stroke-linecap:round; stroke-linejoin:round; stroke-width:4; stroke-opacity:1; fill:none\" points=\"957.247,1486.45 957.247,1467.55 \"/>\n",
       "<polyline clip-path=\"url(#clip450)\" style=\"stroke:#000000; stroke-linecap:round; stroke-linejoin:round; stroke-width:4; stroke-opacity:1; fill:none\" points=\"1402.39,1486.45 1402.39,1467.55 \"/>\n",
       "<polyline clip-path=\"url(#clip450)\" style=\"stroke:#000000; stroke-linecap:round; stroke-linejoin:round; stroke-width:4; stroke-opacity:1; fill:none\" points=\"1847.52,1486.45 1847.52,1467.55 \"/>\n",
       "<polyline clip-path=\"url(#clip450)\" style=\"stroke:#000000; stroke-linecap:round; stroke-linejoin:round; stroke-width:4; stroke-opacity:1; fill:none\" points=\"2292.66,1486.45 2292.66,1467.55 \"/>\n",
       "<path clip-path=\"url(#clip450)\" d=\"M506.761 1544.91 L523.08 1544.91 L523.08 1548.85 L501.136 1548.85 L501.136 1544.91 Q503.798 1542.16 508.381 1537.53 Q512.988 1532.88 514.168 1531.53 Q516.414 1529.01 517.293 1527.27 Q518.196 1525.51 518.196 1523.82 Q518.196 1521.07 516.252 1519.33 Q514.33 1517.6 511.228 1517.6 Q509.029 1517.6 506.576 1518.36 Q504.145 1519.13 501.367 1520.68 L501.367 1515.95 Q504.191 1514.82 506.645 1514.24 Q509.099 1513.66 511.136 1513.66 Q516.506 1513.66 519.701 1516.35 Q522.895 1519.03 522.895 1523.52 Q522.895 1525.65 522.085 1527.57 Q521.298 1529.47 519.191 1532.07 Q518.613 1532.74 515.511 1535.95 Q512.409 1539.15 506.761 1544.91 Z\" fill=\"#000000\" fill-rule=\"nonzero\" fill-opacity=\"1\" /><path clip-path=\"url(#clip450)\" d=\"M960.256 1518.36 L948.45 1536.81 L960.256 1536.81 L960.256 1518.36 M959.029 1514.29 L964.909 1514.29 L964.909 1536.81 L969.839 1536.81 L969.839 1540.7 L964.909 1540.7 L964.909 1548.85 L960.256 1548.85 L960.256 1540.7 L944.654 1540.7 L944.654 1536.19 L959.029 1514.29 Z\" fill=\"#000000\" fill-rule=\"nonzero\" fill-opacity=\"1\" /><path clip-path=\"url(#clip450)\" d=\"M1402.79 1529.7 Q1399.64 1529.7 1397.79 1531.86 Q1395.96 1534.01 1395.96 1537.76 Q1395.96 1541.49 1397.79 1543.66 Q1399.64 1545.82 1402.79 1545.82 Q1405.94 1545.82 1407.77 1543.66 Q1409.62 1541.49 1409.62 1537.76 Q1409.62 1534.01 1407.77 1531.86 Q1405.94 1529.7 1402.79 1529.7 M1412.07 1515.05 L1412.07 1519.31 Q1410.31 1518.48 1408.51 1518.04 Q1406.73 1517.6 1404.97 1517.6 Q1400.34 1517.6 1397.88 1520.72 Q1395.45 1523.85 1395.11 1530.17 Q1396.47 1528.15 1398.53 1527.09 Q1400.59 1526 1403.07 1526 Q1408.28 1526 1411.29 1529.17 Q1414.32 1532.32 1414.32 1537.76 Q1414.32 1543.08 1411.17 1546.3 Q1408.02 1549.52 1402.79 1549.52 Q1396.79 1549.52 1393.62 1544.94 Q1390.45 1540.33 1390.45 1531.6 Q1390.45 1523.41 1394.34 1518.55 Q1398.23 1513.66 1404.78 1513.66 Q1406.54 1513.66 1408.32 1514.01 Q1410.13 1514.36 1412.07 1515.05 Z\" fill=\"#000000\" fill-rule=\"nonzero\" fill-opacity=\"1\" /><path clip-path=\"url(#clip450)\" d=\"M1847.52 1532.44 Q1844.19 1532.44 1842.27 1534.22 Q1840.37 1536 1840.37 1539.13 Q1840.37 1542.25 1842.27 1544.03 Q1844.19 1545.82 1847.52 1545.82 Q1850.86 1545.82 1852.78 1544.03 Q1854.7 1542.23 1854.7 1539.13 Q1854.7 1536 1852.78 1534.22 Q1850.88 1532.44 1847.52 1532.44 M1842.85 1530.45 Q1839.84 1529.7 1838.15 1527.64 Q1836.48 1525.58 1836.48 1522.62 Q1836.48 1518.48 1839.42 1516.07 Q1842.38 1513.66 1847.52 1513.66 Q1852.69 1513.66 1855.63 1516.07 Q1858.57 1518.48 1858.57 1522.62 Q1858.57 1525.58 1856.88 1527.64 Q1855.21 1529.7 1852.22 1530.45 Q1855.6 1531.23 1857.48 1533.52 Q1859.38 1535.82 1859.38 1539.13 Q1859.38 1544.15 1856.3 1546.83 Q1853.24 1549.52 1847.52 1549.52 Q1841.81 1549.52 1838.73 1546.83 Q1835.67 1544.15 1835.67 1539.13 Q1835.67 1535.82 1837.57 1533.52 Q1839.47 1531.23 1842.85 1530.45 M1841.13 1523.06 Q1841.13 1525.75 1842.8 1527.25 Q1844.49 1528.76 1847.52 1528.76 Q1850.53 1528.76 1852.22 1527.25 Q1853.94 1525.75 1853.94 1523.06 Q1853.94 1520.38 1852.22 1518.87 Q1850.53 1517.37 1847.52 1517.37 Q1844.49 1517.37 1842.8 1518.87 Q1841.13 1520.38 1841.13 1523.06 Z\" fill=\"#000000\" fill-rule=\"nonzero\" fill-opacity=\"1\" /><path clip-path=\"url(#clip450)\" d=\"M2267.35 1544.91 L2274.99 1544.91 L2274.99 1518.55 L2266.68 1520.21 L2266.68 1515.95 L2274.94 1514.29 L2279.62 1514.29 L2279.62 1544.91 L2287.26 1544.91 L2287.26 1548.85 L2267.35 1548.85 L2267.35 1544.91 Z\" fill=\"#000000\" fill-rule=\"nonzero\" fill-opacity=\"1\" /><path clip-path=\"url(#clip450)\" d=\"M2306.7 1517.37 Q2303.09 1517.37 2301.26 1520.93 Q2299.46 1524.47 2299.46 1531.6 Q2299.46 1538.71 2301.26 1542.27 Q2303.09 1545.82 2306.7 1545.82 Q2310.34 1545.82 2312.14 1542.27 Q2313.97 1538.71 2313.97 1531.6 Q2313.97 1524.47 2312.14 1520.93 Q2310.34 1517.37 2306.7 1517.37 M2306.7 1513.66 Q2312.51 1513.66 2315.57 1518.27 Q2318.65 1522.85 2318.65 1531.6 Q2318.65 1540.33 2315.57 1544.94 Q2312.51 1549.52 2306.7 1549.52 Q2300.89 1549.52 2297.81 1544.94 Q2294.76 1540.33 2294.76 1531.6 Q2294.76 1522.85 2297.81 1518.27 Q2300.89 1513.66 2306.7 1513.66 Z\" fill=\"#000000\" fill-rule=\"nonzero\" fill-opacity=\"1\" /><polyline clip-path=\"url(#clip452)\" style=\"stroke:#000000; stroke-linecap:round; stroke-linejoin:round; stroke-width:2; stroke-opacity:0.1; fill:none\" points=\"229.445,1444.36 2352.76,1444.36 \"/>\n",
       "<polyline clip-path=\"url(#clip452)\" style=\"stroke:#000000; stroke-linecap:round; stroke-linejoin:round; stroke-width:2; stroke-opacity:0.1; fill:none\" points=\"229.445,1146.17 2352.76,1146.17 \"/>\n",
       "<polyline clip-path=\"url(#clip452)\" style=\"stroke:#000000; stroke-linecap:round; stroke-linejoin:round; stroke-width:2; stroke-opacity:0.1; fill:none\" points=\"229.445,847.983 2352.76,847.983 \"/>\n",
       "<polyline clip-path=\"url(#clip452)\" style=\"stroke:#000000; stroke-linecap:round; stroke-linejoin:round; stroke-width:2; stroke-opacity:0.1; fill:none\" points=\"229.445,549.792 2352.76,549.792 \"/>\n",
       "<polyline clip-path=\"url(#clip452)\" style=\"stroke:#000000; stroke-linecap:round; stroke-linejoin:round; stroke-width:2; stroke-opacity:0.1; fill:none\" points=\"229.445,251.601 2352.76,251.601 \"/>\n",
       "<polyline clip-path=\"url(#clip450)\" style=\"stroke:#000000; stroke-linecap:round; stroke-linejoin:round; stroke-width:4; stroke-opacity:1; fill:none\" points=\"229.445,1486.45 229.445,47.2441 \"/>\n",
       "<polyline clip-path=\"url(#clip450)\" style=\"stroke:#000000; stroke-linecap:round; stroke-linejoin:round; stroke-width:4; stroke-opacity:1; fill:none\" points=\"229.445,1444.36 248.343,1444.36 \"/>\n",
       "<polyline clip-path=\"url(#clip450)\" style=\"stroke:#000000; stroke-linecap:round; stroke-linejoin:round; stroke-width:4; stroke-opacity:1; fill:none\" points=\"229.445,1146.17 248.343,1146.17 \"/>\n",
       "<polyline clip-path=\"url(#clip450)\" style=\"stroke:#000000; stroke-linecap:round; stroke-linejoin:round; stroke-width:4; stroke-opacity:1; fill:none\" points=\"229.445,847.983 248.343,847.983 \"/>\n",
       "<polyline clip-path=\"url(#clip450)\" style=\"stroke:#000000; stroke-linecap:round; stroke-linejoin:round; stroke-width:4; stroke-opacity:1; fill:none\" points=\"229.445,549.792 248.343,549.792 \"/>\n",
       "<polyline clip-path=\"url(#clip450)\" style=\"stroke:#000000; stroke-linecap:round; stroke-linejoin:round; stroke-width:4; stroke-opacity:1; fill:none\" points=\"229.445,251.601 248.343,251.601 \"/>\n",
       "<path clip-path=\"url(#clip450)\" d=\"M91.5938 1442.5 Q88.4456 1442.5 86.5938 1444.65 Q84.7651 1446.81 84.7651 1450.56 Q84.7651 1454.28 86.5938 1456.46 Q88.4456 1458.61 91.5938 1458.61 Q94.7419 1458.61 96.5706 1456.46 Q98.4224 1454.28 98.4224 1450.56 Q98.4224 1446.81 96.5706 1444.65 Q94.7419 1442.5 91.5938 1442.5 M100.876 1427.85 L100.876 1432.11 Q99.1169 1431.27 97.3113 1430.83 Q95.5289 1430.39 93.7697 1430.39 Q89.1401 1430.39 86.6864 1433.52 Q84.2558 1436.64 83.9086 1442.96 Q85.2743 1440.95 87.3345 1439.89 Q89.3947 1438.8 91.8715 1438.8 Q97.0798 1438.8 100.089 1441.97 Q103.121 1445.12 103.121 1450.56 Q103.121 1455.88 99.9733 1459.1 Q96.8252 1462.32 91.5938 1462.32 Q85.5984 1462.32 82.4271 1457.73 Q79.2559 1453.13 79.2559 1444.4 Q79.2559 1436.2 83.1447 1431.34 Q87.0336 1426.46 93.5845 1426.46 Q95.3437 1426.46 97.1261 1426.81 Q98.9317 1427.15 100.876 1427.85 Z\" fill=\"#000000\" fill-rule=\"nonzero\" fill-opacity=\"1\" /><path clip-path=\"url(#clip450)\" d=\"M121.177 1430.16 Q117.566 1430.16 115.737 1433.73 Q113.932 1437.27 113.932 1444.4 Q113.932 1451.51 115.737 1455.07 Q117.566 1458.61 121.177 1458.61 Q124.811 1458.61 126.617 1455.07 Q128.445 1451.51 128.445 1444.4 Q128.445 1437.27 126.617 1433.73 Q124.811 1430.16 121.177 1430.16 M121.177 1426.46 Q126.987 1426.46 130.043 1431.07 Q133.121 1435.65 133.121 1444.4 Q133.121 1453.13 130.043 1457.73 Q126.987 1462.32 121.177 1462.32 Q115.367 1462.32 112.288 1457.73 Q109.233 1453.13 109.233 1444.4 Q109.233 1435.65 112.288 1431.07 Q115.367 1426.46 121.177 1426.46 Z\" fill=\"#000000\" fill-rule=\"nonzero\" fill-opacity=\"1\" /><path clip-path=\"url(#clip450)\" d=\"M151.339 1430.16 Q147.728 1430.16 145.899 1433.73 Q144.093 1437.27 144.093 1444.4 Q144.093 1451.51 145.899 1455.07 Q147.728 1458.61 151.339 1458.61 Q154.973 1458.61 156.779 1455.07 Q158.607 1451.51 158.607 1444.4 Q158.607 1437.27 156.779 1433.73 Q154.973 1430.16 151.339 1430.16 M151.339 1426.46 Q157.149 1426.46 160.205 1431.07 Q163.283 1435.65 163.283 1444.4 Q163.283 1453.13 160.205 1457.73 Q157.149 1462.32 151.339 1462.32 Q145.529 1462.32 142.45 1457.73 Q139.394 1453.13 139.394 1444.4 Q139.394 1435.65 142.45 1431.07 Q145.529 1426.46 151.339 1426.46 Z\" fill=\"#000000\" fill-rule=\"nonzero\" fill-opacity=\"1\" /><path clip-path=\"url(#clip450)\" d=\"M181.501 1430.16 Q177.89 1430.16 176.061 1433.73 Q174.255 1437.27 174.255 1444.4 Q174.255 1451.51 176.061 1455.07 Q177.89 1458.61 181.501 1458.61 Q185.135 1458.61 186.94 1455.07 Q188.769 1451.51 188.769 1444.4 Q188.769 1437.27 186.94 1433.73 Q185.135 1430.16 181.501 1430.16 M181.501 1426.46 Q187.311 1426.46 190.366 1431.07 Q193.445 1435.65 193.445 1444.4 Q193.445 1453.13 190.366 1457.73 Q187.311 1462.32 181.501 1462.32 Q175.691 1462.32 172.612 1457.73 Q169.556 1453.13 169.556 1444.4 Q169.556 1435.65 172.612 1431.07 Q175.691 1426.46 181.501 1426.46 Z\" fill=\"#000000\" fill-rule=\"nonzero\" fill-opacity=\"1\" /><path clip-path=\"url(#clip450)\" d=\"M91.0151 1147.04 Q87.6817 1147.04 85.7605 1148.82 Q83.8623 1150.61 83.8623 1153.73 Q83.8623 1156.86 85.7605 1158.64 Q87.6817 1160.42 91.0151 1160.42 Q94.3484 1160.42 96.2697 1158.64 Q98.1909 1156.83 98.1909 1153.73 Q98.1909 1150.61 96.2697 1148.82 Q94.3715 1147.04 91.0151 1147.04 M86.3392 1145.05 Q83.3299 1144.31 81.6401 1142.25 Q79.9735 1140.19 79.9735 1137.23 Q79.9735 1133.08 82.9133 1130.68 Q85.8762 1128.27 91.0151 1128.27 Q96.1771 1128.27 99.1169 1130.68 Q102.057 1133.08 102.057 1137.23 Q102.057 1140.19 100.367 1142.25 Q98.7002 1144.31 95.7141 1145.05 Q99.0937 1145.84 100.969 1148.13 Q102.867 1150.42 102.867 1153.73 Q102.867 1158.75 99.7882 1161.44 Q96.7326 1164.12 91.0151 1164.12 Q85.2975 1164.12 82.2188 1161.44 Q79.1633 1158.75 79.1633 1153.73 Q79.1633 1150.42 81.0614 1148.13 Q82.9595 1145.84 86.3392 1145.05 M84.6262 1137.67 Q84.6262 1140.35 86.2929 1141.86 Q87.9827 1143.36 91.0151 1143.36 Q94.0243 1143.36 95.7141 1141.86 Q97.4271 1140.35 97.4271 1137.67 Q97.4271 1134.98 95.7141 1133.48 Q94.0243 1131.97 91.0151 1131.97 Q87.9827 1131.97 86.2929 1133.48 Q84.6262 1134.98 84.6262 1137.67 Z\" fill=\"#000000\" fill-rule=\"nonzero\" fill-opacity=\"1\" /><path clip-path=\"url(#clip450)\" d=\"M121.177 1131.97 Q117.566 1131.97 115.737 1135.54 Q113.932 1139.08 113.932 1146.21 Q113.932 1153.31 115.737 1156.88 Q117.566 1160.42 121.177 1160.42 Q124.811 1160.42 126.617 1156.88 Q128.445 1153.31 128.445 1146.21 Q128.445 1139.08 126.617 1135.54 Q124.811 1131.97 121.177 1131.97 M121.177 1128.27 Q126.987 1128.27 130.043 1132.88 Q133.121 1137.46 133.121 1146.21 Q133.121 1154.94 130.043 1159.54 Q126.987 1164.12 121.177 1164.12 Q115.367 1164.12 112.288 1159.54 Q109.233 1154.94 109.233 1146.21 Q109.233 1137.46 112.288 1132.88 Q115.367 1128.27 121.177 1128.27 Z\" fill=\"#000000\" fill-rule=\"nonzero\" fill-opacity=\"1\" /><path clip-path=\"url(#clip450)\" d=\"M151.339 1131.97 Q147.728 1131.97 145.899 1135.54 Q144.093 1139.08 144.093 1146.21 Q144.093 1153.31 145.899 1156.88 Q147.728 1160.42 151.339 1160.42 Q154.973 1160.42 156.779 1156.88 Q158.607 1153.31 158.607 1146.21 Q158.607 1139.08 156.779 1135.54 Q154.973 1131.97 151.339 1131.97 M151.339 1128.27 Q157.149 1128.27 160.205 1132.88 Q163.283 1137.46 163.283 1146.21 Q163.283 1154.94 160.205 1159.54 Q157.149 1164.12 151.339 1164.12 Q145.529 1164.12 142.45 1159.54 Q139.394 1154.94 139.394 1146.21 Q139.394 1137.46 142.45 1132.88 Q145.529 1128.27 151.339 1128.27 Z\" fill=\"#000000\" fill-rule=\"nonzero\" fill-opacity=\"1\" /><path clip-path=\"url(#clip450)\" d=\"M181.501 1131.97 Q177.89 1131.97 176.061 1135.54 Q174.255 1139.08 174.255 1146.21 Q174.255 1153.31 176.061 1156.88 Q177.89 1160.42 181.501 1160.42 Q185.135 1160.42 186.94 1156.88 Q188.769 1153.31 188.769 1146.21 Q188.769 1139.08 186.94 1135.54 Q185.135 1131.97 181.501 1131.97 M181.501 1128.27 Q187.311 1128.27 190.366 1132.88 Q193.445 1137.46 193.445 1146.21 Q193.445 1154.94 190.366 1159.54 Q187.311 1164.12 181.501 1164.12 Q175.691 1164.12 172.612 1159.54 Q169.556 1154.94 169.556 1146.21 Q169.556 1137.46 172.612 1132.88 Q175.691 1128.27 181.501 1128.27 Z\" fill=\"#000000\" fill-rule=\"nonzero\" fill-opacity=\"1\" /><path clip-path=\"url(#clip450)\" d=\"M51.6634 861.328 L59.3023 861.328 L59.3023 834.962 L50.9921 836.629 L50.9921 832.369 L59.256 830.703 L63.9319 830.703 L63.9319 861.328 L71.5707 861.328 L71.5707 865.263 L51.6634 865.263 L51.6634 861.328 Z\" fill=\"#000000\" fill-rule=\"nonzero\" fill-opacity=\"1\" /><path clip-path=\"url(#clip450)\" d=\"M91.0151 833.781 Q87.404 833.781 85.5753 837.346 Q83.7697 840.888 83.7697 848.018 Q83.7697 855.124 85.5753 858.689 Q87.404 862.23 91.0151 862.23 Q94.6493 862.23 96.4548 858.689 Q98.2835 855.124 98.2835 848.018 Q98.2835 840.888 96.4548 837.346 Q94.6493 833.781 91.0151 833.781 M91.0151 830.078 Q96.8252 830.078 99.8808 834.684 Q102.959 839.268 102.959 848.018 Q102.959 856.744 99.8808 861.351 Q96.8252 865.934 91.0151 865.934 Q85.2049 865.934 82.1262 861.351 Q79.0707 856.744 79.0707 848.018 Q79.0707 839.268 82.1262 834.684 Q85.2049 830.078 91.0151 830.078 Z\" fill=\"#000000\" fill-rule=\"nonzero\" fill-opacity=\"1\" /><path clip-path=\"url(#clip450)\" d=\"M121.177 833.781 Q117.566 833.781 115.737 837.346 Q113.932 840.888 113.932 848.018 Q113.932 855.124 115.737 858.689 Q117.566 862.23 121.177 862.23 Q124.811 862.23 126.617 858.689 Q128.445 855.124 128.445 848.018 Q128.445 840.888 126.617 837.346 Q124.811 833.781 121.177 833.781 M121.177 830.078 Q126.987 830.078 130.043 834.684 Q133.121 839.268 133.121 848.018 Q133.121 856.744 130.043 861.351 Q126.987 865.934 121.177 865.934 Q115.367 865.934 112.288 861.351 Q109.233 856.744 109.233 848.018 Q109.233 839.268 112.288 834.684 Q115.367 830.078 121.177 830.078 Z\" fill=\"#000000\" fill-rule=\"nonzero\" fill-opacity=\"1\" /><path clip-path=\"url(#clip450)\" d=\"M151.339 833.781 Q147.728 833.781 145.899 837.346 Q144.093 840.888 144.093 848.018 Q144.093 855.124 145.899 858.689 Q147.728 862.23 151.339 862.23 Q154.973 862.23 156.779 858.689 Q158.607 855.124 158.607 848.018 Q158.607 840.888 156.779 837.346 Q154.973 833.781 151.339 833.781 M151.339 830.078 Q157.149 830.078 160.205 834.684 Q163.283 839.268 163.283 848.018 Q163.283 856.744 160.205 861.351 Q157.149 865.934 151.339 865.934 Q145.529 865.934 142.45 861.351 Q139.394 856.744 139.394 848.018 Q139.394 839.268 142.45 834.684 Q145.529 830.078 151.339 830.078 Z\" fill=\"#000000\" fill-rule=\"nonzero\" fill-opacity=\"1\" /><path clip-path=\"url(#clip450)\" d=\"M181.501 833.781 Q177.89 833.781 176.061 837.346 Q174.255 840.888 174.255 848.018 Q174.255 855.124 176.061 858.689 Q177.89 862.23 181.501 862.23 Q185.135 862.23 186.94 858.689 Q188.769 855.124 188.769 848.018 Q188.769 840.888 186.94 837.346 Q185.135 833.781 181.501 833.781 M181.501 830.078 Q187.311 830.078 190.366 834.684 Q193.445 839.268 193.445 848.018 Q193.445 856.744 190.366 861.351 Q187.311 865.934 181.501 865.934 Q175.691 865.934 172.612 861.351 Q169.556 856.744 169.556 848.018 Q169.556 839.268 172.612 834.684 Q175.691 830.078 181.501 830.078 Z\" fill=\"#000000\" fill-rule=\"nonzero\" fill-opacity=\"1\" /><path clip-path=\"url(#clip450)\" d=\"M51.6634 563.137 L59.3023 563.137 L59.3023 536.771 L50.9921 538.438 L50.9921 534.179 L59.256 532.512 L63.9319 532.512 L63.9319 563.137 L71.5707 563.137 L71.5707 567.072 L51.6634 567.072 L51.6634 563.137 Z\" fill=\"#000000\" fill-rule=\"nonzero\" fill-opacity=\"1\" /><path clip-path=\"url(#clip450)\" d=\"M85.0429 563.137 L101.362 563.137 L101.362 567.072 L79.4179 567.072 L79.4179 563.137 Q82.0799 560.382 86.6632 555.753 Q91.2697 551.1 92.4502 549.757 Q94.6956 547.234 95.5752 545.498 Q96.478 543.739 96.478 542.049 Q96.478 539.294 94.5336 537.558 Q92.6123 535.822 89.5104 535.822 Q87.3114 535.822 84.8577 536.586 Q82.4271 537.35 79.6494 538.901 L79.6494 534.179 Q82.4734 533.044 84.9271 532.466 Q87.3808 531.887 89.4178 531.887 Q94.7882 531.887 97.9826 534.572 Q101.177 537.257 101.177 541.748 Q101.177 543.878 100.367 545.799 Q99.5798 547.697 97.4734 550.29 Q96.8947 550.961 93.7928 554.179 Q90.691 557.373 85.0429 563.137 Z\" fill=\"#000000\" fill-rule=\"nonzero\" fill-opacity=\"1\" /><path clip-path=\"url(#clip450)\" d=\"M121.177 535.591 Q117.566 535.591 115.737 539.155 Q113.932 542.697 113.932 549.827 Q113.932 556.933 115.737 560.498 Q117.566 564.04 121.177 564.04 Q124.811 564.04 126.617 560.498 Q128.445 556.933 128.445 549.827 Q128.445 542.697 126.617 539.155 Q124.811 535.591 121.177 535.591 M121.177 531.887 Q126.987 531.887 130.043 536.493 Q133.121 541.077 133.121 549.827 Q133.121 558.553 130.043 563.16 Q126.987 567.743 121.177 567.743 Q115.367 567.743 112.288 563.16 Q109.233 558.553 109.233 549.827 Q109.233 541.077 112.288 536.493 Q115.367 531.887 121.177 531.887 Z\" fill=\"#000000\" fill-rule=\"nonzero\" fill-opacity=\"1\" /><path clip-path=\"url(#clip450)\" d=\"M151.339 535.591 Q147.728 535.591 145.899 539.155 Q144.093 542.697 144.093 549.827 Q144.093 556.933 145.899 560.498 Q147.728 564.04 151.339 564.04 Q154.973 564.04 156.779 560.498 Q158.607 556.933 158.607 549.827 Q158.607 542.697 156.779 539.155 Q154.973 535.591 151.339 535.591 M151.339 531.887 Q157.149 531.887 160.205 536.493 Q163.283 541.077 163.283 549.827 Q163.283 558.553 160.205 563.16 Q157.149 567.743 151.339 567.743 Q145.529 567.743 142.45 563.16 Q139.394 558.553 139.394 549.827 Q139.394 541.077 142.45 536.493 Q145.529 531.887 151.339 531.887 Z\" fill=\"#000000\" fill-rule=\"nonzero\" fill-opacity=\"1\" /><path clip-path=\"url(#clip450)\" d=\"M181.501 535.591 Q177.89 535.591 176.061 539.155 Q174.255 542.697 174.255 549.827 Q174.255 556.933 176.061 560.498 Q177.89 564.04 181.501 564.04 Q185.135 564.04 186.94 560.498 Q188.769 556.933 188.769 549.827 Q188.769 542.697 186.94 539.155 Q185.135 535.591 181.501 535.591 M181.501 531.887 Q187.311 531.887 190.366 536.493 Q193.445 541.077 193.445 549.827 Q193.445 558.553 190.366 563.16 Q187.311 567.743 181.501 567.743 Q175.691 567.743 172.612 563.16 Q169.556 558.553 169.556 549.827 Q169.556 541.077 172.612 536.493 Q175.691 531.887 181.501 531.887 Z\" fill=\"#000000\" fill-rule=\"nonzero\" fill-opacity=\"1\" /><path clip-path=\"url(#clip450)\" d=\"M51.6634 264.946 L59.3023 264.946 L59.3023 238.58 L50.9921 240.247 L50.9921 235.988 L59.256 234.321 L63.9319 234.321 L63.9319 264.946 L71.5707 264.946 L71.5707 268.881 L51.6634 268.881 L51.6634 264.946 Z\" fill=\"#000000\" fill-rule=\"nonzero\" fill-opacity=\"1\" /><path clip-path=\"url(#clip450)\" d=\"M93.8623 238.395 L82.0568 256.844 L93.8623 256.844 L93.8623 238.395 M92.6354 234.321 L98.515 234.321 L98.515 256.844 L103.446 256.844 L103.446 260.733 L98.515 260.733 L98.515 268.881 L93.8623 268.881 L93.8623 260.733 L78.2605 260.733 L78.2605 256.219 L92.6354 234.321 Z\" fill=\"#000000\" fill-rule=\"nonzero\" fill-opacity=\"1\" /><path clip-path=\"url(#clip450)\" d=\"M121.177 237.4 Q117.566 237.4 115.737 240.965 Q113.932 244.506 113.932 251.636 Q113.932 258.742 115.737 262.307 Q117.566 265.849 121.177 265.849 Q124.811 265.849 126.617 262.307 Q128.445 258.742 128.445 251.636 Q128.445 244.506 126.617 240.965 Q124.811 237.4 121.177 237.4 M121.177 233.696 Q126.987 233.696 130.043 238.303 Q133.121 242.886 133.121 251.636 Q133.121 260.363 130.043 264.969 Q126.987 269.552 121.177 269.552 Q115.367 269.552 112.288 264.969 Q109.233 260.363 109.233 251.636 Q109.233 242.886 112.288 238.303 Q115.367 233.696 121.177 233.696 Z\" fill=\"#000000\" fill-rule=\"nonzero\" fill-opacity=\"1\" /><path clip-path=\"url(#clip450)\" d=\"M151.339 237.4 Q147.728 237.4 145.899 240.965 Q144.093 244.506 144.093 251.636 Q144.093 258.742 145.899 262.307 Q147.728 265.849 151.339 265.849 Q154.973 265.849 156.779 262.307 Q158.607 258.742 158.607 251.636 Q158.607 244.506 156.779 240.965 Q154.973 237.4 151.339 237.4 M151.339 233.696 Q157.149 233.696 160.205 238.303 Q163.283 242.886 163.283 251.636 Q163.283 260.363 160.205 264.969 Q157.149 269.552 151.339 269.552 Q145.529 269.552 142.45 264.969 Q139.394 260.363 139.394 251.636 Q139.394 242.886 142.45 238.303 Q145.529 233.696 151.339 233.696 Z\" fill=\"#000000\" fill-rule=\"nonzero\" fill-opacity=\"1\" /><path clip-path=\"url(#clip450)\" d=\"M181.501 237.4 Q177.89 237.4 176.061 240.965 Q174.255 244.506 174.255 251.636 Q174.255 258.742 176.061 262.307 Q177.89 265.849 181.501 265.849 Q185.135 265.849 186.94 262.307 Q188.769 258.742 188.769 251.636 Q188.769 244.506 186.94 240.965 Q185.135 237.4 181.501 237.4 M181.501 233.696 Q187.311 233.696 190.366 238.303 Q193.445 242.886 193.445 251.636 Q193.445 260.363 190.366 264.969 Q187.311 269.552 181.501 269.552 Q175.691 269.552 172.612 264.969 Q169.556 260.363 169.556 251.636 Q169.556 242.886 172.612 238.303 Q175.691 233.696 181.501 233.696 Z\" fill=\"#000000\" fill-rule=\"nonzero\" fill-opacity=\"1\" /><polyline clip-path=\"url(#clip452)\" style=\"stroke:#009af9; stroke-linecap:round; stroke-linejoin:round; stroke-width:4; stroke-opacity:1; fill:none\" points=\"289.539,87.9763 512.108,1141.15 734.677,1411.85 957.247,1442.3 1179.82,1445.72 1402.39,1445.08 1624.95,1444.31 1847.52,1443.95 2070.09,1443.97 2292.66,1444.01 \"/>\n",
       "<path clip-path=\"url(#clip450)\" d=\"M2017.22 198.898 L2281.98 198.898 L2281.98 95.2176 L2017.22 95.2176  Z\" fill=\"#ffffff\" fill-rule=\"evenodd\" fill-opacity=\"1\"/>\n",
       "<polyline clip-path=\"url(#clip450)\" style=\"stroke:#000000; stroke-linecap:round; stroke-linejoin:round; stroke-width:4; stroke-opacity:1; fill:none\" points=\"2017.22,198.898 2281.98,198.898 2281.98,95.2176 2017.22,95.2176 2017.22,198.898 \"/>\n",
       "<polyline clip-path=\"url(#clip450)\" style=\"stroke:#009af9; stroke-linecap:round; stroke-linejoin:round; stroke-width:4; stroke-opacity:1; fill:none\" points=\"2040.81,147.058 2182.36,147.058 \"/>\n",
       "<path clip-path=\"url(#clip450)\" d=\"M2219.8 166.745 Q2217.99 171.375 2216.28 172.787 Q2214.57 174.199 2211.7 174.199 L2208.29 174.199 L2208.29 170.634 L2210.79 170.634 Q2212.55 170.634 2213.53 169.8 Q2214.5 168.967 2215.68 165.865 L2216.44 163.921 L2205.96 138.412 L2210.47 138.412 L2218.57 158.689 L2226.67 138.412 L2231.19 138.412 L2219.8 166.745 Z\" fill=\"#000000\" fill-rule=\"nonzero\" fill-opacity=\"1\" /><path clip-path=\"url(#clip450)\" d=\"M2238.48 160.402 L2246.12 160.402 L2246.12 134.037 L2237.81 135.703 L2237.81 131.444 L2246.07 129.778 L2250.75 129.778 L2250.75 160.402 L2258.39 160.402 L2258.39 164.338 L2238.48 164.338 L2238.48 160.402 Z\" fill=\"#000000\" fill-rule=\"nonzero\" fill-opacity=\"1\" /></svg>\n"
      ]
     },
     "execution_count": 16,
     "metadata": {},
     "output_type": "execute_result"
    }
   ],
   "source": [
    "plot(results.free_energy[1:end])"
   ]
  },
  {
   "cell_type": "code",
   "execution_count": 18,
   "metadata": {},
   "outputs": [
    {
     "data": {
      "text/plain": [
       "BenchmarkTools.Trial: 11 samples with 1 evaluation.\n",
       " Range \u001b[90m(\u001b[39m\u001b[36m\u001b[1mmin\u001b[22m\u001b[39m … \u001b[35mmax\u001b[39m\u001b[90m):  \u001b[39m\u001b[36m\u001b[1m487.878 ms\u001b[22m\u001b[39m … \u001b[35m523.440 ms\u001b[39m  \u001b[90m┊\u001b[39m GC \u001b[90m(\u001b[39mmin … max\u001b[90m): \u001b[39m5.59% … 8.04%\n",
       " Time  \u001b[90m(\u001b[39m\u001b[34m\u001b[1mmedian\u001b[22m\u001b[39m\u001b[90m):     \u001b[39m\u001b[34m\u001b[1m496.003 ms               \u001b[22m\u001b[39m\u001b[90m┊\u001b[39m GC \u001b[90m(\u001b[39mmedian\u001b[90m):    \u001b[39m5.44%\n",
       " Time  \u001b[90m(\u001b[39m\u001b[32m\u001b[1mmean\u001b[22m\u001b[39m ± \u001b[32mσ\u001b[39m\u001b[90m):   \u001b[39m\u001b[32m\u001b[1m497.965 ms\u001b[22m\u001b[39m ± \u001b[32m 10.198 ms\u001b[39m  \u001b[90m┊\u001b[39m GC \u001b[90m(\u001b[39mmean ± σ\u001b[90m):  \u001b[39m5.70% ± 0.79%\n",
       "\n",
       "  \u001b[39m█\u001b[39m \u001b[39m█\u001b[39m█\u001b[39m \u001b[39m \u001b[39m \u001b[39m \u001b[39m█\u001b[39m \u001b[39m█\u001b[34m \u001b[39m\u001b[39m \u001b[39m█\u001b[39m \u001b[39m \u001b[39m█\u001b[32m \u001b[39m\u001b[39m█\u001b[39m \u001b[39m \u001b[39m \u001b[39m \u001b[39m█\u001b[39m \u001b[39m \u001b[39m \u001b[39m \u001b[39m \u001b[39m \u001b[39m \u001b[39m \u001b[39m█\u001b[39m \u001b[39m \u001b[39m \u001b[39m \u001b[39m \u001b[39m \u001b[39m \u001b[39m \u001b[39m \u001b[39m \u001b[39m \u001b[39m \u001b[39m \u001b[39m \u001b[39m \u001b[39m \u001b[39m \u001b[39m \u001b[39m \u001b[39m \u001b[39m \u001b[39m \u001b[39m \u001b[39m \u001b[39m \u001b[39m \u001b[39m \u001b[39m█\u001b[39m \u001b[39m \n",
       "  \u001b[39m█\u001b[39m▁\u001b[39m█\u001b[39m█\u001b[39m▁\u001b[39m▁\u001b[39m▁\u001b[39m▁\u001b[39m█\u001b[39m▁\u001b[39m█\u001b[34m▁\u001b[39m\u001b[39m▁\u001b[39m█\u001b[39m▁\u001b[39m▁\u001b[39m█\u001b[32m▁\u001b[39m\u001b[39m█\u001b[39m▁\u001b[39m▁\u001b[39m▁\u001b[39m▁\u001b[39m█\u001b[39m▁\u001b[39m▁\u001b[39m▁\u001b[39m▁\u001b[39m▁\u001b[39m▁\u001b[39m▁\u001b[39m▁\u001b[39m█\u001b[39m▁\u001b[39m▁\u001b[39m▁\u001b[39m▁\u001b[39m▁\u001b[39m▁\u001b[39m▁\u001b[39m▁\u001b[39m▁\u001b[39m▁\u001b[39m▁\u001b[39m▁\u001b[39m▁\u001b[39m▁\u001b[39m▁\u001b[39m▁\u001b[39m▁\u001b[39m▁\u001b[39m▁\u001b[39m▁\u001b[39m▁\u001b[39m▁\u001b[39m▁\u001b[39m▁\u001b[39m▁\u001b[39m▁\u001b[39m▁\u001b[39m█\u001b[39m \u001b[39m▁\n",
       "  488 ms\u001b[90m           Histogram: frequency by time\u001b[39m          523 ms \u001b[0m\u001b[1m<\u001b[22m\n",
       "\n",
       " Memory estimate\u001b[90m: \u001b[39m\u001b[33m381.51 MiB\u001b[39m, allocs estimate\u001b[90m: \u001b[39m\u001b[33m11307195\u001b[39m."
      ]
     },
     "execution_count": 18,
     "metadata": {},
     "output_type": "execute_result"
    }
   ],
   "source": [
    "@benchmark results = inference(\n",
    "    model = sunspot_model(nr_observations),\n",
    "    data = (y = observations,),\n",
    "    iterations = 10,\n",
    "    free_energy = true,\n",
    "    constraints = sunspot_constraints(),\n",
    "    meta = sunspot_meta(StableRNG(42), 1, 10, Flux.Descent(0.001)),\n",
    "    initmarginals = (γ=Gamma(10, 1), z=Gamma(10, 1), )\n",
    ")"
   ]
  },
  {
   "cell_type": "code",
   "execution_count": null,
   "metadata": {},
   "outputs": [],
   "source": []
  }
 ],
 "metadata": {
  "@webio": {
   "lastCommId": null,
   "lastKernelId": null
  },
  "kernelspec": {
   "display_name": "Julia 1.8.5",
   "language": "julia",
   "name": "julia-1.8"
  },
  "language_info": {
   "file_extension": ".jl",
   "mimetype": "application/julia",
   "name": "julia",
   "version": "1.8.5"
  }
 },
 "nbformat": 4,
 "nbformat_minor": 2
}
