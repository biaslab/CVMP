{
 "cells": [
  {
   "cell_type": "code",
   "execution_count": 41,
   "metadata": {},
   "outputs": [
    {
     "data": {
      "text/plain": [
       "Plots.PGFPlotsXBackend()"
      ]
     },
     "metadata": {},
     "output_type": "display_data"
    }
   ],
   "source": [
    "using RxInfer, Random, LinearAlgebra, Plots, Flux, Plots, StableRNGs, SpecialFunctions, Rocket\n",
    "using CCMP\n",
    "using Turing\n",
    "using DynamicHMC, AdvancedVI\n",
    "using BenchmarkTools\n",
    "pgfplotsx()"
   ]
  },
  {
   "cell_type": "code",
   "execution_count": 42,
   "metadata": {},
   "outputs": [],
   "source": [
    "# data generating process\n",
    "nr_observations = 50\n",
    "reference_point = 53\n",
    "hidden_location = collect(1:nr_observations) + rand(MersenneTwister(124), NormalMeanVariance(0.0, sqrt(100)), nr_observations)\n",
    "measurements = (hidden_location .- reference_point).^2 + rand(MersenneTwister(124), NormalMeanVariance(0.0, 200), nr_observations);"
   ]
  },
  {
   "cell_type": "code",
   "execution_count": 43,
   "metadata": {},
   "outputs": [
    {
     "data": {
      "text/plain": [
       "\"/Users/sabinamakhmudova/repos/CVMP/demos/square_observations.tex\""
      ]
     },
     "metadata": {},
     "output_type": "display_data"
    }
   ],
   "source": [
    "# plot hidden location and reference frame\n",
    "p1 = plot(1:nr_observations, hidden_location, linewidth=3, legend=:topleft, label=\"hidden location\")\n",
    "hline!([reference_point], linewidth=3, label=\"reference point\")\n",
    "xlabel!(\"time [sec]\"), ylabel!(\"location [cm]\")\n",
    "\n",
    "# plot measurements\n",
    "p2 = scatter(1:nr_observations, measurements, linewidth=3, label=\"measurements\")\n",
    "xlabel!(\"time [sec]\"), ylabel!(\"squared distance [cm2]\")\n",
    "\n",
    "p = plot(p1, p2)\n",
    "savefig(p,\"square_observations.tex\")"
   ]
  },
  {
   "cell_type": "code",
   "execution_count": 38,
   "metadata": {},
   "outputs": [],
   "source": [
    "function compute_squared_distance(z)\n",
    "    (z - reference_point)^2\n",
    "end;"
   ]
  },
  {
   "cell_type": "code",
   "execution_count": 39,
   "metadata": {},
   "outputs": [],
   "source": [
    "RxInfer.@model function measurement_model(nr_observations)\n",
    "\n",
    "    # allocate random variables and observations\n",
    "    z = randomvar(nr_observations)\n",
    "    y = datavar(Float64, nr_observations)\n",
    "\n",
    "    # set priors on precision parameters\n",
    "    τ ~ Gamma(shape = 1.0, rate = 1.0e-12)\n",
    "    γ ~ Gamma(shape = 1.0, rate = 1.0e-12)\n",
    "    \n",
    "    # specify estimate of initial location\n",
    "    z[1] ~ Normal(mean = 0, precision = τ)\n",
    "    y[1] ~ Normal(mean = compute_squared_distance(z[1]), precision = γ)\n",
    "\n",
    "    # loop over observations\n",
    "    for t in 2:nr_observations\n",
    "\n",
    "        # specify state transition model\n",
    "        z[t] ~ Normal(mean = z[t-1] + 1, precision = τ)\n",
    "\n",
    "        # specify non-linear observation model\n",
    "        y[t] ~ Normal(mean = compute_squared_distance(z[t]), precision = γ)\n",
    "        \n",
    "    end\n",
    "\n",
    "end"
   ]
  },
  {
   "cell_type": "code",
   "execution_count": 30,
   "metadata": {},
   "outputs": [],
   "source": [
    "@meta function measurement_meta(rng, nr_samples, nr_iterations, optimizer)\n",
    "    compute_squared_distance() -> CVI(rng, nr_samples, nr_iterations, optimizer, ForwardDiffGrad(), 10, Val(false), false)\n",
    "end;"
   ]
  },
  {
   "cell_type": "code",
   "execution_count": 31,
   "metadata": {},
   "outputs": [],
   "source": [
    "@constraints function measurement_constraints()\n",
    "    q(z, τ, γ) = q(z)q(τ)q(γ)\n",
    "end;"
   ]
  },
  {
   "cell_type": "code",
   "execution_count": 32,
   "metadata": {},
   "outputs": [
    {
     "data": {
      "text/plain": [
       "Inference results:\n",
       "  Posteriors       | available for (z)\n",
       "  Free Energy:     | Real[522.916, 439.434, 423.231, 421.204, 419.006, 416.184, 414.074, 412.109, 410.061, 410.146  …  392.381, 392.179, 391.79, 391.988, 392.112, 392.069, 391.904, 391.801, 391.712, 391.506]\n"
      ]
     },
     "metadata": {},
     "output_type": "display_data"
    }
   ],
   "source": [
    "results_cvi = inference(\n",
    "    model = measurement_model(nr_observations),\n",
    "    data = (y = measurements,),\n",
    "    iterations = 50,\n",
    "    free_energy = true,\n",
    "    returnvars = (z = KeepLast(),),\n",
    "    constraints = measurement_constraints(),\n",
    "    meta = measurement_meta(StableRNG(42), 200, 10, Descent(0.001)),\n",
    "    initmessages = (z = NormalMeanVariance(0, 5),),\n",
    "    initmarginals = (z = NormalMeanVariance(0, 5), τ = GammaShapeRate(1.0, 1000), γ = GammaShapeRate(1.0, 1000),),\n",
    ")"
   ]
  },
  {
   "cell_type": "code",
   "execution_count": 13,
   "metadata": {},
   "outputs": [
    {
     "data": {
      "text/plain": [
       "BenchmarkTools.Trial: 19 samples with 1 evaluation.\n",
       " Range \u001b[90m(\u001b[39m\u001b[36m\u001b[1mmin\u001b[22m\u001b[39m … \u001b[35mmax\u001b[39m\u001b[90m):  \u001b[39m\u001b[36m\u001b[1m257.721 ms\u001b[22m\u001b[39m … \u001b[35m317.608 ms\u001b[39m  \u001b[90m┊\u001b[39m GC \u001b[90m(\u001b[39mmin … max\u001b[90m): \u001b[39m6.38% … 8.07%\n",
       " Time  \u001b[90m(\u001b[39m\u001b[34m\u001b[1mmedian\u001b[22m\u001b[39m\u001b[90m):     \u001b[39m\u001b[34m\u001b[1m262.920 ms               \u001b[22m\u001b[39m\u001b[90m┊\u001b[39m GC \u001b[90m(\u001b[39mmedian\u001b[90m):    \u001b[39m6.41%\n",
       " Time  \u001b[90m(\u001b[39m\u001b[32m\u001b[1mmean\u001b[22m\u001b[39m ± \u001b[32mσ\u001b[39m\u001b[90m):   \u001b[39m\u001b[32m\u001b[1m268.730 ms\u001b[22m\u001b[39m ± \u001b[32m 14.205 ms\u001b[39m  \u001b[90m┊\u001b[39m GC \u001b[90m(\u001b[39mmean ± σ\u001b[90m):  \u001b[39m8.27% ± 2.56%\n",
       "\n",
       "  \u001b[39m█\u001b[39m█\u001b[39m \u001b[39m \u001b[39m \u001b[34m \u001b[39m\u001b[39m \u001b[39m \u001b[39m \u001b[39m \u001b[39m \u001b[32m \u001b[39m\u001b[39m \u001b[39m \u001b[39m \u001b[39m \u001b[39m \u001b[39m▁\u001b[39m \u001b[39m▄\u001b[39m \u001b[39m \u001b[39m \u001b[39m \u001b[39m \u001b[39m \u001b[39m \u001b[39m \u001b[39m \u001b[39m \u001b[39m \u001b[39m \u001b[39m \u001b[39m \u001b[39m \u001b[39m \u001b[39m \u001b[39m \u001b[39m \u001b[39m \u001b[39m \u001b[39m \u001b[39m \u001b[39m \u001b[39m \u001b[39m \u001b[39m \u001b[39m \u001b[39m \u001b[39m \u001b[39m \u001b[39m \u001b[39m \u001b[39m \u001b[39m \u001b[39m \u001b[39m \u001b[39m \u001b[39m \u001b[39m \u001b[39m \u001b[39m \u001b[39m \n",
       "  \u001b[39m█\u001b[39m█\u001b[39m▁\u001b[39m▁\u001b[39m▆\u001b[34m▆\u001b[39m\u001b[39m▁\u001b[39m▆\u001b[39m▁\u001b[39m▁\u001b[39m▁\u001b[32m▁\u001b[39m\u001b[39m▁\u001b[39m▁\u001b[39m▁\u001b[39m▆\u001b[39m▁\u001b[39m█\u001b[39m▆\u001b[39m█\u001b[39m▁\u001b[39m▁\u001b[39m▁\u001b[39m▁\u001b[39m▁\u001b[39m▁\u001b[39m▁\u001b[39m▁\u001b[39m▁\u001b[39m▁\u001b[39m▁\u001b[39m▁\u001b[39m▁\u001b[39m▁\u001b[39m▁\u001b[39m▁\u001b[39m▁\u001b[39m▁\u001b[39m▁\u001b[39m▁\u001b[39m▁\u001b[39m▁\u001b[39m▁\u001b[39m▁\u001b[39m▁\u001b[39m▁\u001b[39m▁\u001b[39m▁\u001b[39m▁\u001b[39m▁\u001b[39m▁\u001b[39m▁\u001b[39m▁\u001b[39m▁\u001b[39m▁\u001b[39m▁\u001b[39m▁\u001b[39m▁\u001b[39m▁\u001b[39m▁\u001b[39m▆\u001b[39m \u001b[39m▁\n",
       "  258 ms\u001b[90m           Histogram: frequency by time\u001b[39m          318 ms \u001b[0m\u001b[1m<\u001b[22m\n",
       "\n",
       " Memory estimate\u001b[90m: \u001b[39m\u001b[33m257.80 MiB\u001b[39m, allocs estimate\u001b[90m: \u001b[39m\u001b[33m9209792\u001b[39m."
      ]
     },
     "metadata": {},
     "output_type": "display_data"
    }
   ],
   "source": [
    "@benchmark inference(\n",
    "    model = measurement_model(nr_observations),\n",
    "    data = (y = measurements,),\n",
    "    iterations = 50,\n",
    "    free_energy = true,\n",
    "    returnvars = (z = KeepLast(),),\n",
    "    constraints = measurement_constraints(),\n",
    "    meta = measurement_meta(StableRNG(42), 200, 10, Descent(0.001)),\n",
    "    initmessages = (z = NormalMeanVariance(0, 5),),\n",
    "    initmarginals = (z = NormalMeanVariance(0, 5), τ = GammaShapeRate(1.0, 1000), γ = GammaShapeRate(1.0, 1000),),\n",
    ")"
   ]
  },
  {
   "cell_type": "code",
   "execution_count": 14,
   "metadata": {},
   "outputs": [],
   "source": [
    "@rule DeltaFn(:out, Marginalisation) (q_ins::ReactiveMP.FactorizedJoint{P}, meta::ReactiveMP.DeltaMeta{M}) where {P <: NTuple{1}, M <: CVI} = begin\n",
    "    method = ReactiveMP.getmethod(meta)\n",
    "    node = getnode()\n",
    "    m_out = Rocket.getrecent(ReactiveMP.messagein(node.out))\n",
    "    m_ins = Rocket.getrecent.(ReactiveMP.messagein.(node.ins))\n",
    "    q_y_params = naturalparams(prod(method, getdata(m_ins[1]), getdata(m_out), q_ins[1], getnodefn(Val(:out))))\n",
    "    return convert(Distribution, q_y_params - naturalparams(getdata(m_out)))\n",
    "end"
   ]
  },
  {
   "cell_type": "code",
   "execution_count": 15,
   "metadata": {},
   "outputs": [
    {
     "data": {
      "text/plain": [
       "Inference results:\n",
       "  Posteriors       | available for (z)\n",
       "  Free Energy:     | Real[559.26, 438.928, 423.214, 418.7, 414.281, 409.274, 405.503, 403.736, 401.308, 401.338  …  391.93, 391.801, 391.658, 391.622, 391.53, 391.444, 391.322, 391.218, 391.21, 391.044]\n"
      ]
     },
     "metadata": {},
     "output_type": "display_data"
    }
   ],
   "source": [
    "results_ccmp = inference(\n",
    "    model = measurement_model(nr_observations),\n",
    "    data = (y = measurements,),\n",
    "    iterations = 50,\n",
    "    free_energy = true,\n",
    "    returnvars = (z = KeepLast(),),\n",
    "    constraints = measurement_constraints(),\n",
    "    meta = measurement_meta(StableRNG(42), 200, 10, Descent(0.008)),\n",
    "    initmessages = (z = NormalMeanVariance(0, 5),),\n",
    "    initmarginals = (z = NormalMeanVariance(0, 5), τ = GammaShapeRate(1.0, 1000), γ = GammaShapeRate(1.0, 1000),),\n",
    ")"
   ]
  },
  {
   "cell_type": "code",
   "execution_count": 16,
   "metadata": {},
   "outputs": [],
   "source": [
    "@meta function linear_measurement_meta()\n",
    "    compute_squared_distance() -> Linearization()\n",
    "end;"
   ]
  },
  {
   "cell_type": "code",
   "execution_count": 33,
   "metadata": {},
   "outputs": [
    {
     "data": {
      "text/plain": [
       "Inference results:\n",
       "  Posteriors       | available for (z)\n",
       "  Free Energy:     | Real[421.528, 411.335, 401.848, 394.865, 392.951, 392.594, 392.429, 392.321, 392.237, 392.16  …  390.553, 390.51, 390.469, 390.427, 390.385, 390.344, 390.303, 390.262, 390.221, 390.18]\n"
      ]
     },
     "metadata": {},
     "output_type": "display_data"
    }
   ],
   "source": [
    "results_linear = inference(\n",
    "    model = measurement_model(nr_observations),\n",
    "    data = (y = measurements,),\n",
    "    iterations = 50,\n",
    "    free_energy = true,\n",
    "    returnvars = (z = KeepLast(),),\n",
    "    constraints = measurement_constraints(),\n",
    "    meta = linear_measurement_meta(),\n",
    "    initmessages = (z = NormalMeanVariance(0, 5),),\n",
    "    initmarginals = (z = NormalMeanVariance(0, 5), τ = GammaShapeRate(1, 1000), γ = GammaShapeRate(1, 1000),),\n",
    ")"
   ]
  },
  {
   "cell_type": "code",
   "execution_count": 52,
   "metadata": {},
   "outputs": [
    {
     "data": {
      "text/plain": [
       "BenchmarkTools.Trial: 95 samples with 1 evaluation.\n",
       " Range \u001b[90m(\u001b[39m\u001b[36m\u001b[1mmin\u001b[22m\u001b[39m … \u001b[35mmax\u001b[39m\u001b[90m):  \u001b[39m\u001b[36m\u001b[1m49.456 ms\u001b[22m\u001b[39m … \u001b[35m74.071 ms\u001b[39m  \u001b[90m┊\u001b[39m GC \u001b[90m(\u001b[39mmin … max\u001b[90m): \u001b[39m0.00% … 29.71%\n",
       " Time  \u001b[90m(\u001b[39m\u001b[34m\u001b[1mmedian\u001b[22m\u001b[39m\u001b[90m):     \u001b[39m\u001b[34m\u001b[1m50.682 ms              \u001b[22m\u001b[39m\u001b[90m┊\u001b[39m GC \u001b[90m(\u001b[39mmedian\u001b[90m):    \u001b[39m0.00%\n",
       " Time  \u001b[90m(\u001b[39m\u001b[32m\u001b[1mmean\u001b[22m\u001b[39m ± \u001b[32mσ\u001b[39m\u001b[90m):   \u001b[39m\u001b[32m\u001b[1m52.696 ms\u001b[22m\u001b[39m ± \u001b[32m 6.684 ms\u001b[39m  \u001b[90m┊\u001b[39m GC \u001b[90m(\u001b[39mmean ± σ\u001b[90m):  \u001b[39m3.87% ±  8.66%\n",
       "\n",
       "  \u001b[39m▂\u001b[39m▁\u001b[39m▅\u001b[34m█\u001b[39m\u001b[39m \u001b[39m \u001b[39m \u001b[39m \u001b[32m \u001b[39m\u001b[39m \u001b[39m \u001b[39m \u001b[39m \u001b[39m \u001b[39m \u001b[39m \u001b[39m \u001b[39m \u001b[39m \u001b[39m \u001b[39m \u001b[39m \u001b[39m \u001b[39m \u001b[39m \u001b[39m \u001b[39m \u001b[39m \u001b[39m \u001b[39m \u001b[39m \u001b[39m \u001b[39m \u001b[39m \u001b[39m \u001b[39m \u001b[39m \u001b[39m \u001b[39m \u001b[39m \u001b[39m \u001b[39m \u001b[39m \u001b[39m \u001b[39m \u001b[39m \u001b[39m \u001b[39m \u001b[39m \u001b[39m \u001b[39m \u001b[39m \u001b[39m \u001b[39m \u001b[39m \u001b[39m \u001b[39m \u001b[39m \u001b[39m \u001b[39m \u001b[39m \n",
       "  \u001b[39m█\u001b[39m█\u001b[39m█\u001b[34m█\u001b[39m\u001b[39m▇\u001b[39m▄\u001b[39m▁\u001b[39m▁\u001b[32m▁\u001b[39m\u001b[39m▁\u001b[39m▁\u001b[39m▁\u001b[39m▁\u001b[39m▁\u001b[39m▁\u001b[39m▁\u001b[39m▁\u001b[39m▁\u001b[39m▁\u001b[39m▁\u001b[39m▁\u001b[39m▁\u001b[39m▁\u001b[39m▁\u001b[39m▁\u001b[39m▁\u001b[39m▁\u001b[39m▁\u001b[39m▁\u001b[39m▁\u001b[39m▁\u001b[39m▁\u001b[39m▁\u001b[39m▁\u001b[39m▁\u001b[39m▁\u001b[39m▁\u001b[39m▁\u001b[39m▁\u001b[39m▁\u001b[39m▁\u001b[39m▁\u001b[39m▁\u001b[39m▁\u001b[39m▁\u001b[39m▁\u001b[39m▁\u001b[39m▁\u001b[39m▁\u001b[39m▁\u001b[39m▁\u001b[39m▁\u001b[39m▁\u001b[39m▃\u001b[39m▃\u001b[39m▃\u001b[39m▁\u001b[39m▃\u001b[39m▄\u001b[39m \u001b[39m▁\n",
       "  49.5 ms\u001b[90m         Histogram: frequency by time\u001b[39m          74 ms \u001b[0m\u001b[1m<\u001b[22m\n",
       "\n",
       " Memory estimate\u001b[90m: \u001b[39m\u001b[33m21.48 MiB\u001b[39m, allocs estimate\u001b[90m: \u001b[39m\u001b[33m637738\u001b[39m."
      ]
     },
     "metadata": {},
     "output_type": "display_data"
    }
   ],
   "source": [
    "@benchmark inference(\n",
    "    model = measurement_model(nr_observations),\n",
    "    data = (y = measurements,),\n",
    "    iterations = 50,\n",
    "    free_energy = true,\n",
    "    returnvars = (z = KeepLast(),),\n",
    "    constraints = measurement_constraints(),\n",
    "    meta = linear_measurement_meta(),\n",
    "    initmessages = (z = NormalMeanVariance(0, 100),),\n",
    "    initmarginals = (z = NormalMeanVariance(0, 100), τ = GammaShapeRate(1, 1000), γ = GammaShapeRate(1, 1000),),\n",
    ")"
   ]
  },
  {
   "cell_type": "code",
   "execution_count": 18,
   "metadata": {},
   "outputs": [
    {
     "data": {
      "text/plain": [
       "DynamicPPL.Model{typeof(NonlinearFiltering), (:y, :r_point), (), (), Tuple{Vector{Float64}, Int64}, Tuple{}, DynamicPPL.DefaultContext}(NonlinearFiltering, (y = [2470.235393733442, 2325.219490861669, 2390.1960804010614, 2493.140286092835, 2430.9281458279984, 2167.0752578998745, 2635.7796600262977, 2014.537261227006, 1723.287794104091, 2081.343956668728  …  163.5366273198292, 220.823980051994, 51.75194422139158, 38.446795064708645, 31.410193321197557, 28.7123839864023, 83.12669430851457, 20.559231292389978, 13.739213968976847, 14.750756708287287], r_point = 53), NamedTuple(), DynamicPPL.DefaultContext())"
      ]
     },
     "metadata": {},
     "output_type": "display_data"
    }
   ],
   "source": [
    "# Turing model definition.\n",
    "Turing.@model function NonlinearFiltering(y, r_point)\n",
    "    # Get observation length.\n",
    "    N = length(y)\n",
    "\n",
    "    # State sequence.\n",
    "    s = tzeros(Float64, N)\n",
    "\n",
    "    # set priors on precision parameters\n",
    "    τ ~ Gamma(1.0, 1.0e-12)\n",
    "    γ ~ Gamma(1.0, 1.0e-12)\n",
    "\n",
    "    # Observe each point of the input.\n",
    "    s[1] ~ Turing.Normal(0, τ)\n",
    "    y[1] ~ Turing.Normal((s[1]-r_point)^2, γ)\n",
    "\n",
    "    for i in 2:N\n",
    "        s[i] ~ Turing.Normal(s[i-1] + 1, τ)\n",
    "        y[i] ~ Turing.Normal((s[i]-r_point)^2, γ)\n",
    "    end\n",
    "end;\n",
    "model = NonlinearFiltering(measurements, reference_point)"
   ]
  },
  {
   "cell_type": "code",
   "execution_count": 19,
   "metadata": {},
   "outputs": [
    {
     "name": "stderr",
     "output_type": "stream",
     "text": [
      "┌ Info: [ADVI] Should only be seen once: optimizer created for θ\n",
      "│   objectid(θ) = 13362888352744503043\n",
      "└ @ AdvancedVI /Users/sabinamakhmudova/.julia/packages/AdvancedVI/hVQ2g/src/AdvancedVI.jl:202\n"
     ]
    },
    {
     "name": "stderr",
     "output_type": "stream",
     "text": [
      "\r\u001b[32m[ADVI] Optimizing...   2%  ETA: 0:01:19\u001b[39m"
     ]
    },
    {
     "name": "stderr",
     "output_type": "stream",
     "text": [
      "\r\u001b[32m[ADVI] Optimizing...  23%  ETA: 0:00:11\u001b[39m"
     ]
    },
    {
     "name": "stderr",
     "output_type": "stream",
     "text": [
      "\r\u001b[32m[ADVI] Optimizing...  40%  ETA: 0:00:07\u001b[39m"
     ]
    },
    {
     "name": "stderr",
     "output_type": "stream",
     "text": [
      "\r\u001b[32m[ADVI] Optimizing...  55%  ETA: 0:00:04\u001b[39m"
     ]
    },
    {
     "name": "stderr",
     "output_type": "stream",
     "text": [
      "\r\u001b[32m[ADVI] Optimizing...  70%  ETA: 0:00:03\u001b[39m"
     ]
    },
    {
     "name": "stderr",
     "output_type": "stream",
     "text": [
      "\r\u001b[32m[ADVI] Optimizing...  85%  ETA: 0:00:01\u001b[39m"
     ]
    },
    {
     "name": "stderr",
     "output_type": "stream",
     "text": [
      "\r\u001b[32m[ADVI] Optimizing... 100% Time: 0:00:08\u001b[39m\n"
     ]
    },
    {
     "data": {
      "text/plain": [
       "-1.6532924652713926e12"
      ]
     },
     "metadata": {},
     "output_type": "display_data"
    }
   ],
   "source": [
    "advi = ADVI(100, 100)\n",
    "q = vi(model, advi);\n",
    "AdvancedVI.elbo(advi, q, model, 100000)"
   ]
  },
  {
   "cell_type": "code",
   "execution_count": 49,
   "metadata": {},
   "outputs": [
    {
     "name": "stderr",
     "output_type": "stream",
     "text": [
      "┌ Info: [ADVI] Should only be seen once: optimizer created for θ\n",
      "│   objectid(θ) = 4158690067138828297\n",
      "└ @ AdvancedVI /Users/mykola/.julia/packages/AdvancedVI/hVQ2g/src/AdvancedVI.jl:202\n"
     ]
    },
    {
     "name": "stderr",
     "output_type": "stream",
     "text": [
      "\r\u001b[32m[ADVI] Optimizing...  13%  ETA: 0:00:07\u001b[39m"
     ]
    },
    {
     "name": "stderr",
     "output_type": "stream",
     "text": [
      "\r\u001b[32m[ADVI] Optimizing...  27%  ETA: 0:00:06\u001b[39m"
     ]
    },
    {
     "name": "stderr",
     "output_type": "stream",
     "text": [
      "\r\u001b[32m[ADVI] Optimizing...  40%  ETA: 0:00:05\u001b[39m"
     ]
    },
    {
     "name": "stderr",
     "output_type": "stream",
     "text": [
      "\r\u001b[32m[ADVI] Optimizing...  53%  ETA: 0:00:04\u001b[39m"
     ]
    },
    {
     "name": "stderr",
     "output_type": "stream",
     "text": [
      "\r\u001b[32m[ADVI] Optimizing...  66%  ETA: 0:00:03\u001b[39m"
     ]
    },
    {
     "name": "stderr",
     "output_type": "stream",
     "text": [
      "\r\u001b[32m[ADVI] Optimizing...  79%  ETA: 0:00:02\u001b[39m"
     ]
    },
    {
     "name": "stderr",
     "output_type": "stream",
     "text": [
      "\r\u001b[32m[ADVI] Optimizing...  92%  ETA: 0:00:01\u001b[39m"
     ]
    },
    {
     "name": "stderr",
     "output_type": "stream",
     "text": [
      "\r\u001b[32m[ADVI] Optimizing... 100% Time: 0:00:07\u001b[39m\n"
     ]
    },
    {
     "name": "stderr",
     "output_type": "stream",
     "text": [
      "┌ Info: [ADVI] Should only be seen once: optimizer created for θ\n",
      "│   objectid(θ) = 14689583106919880981\n",
      "└ @ AdvancedVI /Users/mykola/.julia/packages/AdvancedVI/hVQ2g/src/AdvancedVI.jl:202\n"
     ]
    },
    {
     "name": "stderr",
     "output_type": "stream",
     "text": [
      "\r\u001b[32m[ADVI] Optimizing...  13%  ETA: 0:00:07\u001b[39m"
     ]
    },
    {
     "name": "stderr",
     "output_type": "stream",
     "text": [
      "\r\u001b[32m[ADVI] Optimizing...  26%  ETA: 0:00:06\u001b[39m"
     ]
    },
    {
     "name": "stderr",
     "output_type": "stream",
     "text": [
      "\r\u001b[32m[ADVI] Optimizing...  39%  ETA: 0:00:05\u001b[39m"
     ]
    },
    {
     "name": "stderr",
     "output_type": "stream",
     "text": [
      "\r\u001b[32m[ADVI] Optimizing...  53%  ETA: 0:00:04\u001b[39m"
     ]
    },
    {
     "name": "stderr",
     "output_type": "stream",
     "text": [
      "\r\u001b[32m[ADVI] Optimizing...  66%  ETA: 0:00:03\u001b[39m"
     ]
    },
    {
     "name": "stderr",
     "output_type": "stream",
     "text": [
      "\r\u001b[32m[ADVI] Optimizing...  79%  ETA: 0:00:02\u001b[39m"
     ]
    },
    {
     "name": "stderr",
     "output_type": "stream",
     "text": [
      "\r\u001b[32m[ADVI] Optimizing...  92%  ETA: 0:00:01\u001b[39m"
     ]
    },
    {
     "name": "stderr",
     "output_type": "stream",
     "text": [
      "\r\u001b[32m[ADVI] Optimizing... 100% Time: 0:00:07\u001b[39m\n"
     ]
    },
    {
     "name": "stderr",
     "output_type": "stream",
     "text": [
      "┌ Info: [ADVI] Should only be seen once: optimizer created for θ\n",
      "│   objectid(θ) = 6546838109390492112\n",
      "└ @ AdvancedVI /Users/mykola/.julia/packages/AdvancedVI/hVQ2g/src/AdvancedVI.jl:202\n"
     ]
    },
    {
     "name": "stderr",
     "output_type": "stream",
     "text": [
      "\r\u001b[32m[ADVI] Optimizing...  14%  ETA: 0:00:06\u001b[39m"
     ]
    },
    {
     "name": "stderr",
     "output_type": "stream",
     "text": [
      "\r\u001b[32m[ADVI] Optimizing...  28%  ETA: 0:00:05\u001b[39m"
     ]
    },
    {
     "name": "stderr",
     "output_type": "stream",
     "text": [
      "\r\u001b[32m[ADVI] Optimizing...  42%  ETA: 0:00:04\u001b[39m"
     ]
    },
    {
     "name": "stderr",
     "output_type": "stream",
     "text": [
      "\r\u001b[32m[ADVI] Optimizing...  56%  ETA: 0:00:03\u001b[39m"
     ]
    },
    {
     "name": "stderr",
     "output_type": "stream",
     "text": [
      "\r\u001b[32m[ADVI] Optimizing...  70%  ETA: 0:00:02\u001b[39m"
     ]
    },
    {
     "name": "stderr",
     "output_type": "stream",
     "text": [
      "\r\u001b[32m[ADVI] Optimizing...  84%  ETA: 0:00:01\u001b[39m"
     ]
    },
    {
     "name": "stderr",
     "output_type": "stream",
     "text": [
      "\r\u001b[32m[ADVI] Optimizing...  98%  ETA: 0:00:00\u001b[39m"
     ]
    },
    {
     "name": "stderr",
     "output_type": "stream",
     "text": [
      "\r\u001b[32m[ADVI] Optimizing... 100% Time: 0:00:07\u001b[39m\n"
     ]
    },
    {
     "name": "stderr",
     "output_type": "stream",
     "text": [
      "┌ Info: [ADVI] Should only be seen once: optimizer created for θ\n",
      "│   objectid(θ) = 6546838109390492112\n",
      "└ @ AdvancedVI /Users/mykola/.julia/packages/AdvancedVI/hVQ2g/src/AdvancedVI.jl:202\n"
     ]
    },
    {
     "name": "stderr",
     "output_type": "stream",
     "text": [
      "\r\u001b[32m[ADVI] Optimizing...  14%  ETA: 0:00:06\u001b[39m"
     ]
    },
    {
     "name": "stderr",
     "output_type": "stream",
     "text": [
      "\r\u001b[32m[ADVI] Optimizing...  28%  ETA: 0:00:05\u001b[39m"
     ]
    },
    {
     "name": "stderr",
     "output_type": "stream",
     "text": [
      "\r\u001b[32m[ADVI] Optimizing...  43%  ETA: 0:00:04\u001b[39m"
     ]
    },
    {
     "name": "stderr",
     "output_type": "stream",
     "text": [
      "\r\u001b[32m[ADVI] Optimizing...  58%  ETA: 0:00:03\u001b[39m"
     ]
    },
    {
     "name": "stderr",
     "output_type": "stream",
     "text": [
      "\r\u001b[32m[ADVI] Optimizing...  72%  ETA: 0:00:02\u001b[39m"
     ]
    },
    {
     "name": "stderr",
     "output_type": "stream",
     "text": [
      "\r\u001b[32m[ADVI] Optimizing...  86%  ETA: 0:00:01\u001b[39m"
     ]
    },
    {
     "name": "stderr",
     "output_type": "stream",
     "text": [
      "\r\u001b[32m[ADVI] Optimizing... 100% Time: 0:00:07\u001b[39m\n"
     ]
    },
    {
     "data": {
      "text/plain": [
       "BenchmarkTools.Trial: 1 sample with 1 evaluation.\n",
       " Single result which took \u001b[34m7.219 s\u001b[39m (27.34% GC) to evaluate,\n",
       " with a memory estimate of \u001b[33m25.29 GiB\u001b[39m, over \u001b[33m71772585\u001b[39m allocations."
      ]
     },
     "metadata": {},
     "output_type": "display_data"
    }
   ],
   "source": [
    "@benchmark vi(model, advi)"
   ]
  },
  {
   "cell_type": "code",
   "execution_count": 20,
   "metadata": {},
   "outputs": [
    {
     "name": "stderr",
     "output_type": "stream",
     "text": [
      "\u001b[32mSampling   0%|                                          |  ETA: N/A\u001b[39m\n"
     ]
    },
    {
     "name": "stderr",
     "output_type": "stream",
     "text": [
      "\u001b[32mSampling   0%|▎                                         |  ETA: 0:12:56\u001b[39m\n",
      "\u001b[32mSampling   1%|▍                                         |  ETA: 0:06:27\u001b[39m\n",
      "\u001b[32mSampling   2%|▋                                         |  ETA: 0:04:17\u001b[39m\n",
      "\u001b[32mSampling   2%|▉                                         |  ETA: 0:03:12\u001b[39m\n",
      "\u001b[32mSampling   2%|█                                         |  ETA: 0:02:33\u001b[39m\n",
      "\u001b[32mSampling   3%|█▎                                        |  ETA: 0:02:07\u001b[39m\n",
      "\u001b[32mSampling   4%|█▌                                        |  ETA: 0:01:48\u001b[39m\n",
      "\u001b[32mSampling   4%|█▋                                        |  ETA: 0:01:34\u001b[39m\n",
      "\u001b[32mSampling   4%|█▉                                        |  ETA: 0:01:23\u001b[39m\n",
      "\u001b[32mSampling   5%|██▏                                       |  ETA: 0:01:15\u001b[39m\n",
      "\u001b[32mSampling   6%|██▎                                       |  ETA: 0:01:07\u001b[39m\n",
      "\u001b[32mSampling   6%|██▌                                       |  ETA: 0:01:02\u001b[39m\n",
      "\u001b[32mSampling   6%|██▊                                       |  ETA: 0:00:57\u001b[39m\n",
      "\u001b[32mSampling   7%|███                                       |  ETA: 0:00:52\u001b[39m\n",
      "\u001b[32mSampling   8%|███▏                                      |  ETA: 0:00:49\u001b[39m\n",
      "\u001b[32mSampling   8%|███▍                                      |  ETA: 0:00:45\u001b[39m\n",
      "\u001b[32mSampling   8%|███▋                                      |  ETA: 0:00:42\u001b[39m\n",
      "\u001b[32mSampling   9%|███▊                                      |  ETA: 0:00:40\u001b[39m\n",
      "\u001b[32mSampling  10%|████                                      |  ETA: 0:00:38\u001b[39m\n",
      "\u001b[32mSampling  10%|████▎                                     |  ETA: 0:00:36\u001b[39m\n",
      "\u001b[32mSampling  10%|████▍                                     |  ETA: 0:00:34\u001b[39m\n",
      "\u001b[32mSampling  11%|████▋                                     |  ETA: 0:00:32\u001b[39m\n",
      "\u001b[32mSampling  12%|████▉                                     |  ETA: 0:00:30\u001b[39m\n",
      "\u001b[32mSampling  12%|█████                                     |  ETA: 0:00:29\u001b[39m\n",
      "\u001b[32mSampling  12%|█████▎                                    |  ETA: 0:00:28\u001b[39m\n",
      "\u001b[32mSampling  13%|█████▌                                    |  ETA: 0:00:26\u001b[39m\n",
      "\u001b[32mSampling  14%|█████▋                                    |  ETA: 0:00:25\u001b[39m\n",
      "\u001b[32mSampling  14%|█████▉                                    |  ETA: 0:00:24\u001b[39m\n",
      "\u001b[32mSampling  14%|██████▏                                   |  ETA: 0:00:23\u001b[39m\n",
      "\u001b[32mSampling  15%|██████▎                                   |  ETA: 0:00:22\u001b[39m\n",
      "\u001b[32mSampling  16%|██████▌                                   |  ETA: 0:00:22\u001b[39m\n",
      "\u001b[32mSampling  16%|██████▊                                   |  ETA: 0:00:21\u001b[39m\n",
      "\u001b[32mSampling  16%|██████▉                                   |  ETA: 0:00:20\u001b[39m\n",
      "\u001b[32mSampling  17%|███████▏                                  |  ETA: 0:00:19\u001b[39m\n",
      "\u001b[32mSampling  18%|███████▍                                  |  ETA: 0:00:19\u001b[39m\n",
      "\u001b[32mSampling  18%|███████▌                                  |  ETA: 0:00:18\u001b[39m\n"
     ]
    },
    {
     "name": "stderr",
     "output_type": "stream",
     "text": [
      "\u001b[32mSampling  18%|███████▊                                  |  ETA: 0:00:18\u001b[39m\n",
      "\u001b[32mSampling  19%|████████                                  |  ETA: 0:00:17\u001b[39m\n",
      "\u001b[32mSampling  20%|████████▎                                 |  ETA: 0:00:17\u001b[39m\n",
      "\u001b[32mSampling  20%|████████▍                                 |  ETA: 0:00:16\u001b[39m\n",
      "\u001b[32mSampling  20%|████████▋                                 |  ETA: 0:00:16\u001b[39m\n",
      "\u001b[32mSampling  21%|████████▉                                 |  ETA: 0:00:15\u001b[39m\n",
      "\u001b[32mSampling  22%|█████████                                 |  ETA: 0:00:15\u001b[39m\n",
      "\u001b[32mSampling  22%|█████████▎                                |  ETA: 0:00:14\u001b[39m\n",
      "\u001b[32mSampling  22%|█████████▌                                |  ETA: 0:00:14\u001b[39m\n",
      "\u001b[32mSampling  23%|█████████▋                                |  ETA: 0:00:14\u001b[39m\n",
      "\u001b[32mSampling  24%|█████████▉                                |  ETA: 0:00:13\u001b[39m\n",
      "\u001b[32mSampling  24%|██████████▏                               |  ETA: 0:00:13\u001b[39m\n",
      "\u001b[32mSampling  24%|██████████▎                               |  ETA: 0:00:12\u001b[39m\n",
      "\u001b[32mSampling  25%|██████████▌                               |  ETA: 0:00:12\u001b[39m\n",
      "\u001b[32mSampling  26%|██████████▊                               |  ETA: 0:00:12\u001b[39m\n",
      "\u001b[32mSampling  26%|██████████▉                               |  ETA: 0:00:12\u001b[39m\n",
      "\u001b[32mSampling  26%|███████████▏                              |  ETA: 0:00:11\u001b[39m\n",
      "\u001b[32mSampling  27%|███████████▍                              |  ETA: 0:00:11\u001b[39m\n",
      "\u001b[32mSampling  28%|███████████▌                              |  ETA: 0:00:11\u001b[39m\n",
      "\u001b[32mSampling  28%|███████████▊                              |  ETA: 0:00:10\u001b[39m\n",
      "\u001b[32mSampling  28%|████████████                              |  ETA: 0:00:10\u001b[39m\n",
      "\u001b[32mSampling  29%|████████████▏                             |  ETA: 0:00:10\u001b[39m\n",
      "\u001b[32mSampling  30%|████████████▍                             |  ETA: 0:00:10\u001b[39m\n",
      "\u001b[32mSampling  30%|████████████▋                             |  ETA: 0:00:09\u001b[39m\n",
      "\u001b[32mSampling  30%|████████████▊                             |  ETA: 0:00:09\u001b[39m\n",
      "\u001b[32mSampling  31%|█████████████                             |  ETA: 0:00:09\u001b[39m\n",
      "\u001b[32mSampling  32%|█████████████▎                            |  ETA: 0:00:09\u001b[39m\n",
      "\u001b[32mSampling  32%|█████████████▌                            |  ETA: 0:00:09\u001b[39m\n",
      "\u001b[32mSampling  32%|█████████████▋                            |  ETA: 0:00:08\u001b[39m\n",
      "\u001b[32mSampling  33%|█████████████▉                            |  ETA: 0:00:08\u001b[39m\n",
      "\u001b[32mSampling  34%|██████████████▏                           |  ETA: 0:00:08\u001b[39m\n",
      "\u001b[32mSampling  34%|██████████████▎                           |  ETA: 0:00:08\u001b[39m\n",
      "\u001b[32mSampling  34%|██████████████▌                           |  ETA: 0:00:08\u001b[39m\n",
      "\u001b[32mSampling  35%|██████████████▊                           |  ETA: 0:00:08\u001b[39m\n",
      "\u001b[32mSampling  36%|██████████████▉                           |  ETA: 0:00:07\u001b[39m\n",
      "\u001b[32mSampling  36%|███████████████▏                          |  ETA: 0:00:07\u001b[39m\n",
      "\u001b[32mSampling  36%|███████████████▍                          |  ETA: 0:00:07\u001b[39m\n",
      "\u001b[32mSampling  37%|███████████████▌                          |  ETA: 0:00:07\u001b[39m\n",
      "\u001b[32mSampling  38%|███████████████▊                          |  ETA: 0:00:07\u001b[39m\n",
      "\u001b[32mSampling  38%|████████████████                          |  ETA: 0:00:07\u001b[39m\n",
      "\u001b[32mSampling  38%|████████████████▏                         |  ETA: 0:00:07\u001b[39m\n",
      "\u001b[32mSampling  39%|████████████████▍                         |  ETA: 0:00:06\u001b[39m\n",
      "\u001b[32mSampling  40%|████████████████▋                         |  ETA: 0:00:06\u001b[39m\n",
      "\u001b[32mSampling  40%|████████████████▊                         |  ETA: 0:00:06\u001b[39m\n"
     ]
    },
    {
     "name": "stderr",
     "output_type": "stream",
     "text": [
      "\u001b[32mSampling  40%|█████████████████                         |  ETA: 0:00:06\u001b[39m\n",
      "\u001b[32mSampling  41%|█████████████████▎                        |  ETA: 0:00:06\u001b[39m\n",
      "\u001b[32mSampling  42%|█████████████████▍                        |  ETA: 0:00:06\u001b[39m\n",
      "\u001b[32mSampling  42%|█████████████████▋                        |  ETA: 0:00:06\u001b[39m\n",
      "\u001b[32mSampling  42%|█████████████████▉                        |  ETA: 0:00:06\u001b[39m\n",
      "\u001b[32mSampling  43%|██████████████████                        |  ETA: 0:00:05\u001b[39m\n",
      "\u001b[32mSampling  44%|██████████████████▎                       |  ETA: 0:00:05\u001b[39m\n",
      "\u001b[32mSampling  44%|██████████████████▌                       |  ETA: 0:00:05\u001b[39m\n",
      "\u001b[32mSampling  44%|██████████████████▊                       |  ETA: 0:00:05\u001b[39m\n",
      "\u001b[32mSampling  45%|██████████████████▉                       |  ETA: 0:00:05\u001b[39m\n",
      "\u001b[32mSampling  46%|███████████████████▏                      |  ETA: 0:00:05\u001b[39m\n",
      "\u001b[32mSampling  46%|███████████████████▍                      |  ETA: 0:00:05\u001b[39m\n",
      "\u001b[32mSampling  46%|███████████████████▌                      |  ETA: 0:00:05\u001b[39m\n",
      "\u001b[32mSampling  47%|███████████████████▊                      |  ETA: 0:00:05\u001b[39m\n",
      "\u001b[32mSampling  48%|████████████████████                      |  ETA: 0:00:05\u001b[39m\n",
      "\u001b[32mSampling  48%|████████████████████▏                     |  ETA: 0:00:05\u001b[39m\n",
      "\u001b[32mSampling  48%|████████████████████▍                     |  ETA: 0:00:04\u001b[39m\n",
      "\u001b[32mSampling  49%|████████████████████▋                     |  ETA: 0:00:04\u001b[39m\n",
      "\u001b[32mSampling  50%|████████████████████▊                     |  ETA: 0:00:04\u001b[39m\n",
      "\u001b[32mSampling  50%|█████████████████████                     |  ETA: 0:00:04\u001b[39m\n",
      "\u001b[32mSampling  50%|█████████████████████▎                    |  ETA: 0:00:04\u001b[39m\n",
      "\u001b[32mSampling  51%|█████████████████████▍                    |  ETA: 0:00:04\u001b[39m\n",
      "\u001b[32mSampling  52%|█████████████████████▋                    |  ETA: 0:00:04\u001b[39m\n",
      "\u001b[32mSampling  52%|█████████████████████▉                    |  ETA: 0:00:04\u001b[39m\n",
      "\u001b[32mSampling  52%|██████████████████████                    |  ETA: 0:00:04\u001b[39m\n",
      "\u001b[32mSampling  53%|██████████████████████▎                   |  ETA: 0:00:04\u001b[39m\n",
      "\u001b[32mSampling  54%|██████████████████████▌                   |  ETA: 0:00:04\u001b[39m\n",
      "\u001b[32mSampling  54%|██████████████████████▋                   |  ETA: 0:00:04\u001b[39m\n",
      "\u001b[32mSampling  55%|██████████████████████▉                   |  ETA: 0:00:04\u001b[39m\n",
      "\u001b[32mSampling  55%|███████████████████████▏                  |  ETA: 0:00:03\u001b[39m\n",
      "\u001b[32mSampling  56%|███████████████████████▎                  |  ETA: 0:00:03\u001b[39m\n"
     ]
    },
    {
     "name": "stderr",
     "output_type": "stream",
     "text": [
      "\u001b[32mSampling  56%|███████████████████████▌                  |  ETA: 0:00:03\u001b[39m\n",
      "\u001b[32mSampling  56%|███████████████████████▊                  |  ETA: 0:00:03\u001b[39m\n",
      "\u001b[32mSampling  57%|████████████████████████                  |  ETA: 0:00:03\u001b[39m\n",
      "\u001b[32mSampling  57%|████████████████████████▏                 |  ETA: 0:00:03\u001b[39m\n",
      "\u001b[32mSampling  58%|████████████████████████▍                 |  ETA: 0:00:03\u001b[39m\n",
      "\u001b[32mSampling  58%|████████████████████████▋                 |  ETA: 0:00:03\u001b[39m\n",
      "\u001b[32mSampling  59%|████████████████████████▊                 |  ETA: 0:00:03\u001b[39m\n",
      "\u001b[32mSampling  60%|█████████████████████████                 |  ETA: 0:00:03\u001b[39m\n",
      "\u001b[32mSampling  60%|█████████████████████████▎                |  ETA: 0:00:03\u001b[39m\n",
      "\u001b[32mSampling  60%|█████████████████████████▍                |  ETA: 0:00:03\u001b[39m\n",
      "\u001b[32mSampling  61%|█████████████████████████▋                |  ETA: 0:00:03\u001b[39m\n",
      "\u001b[32mSampling  62%|█████████████████████████▉                |  ETA: 0:00:03\u001b[39m\n",
      "\u001b[32mSampling  62%|██████████████████████████                |  ETA: 0:00:03\u001b[39m\n",
      "\u001b[32mSampling  62%|██████████████████████████▎               |  ETA: 0:00:03\u001b[39m\n",
      "\u001b[32mSampling  63%|██████████████████████████▌               |  ETA: 0:00:02\u001b[39m\n",
      "\u001b[32mSampling  64%|██████████████████████████▋               |  ETA: 0:00:02\u001b[39m\n",
      "\u001b[32mSampling  64%|██████████████████████████▉               |  ETA: 0:00:02\u001b[39m\n",
      "\u001b[32mSampling  64%|███████████████████████████▏              |  ETA: 0:00:02\u001b[39m\n",
      "\u001b[32mSampling  65%|███████████████████████████▎              |  ETA: 0:00:02\u001b[39m\n",
      "\u001b[32mSampling  66%|███████████████████████████▌              |  ETA: 0:00:02\u001b[39m\n",
      "\u001b[32mSampling  66%|███████████████████████████▊              |  ETA: 0:00:02\u001b[39m\n",
      "\u001b[32mSampling  66%|███████████████████████████▉              |  ETA: 0:00:02\u001b[39m\n",
      "\u001b[32mSampling  67%|████████████████████████████▏             |  ETA: 0:00:02\u001b[39m\n",
      "\u001b[32mSampling  68%|████████████████████████████▍             |  ETA: 0:00:02\u001b[39m\n",
      "\u001b[32mSampling  68%|████████████████████████████▌             |  ETA: 0:00:02\u001b[39m\n",
      "\u001b[32mSampling  68%|████████████████████████████▊             |  ETA: 0:00:02\u001b[39m\n",
      "\u001b[32mSampling  69%|█████████████████████████████             |  ETA: 0:00:02\u001b[39m\n",
      "\u001b[32mSampling  70%|█████████████████████████████▎            |  ETA: 0:00:02\u001b[39m\n",
      "\u001b[32mSampling  70%|█████████████████████████████▍            |  ETA: 0:00:02\u001b[39m\n",
      "\u001b[32mSampling  70%|█████████████████████████████▋            |  ETA: 0:00:02\u001b[39m\n",
      "\u001b[32mSampling  71%|█████████████████████████████▉            |  ETA: 0:00:02\u001b[39m\n",
      "\u001b[32mSampling  72%|██████████████████████████████            |  ETA: 0:00:02\u001b[39m\n",
      "\u001b[32mSampling  72%|██████████████████████████████▎           |  ETA: 0:00:02\u001b[39m\n",
      "\u001b[32mSampling  72%|██████████████████████████████▌           |  ETA: 0:00:02\u001b[39m\n",
      "\u001b[32mSampling  73%|██████████████████████████████▋           |  ETA: 0:00:02\u001b[39m\n",
      "\u001b[32mSampling  74%|██████████████████████████████▉           |  ETA: 0:00:02\u001b[39m\n",
      "\u001b[32mSampling  74%|███████████████████████████████▏          |  ETA: 0:00:02\u001b[39m\n",
      "\u001b[32mSampling  74%|███████████████████████████████▎          |  ETA: 0:00:01\u001b[39m\n",
      "\u001b[32mSampling  75%|███████████████████████████████▌          |  ETA: 0:00:01\u001b[39m\n",
      "\u001b[32mSampling  76%|███████████████████████████████▊          |  ETA: 0:00:01\u001b[39m\n",
      "\u001b[32mSampling  76%|███████████████████████████████▉          |  ETA: 0:00:01\u001b[39m\n",
      "\u001b[32mSampling  76%|████████████████████████████████▏         |  ETA: 0:00:01\u001b[39m\n",
      "\u001b[32mSampling  77%|████████████████████████████████▍         |  ETA: 0:00:01\u001b[39m\n",
      "\u001b[32mSampling  78%|████████████████████████████████▌         |  ETA: 0:00:01\u001b[39m\n",
      "\u001b[32mSampling  78%|████████████████████████████████▊         |  ETA: 0:00:01\u001b[39m\n",
      "\u001b[32mSampling  78%|█████████████████████████████████         |  ETA: 0:00:01\u001b[39m\n",
      "\u001b[32mSampling  79%|█████████████████████████████████▏        |  ETA: 0:00:01\u001b[39m\n",
      "\u001b[32mSampling  80%|█████████████████████████████████▍        |  ETA: 0:00:01\u001b[39m\n"
     ]
    },
    {
     "name": "stderr",
     "output_type": "stream",
     "text": [
      "\u001b[32mSampling  80%|█████████████████████████████████▋        |  ETA: 0:00:01\u001b[39m\n",
      "\u001b[32mSampling  80%|█████████████████████████████████▊        |  ETA: 0:00:01\u001b[39m\n",
      "\u001b[32mSampling  81%|██████████████████████████████████        |  ETA: 0:00:01\u001b[39m\n",
      "\u001b[32mSampling  82%|██████████████████████████████████▎       |  ETA: 0:00:01\u001b[39m\n",
      "\u001b[32mSampling  82%|██████████████████████████████████▌       |  ETA: 0:00:01\u001b[39m\n",
      "\u001b[32mSampling  82%|██████████████████████████████████▋       |  ETA: 0:00:01\u001b[39m\n",
      "\u001b[32mSampling  83%|██████████████████████████████████▉       |  ETA: 0:00:01\u001b[39m\n",
      "\u001b[32mSampling  84%|███████████████████████████████████▏      |  ETA: 0:00:01\u001b[39m\n",
      "\u001b[32mSampling  84%|███████████████████████████████████▎      |  ETA: 0:00:01\u001b[39m\n",
      "\u001b[32mSampling  84%|███████████████████████████████████▌      |  ETA: 0:00:01\u001b[39m\n",
      "\u001b[32mSampling  85%|███████████████████████████████████▊      |  ETA: 0:00:01\u001b[39m\n",
      "\u001b[32mSampling  86%|███████████████████████████████████▉      |  ETA: 0:00:01\u001b[39m\n",
      "\u001b[32mSampling  86%|████████████████████████████████████▏     |  ETA: 0:00:01\u001b[39m\n",
      "\u001b[32mSampling  86%|████████████████████████████████████▍     |  ETA: 0:00:01\u001b[39m\n",
      "\u001b[32mSampling  87%|████████████████████████████████████▌     |  ETA: 0:00:01\u001b[39m\n",
      "\u001b[32mSampling  88%|████████████████████████████████████▊     |  ETA: 0:00:01\u001b[39m\n",
      "\u001b[32mSampling  88%|█████████████████████████████████████     |  ETA: 0:00:01\u001b[39m\n",
      "\u001b[32mSampling  88%|█████████████████████████████████████▏    |  ETA: 0:00:01\u001b[39m\n",
      "\u001b[32mSampling  89%|█████████████████████████████████████▍    |  ETA: 0:00:01\u001b[39m\n",
      "\u001b[32mSampling  90%|█████████████████████████████████████▋    |  ETA: 0:00:01\u001b[39m\n",
      "\u001b[32mSampling  90%|█████████████████████████████████████▊    |  ETA: 0:00:00\u001b[39m\n",
      "\u001b[32mSampling  90%|██████████████████████████████████████    |  ETA: 0:00:00\u001b[39m\n",
      "\u001b[32mSampling  91%|██████████████████████████████████████▎   |  ETA: 0:00:00\u001b[39m\n",
      "\u001b[32mSampling  92%|██████████████████████████████████████▍   |  ETA: 0:00:00\u001b[39m\n",
      "\u001b[32mSampling  92%|██████████████████████████████████████▋   |  ETA: 0:00:00\u001b[39m\n",
      "\u001b[32mSampling  92%|██████████████████████████████████████▉   |  ETA: 0:00:00\u001b[39m\n",
      "\u001b[32mSampling  93%|███████████████████████████████████████   |  ETA: 0:00:00\u001b[39m\n",
      "\u001b[32mSampling  94%|███████████████████████████████████████▎  |  ETA: 0:00:00\u001b[39m\n",
      "\u001b[32mSampling  94%|███████████████████████████████████████▌  |  ETA: 0:00:00\u001b[39m\n",
      "\u001b[32mSampling  94%|███████████████████████████████████████▊  |  ETA: 0:00:00\u001b[39m\n",
      "\u001b[32mSampling  95%|███████████████████████████████████████▉  |  ETA: 0:00:00\u001b[39m\n",
      "\u001b[32mSampling  96%|████████████████████████████████████████▏ |  ETA: 0:00:00\u001b[39m\n",
      "\u001b[32mSampling  96%|████████████████████████████████████████▍ |  ETA: 0:00:00\u001b[39m\n",
      "\u001b[32mSampling  96%|████████████████████████████████████████▌ |  ETA: 0:00:00\u001b[39m\n",
      "\u001b[32mSampling  97%|████████████████████████████████████████▊ |  ETA: 0:00:00\u001b[39m\n",
      "\u001b[32mSampling  98%|█████████████████████████████████████████ |  ETA: 0:00:00\u001b[39m\n",
      "\u001b[32mSampling  98%|█████████████████████████████████████████▏|  ETA: 0:00:00\u001b[39m\n",
      "\u001b[32mSampling  98%|█████████████████████████████████████████▍|  ETA: 0:00:00\u001b[39m\n",
      "\u001b[32mSampling  99%|█████████████████████████████████████████▋|  ETA: 0:00:00\u001b[39m\n"
     ]
    },
    {
     "name": "stderr",
     "output_type": "stream",
     "text": [
      "\u001b[32mSampling 100%|█████████████████████████████████████████▊|  ETA: 0:00:00\u001b[39m\n",
      "\u001b[32mSampling 100%|██████████████████████████████████████████| Time: 0:00:04\u001b[39m\n"
     ]
    },
    {
     "name": "stderr",
     "output_type": "stream",
     "text": [
      "\u001b[90mSampling 100%|██████████████████████████████████████████| Time: 0:00:04\u001b[39m\n"
     ]
    },
    {
     "name": "stderr",
     "output_type": "stream",
     "text": [
      "\u001b[32mSampling   0%|                                          |  ETA: N/A\u001b[39m\n"
     ]
    },
    {
     "name": "stderr",
     "output_type": "stream",
     "text": [
      "\u001b[32mSampling   0%|▎                                         |  ETA: 0:06:14\u001b[39m\n",
      "\u001b[32mSampling   1%|▍                                         |  ETA: 0:03:06\u001b[39m\n",
      "\u001b[32mSampling   2%|▋                                         |  ETA: 0:02:03\u001b[39m\n",
      "\u001b[32mSampling   2%|▉                                         |  ETA: 0:01:32\u001b[39m\n",
      "\u001b[32mSampling   2%|█                                         |  ETA: 0:01:13\u001b[39m\n",
      "\u001b[32mSampling   3%|█▎                                        |  ETA: 0:01:01\u001b[39m\n",
      "\u001b[32mSampling   4%|█▌                                        |  ETA: 0:00:52\u001b[39m\n",
      "\u001b[32mSampling   4%|█▋                                        |  ETA: 0:00:45\u001b[39m\n",
      "\u001b[32mSampling   4%|█▉                                        |  ETA: 0:00:40\u001b[39m\n",
      "\u001b[32mSampling   5%|██▏                                       |  ETA: 0:00:36\u001b[39m\n",
      "\u001b[32mSampling   6%|██▎                                       |  ETA: 0:00:32\u001b[39m\n",
      "\u001b[32mSampling   6%|██▌                                       |  ETA: 0:00:30\u001b[39m\n",
      "\u001b[32mSampling   6%|██▊                                       |  ETA: 0:00:27\u001b[39m\n",
      "\u001b[32mSampling   7%|███                                       |  ETA: 0:00:25\u001b[39m\n",
      "\u001b[32mSampling   8%|███▏                                      |  ETA: 0:00:23\u001b[39m\n",
      "\u001b[32mSampling   8%|███▍                                      |  ETA: 0:00:22\u001b[39m\n",
      "\u001b[32mSampling   8%|███▋                                      |  ETA: 0:00:20\u001b[39m\n",
      "\u001b[32mSampling   9%|███▊                                      |  ETA: 0:00:19\u001b[39m\n",
      "\u001b[32mSampling  10%|████                                      |  ETA: 0:00:18\u001b[39m\n",
      "\u001b[32mSampling  10%|████▎                                     |  ETA: 0:00:17\u001b[39m\n",
      "\u001b[32mSampling  10%|████▍                                     |  ETA: 0:00:16\u001b[39m\n",
      "\u001b[32mSampling  11%|████▋                                     |  ETA: 0:00:15\u001b[39m\n",
      "\u001b[32mSampling  12%|████▉                                     |  ETA: 0:00:15\u001b[39m\n",
      "\u001b[32mSampling  12%|█████                                     |  ETA: 0:00:14\u001b[39m\n",
      "\u001b[32mSampling  12%|█████▎                                    |  ETA: 0:00:13\u001b[39m\n",
      "\u001b[32mSampling  13%|█████▌                                    |  ETA: 0:00:13\u001b[39m\n",
      "\u001b[32mSampling  14%|█████▋                                    |  ETA: 0:00:12\u001b[39m\n",
      "\u001b[32mSampling  14%|█████▉                                    |  ETA: 0:00:12\u001b[39m\n",
      "\u001b[32mSampling  14%|██████▏                                   |  ETA: 0:00:11\u001b[39m\n",
      "\u001b[32mSampling  15%|██████▎                                   |  ETA: 0:00:11\u001b[39m\n",
      "\u001b[32mSampling  16%|██████▌                                   |  ETA: 0:00:10\u001b[39m\n",
      "\u001b[32mSampling  16%|██████▊                                   |  ETA: 0:00:10\u001b[39m\n",
      "\u001b[32mSampling  16%|██████▉                                   |  ETA: 0:00:10\u001b[39m\n",
      "\u001b[32mSampling  17%|███████▏                                  |  ETA: 0:00:09\u001b[39m\n",
      "\u001b[32mSampling  18%|███████▍                                  |  ETA: 0:00:09\u001b[39m\n",
      "\u001b[32mSampling  18%|███████▌                                  |  ETA: 0:00:09\u001b[39m\n",
      "\u001b[32mSampling  18%|███████▊                                  |  ETA: 0:00:08\u001b[39m\n",
      "\u001b[32mSampling  19%|████████                                  |  ETA: 0:00:08\u001b[39m\n",
      "\u001b[32mSampling  20%|████████▎                                 |  ETA: 0:00:08\u001b[39m\n",
      "\u001b[32mSampling  20%|████████▍                                 |  ETA: 0:00:08\u001b[39m\n",
      "\u001b[32mSampling  20%|████████▋                                 |  ETA: 0:00:07\u001b[39m\n",
      "\u001b[32mSampling  21%|████████▉                                 |  ETA: 0:00:07\u001b[39m\n",
      "\u001b[32mSampling  22%|█████████                                 |  ETA: 0:00:07\u001b[39m\n",
      "\u001b[32mSampling  22%|█████████▎                                |  ETA: 0:00:07\u001b[39m\n",
      "\u001b[32mSampling  22%|█████████▌                                |  ETA: 0:00:07\u001b[39m\n",
      "\u001b[32mSampling  23%|█████████▋                                |  ETA: 0:00:06\u001b[39m\n",
      "\u001b[32mSampling  24%|█████████▉                                |  ETA: 0:00:06\u001b[39m\n",
      "\u001b[32mSampling  24%|██████████▏                               |  ETA: 0:00:06\u001b[39m\n",
      "\u001b[32mSampling  24%|██████████▎                               |  ETA: 0:00:06\u001b[39m\n",
      "\u001b[32mSampling  25%|██████████▌                               |  ETA: 0:00:06\u001b[39m\n",
      "\u001b[32mSampling  26%|██████████▊                               |  ETA: 0:00:06\u001b[39m\n",
      "\u001b[32mSampling  26%|██████████▉                               |  ETA: 0:00:06\u001b[39m\n",
      "\u001b[32mSampling  26%|███████████▏                              |  ETA: 0:00:05\u001b[39m\n",
      "\u001b[32mSampling  27%|███████████▍                              |  ETA: 0:00:05\u001b[39m\n"
     ]
    },
    {
     "name": "stderr",
     "output_type": "stream",
     "text": [
      "\u001b[32mSampling  28%|███████████▌                              |  ETA: 0:00:05\u001b[39m\n",
      "\u001b[32mSampling  28%|███████████▊                              |  ETA: 0:00:05\u001b[39m\n",
      "\u001b[32mSampling  28%|████████████                              |  ETA: 0:00:05\u001b[39m\n",
      "\u001b[32mSampling  29%|████████████▏                             |  ETA: 0:00:05\u001b[39m\n",
      "\u001b[32mSampling  30%|████████████▍                             |  ETA: 0:00:05\u001b[39m\n",
      "\u001b[32mSampling  30%|████████████▋                             |  ETA: 0:00:05\u001b[39m\n",
      "\u001b[32mSampling  30%|████████████▊                             |  ETA: 0:00:05\u001b[39m\n",
      "\u001b[32mSampling  31%|█████████████                             |  ETA: 0:00:05\u001b[39m\n",
      "\u001b[32mSampling  32%|█████████████▎                            |  ETA: 0:00:04\u001b[39m\n",
      "\u001b[32mSampling  32%|█████████████▌                            |  ETA: 0:00:04\u001b[39m\n",
      "\u001b[32mSampling  32%|█████████████▋                            |  ETA: 0:00:04\u001b[39m\n",
      "\u001b[32mSampling  33%|█████████████▉                            |  ETA: 0:00:04\u001b[39m\n",
      "\u001b[32mSampling  34%|██████████████▏                           |  ETA: 0:00:04\u001b[39m\n",
      "\u001b[32mSampling  34%|██████████████▎                           |  ETA: 0:00:04\u001b[39m\n",
      "\u001b[32mSampling  34%|██████████████▌                           |  ETA: 0:00:04\u001b[39m\n",
      "\u001b[32mSampling  35%|██████████████▊                           |  ETA: 0:00:04\u001b[39m\n",
      "\u001b[32mSampling  36%|██████████████▉                           |  ETA: 0:00:04\u001b[39m\n",
      "\u001b[32mSampling  36%|███████████████▏                          |  ETA: 0:00:04\u001b[39m\n",
      "\u001b[32mSampling  36%|███████████████▍                          |  ETA: 0:00:04\u001b[39m\n",
      "\u001b[32mSampling  37%|███████████████▌                          |  ETA: 0:00:03\u001b[39m\n",
      "\u001b[32mSampling  38%|███████████████▊                          |  ETA: 0:00:03\u001b[39m\n",
      "\u001b[32mSampling  38%|████████████████                          |  ETA: 0:00:03\u001b[39m\n",
      "\u001b[32mSampling  38%|████████████████▏                         |  ETA: 0:00:03\u001b[39m\n",
      "\u001b[32mSampling  39%|████████████████▍                         |  ETA: 0:00:03\u001b[39m\n",
      "\u001b[32mSampling  40%|████████████████▋                         |  ETA: 0:00:03\u001b[39m\n",
      "\u001b[32mSampling  40%|████████████████▊                         |  ETA: 0:00:03\u001b[39m\n",
      "\u001b[32mSampling  40%|█████████████████                         |  ETA: 0:00:03\u001b[39m\n",
      "\u001b[32mSampling  41%|█████████████████▎                        |  ETA: 0:00:03\u001b[39m\n",
      "\u001b[32mSampling  42%|█████████████████▍                        |  ETA: 0:00:03\u001b[39m\n",
      "\u001b[32mSampling  42%|█████████████████▋                        |  ETA: 0:00:03\u001b[39m\n",
      "\u001b[32mSampling  42%|█████████████████▉                        |  ETA: 0:00:03\u001b[39m\n",
      "\u001b[32mSampling  43%|██████████████████                        |  ETA: 0:00:03\u001b[39m\n",
      "\u001b[32mSampling  44%|██████████████████▎                       |  ETA: 0:00:03\u001b[39m\n",
      "\u001b[32mSampling  44%|██████████████████▌                       |  ETA: 0:00:03\u001b[39m\n",
      "\u001b[32mSampling  44%|██████████████████▊                       |  ETA: 0:00:03\u001b[39m\n",
      "\u001b[32mSampling  45%|██████████████████▉                       |  ETA: 0:00:03\u001b[39m\n",
      "\u001b[32mSampling  46%|███████████████████▏                      |  ETA: 0:00:02\u001b[39m\n",
      "\u001b[32mSampling  46%|███████████████████▍                      |  ETA: 0:00:02\u001b[39m\n",
      "\u001b[32mSampling  46%|███████████████████▌                      |  ETA: 0:00:02\u001b[39m\n",
      "\u001b[32mSampling  47%|███████████████████▊                      |  ETA: 0:00:02\u001b[39m\n",
      "\u001b[32mSampling  48%|████████████████████                      |  ETA: 0:00:02\u001b[39m\n",
      "\u001b[32mSampling  48%|████████████████████▏                     |  ETA: 0:00:02\u001b[39m\n",
      "\u001b[32mSampling  48%|████████████████████▍                     |  ETA: 0:00:02\u001b[39m\n",
      "\u001b[32mSampling  49%|████████████████████▋                     |  ETA: 0:00:02\u001b[39m\n",
      "\u001b[32mSampling  50%|████████████████████▊                     |  ETA: 0:00:02\u001b[39m\n",
      "\u001b[32mSampling  50%|█████████████████████                     |  ETA: 0:00:02\u001b[39m\n",
      "\u001b[32mSampling  50%|█████████████████████▎                    |  ETA: 0:00:02\u001b[39m\n",
      "\u001b[32mSampling  51%|█████████████████████▍                    |  ETA: 0:00:02\u001b[39m\n",
      "\u001b[32mSampling  52%|█████████████████████▋                    |  ETA: 0:00:02\u001b[39m\n",
      "\u001b[32mSampling  52%|█████████████████████▉                    |  ETA: 0:00:02\u001b[39m\n",
      "\u001b[32mSampling  52%|██████████████████████                    |  ETA: 0:00:02\u001b[39m\n",
      "\u001b[32mSampling  53%|██████████████████████▎                   |  ETA: 0:00:02\u001b[39m\n",
      "\u001b[32mSampling  54%|██████████████████████▌                   |  ETA: 0:00:02\u001b[39m\n",
      "\u001b[32mSampling  54%|██████████████████████▋                   |  ETA: 0:00:02\u001b[39m\n",
      "\u001b[32mSampling  55%|██████████████████████▉                   |  ETA: 0:00:02\u001b[39m\n",
      "\u001b[32mSampling  55%|███████████████████████▏                  |  ETA: 0:00:02\u001b[39m\n",
      "\u001b[32mSampling  56%|███████████████████████▎                  |  ETA: 0:00:02\u001b[39m\n",
      "\u001b[32mSampling  56%|███████████████████████▌                  |  ETA: 0:00:02\u001b[39m\n",
      "\u001b[32mSampling  56%|███████████████████████▊                  |  ETA: 0:00:02\u001b[39m\n",
      "\u001b[32mSampling  57%|████████████████████████                  |  ETA: 0:00:02\u001b[39m\n",
      "\u001b[32mSampling  57%|████████████████████████▏                 |  ETA: 0:00:02\u001b[39m\n",
      "\u001b[32mSampling  58%|████████████████████████▍                 |  ETA: 0:00:02\u001b[39m\n",
      "\u001b[32mSampling  58%|████████████████████████▋                 |  ETA: 0:00:01\u001b[39m\n",
      "\u001b[32mSampling  59%|████████████████████████▊                 |  ETA: 0:00:01\u001b[39m\n",
      "\u001b[32mSampling  60%|█████████████████████████                 |  ETA: 0:00:01\u001b[39m\n",
      "\u001b[32mSampling  60%|█████████████████████████▎                |  ETA: 0:00:01\u001b[39m\n",
      "\u001b[32mSampling  60%|█████████████████████████▍                |  ETA: 0:00:01\u001b[39m\n",
      "\u001b[32mSampling  61%|█████████████████████████▋                |  ETA: 0:00:01\u001b[39m\n",
      "\u001b[32mSampling  62%|█████████████████████████▉                |  ETA: 0:00:01\u001b[39m\n",
      "\u001b[32mSampling  62%|██████████████████████████                |  ETA: 0:00:01\u001b[39m\n",
      "\u001b[32mSampling  62%|██████████████████████████▎               |  ETA: 0:00:01\u001b[39m\n",
      "\u001b[32mSampling  63%|██████████████████████████▌               |  ETA: 0:00:01\u001b[39m\n",
      "\u001b[32mSampling  64%|██████████████████████████▋               |  ETA: 0:00:01\u001b[39m\n",
      "\u001b[32mSampling  64%|██████████████████████████▉               |  ETA: 0:00:01\u001b[39m\n",
      "\u001b[32mSampling  64%|███████████████████████████▏              |  ETA: 0:00:01\u001b[39m\n",
      "\u001b[32mSampling  65%|███████████████████████████▎              |  ETA: 0:00:01\u001b[39m\n",
      "\u001b[32mSampling  66%|███████████████████████████▌              |  ETA: 0:00:01\u001b[39m\n",
      "\u001b[32mSampling  66%|███████████████████████████▊              |  ETA: 0:00:01\u001b[39m\n",
      "\u001b[32mSampling  66%|███████████████████████████▉              |  ETA: 0:00:01\u001b[39m\n",
      "\u001b[32mSampling  67%|████████████████████████████▏             |  ETA: 0:00:01\u001b[39m\n",
      "\u001b[32mSampling  68%|████████████████████████████▍             |  ETA: 0:00:01\u001b[39m\n",
      "\u001b[32mSampling  68%|████████████████████████████▌             |  ETA: 0:00:01\u001b[39m\n",
      "\u001b[32mSampling  68%|████████████████████████████▊             |  ETA: 0:00:01\u001b[39m\n",
      "\u001b[32mSampling  69%|█████████████████████████████             |  ETA: 0:00:01\u001b[39m\n"
     ]
    },
    {
     "name": "stderr",
     "output_type": "stream",
     "text": [
      "\u001b[32mSampling  70%|█████████████████████████████▎            |  ETA: 0:00:01\u001b[39m\n",
      "\u001b[32mSampling  70%|█████████████████████████████▍            |  ETA: 0:00:01\u001b[39m\n",
      "\u001b[32mSampling  70%|█████████████████████████████▋            |  ETA: 0:00:01\u001b[39m\n",
      "\u001b[32mSampling  71%|█████████████████████████████▉            |  ETA: 0:00:01\u001b[39m\n",
      "\u001b[32mSampling  72%|██████████████████████████████            |  ETA: 0:00:01\u001b[39m\n",
      "\u001b[32mSampling  72%|██████████████████████████████▎           |  ETA: 0:00:01\u001b[39m\n",
      "\u001b[32mSampling  72%|██████████████████████████████▌           |  ETA: 0:00:01\u001b[39m\n",
      "\u001b[32mSampling  73%|██████████████████████████████▋           |  ETA: 0:00:01\u001b[39m\n",
      "\u001b[32mSampling  74%|██████████████████████████████▉           |  ETA: 0:00:01\u001b[39m\n",
      "\u001b[32mSampling  74%|███████████████████████████████▏          |  ETA: 0:00:01\u001b[39m\n",
      "\u001b[32mSampling  74%|███████████████████████████████▎          |  ETA: 0:00:01\u001b[39m\n",
      "\u001b[32mSampling  75%|███████████████████████████████▌          |  ETA: 0:00:01\u001b[39m\n",
      "\u001b[32mSampling  76%|███████████████████████████████▊          |  ETA: 0:00:01\u001b[39m\n",
      "\u001b[32mSampling  76%|███████████████████████████████▉          |  ETA: 0:00:01\u001b[39m\n",
      "\u001b[32mSampling  76%|████████████████████████████████▏         |  ETA: 0:00:01\u001b[39m\n",
      "\u001b[32mSampling  77%|████████████████████████████████▍         |  ETA: 0:00:01\u001b[39m\n",
      "\u001b[32mSampling  78%|████████████████████████████████▌         |  ETA: 0:00:01\u001b[39m\n",
      "\u001b[32mSampling  78%|████████████████████████████████▊         |  ETA: 0:00:01\u001b[39m\n",
      "\u001b[32mSampling  78%|█████████████████████████████████         |  ETA: 0:00:01\u001b[39m\n",
      "\u001b[32mSampling  79%|█████████████████████████████████▏        |  ETA: 0:00:01\u001b[39m\n"
     ]
    },
    {
     "name": "stderr",
     "output_type": "stream",
     "text": [
      "\u001b[32mSampling  80%|█████████████████████████████████▍        |  ETA: 0:00:01\u001b[39m\n",
      "\u001b[32mSampling  80%|█████████████████████████████████▋        |  ETA: 0:00:01\u001b[39m\n",
      "\u001b[32mSampling  80%|█████████████████████████████████▊        |  ETA: 0:00:01\u001b[39m\n",
      "\u001b[32mSampling  81%|██████████████████████████████████        |  ETA: 0:00:01\u001b[39m\n",
      "\u001b[32mSampling  82%|██████████████████████████████████▎       |  ETA: 0:00:00\u001b[39m\n",
      "\u001b[32mSampling  82%|██████████████████████████████████▌       |  ETA: 0:00:00\u001b[39m\n",
      "\u001b[32mSampling  82%|██████████████████████████████████▋       |  ETA: 0:00:00\u001b[39m\n",
      "\u001b[32mSampling  83%|██████████████████████████████████▉       |  ETA: 0:00:00\u001b[39m\n",
      "\u001b[32mSampling  84%|███████████████████████████████████▏      |  ETA: 0:00:00\u001b[39m\n",
      "\u001b[32mSampling  84%|███████████████████████████████████▎      |  ETA: 0:00:00\u001b[39m\n",
      "\u001b[32mSampling  84%|███████████████████████████████████▌      |  ETA: 0:00:00\u001b[39m\n",
      "\u001b[32mSampling  85%|███████████████████████████████████▊      |  ETA: 0:00:00\u001b[39m\n",
      "\u001b[32mSampling  86%|███████████████████████████████████▉      |  ETA: 0:00:00\u001b[39m\n",
      "\u001b[32mSampling  86%|████████████████████████████████████▏     |  ETA: 0:00:00\u001b[39m\n",
      "\u001b[32mSampling  86%|████████████████████████████████████▍     |  ETA: 0:00:00\u001b[39m\n",
      "\u001b[32mSampling  87%|████████████████████████████████████▌     |  ETA: 0:00:00\u001b[39m\n",
      "\u001b[32mSampling  88%|████████████████████████████████████▊     |  ETA: 0:00:00\u001b[39m\n",
      "\u001b[32mSampling  88%|█████████████████████████████████████     |  ETA: 0:00:00\u001b[39m\n",
      "\u001b[32mSampling  88%|█████████████████████████████████████▏    |  ETA: 0:00:00\u001b[39m\n",
      "\u001b[32mSampling  89%|█████████████████████████████████████▍    |  ETA: 0:00:00\u001b[39m\n",
      "\u001b[32mSampling  90%|█████████████████████████████████████▋    |  ETA: 0:00:00\u001b[39m\n",
      "\u001b[32mSampling  90%|█████████████████████████████████████▊    |  ETA: 0:00:00\u001b[39m\n",
      "\u001b[32mSampling  90%|██████████████████████████████████████    |  ETA: 0:00:00\u001b[39m\n",
      "\u001b[32mSampling  91%|██████████████████████████████████████▎   |  ETA: 0:00:00\u001b[39m\n",
      "\u001b[32mSampling  92%|██████████████████████████████████████▍   |  ETA: 0:00:00\u001b[39m\n",
      "\u001b[32mSampling  92%|██████████████████████████████████████▋   |  ETA: 0:00:00\u001b[39m\n",
      "\u001b[32mSampling  92%|██████████████████████████████████████▉   |  ETA: 0:00:00\u001b[39m\n",
      "\u001b[32mSampling  93%|███████████████████████████████████████   |  ETA: 0:00:00\u001b[39m\n",
      "\u001b[32mSampling  94%|███████████████████████████████████████▎  |  ETA: 0:00:00\u001b[39m\n",
      "\u001b[32mSampling  94%|███████████████████████████████████████▌  |  ETA: 0:00:00\u001b[39m\n",
      "\u001b[32mSampling  94%|███████████████████████████████████████▊  |  ETA: 0:00:00\u001b[39m\n",
      "\u001b[32mSampling  95%|███████████████████████████████████████▉  |  ETA: 0:00:00\u001b[39m\n",
      "\u001b[32mSampling  96%|████████████████████████████████████████▏ |  ETA: 0:00:00\u001b[39m\n",
      "\u001b[32mSampling  96%|████████████████████████████████████████▍ |  ETA: 0:00:00\u001b[39m\n",
      "\u001b[32mSampling  96%|████████████████████████████████████████▌ |  ETA: 0:00:00\u001b[39m\n",
      "\u001b[32mSampling  97%|████████████████████████████████████████▊ |  ETA: 0:00:00\u001b[39m\n",
      "\u001b[32mSampling  98%|█████████████████████████████████████████ |  ETA: 0:00:00\u001b[39m\n",
      "\u001b[32mSampling  98%|█████████████████████████████████████████▏|  ETA: 0:00:00\u001b[39m\n",
      "\u001b[32mSampling  98%|█████████████████████████████████████████▍|  ETA: 0:00:00\u001b[39m\n",
      "\u001b[32mSampling  99%|█████████████████████████████████████████▋|  ETA: 0:00:00\u001b[39m\n",
      "\u001b[32mSampling 100%|█████████████████████████████████████████▊|  ETA: 0:00:00\u001b[39m\n",
      "\u001b[32mSampling 100%|██████████████████████████████████████████| Time: 0:00:02\u001b[39m\n",
      "\u001b[90mSampling 100%|██████████████████████████████████████████| Time: 0:00:02\u001b[39m\n"
     ]
    }
   ],
   "source": [
    "chn = sample(model, DynamicNUTS(), 3000);\n",
    "chn2 = sample(model, HMC(0.01, 1000), 1000);"
   ]
  },
  {
   "cell_type": "code",
   "execution_count": 54,
   "metadata": {},
   "outputs": [
    {
     "name": "stderr",
     "output_type": "stream",
     "text": [
      "\u001b[32mSampling   0%|                                          |  ETA: N/A\u001b[39m\n"
     ]
    },
    {
     "name": "stderr",
     "output_type": "stream",
     "text": [
      "\u001b[32mSampling   0%|▎                                         |  ETA: 0:02:08\u001b[39m\n",
      "\u001b[32mSampling   1%|▍                                         |  ETA: 0:01:04\u001b[39m\n",
      "\u001b[32mSampling   2%|▋                                         |  ETA: 0:00:43\u001b[39m\n",
      "\u001b[32mSampling   2%|▉                                         |  ETA: 0:00:32\u001b[39m\n",
      "\u001b[32mSampling   2%|█                                         |  ETA: 0:00:26\u001b[39m\n",
      "\u001b[32mSampling   3%|█▎                                        |  ETA: 0:00:21\u001b[39m\n",
      "\u001b[32mSampling   4%|█▌                                        |  ETA: 0:00:18\u001b[39m\n",
      "\u001b[32mSampling   4%|█▋                                        |  ETA: 0:00:16\u001b[39m\n",
      "\u001b[32mSampling   4%|█▉                                        |  ETA: 0:00:14\u001b[39m\n",
      "\u001b[32mSampling   5%|██▏                                       |  ETA: 0:00:13\u001b[39m\n",
      "\u001b[32mSampling   6%|██▎                                       |  ETA: 0:00:12\u001b[39m\n",
      "\u001b[32mSampling   6%|██▌                                       |  ETA: 0:00:11\u001b[39m\n",
      "\u001b[32mSampling   6%|██▊                                       |  ETA: 0:00:10\u001b[39m\n",
      "\u001b[32mSampling   7%|███                                       |  ETA: 0:00:09\u001b[39m\n",
      "\u001b[32mSampling   8%|███▏                                      |  ETA: 0:00:08\u001b[39m\n",
      "\u001b[32mSampling   8%|███▍                                      |  ETA: 0:00:08\u001b[39m\n",
      "\u001b[32mSampling   8%|███▋                                      |  ETA: 0:00:08\u001b[39m\n",
      "\u001b[32mSampling   9%|███▊                                      |  ETA: 0:00:07\u001b[39m\n",
      "\u001b[32mSampling  10%|████                                      |  ETA: 0:00:07\u001b[39m\n",
      "\u001b[32mSampling  10%|████▎                                     |  ETA: 0:00:06\u001b[39m\n",
      "\u001b[32mSampling  10%|████▍                                     |  ETA: 0:00:06\u001b[39m\n",
      "\u001b[32mSampling  11%|████▋                                     |  ETA: 0:00:06\u001b[39m\n",
      "\u001b[32mSampling  12%|████▉                                     |  ETA: 0:00:06\u001b[39m\n",
      "\u001b[32mSampling  12%|█████                                     |  ETA: 0:00:05\u001b[39m\n",
      "\u001b[32mSampling  12%|█████▎                                    |  ETA: 0:00:05\u001b[39m\n",
      "\u001b[32mSampling  13%|█████▌                                    |  ETA: 0:00:05\u001b[39m\n",
      "\u001b[32mSampling  14%|█████▋                                    |  ETA: 0:00:05\u001b[39m\n"
     ]
    },
    {
     "name": "stderr",
     "output_type": "stream",
     "text": [
      "\u001b[32mSampling  14%|█████▉                                    |  ETA: 0:00:05\u001b[39m\n",
      "\u001b[32mSampling  14%|██████▏                                   |  ETA: 0:00:04\u001b[39m\n",
      "\u001b[32mSampling  15%|██████▎                                   |  ETA: 0:00:04\u001b[39m\n",
      "\u001b[32mSampling  16%|██████▌                                   |  ETA: 0:00:04\u001b[39m\n",
      "\u001b[32mSampling  16%|██████▊                                   |  ETA: 0:00:04\u001b[39m\n",
      "\u001b[32mSampling  16%|██████▉                                   |  ETA: 0:00:04\u001b[39m\n",
      "\u001b[32mSampling  17%|███████▏                                  |  ETA: 0:00:04\u001b[39m\n",
      "\u001b[32mSampling  18%|███████▍                                  |  ETA: 0:00:04\u001b[39m\n",
      "\u001b[32mSampling  18%|███████▌                                  |  ETA: 0:00:03\u001b[39m\n",
      "\u001b[32mSampling  18%|███████▊                                  |  ETA: 0:00:03\u001b[39m\n",
      "\u001b[32mSampling  19%|████████                                  |  ETA: 0:00:03\u001b[39m\n",
      "\u001b[32mSampling  20%|████████▎                                 |  ETA: 0:00:03\u001b[39m\n",
      "\u001b[32mSampling  20%|████████▍                                 |  ETA: 0:00:03\u001b[39m\n",
      "\u001b[32mSampling  20%|████████▋                                 |  ETA: 0:00:03\u001b[39m\n",
      "\u001b[32mSampling  21%|████████▉                                 |  ETA: 0:00:03\u001b[39m\n",
      "\u001b[32mSampling  22%|█████████                                 |  ETA: 0:00:03\u001b[39m\n",
      "\u001b[32mSampling  22%|█████████▎                                |  ETA: 0:00:03\u001b[39m\n",
      "\u001b[32mSampling  22%|█████████▌                                |  ETA: 0:00:03\u001b[39m\n",
      "\u001b[32mSampling  23%|█████████▋                                |  ETA: 0:00:03\u001b[39m\n",
      "\u001b[32mSampling  24%|█████████▉                                |  ETA: 0:00:03\u001b[39m\n",
      "\u001b[32mSampling  24%|██████████▏                               |  ETA: 0:00:03\u001b[39m\n",
      "\u001b[32mSampling  24%|██████████▎                               |  ETA: 0:00:02\u001b[39m\n",
      "\u001b[32mSampling  25%|██████████▌                               |  ETA: 0:00:02\u001b[39m\n",
      "\u001b[32mSampling  26%|██████████▊                               |  ETA: 0:00:02\u001b[39m\n",
      "\u001b[32mSampling  26%|██████████▉                               |  ETA: 0:00:02\u001b[39m\n",
      "\u001b[32mSampling  26%|███████████▏                              |  ETA: 0:00:02\u001b[39m\n",
      "\u001b[32mSampling  27%|███████████▍                              |  ETA: 0:00:02\u001b[39m\n",
      "\u001b[32mSampling  28%|███████████▌                              |  ETA: 0:00:02\u001b[39m\n",
      "\u001b[32mSampling  28%|███████████▊                              |  ETA: 0:00:02\u001b[39m\n",
      "\u001b[32mSampling  28%|████████████                              |  ETA: 0:00:02\u001b[39m\n",
      "\u001b[32mSampling  29%|████████████▏                             |  ETA: 0:00:02\u001b[39m\n",
      "\u001b[32mSampling  30%|████████████▍                             |  ETA: 0:00:02\u001b[39m\n",
      "\u001b[32mSampling  30%|████████████▋                             |  ETA: 0:00:02\u001b[39m\n",
      "\u001b[32mSampling  30%|████████████▊                             |  ETA: 0:00:02\u001b[39m\n"
     ]
    },
    {
     "name": "stderr",
     "output_type": "stream",
     "text": [
      "\u001b[32mSampling  31%|█████████████                             |  ETA: 0:00:02\u001b[39m\n",
      "\u001b[32mSampling  32%|█████████████▎                            |  ETA: 0:00:02\u001b[39m\n",
      "\u001b[32mSampling  32%|█████████████▌                            |  ETA: 0:00:02\u001b[39m\n",
      "\u001b[32mSampling  32%|█████████████▋                            |  ETA: 0:00:02\u001b[39m\n",
      "\u001b[32mSampling  33%|█████████████▉                            |  ETA: 0:00:02\u001b[39m\n",
      "\u001b[32mSampling  34%|██████████████▏                           |  ETA: 0:00:02\u001b[39m\n",
      "\u001b[32mSampling  34%|██████████████▎                           |  ETA: 0:00:02\u001b[39m\n",
      "\u001b[32mSampling  34%|██████████████▌                           |  ETA: 0:00:02\u001b[39m\n",
      "\u001b[32mSampling  35%|██████████████▊                           |  ETA: 0:00:02\u001b[39m\n",
      "\u001b[32mSampling  36%|██████████████▉                           |  ETA: 0:00:02\u001b[39m\n",
      "\u001b[32mSampling  36%|███████████████▏                          |  ETA: 0:00:02\u001b[39m\n",
      "\u001b[32mSampling  36%|███████████████▍                          |  ETA: 0:00:02\u001b[39m\n",
      "\u001b[32mSampling  37%|███████████████▌                          |  ETA: 0:00:01\u001b[39m\n",
      "\u001b[32mSampling  38%|███████████████▊                          |  ETA: 0:00:01\u001b[39m\n",
      "\u001b[32mSampling  38%|████████████████                          |  ETA: 0:00:01\u001b[39m\n",
      "\u001b[32mSampling  38%|████████████████▏                         |  ETA: 0:00:01\u001b[39m\n",
      "\u001b[32mSampling  39%|████████████████▍                         |  ETA: 0:00:01\u001b[39m\n",
      "\u001b[32mSampling  40%|████████████████▋                         |  ETA: 0:00:01\u001b[39m\n",
      "\u001b[32mSampling  40%|████████████████▊                         |  ETA: 0:00:01\u001b[39m\n",
      "\u001b[32mSampling  40%|█████████████████                         |  ETA: 0:00:01\u001b[39m\n",
      "\u001b[32mSampling  41%|█████████████████▎                        |  ETA: 0:00:01\u001b[39m\n",
      "\u001b[32mSampling  42%|█████████████████▍                        |  ETA: 0:00:01\u001b[39m\n",
      "\u001b[32mSampling  42%|█████████████████▋                        |  ETA: 0:00:01\u001b[39m\n",
      "\u001b[32mSampling  42%|█████████████████▉                        |  ETA: 0:00:01\u001b[39m\n",
      "\u001b[32mSampling  43%|██████████████████                        |  ETA: 0:00:01\u001b[39m\n",
      "\u001b[32mSampling  44%|██████████████████▎                       |  ETA: 0:00:01\u001b[39m\n"
     ]
    },
    {
     "name": "stderr",
     "output_type": "stream",
     "text": [
      "\u001b[32mSampling  44%|██████████████████▌                       |  ETA: 0:00:01\u001b[39m\n",
      "\u001b[32mSampling  44%|██████████████████▊                       |  ETA: 0:00:01\u001b[39m\n",
      "\u001b[32mSampling  45%|██████████████████▉                       |  ETA: 0:00:01\u001b[39m\n",
      "\u001b[32mSampling  46%|███████████████████▏                      |  ETA: 0:00:01\u001b[39m\n",
      "\u001b[32mSampling  46%|███████████████████▍                      |  ETA: 0:00:01\u001b[39m\n",
      "\u001b[32mSampling  46%|███████████████████▌                      |  ETA: 0:00:01\u001b[39m\n",
      "\u001b[32mSampling  47%|███████████████████▊                      |  ETA: 0:00:01\u001b[39m\n",
      "\u001b[32mSampling  48%|████████████████████                      |  ETA: 0:00:01\u001b[39m\n",
      "\u001b[32mSampling  48%|████████████████████▏                     |  ETA: 0:00:01\u001b[39m\n",
      "\u001b[32mSampling  48%|████████████████████▍                     |  ETA: 0:00:01\u001b[39m\n",
      "\u001b[32mSampling  49%|████████████████████▋                     |  ETA: 0:00:01\u001b[39m\n",
      "\u001b[32mSampling  50%|████████████████████▊                     |  ETA: 0:00:01\u001b[39m\n",
      "\u001b[32mSampling  50%|█████████████████████                     |  ETA: 0:00:01\u001b[39m\n",
      "\u001b[32mSampling  50%|█████████████████████▎                    |  ETA: 0:00:01\u001b[39m\n",
      "\u001b[32mSampling  51%|█████████████████████▍                    |  ETA: 0:00:01\u001b[39m\n",
      "\u001b[32mSampling  52%|█████████████████████▋                    |  ETA: 0:00:01\u001b[39m\n",
      "\u001b[32mSampling  52%|█████████████████████▉                    |  ETA: 0:00:01\u001b[39m\n",
      "\u001b[32mSampling  52%|██████████████████████                    |  ETA: 0:00:01\u001b[39m\n",
      "\u001b[32mSampling  53%|██████████████████████▎                   |  ETA: 0:00:01\u001b[39m\n",
      "\u001b[32mSampling  54%|██████████████████████▌                   |  ETA: 0:00:01\u001b[39m\n",
      "\u001b[32mSampling  54%|██████████████████████▋                   |  ETA: 0:00:01\u001b[39m\n",
      "\u001b[32mSampling  55%|██████████████████████▉                   |  ETA: 0:00:01\u001b[39m\n",
      "\u001b[32mSampling  55%|███████████████████████▏                  |  ETA: 0:00:01\u001b[39m\n",
      "\u001b[32mSampling  56%|███████████████████████▎                  |  ETA: 0:00:01\u001b[39m\n",
      "\u001b[32mSampling  56%|███████████████████████▌                  |  ETA: 0:00:01\u001b[39m\n",
      "\u001b[32mSampling  56%|███████████████████████▊                  |  ETA: 0:00:01\u001b[39m\n",
      "\u001b[32mSampling  57%|████████████████████████                  |  ETA: 0:00:01\u001b[39m\n",
      "\u001b[32mSampling  57%|████████████████████████▏                 |  ETA: 0:00:01\u001b[39m\n",
      "\u001b[32mSampling  58%|████████████████████████▍                 |  ETA: 0:00:01\u001b[39m\n",
      "\u001b[32mSampling  58%|████████████████████████▋                 |  ETA: 0:00:01\u001b[39m\n",
      "\u001b[32mSampling  59%|████████████████████████▊                 |  ETA: 0:00:01\u001b[39m\n",
      "\u001b[32mSampling  60%|█████████████████████████                 |  ETA: 0:00:01\u001b[39m\n",
      "\u001b[32mSampling  60%|█████████████████████████▎                |  ETA: 0:00:01\u001b[39m\n",
      "\u001b[32mSampling  60%|█████████████████████████▍                |  ETA: 0:00:01\u001b[39m\n"
     ]
    },
    {
     "name": "stderr",
     "output_type": "stream",
     "text": [
      "Excessive output truncated after 524383 bytes."
     ]
    },
    {
     "name": "stderr",
     "output_type": "stream",
     "text": [
      "\u001b[32mSampling  61%|█████████████████████████▋                |  ETA: 0:00:01\u001b[39m\n",
      "\u001b[32mSampling  62%|█████████████████████████▉                |  ETA: 0:00:01\u001b[39m\n",
      "\u001b[32mSampling  62%|██████████████████████████                |  ETA: 0:00:01\u001b[39m\n",
      "\u001b[32mSampling  62%|██████████████████████████▎               |  ETA: 0:00:01\u001b[39m\n",
      "\u001b[32mSampling  63%|██████████████████████████▌               |  ETA: 0:00:01\u001b[39m\n",
      "\u001b[32mSampling  64%|██████████████████████████▋               |  ETA: 0:00:01\u001b[39m\n",
      "\u001b[32mSampling  64%|██████████████████████████▉               |  ETA: 0:00:01\u001b[39m\n",
      "\u001b[32mSampling  64%|███████████████████████████▏              |  ETA: 0:00:01\u001b[39m\n",
      "\u001b[32mSampling  65%|███████████████████████████▎              |  ETA: 0:00:01\u001b[39m\n",
      "\u001b[32mSampling  66%|███████████████████████████▌              |  ETA: 0:00:01\u001b[39m\n",
      "\u001b[32mSampling  66%|███████████████████████████▊              |  ETA: 0:00:01\u001b[39m\n",
      "\u001b[32mSampling  66%|███████████████████████████▉              |  ETA: 0:00:01\u001b[39m\n",
      "\u001b[32mSampling  67%|████████████████████████████▏             |  ETA: 0:00:01\u001b[39m\n",
      "\u001b[32mSampling  68%|████████████████████████████▍             |  ETA: 0:00:01\u001b[39m\n",
      "\u001b[32mSampling  68%|████████████████████████████▌             |  ETA: 0:00:01\u001b[39m\n",
      "\u001b[32mSampling  68%|████████████████████████████▊             |  ETA: 0:00:01\u001b[39m\n",
      "\u001b[32mSampling  69%|█████████████████████████████             |  ETA: 0:00:01\u001b[39m\n",
      "\u001b[32mSampling  70%|█████████████████████████████▎            |  ETA: 0:00:00\u001b[39m\n",
      "\u001b[32mSampling  70%|█████████████████████████████▍            |  ETA: 0:00:00\u001b[39m\n"
     ]
    },
    {
     "data": {
      "text/plain": [
       "BenchmarkTools.Trial: 3 samples with 1 evaluation.\n",
       " Range \u001b[90m(\u001b[39m\u001b[36m\u001b[1mmin\u001b[22m\u001b[39m … \u001b[35mmax\u001b[39m\u001b[90m):  \u001b[39m\u001b[36m\u001b[1m1.371 s\u001b[22m\u001b[39m … \u001b[35m   2.262 s\u001b[39m  \u001b[90m┊\u001b[39m GC \u001b[90m(\u001b[39mmin … max\u001b[90m): \u001b[39m 8.76% … 9.80%\n",
       " Time  \u001b[90m(\u001b[39m\u001b[34m\u001b[1mmedian\u001b[22m\u001b[39m\u001b[90m):     \u001b[39m\u001b[34m\u001b[1m1.501 s               \u001b[22m\u001b[39m\u001b[90m┊\u001b[39m GC \u001b[90m(\u001b[39mmedian\u001b[90m):    \u001b[39m10.72%\n",
       " Time  \u001b[90m(\u001b[39m\u001b[32m\u001b[1mmean\u001b[22m\u001b[39m ± \u001b[32mσ\u001b[39m\u001b[90m):   \u001b[39m\u001b[32m\u001b[1m1.711 s\u001b[22m\u001b[39m ± \u001b[32m481.436 ms\u001b[39m  \u001b[90m┊\u001b[39m GC \u001b[90m(\u001b[39mmean ± σ\u001b[90m):  \u001b[39m 9.79% ± 0.98%\n",
       "\n",
       "  \u001b[34m█\u001b[39m\u001b[39m \u001b[39m \u001b[39m \u001b[39m \u001b[39m \u001b[39m \u001b[39m \u001b[39m█\u001b[39m \u001b[39m \u001b[39m \u001b[39m \u001b[39m \u001b[39m \u001b[39m \u001b[39m \u001b[39m \u001b[39m \u001b[39m \u001b[39m \u001b[39m \u001b[32m \u001b[39m\u001b[39m \u001b[39m \u001b[39m \u001b[39m \u001b[39m \u001b[39m \u001b[39m \u001b[39m \u001b[39m \u001b[39m \u001b[39m \u001b[39m \u001b[39m \u001b[39m \u001b[39m \u001b[39m \u001b[39m \u001b[39m \u001b[39m \u001b[39m \u001b[39m \u001b[39m \u001b[39m \u001b[39m \u001b[39m \u001b[39m \u001b[39m \u001b[39m \u001b[39m \u001b[39m \u001b[39m \u001b[39m \u001b[39m \u001b[39m \u001b[39m█\u001b[39m \u001b[39m \n",
       "  \u001b[34m█\u001b[39m\u001b[39m▁\u001b[39m▁\u001b[39m▁\u001b[39m▁\u001b[39m▁\u001b[39m▁\u001b[39m▁\u001b[39m█\u001b[39m▁\u001b[39m▁\u001b[39m▁\u001b[39m▁\u001b[39m▁\u001b[39m▁\u001b[39m▁\u001b[39m▁\u001b[39m▁\u001b[39m▁\u001b[39m▁\u001b[39m▁\u001b[39m▁\u001b[32m▁\u001b[39m\u001b[39m▁\u001b[39m▁\u001b[39m▁\u001b[39m▁\u001b[39m▁\u001b[39m▁\u001b[39m▁\u001b[39m▁\u001b[39m▁\u001b[39m▁\u001b[39m▁\u001b[39m▁\u001b[39m▁\u001b[39m▁\u001b[39m▁\u001b[39m▁\u001b[39m▁\u001b[39m▁\u001b[39m▁\u001b[39m▁\u001b[39m▁\u001b[39m▁\u001b[39m▁\u001b[39m▁\u001b[39m▁\u001b[39m▁\u001b[39m▁\u001b[39m▁\u001b[39m▁\u001b[39m▁\u001b[39m▁\u001b[39m▁\u001b[39m▁\u001b[39m▁\u001b[39m█\u001b[39m \u001b[39m▁\n",
       "  1.37 s\u001b[90m         Histogram: frequency by time\u001b[39m         2.26 s \u001b[0m\u001b[1m<\u001b[22m\n",
       "\n",
       " Memory estimate\u001b[90m: \u001b[39m\u001b[33m1.61 GiB\u001b[39m, allocs estimate\u001b[90m: \u001b[39m\u001b[33m9404927\u001b[39m."
      ]
     },
     "metadata": {},
     "output_type": "display_data"
    }
   ],
   "source": [
    "@benchmark sample(model, DynamicNUTS(), 3000)"
   ]
  },
  {
   "cell_type": "code",
   "execution_count": 58,
   "metadata": {},
   "outputs": [
    {
     "data": {
      "text/plain": [
       "BenchmarkTools.Trial: 6 samples with 1 evaluation.\n",
       " Range \u001b[90m(\u001b[39m\u001b[36m\u001b[1mmin\u001b[22m\u001b[39m … \u001b[35mmax\u001b[39m\u001b[90m):  \u001b[39m\u001b[36m\u001b[1m829.076 ms\u001b[22m\u001b[39m … \u001b[35m863.968 ms\u001b[39m  \u001b[90m┊\u001b[39m GC \u001b[90m(\u001b[39mmin … max\u001b[90m): \u001b[39m 8.66% … 12.37%\n",
       " Time  \u001b[90m(\u001b[39m\u001b[34m\u001b[1mmedian\u001b[22m\u001b[39m\u001b[90m):     \u001b[39m\u001b[34m\u001b[1m841.983 ms               \u001b[22m\u001b[39m\u001b[90m┊\u001b[39m GC \u001b[90m(\u001b[39mmedian\u001b[90m):    \u001b[39m10.56%\n",
       " Time  \u001b[90m(\u001b[39m\u001b[32m\u001b[1mmean\u001b[22m\u001b[39m ± \u001b[32mσ\u001b[39m\u001b[90m):   \u001b[39m\u001b[32m\u001b[1m844.056 ms\u001b[22m\u001b[39m ± \u001b[32m 12.544 ms\u001b[39m  \u001b[90m┊\u001b[39m GC \u001b[90m(\u001b[39mmean ± σ\u001b[90m):  \u001b[39m10.44% ±  1.25%\n",
       "\n",
       "  \u001b[39m█\u001b[39m \u001b[39m \u001b[39m \u001b[39m \u001b[39m \u001b[39m \u001b[39m \u001b[39m \u001b[39m \u001b[39m█\u001b[39m \u001b[39m \u001b[39m \u001b[39m \u001b[39m \u001b[39m \u001b[39m \u001b[39m█\u001b[34m \u001b[39m\u001b[39m \u001b[39m \u001b[39m \u001b[39m \u001b[39m \u001b[39m \u001b[32m█\u001b[39m\u001b[39m \u001b[39m \u001b[39m \u001b[39m \u001b[39m \u001b[39m \u001b[39m \u001b[39m \u001b[39m \u001b[39m \u001b[39m \u001b[39m \u001b[39m \u001b[39m█\u001b[39m \u001b[39m \u001b[39m \u001b[39m \u001b[39m \u001b[39m \u001b[39m \u001b[39m \u001b[39m \u001b[39m \u001b[39m \u001b[39m \u001b[39m \u001b[39m \u001b[39m \u001b[39m \u001b[39m \u001b[39m \u001b[39m \u001b[39m█\u001b[39m \u001b[39m \n",
       "  \u001b[39m█\u001b[39m▁\u001b[39m▁\u001b[39m▁\u001b[39m▁\u001b[39m▁\u001b[39m▁\u001b[39m▁\u001b[39m▁\u001b[39m▁\u001b[39m█\u001b[39m▁\u001b[39m▁\u001b[39m▁\u001b[39m▁\u001b[39m▁\u001b[39m▁\u001b[39m▁\u001b[39m█\u001b[34m▁\u001b[39m\u001b[39m▁\u001b[39m▁\u001b[39m▁\u001b[39m▁\u001b[39m▁\u001b[39m▁\u001b[32m█\u001b[39m\u001b[39m▁\u001b[39m▁\u001b[39m▁\u001b[39m▁\u001b[39m▁\u001b[39m▁\u001b[39m▁\u001b[39m▁\u001b[39m▁\u001b[39m▁\u001b[39m▁\u001b[39m▁\u001b[39m▁\u001b[39m█\u001b[39m▁\u001b[39m▁\u001b[39m▁\u001b[39m▁\u001b[39m▁\u001b[39m▁\u001b[39m▁\u001b[39m▁\u001b[39m▁\u001b[39m▁\u001b[39m▁\u001b[39m▁\u001b[39m▁\u001b[39m▁\u001b[39m▁\u001b[39m▁\u001b[39m▁\u001b[39m▁\u001b[39m▁\u001b[39m█\u001b[39m \u001b[39m▁\n",
       "  829 ms\u001b[90m           Histogram: frequency by time\u001b[39m          864 ms \u001b[0m\u001b[1m<\u001b[22m\n",
       "\n",
       " Memory estimate\u001b[90m: \u001b[39m\u001b[33m934.72 MiB\u001b[39m, allocs estimate\u001b[90m: \u001b[39m\u001b[33m6611421\u001b[39m."
      ]
     },
     "metadata": {},
     "output_type": "display_data"
    }
   ],
   "source": [
    "@benchmark sample(model, HMC(0.01, 1000), 3000)"
   ]
  },
  {
   "cell_type": "code",
   "execution_count": 21,
   "metadata": {},
   "outputs": [],
   "source": [
    "q_samples = rand(q, 1000)\n",
    "s_posteriors = Vector{Any}(undef,50)\n",
    "s2_posteriors = Vector{Any}(undef,50)\n",
    "q_s_posteriors = Vector{Any}(undef,50)\n",
    "for i in 1:50\n",
    "    s_posteriors[i] = chn[\"s[$(i)]\"]\n",
    "    s2_posteriors[i] = chn2[\"s[$(i)]\"]\n",
    "    q_s_posteriors[i] = q_samples[i,1:1000]\n",
    "end"
   ]
  },
  {
   "cell_type": "code",
   "execution_count": 44,
   "metadata": {},
   "outputs": [
    {
     "data": {
      "text/plain": [
       "\"/Users/sabinamakhmudova/repos/CVMP/demos/square_results.tex\""
      ]
     },
     "metadata": {},
     "output_type": "display_data"
    }
   ],
   "source": [
    "# plot estimates for location\n",
    "p1 = plot(collect(1:nr_observations), hidden_location, label = \"hidden location\", legend=:topleft, linewidth=3, color = :red)\n",
    "plot!(map(mean, results_cvi.posteriors[:z]), label = \"estimated location CVI (±2σ)\", ribbon = map(x -> 2*std(x), results_cvi.posteriors[:z]), fillalpha=0.5, linewidth=3, color = :orange)\n",
    "plot!(map(mean, results_ccmp.posteriors[:z]), label = \"estimated location CVMP (±2σ)\", ribbon = map(x -> 2*std(x), results_ccmp.posteriors[:z]), fillalpha=0.5, linewidth=3, color = :green)\n",
    "plot!(map(mean, results_linear.posteriors[:z]), label = \"estimated location Linear (±2σ)\", ribbon = map(x -> 2*std(x), results_linear.posteriors[:z]), fillalpha=0.5, linewidth=3, color = :blue)\n",
    "plot!(map(mean, q_s_posteriors), label = \"estimated location Turing ADVI (±2σ)\", ribbon = map(x -> 2*std(x), q_s_posteriors), fillalpha=0.5, linewidth=3, color = :purple)\n",
    "plot!(map(mean, s_posteriors), label = \"estimated location Turing NUTS (±2σ)\", ribbon = map(x -> 2*std(x), s_posteriors), fillalpha=0.5, linewidth=3, color = :pink)\n",
    "plot!(map(mean, s2_posteriors), label = \"estimated location Turing HMC (±2σ)\", ribbon = map(x -> 2*std(x), s2_posteriors), fillalpha=0.5, linewidth=3, color = :yellow)\n",
    "xlabel!(\"time [sec]\"), ylabel!(\"location [cm]\")\n",
    "\n",
    "# # plot Bethe free energy\n",
    "# p2 = plot(results_cvi.free_energy, linewidth=3, label = \"CVI\")\n",
    "# p2 = plot(results_ccmp.free_energy, linewidth=3, label = \"CVMP\")\n",
    "# p2 = plot!(results_linear.free_energy, linewidth=3, label = \"Linear\")\n",
    "# xlabel!(\"iteration\"), ylabel!(\"Bethe free energy [nats]\")\n",
    "\n",
    "plot(p1)\n",
    "savefig(p1, \"square_results.tex\")"
   ]
  },
  {
   "cell_type": "code",
   "execution_count": 63,
   "metadata": {},
   "outputs": [
    {
     "data": {
      "text/plain": [
       "0.7442179352660954"
      ]
     },
     "metadata": {},
     "output_type": "display_data"
    }
   ],
   "source": [
    "mean(map(x -> 2*std(x), results_linear.posteriors[:z]))"
   ]
  },
  {
   "cell_type": "code",
   "execution_count": 61,
   "metadata": {},
   "outputs": [
    {
     "data": {
      "text/plain": [
       "7.102987832018541"
      ]
     },
     "metadata": {},
     "output_type": "display_data"
    }
   ],
   "source": [
    "mean(map(x -> 2*std(x), results_cvi.posteriors[:z]))"
   ]
  },
  {
   "cell_type": "code",
   "execution_count": 62,
   "metadata": {},
   "outputs": [
    {
     "data": {
      "text/plain": [
       "3.112909171377821"
      ]
     },
     "metadata": {},
     "output_type": "display_data"
    }
   ],
   "source": [
    "mean(map(x -> 2*std(x), results_ccmp.posteriors[:z]))"
   ]
  },
  {
   "cell_type": "code",
   "execution_count": 64,
   "metadata": {},
   "outputs": [
    {
     "data": {
      "text/plain": [
       "0.7241894114453199"
      ]
     },
     "metadata": {},
     "output_type": "display_data"
    }
   ],
   "source": [
    "mean(map(x -> 2*std(x), q_s_posteriors))"
   ]
  },
  {
   "cell_type": "code",
   "execution_count": 65,
   "metadata": {},
   "outputs": [
    {
     "data": {
      "text/plain": [
       "5.092609185627203e-15"
      ]
     },
     "metadata": {},
     "output_type": "display_data"
    }
   ],
   "source": [
    "mean(map(x -> 2*std(x), s_posteriors))"
   ]
  },
  {
   "cell_type": "code",
   "execution_count": 66,
   "metadata": {},
   "outputs": [
    {
     "data": {
      "text/plain": [
       "6.7229871909330755e-15"
      ]
     },
     "metadata": {},
     "output_type": "display_data"
    }
   ],
   "source": [
    "mean(map(x -> 2*std(x), s2_posteriors))"
   ]
  },
  {
   "cell_type": "code",
   "execution_count": 46,
   "metadata": {},
   "outputs": [
    {
     "data": {
      "text/plain": [
       "\"/Users/mykola/repos/CIExpirements/demos/square_observations_results.png\""
      ]
     },
     "metadata": {},
     "output_type": "display_data"
    }
   ],
   "source": [
    "savefig(\"square_observations_results\")"
   ]
  },
  {
   "cell_type": "code",
   "execution_count": null,
   "metadata": {},
   "outputs": [],
   "source": []
  }
 ],
 "metadata": {
  "kernelspec": {
   "display_name": "Julia 1.8.5",
   "language": "julia",
   "name": "julia-1.8"
  },
  "language_info": {
   "file_extension": ".jl",
   "mimetype": "application/julia",
   "name": "julia",
   "version": "1.8.5"
  },
  "orig_nbformat": 4
 },
 "nbformat": 4,
 "nbformat_minor": 2
}
